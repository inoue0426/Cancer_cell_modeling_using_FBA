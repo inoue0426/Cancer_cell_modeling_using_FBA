{
 "cells": [
  {
   "cell_type": "code",
   "execution_count": 1,
   "metadata": {},
   "outputs": [],
   "source": [
    "import numpy as np\n",
    "import pandas as pd\n",
    "import matplotlib as plt\n",
    "import urllib.request\n",
    "\n",
    "%matplotlib inline"
   ]
  },
  {
   "cell_type": "code",
   "execution_count": 2,
   "metadata": {},
   "outputs": [],
   "source": [
    "t = pd.read_csv('../csv/reaction.csv', index_col='Reaction Number').loc[:, ['Compound Number',]]"
   ]
  },
  {
   "cell_type": "code",
   "execution_count": 3,
   "metadata": {},
   "outputs": [
    {
     "data": {
      "text/html": [
       "<div>\n",
       "<style scoped>\n",
       "    .dataframe tbody tr th:only-of-type {\n",
       "        vertical-align: middle;\n",
       "    }\n",
       "\n",
       "    .dataframe tbody tr th {\n",
       "        vertical-align: top;\n",
       "    }\n",
       "\n",
       "    .dataframe thead th {\n",
       "        text-align: right;\n",
       "    }\n",
       "</style>\n",
       "<table border=\"1\" class=\"dataframe\">\n",
       "  <thead>\n",
       "    <tr style=\"text-align: right;\">\n",
       "      <th></th>\n",
       "      <th>Compound Number</th>\n",
       "    </tr>\n",
       "    <tr>\n",
       "      <th>Reaction Number</th>\n",
       "      <th></th>\n",
       "    </tr>\n",
       "  </thead>\n",
       "  <tbody>\n",
       "    <tr>\n",
       "      <th>R00005</th>\n",
       "      <td>C01010 + C00001 &lt;=&gt; 2 C00011 + 2 C00014</td>\n",
       "    </tr>\n",
       "    <tr>\n",
       "      <th>R00006</th>\n",
       "      <td>C00900 + C00011 &lt;=&gt; 2 C00022</td>\n",
       "    </tr>\n",
       "    <tr>\n",
       "      <th>R00009</th>\n",
       "      <td>2 C00027 &lt;=&gt; C00007 + 2 C00001</td>\n",
       "    </tr>\n",
       "    <tr>\n",
       "      <th>R00010</th>\n",
       "      <td>C01083 + C00001 &lt;=&gt; 2 C00031</td>\n",
       "    </tr>\n",
       "    <tr>\n",
       "      <th>R00013</th>\n",
       "      <td>2 C00048 &lt;=&gt; C01146 + C00011</td>\n",
       "    </tr>\n",
       "  </tbody>\n",
       "</table>\n",
       "</div>"
      ],
      "text/plain": [
       "                                         Compound Number\n",
       "Reaction Number                                         \n",
       "R00005           C01010 + C00001 <=> 2 C00011 + 2 C00014\n",
       "R00006                      C00900 + C00011 <=> 2 C00022\n",
       "R00009                    2 C00027 <=> C00007 + 2 C00001\n",
       "R00010                      C01083 + C00001 <=> 2 C00031\n",
       "R00013                      2 C00048 <=> C01146 + C00011"
      ]
     },
     "execution_count": 3,
     "metadata": {},
     "output_type": "execute_result"
    }
   ],
   "source": [
    "t.head()"
   ]
  },
  {
   "cell_type": "code",
   "execution_count": 4,
   "metadata": {},
   "outputs": [],
   "source": [
    "# f = ['map00010', 'map00020', 'map00030']\n",
    "\n",
    "# for i in f:\n",
    "#     url = 'http://rest.kegg.jp/link/rn/{}'.format(i)\n",
    "#     savename = '../html/{}.html'.format(i)\n",
    "#     urllib.request.urlretrieve(url, savename)"
   ]
  },
  {
   "cell_type": "code",
   "execution_count": 5,
   "metadata": {},
   "outputs": [],
   "source": [
    "j = pd.DataFrame(pd.concat([\n",
    "    pd.read_table('../html/map00010.html', header=None), \n",
    "    pd.read_table('../html/map00020.html', header=None),\n",
    "    pd.read_table('../html/map00030.html', header=None)\n",
    "]).reset_index(drop=True)[1])"
   ]
  },
  {
   "cell_type": "code",
   "execution_count": 22,
   "metadata": {},
   "outputs": [],
   "source": [
    "for i in j.index:\n",
    "    j[1][i] = j[1][i].split(':')[1]"
   ]
  },
  {
   "cell_type": "code",
   "execution_count": 23,
   "metadata": {
    "scrolled": true
   },
   "outputs": [
    {
     "name": "stderr",
     "output_type": "stream",
     "text": [
      "/Users/yoshitaka-i/.pyenv/versions/3.6.5/lib/python3.6/site-packages/pandas/core/indexing.py:1472: FutureWarning: \n",
      "Passing list-likes to .loc or [] with any missing label will raise\n",
      "KeyError in the future, you can use .reindex() as an alternative.\n",
      "\n",
      "See the documentation here:\n",
      "https://pandas.pydata.org/pandas-docs/stable/indexing.html#deprecate-loc-reindex-listlike\n",
      "  return self._getitem_tuple(key)\n"
     ]
    }
   ],
   "source": [
    "t.loc[list(j[1]), :].to_csv('../csv/minimum_reaction.csv')"
   ]
  }
 ],
 "metadata": {
  "kernelspec": {
   "display_name": "Python 3",
   "language": "python",
   "name": "python3"
  },
  "language_info": {
   "codemirror_mode": {
    "name": "ipython",
    "version": 3
   },
   "file_extension": ".py",
   "mimetype": "text/x-python",
   "name": "python",
   "nbconvert_exporter": "python",
   "pygments_lexer": "ipython3",
   "version": "3.6.5"
  }
 },
 "nbformat": 4,
 "nbformat_minor": 2
}
