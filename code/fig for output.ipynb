{
 "cells": [
  {
   "cell_type": "code",
   "execution_count": 10,
   "metadata": {},
   "outputs": [],
   "source": [
    "import pandas as pd\n",
    "import numpy as np\n",
    "import matplotlib.pyplot as plt"
   ]
  },
  {
   "cell_type": "code",
   "execution_count": 11,
   "metadata": {},
   "outputs": [],
   "source": [
    "output = pd.read_csv('./result/output.csv', index_col=0)"
   ]
  },
  {
   "cell_type": "code",
   "execution_count": 12,
   "metadata": {
    "scrolled": true
   },
   "outputs": [
    {
     "data": {
      "text/plain": [
       "<matplotlib.axes._subplots.AxesSubplot at 0x7f1725a1e0d0>"
      ]
     },
     "execution_count": 12,
     "metadata": {},
     "output_type": "execute_result"
    },
    {
     "data": {
      "image/png": "[encoded data removed]",
      "text/plain": [
       "<Figure size 432x288 with 1 Axes>"
      ]
     },
     "metadata": {
      "needs_background": "light"
     },
     "output_type": "display_data"
    }
   ],
   "source": [
    "output.plot()"
   ]
  },
  {
   "cell_type": "code",
   "execution_count": 18,
   "metadata": {
    "scrolled": true
   },
   "outputs": [],
   "source": [
    "t = output[(output.Lactate_output != 0) & (output.Glucose_input != 0)]\n",
    "t = (t.T/np.array(t['Biomass'])).T.dropna()"
   ]
  },
  {
   "cell_type": "code",
   "execution_count": 20,
   "metadata": {},
   "outputs": [
    {
     "data": {
      "text/html": [
       "<div>\n",
       "<style scoped>\n",
       "    .dataframe tbody tr th:only-of-type {\n",
       "        vertical-align: middle;\n",
       "    }\n",
       "\n",
       "    .dataframe tbody tr th {\n",
       "        vertical-align: top;\n",
       "    }\n",
       "\n",
       "    .dataframe thead th {\n",
       "        text-align: right;\n",
       "    }\n",
       "</style>\n",
       "<table border=\"1\" class=\"dataframe\">\n",
       "  <thead>\n",
       "    <tr style=\"text-align: right;\">\n",
       "      <th></th>\n",
       "      <th>1.497006</th>\n",
       "      <th>1.492537</th>\n",
       "      <th>1.488095</th>\n",
       "      <th>1.483680</th>\n",
       "      <th>1.479290</th>\n",
       "      <th>1.474926</th>\n",
       "      <th>1.470588</th>\n",
       "      <th>1.466276</th>\n",
       "      <th>1.461988</th>\n",
       "      <th>1.457726</th>\n",
       "      <th>...</th>\n",
       "      <th>0.480769</th>\n",
       "      <th>0.480307</th>\n",
       "      <th>0.479846</th>\n",
       "      <th>0.479386</th>\n",
       "      <th>0.478927</th>\n",
       "      <th>0.478469</th>\n",
       "      <th>0.478011</th>\n",
       "      <th>0.477555</th>\n",
       "      <th>0.477099</th>\n",
       "      <th>0.476644</th>\n",
       "    </tr>\n",
       "  </thead>\n",
       "  <tbody>\n",
       "    <tr>\n",
       "      <th>Lactate_output</th>\n",
       "      <td>0.006618</td>\n",
       "      <td>0.017311</td>\n",
       "      <td>0.028005</td>\n",
       "      <td>0.038698</td>\n",
       "      <td>0.049392</td>\n",
       "      <td>0.060085</td>\n",
       "      <td>0.070778</td>\n",
       "      <td>0.081472</td>\n",
       "      <td>0.092165</td>\n",
       "      <td>0.102859</td>\n",
       "      <td>...</td>\n",
       "      <td>62.353077</td>\n",
       "      <td>69.281196</td>\n",
       "      <td>77.941345</td>\n",
       "      <td>89.075821</td>\n",
       "      <td>103.921791</td>\n",
       "      <td>124.706150</td>\n",
       "      <td>155.882687</td>\n",
       "      <td>207.843585</td>\n",
       "      <td>311.765374</td>\n",
       "      <td>623.530767</td>\n",
       "    </tr>\n",
       "    <tr>\n",
       "      <th>Glucose_input</th>\n",
       "      <td>1.785811</td>\n",
       "      <td>1.791158</td>\n",
       "      <td>1.796505</td>\n",
       "      <td>1.801852</td>\n",
       "      <td>1.807198</td>\n",
       "      <td>1.812545</td>\n",
       "      <td>1.817892</td>\n",
       "      <td>1.823239</td>\n",
       "      <td>1.828585</td>\n",
       "      <td>1.833932</td>\n",
       "      <td>...</td>\n",
       "      <td>64.847200</td>\n",
       "      <td>72.121725</td>\n",
       "      <td>81.214881</td>\n",
       "      <td>92.906082</td>\n",
       "      <td>108.494350</td>\n",
       "      <td>130.317927</td>\n",
       "      <td>163.053290</td>\n",
       "      <td>217.612233</td>\n",
       "      <td>326.730112</td>\n",
       "      <td>654.083774</td>\n",
       "    </tr>\n",
       "    <tr>\n",
       "      <th>Biomass</th>\n",
       "      <td>1.000000</td>\n",
       "      <td>1.000000</td>\n",
       "      <td>1.000000</td>\n",
       "      <td>1.000000</td>\n",
       "      <td>1.000000</td>\n",
       "      <td>1.000000</td>\n",
       "      <td>1.000000</td>\n",
       "      <td>1.000000</td>\n",
       "      <td>1.000000</td>\n",
       "      <td>1.000000</td>\n",
       "      <td>...</td>\n",
       "      <td>1.000000</td>\n",
       "      <td>1.000000</td>\n",
       "      <td>1.000000</td>\n",
       "      <td>1.000000</td>\n",
       "      <td>1.000000</td>\n",
       "      <td>1.000000</td>\n",
       "      <td>1.000000</td>\n",
       "      <td>1.000000</td>\n",
       "      <td>1.000000</td>\n",
       "      <td>1.000000</td>\n",
       "    </tr>\n",
       "  </tbody>\n",
       "</table>\n",
       "<p>3 rows × 716 columns</p>\n",
       "</div>"
      ],
      "text/plain": [
       "                1.497006  1.492537  1.488095  1.483680  1.479290  1.474926  \\\n",
       "Lactate_output  0.006618  0.017311  0.028005  0.038698  0.049392  0.060085   \n",
       "Glucose_input   1.785811  1.791158  1.796505  1.801852  1.807198  1.812545   \n",
       "Biomass         1.000000  1.000000  1.000000  1.000000  1.000000  1.000000   \n",
       "\n",
       "                1.470588  1.466276  1.461988  1.457726  ...   0.480769  \\\n",
       "Lactate_output  0.070778  0.081472  0.092165  0.102859  ...  62.353077   \n",
       "Glucose_input   1.817892  1.823239  1.828585  1.833932  ...  64.847200   \n",
       "Biomass         1.000000  1.000000  1.000000  1.000000  ...   1.000000   \n",
       "\n",
       "                 0.480307   0.479846   0.479386    0.478927    0.478469  \\\n",
       "Lactate_output  69.281196  77.941345  89.075821  103.921791  124.706150   \n",
       "Glucose_input   72.121725  81.214881  92.906082  108.494350  130.317927   \n",
       "Biomass          1.000000   1.000000   1.000000    1.000000    1.000000   \n",
       "\n",
       "                  0.478011    0.477555    0.477099    0.476644  \n",
       "Lactate_output  155.882687  207.843585  311.765374  623.530767  \n",
       "Glucose_input   163.053290  217.612233  326.730112  654.083774  \n",
       "Biomass           1.000000    1.000000    1.000000    1.000000  \n",
       "\n",
       "[3 rows x 716 columns]"
      ]
     },
     "execution_count": 20,
     "metadata": {},
     "output_type": "execute_result"
    }
   ],
   "source": [
    "t.T"
   ]
  },
  {
   "cell_type": "code",
   "execution_count": 25,
   "metadata": {},
   "outputs": [
    {
     "data": {
      "text/html": [
       "<div>\n",
       "<style scoped>\n",
       "    .dataframe tbody tr th:only-of-type {\n",
       "        vertical-align: middle;\n",
       "    }\n",
       "\n",
       "    .dataframe tbody tr th {\n",
       "        vertical-align: top;\n",
       "    }\n",
       "\n",
       "    .dataframe thead th {\n",
       "        text-align: right;\n",
       "    }\n",
       "</style>\n",
       "<table border=\"1\" class=\"dataframe\">\n",
       "  <thead>\n",
       "    <tr style=\"text-align: right;\">\n",
       "      <th></th>\n",
       "      <th>Lactate</th>\n",
       "      <th>Glucose</th>\n",
       "      <th>Doubling Time</th>\n",
       "    </tr>\n",
       "  </thead>\n",
       "  <tbody>\n",
       "    <tr>\n",
       "      <th>1.497006</th>\n",
       "      <td>0.006618</td>\n",
       "      <td>1.785811</td>\n",
       "      <td>1.0</td>\n",
       "    </tr>\n",
       "    <tr>\n",
       "      <th>1.492537</th>\n",
       "      <td>0.017311</td>\n",
       "      <td>1.791158</td>\n",
       "      <td>1.0</td>\n",
       "    </tr>\n",
       "    <tr>\n",
       "      <th>1.488095</th>\n",
       "      <td>0.028005</td>\n",
       "      <td>1.796505</td>\n",
       "      <td>1.0</td>\n",
       "    </tr>\n",
       "    <tr>\n",
       "      <th>1.483680</th>\n",
       "      <td>0.038698</td>\n",
       "      <td>1.801852</td>\n",
       "      <td>1.0</td>\n",
       "    </tr>\n",
       "    <tr>\n",
       "      <th>1.479290</th>\n",
       "      <td>0.049392</td>\n",
       "      <td>1.807198</td>\n",
       "      <td>1.0</td>\n",
       "    </tr>\n",
       "    <tr>\n",
       "      <th>...</th>\n",
       "      <td>...</td>\n",
       "      <td>...</td>\n",
       "      <td>...</td>\n",
       "    </tr>\n",
       "    <tr>\n",
       "      <th>0.478469</th>\n",
       "      <td>124.706150</td>\n",
       "      <td>130.317927</td>\n",
       "      <td>1.0</td>\n",
       "    </tr>\n",
       "    <tr>\n",
       "      <th>0.478011</th>\n",
       "      <td>155.882687</td>\n",
       "      <td>163.053290</td>\n",
       "      <td>1.0</td>\n",
       "    </tr>\n",
       "    <tr>\n",
       "      <th>0.477555</th>\n",
       "      <td>207.843585</td>\n",
       "      <td>217.612233</td>\n",
       "      <td>1.0</td>\n",
       "    </tr>\n",
       "    <tr>\n",
       "      <th>0.477099</th>\n",
       "      <td>311.765374</td>\n",
       "      <td>326.730112</td>\n",
       "      <td>1.0</td>\n",
       "    </tr>\n",
       "    <tr>\n",
       "      <th>0.476644</th>\n",
       "      <td>623.530767</td>\n",
       "      <td>654.083774</td>\n",
       "      <td>1.0</td>\n",
       "    </tr>\n",
       "  </tbody>\n",
       "</table>\n",
       "<p>716 rows × 3 columns</p>\n",
       "</div>"
      ],
      "text/plain": [
       "             Lactate     Glucose  Doubling Time\n",
       "1.497006    0.006618    1.785811            1.0\n",
       "1.492537    0.017311    1.791158            1.0\n",
       "1.488095    0.028005    1.796505            1.0\n",
       "1.483680    0.038698    1.801852            1.0\n",
       "1.479290    0.049392    1.807198            1.0\n",
       "...              ...         ...            ...\n",
       "0.478469  124.706150  130.317927            1.0\n",
       "0.478011  155.882687  163.053290            1.0\n",
       "0.477555  207.843585  217.612233            1.0\n",
       "0.477099  311.765374  326.730112            1.0\n",
       "0.476644  623.530767  654.083774            1.0\n",
       "\n",
       "[716 rows x 3 columns]"
      ]
     },
     "execution_count": 25,
     "metadata": {},
     "output_type": "execute_result"
    }
   ],
   "source": [
    "t = t.rename(columns={\n",
    "    'Lactate_output': 'Lactate',\n",
    "    'Glucose_input': 'Glucose',\n",
    "    'Biomass': 'Doubling Time'\n",
    "})\n",
    "t"
   ]
  },
  {
   "cell_type": "code",
   "execution_count": 26,
   "metadata": {},
   "outputs": [],
   "source": [
    "d = pd.read_csv('../result/slope.csv', index_col=0).T\n",
    "v = pd.DataFrame(pd.read_excel('../result/lac.xlsx').mean()).T\n",
    "v.columns = d.columns\n",
    "slope = pd.concat([d, v])\n",
    "slope = slope.rename(index={0:'Lactate'})\n",
    "slope = pd.concat([slope, pd.DataFrame([21.78, 12.8, 16.84], columns=['Doubling Time'] , index=slope.columns).T])"
   ]
  },
  {
   "cell_type": "code",
   "execution_count": 27,
   "metadata": {},
   "outputs": [],
   "source": [
    "s = slope.drop('Glutamate')"
   ]
  },
  {
   "cell_type": "code",
   "execution_count": 15,
   "metadata": {},
   "outputs": [
    {
     "data": {
      "text/html": [
       "<div>\n",
       "<style scoped>\n",
       "    .dataframe tbody tr th:only-of-type {\n",
       "        vertical-align: middle;\n",
       "    }\n",
       "\n",
       "    .dataframe tbody tr th {\n",
       "        vertical-align: top;\n",
       "    }\n",
       "\n",
       "    .dataframe thead th {\n",
       "        text-align: right;\n",
       "    }\n",
       "</style>\n",
       "<table border=\"1\" class=\"dataframe\">\n",
       "  <thead>\n",
       "    <tr style=\"text-align: right;\">\n",
       "      <th></th>\n",
       "      <th>Control</th>\n",
       "      <th>Clone A</th>\n",
       "      <th>Clone B</th>\n",
       "    </tr>\n",
       "  </thead>\n",
       "  <tbody>\n",
       "    <tr>\n",
       "      <th>Glucose</th>\n",
       "      <td>0.003792</td>\n",
       "      <td>0.003259</td>\n",
       "      <td>0.000829</td>\n",
       "    </tr>\n",
       "    <tr>\n",
       "      <th>Glutamate</th>\n",
       "      <td>0.000779</td>\n",
       "      <td>-0.000401</td>\n",
       "      <td>0.000694</td>\n",
       "    </tr>\n",
       "    <tr>\n",
       "      <th>Lactate</th>\n",
       "      <td>0.029214</td>\n",
       "      <td>0.291796</td>\n",
       "      <td>0.113808</td>\n",
       "    </tr>\n",
       "    <tr>\n",
       "      <th>Doubling Time</th>\n",
       "      <td>1.000000</td>\n",
       "      <td>1.000000</td>\n",
       "      <td>1.000000</td>\n",
       "    </tr>\n",
       "  </tbody>\n",
       "</table>\n",
       "</div>"
      ],
      "text/plain": [
       "                Control   Clone A   Clone B\n",
       "Glucose        0.003792  0.003259  0.000829\n",
       "Glutamate      0.000779 -0.000401  0.000694\n",
       "Lactate        0.029214  0.291796  0.113808\n",
       "Doubling Time  1.000000  1.000000  1.000000"
      ]
     },
     "execution_count": 15,
     "metadata": {},
     "output_type": "execute_result"
    }
   ],
   "source": [
    "slope = slope/np.array(slope.T['Doubling Time'])\n",
    "slope"
   ]
  },
  {
   "cell_type": "code",
   "execution_count": 28,
   "metadata": {
    "scrolled": true
   },
   "outputs": [
    {
     "name": "stdout",
     "output_type": "stream",
     "text": [
      "1.497005988023952\n"
     ]
    }
   ],
   "source": [
    "g = 10000\n",
    "for i in t.index:\n",
    "    mse = (\n",
    "        (s['Control']['Lactate'] - t.T[i]['Lactate'])**2\n",
    "        + (s['Control']['Glucose'] - t.T[i]['Glucose'])**2\n",
    "#         + (s['Control']['Fructose 6-phosphate'] - t.T[i]['Fructose 6-phosphate'])**2\n",
    "        + (s['Control']['Doubling Time'] - t.T[i]['Doubling Time'])**2)\n",
    "    if mse < g:\n",
    "        g = mse\n",
    "        print(i)"
   ]
  },
  {
   "cell_type": "code",
   "execution_count": 31,
   "metadata": {
    "scrolled": true
   },
   "outputs": [
    {
     "name": "stdout",
     "output_type": "stream",
     "text": [
      "1.497005988023952\n",
      "1.492537313432836\n",
      "1.488095238095238\n",
      "1.483679525222552\n",
      "1.4792899408284024\n",
      "1.4749262536873156\n",
      "1.4705882352941178\n",
      "1.4662756598240467\n",
      "1.4619883040935673\n",
      "1.4577259475218658\n",
      "1.4534883720930232\n",
      "1.4492753623188406\n",
      "1.4450867052023122\n",
      "1.4409221902017288\n",
      "1.4367816091954022\n",
      "1.4326647564469914\n",
      "1.4285714285714286\n",
      "1.4245014245014245\n",
      "1.4204545454545454\n",
      "1.4164305949008498\n",
      "1.4124293785310735\n",
      "1.4084507042253518\n",
      "1.404494382022472\n",
      "1.4005602240896358\n",
      "1.3966480446927374\n",
      "1.3927576601671308\n",
      "1.3888888888888888\n",
      "1.3850415512465375\n",
      "1.3812154696132597\n",
      "1.3774104683195592\n",
      "1.3736263736263736\n",
      "1.3698630136986298\n",
      "1.3661202185792352\n",
      "1.3623978201634876\n",
      "1.358695652173913\n",
      "1.3550135501355014\n",
      "1.351351351351351\n",
      "1.3477088948787062\n",
      "1.3440860215053765\n",
      "1.3404825737265416\n",
      "1.3368983957219251\n",
      "1.3333333333333333\n",
      "1.3297872340425532\n",
      "1.326259946949602\n",
      "1.3227513227513228\n",
      "1.3192612137203166\n",
      "1.3157894736842106\n",
      "1.3123359580052494\n",
      "1.3089005235602094\n",
      "1.3054830287206267\n",
      "1.3020833333333333\n",
      "1.2987012987012987\n",
      "1.2953367875647668\n",
      "1.2919896640826871\n",
      "1.2886597938144329\n",
      "1.2853470437017995\n",
      "1.2820512820512822\n",
      "1.278772378516624\n",
      "1.2755102040816326\n",
      "1.272264631043257\n",
      "1.269035532994924\n",
      "1.2658227848101269\n",
      "1.2626262626262623\n",
      "1.2594458438287153\n",
      "1.256281407035176\n",
      "1.2531328320802004\n",
      "1.25\n",
      "1.2468827930174564\n",
      "1.243781094527363\n",
      "1.2406947890818858\n",
      "1.2376237623762376\n",
      "1.2345679012345678\n",
      "1.2315270935960592\n",
      "1.2285012285012284\n",
      "1.2254901960784317\n",
      "1.2224938875305624\n",
      "1.2195121951219512\n",
      "1.2165450121654502\n",
      "1.2135922330097086\n",
      "1.2106537530266344\n",
      "1.207729468599034\n",
      "1.2048192771084338\n",
      "1.2019230769230769\n",
      "1.1990407673860912\n",
      "1.1961722488038278\n",
      "1.1933174224343674\n",
      "1.1904761904761905\n",
      "1.187648456057007\n",
      "1.1848341232227488\n",
      "1.182033096926714\n",
      "1.179245283018868\n",
      "1.1764705882352942\n",
      "1.1737089201877935\n",
      "1.17096018735363\n",
      "1.1682242990654206\n",
      "1.1655011655011656\n",
      "1.162790697674419\n",
      "1.160092807424594\n",
      "1.1574074074074074\n",
      "1.1547344110854505\n",
      "1.1520737327188941\n",
      "1.1494252873563218\n",
      "1.1467889908256879\n",
      "1.1441647597254003\n",
      "1.1415525114155252\n",
      "1.1389521640091116\n",
      "1.1363636363636365\n",
      "1.1337868480725624\n",
      "1.1312217194570136\n",
      "1.1286681715575622\n",
      "1.1261261261261262\n",
      "1.1235955056179776\n",
      "1.1210762331838564\n",
      "1.1185682326621924\n",
      "1.1160714285714286\n",
      "1.11358574610245\n",
      "1.1111111111111112\n",
      "1.1086474501108647\n",
      "1.106194690265487\n",
      "1.1037527593818983\n",
      "1.1013215859030836\n",
      "1.0989010989010992\n",
      "1.0964912280701755\n",
      "1.0940919037199124\n",
      "1.091703056768559\n",
      "1.0893246187363834\n",
      "1.0869565217391304\n",
      "1.084598698481562\n",
      "1.0822510822510822\n",
      "1.079913606911447\n",
      "1.0775862068965518\n",
      "1.075268817204301\n",
      "1.072961373390558\n",
      "1.0706638115631693\n",
      "1.0683760683760684\n",
      "1.0660980810234542\n",
      "1.0638297872340423\n",
      "1.0615711252653928\n",
      "1.0593220338983051\n",
      "1.0570824524312896\n",
      "1.0548523206751057\n",
      "1.0526315789473684\n",
      "1.050420168067227\n",
      "1.0482180293501049\n",
      "1.0460251046025104\n",
      "1.0438413361169103\n",
      "1.0416666666666667\n",
      "1.0395010395010396\n",
      "1.037344398340249\n",
      "1.0351966873706004\n",
      "1.033057851239669\n",
      "1.0309278350515465\n",
      "1.02880658436214\n",
      "1.026694045174538\n",
      "1.024590163934426\n",
      "1.0224948875255624\n",
      "1.020408163265306\n",
      "1.0183299389002036\n",
      "1.0162601626016259\n",
      "1.0141987829614605\n",
      "1.0121457489878545\n",
      "1.0101010101010102\n",
      "1.0080645161290325\n",
      "1.0060362173038229\n",
      "1.0040160642570282\n",
      "1.002004008016032\n",
      "1.0\n",
      "0.998003992015968\n",
      "0.99601593625498\n",
      "0.9940357852882704\n",
      "0.992063492063492\n",
      "0.99009900990099\n",
      "0.9881422924901184\n",
      "0.9861932938856016\n",
      "0.9842519685039369\n",
      "0.9823182711198428\n",
      "0.9803921568627452\n",
      "0.9784735812133072\n",
      "0.9765625\n",
      "0.9746588693957114\n",
      "0.9727626459143968\n",
      "0.9708737864077671\n",
      "0.9689922480620154\n",
      "0.9671179883945842\n",
      "0.9652509652509652\n",
      "0.9633911368015414\n",
      "0.9615384615384616\n",
      "0.9596928982725528\n",
      "0.9578544061302682\n",
      "0.9560229445506692\n",
      "0.9541984732824428\n",
      "0.9523809523809524\n",
      "0.9505703422053232\n",
      "0.9487666034155596\n",
      "0.946969696969697\n",
      "0.9451795841209829\n",
      "0.9433962264150944\n",
      "0.9416195856873822\n",
      "0.9398496240601504\n",
      "0.9380863039399624\n",
      "0.9363295880149812\n",
      "0.9345794392523364\n",
      "0.9328358208955224\n",
      "0.931098696461825\n",
      "0.929368029739777\n",
      "0.927643784786642\n",
      "0.925925925925926\n",
      "0.9242144177449167\n",
      "0.922509225092251\n",
      "0.9208103130755064\n",
      "0.9191176470588236\n",
      "0.9174311926605504\n",
      "0.9157509157509156\n",
      "0.9140767824497258\n",
      "0.9124087591240876\n"
     ]
    }
   ],
   "source": [
    "g = 10000\n",
    "for i in t.index:\n",
    "    mse = (\n",
    "        (s['Clone A']['Lactate'] - t.T[i]['Lactate'])**2\n",
    "        + (s['Clone A']['Glucose'] - t.T[i]['Glucose'])**2\n",
    "#         + (s['Clone A']['Fructose 6-phosphate'] - t.T[i]['Fructose 6-phosphate'])**2\n",
    "        + (s['Clone A']['Doubling Time'] - t.T[i]['Doubling Time'])**2)\n",
    "    if mse < g:\n",
    "        g = mse\n",
    "        print(i)\n",
    "        \n",
    "# t.T[0.5512679162072768]"
   ]
  },
  {
   "cell_type": "code",
   "execution_count": 32,
   "metadata": {
    "scrolled": true
   },
   "outputs": [
    {
     "name": "stdout",
     "output_type": "stream",
     "text": [
      "1.497005988023952\n",
      "1.492537313432836\n",
      "1.488095238095238\n",
      "1.483679525222552\n",
      "1.4792899408284024\n",
      "1.4749262536873156\n",
      "1.4705882352941178\n",
      "1.4662756598240467\n",
      "1.4619883040935673\n",
      "1.4577259475218658\n",
      "1.4534883720930232\n",
      "1.4492753623188406\n",
      "1.4450867052023122\n",
      "1.4409221902017288\n",
      "1.4367816091954022\n",
      "1.4326647564469914\n",
      "1.4285714285714286\n",
      "1.4245014245014245\n",
      "1.4204545454545454\n",
      "1.4164305949008498\n",
      "1.4124293785310735\n",
      "1.4084507042253518\n",
      "1.404494382022472\n",
      "1.4005602240896358\n",
      "1.3966480446927374\n",
      "1.3927576601671308\n",
      "1.3888888888888888\n",
      "1.3850415512465375\n",
      "1.3812154696132597\n",
      "1.3774104683195592\n",
      "1.3736263736263736\n",
      "1.3698630136986298\n",
      "1.3661202185792352\n",
      "1.3623978201634876\n",
      "1.358695652173913\n",
      "1.3550135501355014\n",
      "1.351351351351351\n",
      "1.3477088948787062\n",
      "1.3440860215053765\n",
      "1.3404825737265416\n",
      "1.3368983957219251\n",
      "1.3333333333333333\n",
      "1.3297872340425532\n",
      "1.326259946949602\n",
      "1.3227513227513228\n",
      "1.3192612137203166\n",
      "1.3157894736842106\n",
      "1.3123359580052494\n",
      "1.3089005235602094\n",
      "1.3054830287206267\n",
      "1.3020833333333333\n",
      "1.2987012987012987\n",
      "1.2953367875647668\n",
      "1.2919896640826871\n",
      "1.2886597938144329\n",
      "1.2853470437017995\n",
      "1.2820512820512822\n",
      "1.278772378516624\n",
      "1.2755102040816326\n",
      "1.272264631043257\n",
      "1.269035532994924\n",
      "1.2658227848101269\n",
      "1.2626262626262623\n",
      "1.2594458438287153\n",
      "1.256281407035176\n",
      "1.2531328320802004\n",
      "1.25\n",
      "1.2468827930174564\n",
      "1.243781094527363\n",
      "1.2406947890818858\n",
      "1.2376237623762376\n",
      "1.2345679012345678\n",
      "1.2315270935960592\n",
      "1.2285012285012284\n",
      "1.2254901960784317\n",
      "1.2224938875305624\n",
      "1.2195121951219512\n",
      "1.2165450121654502\n"
     ]
    }
   ],
   "source": [
    "g = 10000\n",
    "for i in t.index:\n",
    "    mse = (\n",
    "        (s['Clone B']['Lactate'] - t.T[i]['Lactate'])**2\n",
    "        + (s['Clone B']['Glucose'] - t.T[i]['Glucose'])**2\n",
    "#         + (s['Clone B']['Fructose 6-phosphate'] - t.T[i]['Fructose 6-phosphate'])**2\n",
    "        + (s['Clone B']['Doubling Time'] - t.T[i]['Doubling Time'])**2)\n",
    "    if mse < g:\n",
    "        g = mse\n",
    "        print(i)\n",
    "        \n",
    "# t.T[0.5512679162072768]"
   ]
  },
  {
   "cell_type": "code",
   "execution_count": 94,
   "metadata": {},
   "outputs": [
    {
     "data": {
      "text/plain": [
       "Fructose 6-phosphate     0.040300\n",
       "Citric acid              0.050034\n",
       "amino_acid              40.580532\n",
       "PRPP                     1.000000\n",
       "Name: Control, dtype: float64"
      ]
     },
     "execution_count": 94,
     "metadata": {},
     "output_type": "execute_result"
    }
   ],
   "source": [
    "metabo['Control']"
   ]
  },
  {
   "cell_type": "code",
   "execution_count": 38,
   "metadata": {},
   "outputs": [
    {
     "data": {
      "text/plain": [
       "<matplotlib.collections.LineCollection at 0x7f172348b310>"
      ]
     },
     "execution_count": 38,
     "metadata": {},
     "output_type": "execute_result"
    },
    {
     "data": {
      "image/png": "[encoded data removed]",
      "text/plain": [
       "<Figure size 432x288 with 1 Axes>"
      ]
     },
     "metadata": {
      "needs_background": "light"
     },
     "output_type": "display_data"
    }
   ],
   "source": [
    "output.plot()\n",
    "# {'solid', 'dashed', 'dashdot', 'dotted'}\n",
    "plt.vlines([1.497005988023952], 0.1, 1000, \"green\", linestyles='dotted', label='Clone A')\n",
    "plt.vlines([0.499001996007984], 0.1, 1000, \"orange\", linestyles='dashdot', label='Control')\n",
    "plt.vlines([1.2165450121654502], 0.1, 1000, \"blue\", linestyles='dashed', label='Clone B')"
   ]
  },
  {
   "cell_type": "code",
   "execution_count": 39,
   "metadata": {},
   "outputs": [
    {
     "data": {
      "text/plain": [
       "<matplotlib.collections.LineCollection at 0x7f1723522c10>"
      ]
     },
     "execution_count": 39,
     "metadata": {},
     "output_type": "execute_result"
    },
    {
     "data": {
      "image/png": "[encoded data removed]",
      "text/plain": [
       "<Figure size 432x288 with 1 Axes>"
      ]
     },
     "metadata": {
      "needs_background": "light"
     },
     "output_type": "display_data"
    }
   ],
   "source": [
    "t.plot()\n",
    "# {'solid', 'dashed', 'dashdot', 'dotted'}\n",
    "plt.vlines([1.497005988023952], 0.1, 1000, \"green\", linestyles='dotted', label='Clone A')\n",
    "plt.vlines([0.499001996007984], 0.1, 1000, \"orange\", linestyles='dashdot', label='Control')\n",
    "plt.vlines([1.2165450121654502], 0.1, 1000, \"blue\", linestyles='dashed', label='Clone B')"
   ]
  },
  {
   "cell_type": "code",
   "execution_count": 41,
   "metadata": {},
   "outputs": [
    {
     "data": {
      "text/plain": [
       "<matplotlib.collections.LineCollection at 0x7f17231e0c90>"
      ]
     },
     "execution_count": 41,
     "metadata": {},
     "output_type": "execute_result"
    },
    {
     "data": {
      "image/png": "[encoded data removed]",
      "text/plain": [
       "<Figure size 432x288 with 1 Axes>"
      ]
     },
     "metadata": {
      "needs_background": "light"
     },
     "output_type": "display_data"
    }
   ],
   "source": [
    "t.plot(logy=True)\n",
    "# {'solid', 'dashed', 'dashdot', 'dotted'}\n",
    "plt.ylabel('concentration (log)')\n",
    "plt.xlabel('O2 Consumption/Glucose Consumption')\n",
    "plt.vlines([1.497005988023952], 10**-2, 10**4, \"green\", linestyles='dotted', label='Clone A')\n",
    "plt.vlines([0.499001996007984], 10**-2, 10**4, \"orange\", linestyles='dashdot', label='Control')\n",
    "plt.vlines([1.2165450121654502], 10**-2, 10**4, \"blue\", linestyles='dashed', label='Clone B')"
   ]
  },
  {
   "cell_type": "code",
   "execution_count": 167,
   "metadata": {},
   "outputs": [
    {
     "name": "stdout",
     "output_type": "stream",
     "text": [
      "Object `pd.DataFrame.plot()` not found.\n"
     ]
    }
   ],
   "source": [
    "?pd.DataFrame.plot()"
   ]
  },
  {
   "cell_type": "code",
   "execution_count": null,
   "metadata": {},
   "outputs": [],
   "source": []
  }
 ],
 "metadata": {
  "kernelspec": {
   "display_name": "Python 3",
   "language": "python",
   "name": "python3"
  },
  "language_info": {
   "codemirror_mode": {
    "name": "ipython",
    "version": 3
   },
   "file_extension": ".py",
   "mimetype": "text/x-python",
   "name": "python",
   "nbconvert_exporter": "python",
   "pygments_lexer": "ipython3",
   "version": "3.7.7"
  }
 },
 "nbformat": 4,
 "nbformat_minor": 4
}
