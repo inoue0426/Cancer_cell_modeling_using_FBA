{
 "cells": [
  {
   "cell_type": "code",
   "execution_count": 265,
   "metadata": {},
   "outputs": [],
   "source": [
    "import numpy as np\n",
    "import pandas as pd\n",
    "from pulp import *\n",
    "from IPython.display import Image, display_png\n",
    "%matplotlib inline"
   ]
  },
  {
   "cell_type": "code",
   "execution_count": 244,
   "metadata": {
    "scrolled": true
   },
   "outputs": [],
   "source": [
    "t = pd.read_csv('../csv/stochastic_matrix.csv', index_col=0).fillna(0)\n",
    "t = t.T.drop([\n",
    "    'C00001', # H2O\n",
    "#     'C00003', # NAD\n",
    "#     'C00004', # NADH\n",
    "#     'C00005', # NADPH\n",
    "#     'C00006', # NADP\n",
    "    'C00009', # Phosphate\n",
    "    'C00010', # CoA\n",
    "#     'C00011', # CO2\n",
    "    'C00033', # Acetate\n",
    "    'C00080', # H+\n",
    "    'C00138', # Reduced ferredoxin\n",
    "    'C00139', # Oxidized ferredoxin\n",
    "    'C15602',\n",
    "    'C15603'\n",
    "]).T"
   ]
  },
  {
   "cell_type": "code",
   "execution_count": 245,
   "metadata": {},
   "outputs": [],
   "source": [
    "h = [\n",
    "#     'R00112',\n",
    "    'R00200',\n",
    "    'R00268',\n",
    "    'R00341',\n",
    "    'R00342',\n",
    "    'R00351',\n",
    "    'R00361',\n",
    "    'R00658',\n",
    "    'R01015',\n",
    "    'R01061',\n",
    "    'R01070',\n",
    "    'R01082',\n",
    "    'R01196',\n",
    "    'R01197',\n",
    "    'R01325',\n",
    "    'R01512',\n",
    "    'R01518',\n",
    "#     'R08549',\n",
    "    'R01786',\n",
    "    'R01899',\n",
    "    'R01900',\n",
    "    'R02164',\n",
    "    'R02740',\n",
    "    'R04779',\n",
    "    'R10343'\n",
    "]"
   ]
  },
  {
   "cell_type": "code",
   "execution_count": 246,
   "metadata": {},
   "outputs": [],
   "source": [
    "p = t.T[h].T"
   ]
  },
  {
   "cell_type": "code",
   "execution_count": 247,
   "metadata": {
    "scrolled": true
   },
   "outputs": [],
   "source": [
    "for i in p:\n",
    "    if sum(p[i] != 0) == 0:\n",
    "        p=p.drop(i, axis=1)"
   ]
  },
  {
   "cell_type": "code",
   "execution_count": 248,
   "metadata": {
    "scrolled": true
   },
   "outputs": [],
   "source": [
    "# g  = []\n",
    "# for i in p.columns:\n",
    "#     if sum(p[i] != 0.0) == 1:\n",
    "#         g.append(i)\n",
    "# g"
   ]
  },
  {
   "cell_type": "code",
   "execution_count": 249,
   "metadata": {},
   "outputs": [],
   "source": [
    "# p = p.drop(g, axis=1)"
   ]
  },
  {
   "cell_type": "code",
   "execution_count": 250,
   "metadata": {
    "scrolled": true
   },
   "outputs": [],
   "source": [
    "x = [LpVariable(i) for i in p.columns]"
   ]
  },
  {
   "cell_type": "code",
   "execution_count": 251,
   "metadata": {
    "scrolled": true
   },
   "outputs": [],
   "source": [
    "f = pd.DataFrame([i for i in p.columns])\n",
    "# (f[f[0] == 'C00024'].index)[0]"
   ]
  },
  {
   "cell_type": "code",
   "execution_count": 252,
   "metadata": {},
   "outputs": [],
   "source": [
    "m = LpProblem(sense=LpMaximize)\n",
    "m += x[(f[f[0] == 'C00091'].index)[0]]"
   ]
  },
  {
   "cell_type": "code",
   "execution_count": 253,
   "metadata": {
    "scrolled": true
   },
   "outputs": [
    {
     "data": {
      "text/plain": [
       "C00091"
      ]
     },
     "execution_count": 253,
     "metadata": {},
     "output_type": "execute_result"
    }
   ],
   "source": [
    "x[(f[f[0] == 'C00091'].index)[0]]"
   ]
  },
  {
   "cell_type": "code",
   "execution_count": 259,
   "metadata": {
    "scrolled": true
   },
   "outputs": [],
   "source": [
    "capacity_plus = 100\n",
    "capacity_minus = -100\n",
    "\n",
    "for i in p.index:\n",
    "    m += np.dot(list(p.T[i]), x) <= capacity_plus\n",
    "    m += np.dot(list(p.T[i]), x) >= capacity_minus\n",
    "    \n",
    "# NADPH <-> NADH\n",
    "m += x[(f[f[0] == 'C00003'].index)[0]] + x[(f[f[0] == 'C00005'].index)[0]] - x[(f[f[0] == 'C00006'].index)[0]] - x[(f[f[0] == 'C00004'].index)[0]] <= capacity_plus\n",
    "m += x[(f[f[0] == 'C00003'].index)[0]] + x[(f[f[0] == 'C00005'].index)[0]] - x[(f[f[0] == 'C00006'].index)[0]] - x[(f[f[0] == 'C00004'].index)[0]] <= capacity_plus\n",
    "    \n",
    "# ATP <-> ADP\n",
    "m += x[(f[f[0] == 'C00002'].index)[0]] - x[(f[f[0] == 'C00008'].index)[0]] <= capacity_plus\n",
    "m += x[(f[f[0] == 'C00002'].index)[0]] - x[(f[f[0] == 'C00008'].index)[0]] <= capacity_plus\n",
    "    \n",
    "# 2-Oxoglutarate <-> CO2\n",
    "m += (\n",
    "    x[(f[f[0] == 'C00026'].index)[0]] + \n",
    "#     x[(f[f[0] == 'C00010'].index)[0]] + \n",
    "    x[(f[f[0] == 'C00003'].index)[0]] \n",
    "    - x[(f[f[0] == 'C00091'].index)[0]] -\n",
    "    x[(f[f[0] == 'C00011'].index)[0]] \n",
    "    - x[(f[f[0] == 'C00004'].index)[0]] \n",
    "#     x[(f[f[0] == 'C00080'].index)[0]] \n",
    "    <= capacity_plus\n",
    ")\n",
    "\n",
    "m += (\n",
    "    x[(f[f[0] == 'C00026'].index)[0]] + \n",
    "#     x[(f[f[0] == 'C00010'].index)[0]] + \n",
    "    x[(f[f[0] == 'C00003'].index)[0]] \n",
    "    - x[(f[f[0] == 'C00091'].index)[0]] -\n",
    "    x[(f[f[0] == 'C00011'].index)[0]] \n",
    "    - x[(f[f[0] == 'C00004'].index)[0]] \n",
    "#     x[(f[f[0] == 'C00080'].index)[0]] \n",
    "    >= capacity_minus\n",
    ")    \n",
    "\n",
    "m += x[(f[f[0] == 'C00267'].index)[0]] <= capacity_plus\n",
    "m += x[(f[f[0] == 'C00011'].index)[0]] >= 0"
   ]
  },
  {
   "cell_type": "code",
   "execution_count": 260,
   "metadata": {},
   "outputs": [
    {
     "name": "stdout",
     "output_type": "stream",
     "text": [
      "Optimal\n"
     ]
    }
   ],
   "source": [
    "status = m.solve()\n",
    "print(LpStatus[status])"
   ]
  },
  {
   "cell_type": "code",
   "execution_count": 261,
   "metadata": {
    "scrolled": true
   },
   "outputs": [],
   "source": [
    "y = []\n",
    "for i in x:\n",
    "    y.append(value(i))"
   ]
  },
  {
   "cell_type": "code",
   "execution_count": 262,
   "metadata": {
    "scrolled": false
   },
   "outputs": [],
   "source": [
    "result = pd.DataFrame(y, index=x, columns=['value'])\n",
    "result.value = result.value/max(result.value)"
   ]
  },
  {
   "cell_type": "code",
   "execution_count": 268,
   "metadata": {},
   "outputs": [
    {
     "data": {
      "text/html": [
       "<div>\n",
       "<style scoped>\n",
       "    .dataframe tbody tr th:only-of-type {\n",
       "        vertical-align: middle;\n",
       "    }\n",
       "\n",
       "    .dataframe tbody tr th {\n",
       "        vertical-align: top;\n",
       "    }\n",
       "\n",
       "    .dataframe thead th {\n",
       "        text-align: right;\n",
       "    }\n",
       "</style>\n",
       "<table border=\"1\" class=\"dataframe\">\n",
       "  <thead>\n",
       "    <tr style=\"text-align: right;\">\n",
       "      <th></th>\n",
       "      <th>value</th>\n",
       "    </tr>\n",
       "  </thead>\n",
       "  <tbody>\n",
       "    <tr>\n",
       "      <th>C00002</th>\n",
       "      <td>-0.171419</td>\n",
       "    </tr>\n",
       "    <tr>\n",
       "      <th>C00003</th>\n",
       "      <td>0.000000</td>\n",
       "    </tr>\n",
       "    <tr>\n",
       "      <th>C00004</th>\n",
       "      <td>-0.057140</td>\n",
       "    </tr>\n",
       "    <tr>\n",
       "      <th>C00005</th>\n",
       "      <td>-0.171476</td>\n",
       "    </tr>\n",
       "    <tr>\n",
       "      <th>C00006</th>\n",
       "      <td>0.000000</td>\n",
       "    </tr>\n",
       "    <tr>\n",
       "      <th>C00008</th>\n",
       "      <td>0.000000</td>\n",
       "    </tr>\n",
       "    <tr>\n",
       "      <th>C00011</th>\n",
       "      <td>0.000029</td>\n",
       "    </tr>\n",
       "    <tr>\n",
       "      <th>C00022</th>\n",
       "      <td>0.457117</td>\n",
       "    </tr>\n",
       "    <tr>\n",
       "      <th>C00024</th>\n",
       "      <td>0.485658</td>\n",
       "    </tr>\n",
       "    <tr>\n",
       "      <th>C00026</th>\n",
       "      <td>0.971402</td>\n",
       "    </tr>\n",
       "    <tr>\n",
       "      <th>C00036</th>\n",
       "      <td>0.457145</td>\n",
       "    </tr>\n",
       "    <tr>\n",
       "      <th>C00042</th>\n",
       "      <td>0.485715</td>\n",
       "    </tr>\n",
       "    <tr>\n",
       "      <th>C00074</th>\n",
       "      <td>0.257128</td>\n",
       "    </tr>\n",
       "    <tr>\n",
       "      <th>C00091</th>\n",
       "      <td>0.999943</td>\n",
       "    </tr>\n",
       "    <tr>\n",
       "      <th>C00111</th>\n",
       "      <td>-0.114279</td>\n",
       "    </tr>\n",
       "    <tr>\n",
       "      <th>C00118</th>\n",
       "      <td>-0.085709</td>\n",
       "    </tr>\n",
       "    <tr>\n",
       "      <th>C00122</th>\n",
       "      <td>0.457145</td>\n",
       "    </tr>\n",
       "    <tr>\n",
       "      <th>C00149</th>\n",
       "      <td>0.428576</td>\n",
       "    </tr>\n",
       "    <tr>\n",
       "      <th>C00158</th>\n",
       "      <td>0.914233</td>\n",
       "    </tr>\n",
       "    <tr>\n",
       "      <th>C00197</th>\n",
       "      <td>0.199989</td>\n",
       "    </tr>\n",
       "    <tr>\n",
       "      <th>C00236</th>\n",
       "      <td>0.000000</td>\n",
       "    </tr>\n",
       "    <tr>\n",
       "      <th>C00267</th>\n",
       "      <td>0.028570</td>\n",
       "    </tr>\n",
       "    <tr>\n",
       "      <th>C00311</th>\n",
       "      <td>0.857094</td>\n",
       "    </tr>\n",
       "    <tr>\n",
       "      <th>C00417</th>\n",
       "      <td>0.885664</td>\n",
       "    </tr>\n",
       "    <tr>\n",
       "      <th>C00631</th>\n",
       "      <td>0.228558</td>\n",
       "    </tr>\n",
       "    <tr>\n",
       "      <th>C00668</th>\n",
       "      <td>-0.114279</td>\n",
       "    </tr>\n",
       "    <tr>\n",
       "      <th>C05345</th>\n",
       "      <td>-0.085709</td>\n",
       "    </tr>\n",
       "    <tr>\n",
       "      <th>C05378</th>\n",
       "      <td>-0.228558</td>\n",
       "    </tr>\n",
       "    <tr>\n",
       "      <th>C05379</th>\n",
       "      <td>1.000000</td>\n",
       "    </tr>\n",
       "  </tbody>\n",
       "</table>\n",
       "</div>"
      ],
      "text/plain": [
       "           value\n",
       "C00002 -0.171419\n",
       "C00003  0.000000\n",
       "C00004 -0.057140\n",
       "C00005 -0.171476\n",
       "C00006  0.000000\n",
       "C00008  0.000000\n",
       "C00011  0.000029\n",
       "C00022  0.457117\n",
       "C00024  0.485658\n",
       "C00026  0.971402\n",
       "C00036  0.457145\n",
       "C00042  0.485715\n",
       "C00074  0.257128\n",
       "C00091  0.999943\n",
       "C00111 -0.114279\n",
       "C00118 -0.085709\n",
       "C00122  0.457145\n",
       "C00149  0.428576\n",
       "C00158  0.914233\n",
       "C00197  0.199989\n",
       "C00236  0.000000\n",
       "C00267  0.028570\n",
       "C00311  0.857094\n",
       "C00417  0.885664\n",
       "C00631  0.228558\n",
       "C00668 -0.114279\n",
       "C05345 -0.085709\n",
       "C05378 -0.228558\n",
       "C05379  1.000000"
      ]
     },
     "execution_count": 268,
     "metadata": {},
     "output_type": "execute_result"
    }
   ],
   "source": [
    "result"
   ]
  },
  {
   "cell_type": "code",
   "execution_count": null,
   "metadata": {},
   "outputs": [],
   "source": []
  }
 ],
 "metadata": {
  "kernelspec": {
   "display_name": "Python 3",
   "language": "python",
   "name": "python3"
  },
  "language_info": {
   "codemirror_mode": {
    "name": "ipython",
    "version": 3
   },
   "file_extension": ".py",
   "mimetype": "text/x-python",
   "name": "python",
   "nbconvert_exporter": "python",
   "pygments_lexer": "ipython3",
   "version": "3.6.5"
  }
 },
 "nbformat": 4,
 "nbformat_minor": 2
}
