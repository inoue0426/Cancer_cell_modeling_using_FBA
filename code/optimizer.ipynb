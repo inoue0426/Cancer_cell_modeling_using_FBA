{
 "cells": [
  {
   "cell_type": "code",
   "execution_count": 180,
   "metadata": {},
   "outputs": [],
   "source": [
    "import numpy as np\n",
    "import pandas as pd\n",
    "from pulp import *\n",
    "from IPython.display import Image, display_png"
   ]
  },
  {
   "cell_type": "code",
   "execution_count": 181,
   "metadata": {
    "scrolled": true
   },
   "outputs": [],
   "source": [
    "t = pd.read_csv('../csv/stochastic_matrix.csv', index_col=0).fillna(0)\n",
    "t = t.T.drop([\n",
    "    'C00001', # H2O\n",
    "#     'C00003', # NAD\n",
    "#     'C00004', # NADH\n",
    "    'C00005', # NADPH\n",
    "    'C00006', # NADP\n",
    "    'C00009', # Phosphate\n",
    "    'C00010', # CoA\n",
    "#     'C00011', # CO2\n",
    "    'C00033', # Acetate\n",
    "    'C00080', # H+\n",
    "    'C00138', # Reduced ferredoxin\n",
    "    'C00139', # Oxidized ferredoxin\n",
    "    'C15602',\n",
    "    'C15603'\n",
    "]).T"
   ]
  },
  {
   "cell_type": "code",
   "execution_count": 182,
   "metadata": {},
   "outputs": [],
   "source": [
    "h = [\n",
    "    'R00200',\n",
    "    'R00268',\n",
    "    'R00341',\n",
    "    'R00342',\n",
    "    'R00351',\n",
    "    'R00361',\n",
    "    'R00658',\n",
    "    'R01015',\n",
    "    'R01061',\n",
    "    'R01070',\n",
    "    'R01082',\n",
    "    'R01196',\n",
    "    'R01197',\n",
    "    'R01325',\n",
    "    'R01512',\n",
    "    'R01518',\n",
    "#     'R08549',\n",
    "    'R01786',\n",
    "    'R01899',\n",
    "    'R01900',\n",
    "    'R02164',\n",
    "    'R02740',\n",
    "    'R04779',\n",
    "    'R10343'\n",
    "]"
   ]
  },
  {
   "cell_type": "code",
   "execution_count": 183,
   "metadata": {},
   "outputs": [],
   "source": [
    "p = t.T[h].T"
   ]
  },
  {
   "cell_type": "code",
   "execution_count": 184,
   "metadata": {
    "scrolled": true
   },
   "outputs": [],
   "source": [
    "for i in p:\n",
    "    if sum(p[i] != 0) == 0:\n",
    "        p=p.drop(i, axis=1)"
   ]
  },
  {
   "cell_type": "code",
   "execution_count": 185,
   "metadata": {
    "scrolled": true
   },
   "outputs": [],
   "source": [
    "# g  = []\n",
    "# for i in p.columns:\n",
    "#     if sum(p[i] != 0.0) == 1:\n",
    "#         g.append(i)\n",
    "# g"
   ]
  },
  {
   "cell_type": "code",
   "execution_count": 186,
   "metadata": {},
   "outputs": [],
   "source": [
    "# p = p.drop(g, axis=1)"
   ]
  },
  {
   "cell_type": "code",
   "execution_count": 187,
   "metadata": {
    "scrolled": true
   },
   "outputs": [],
   "source": [
    "x = [LpVariable(i) for i in p.columns]"
   ]
  },
  {
   "cell_type": "code",
   "execution_count": 188,
   "metadata": {
    "scrolled": true
   },
   "outputs": [],
   "source": [
    "f = pd.DataFrame([i for i in p.columns])\n",
    "# (f[f[0] == 'C00024'].index)[0]"
   ]
  },
  {
   "cell_type": "code",
   "execution_count": 189,
   "metadata": {},
   "outputs": [],
   "source": [
    "m = LpProblem(sense=LpMaximize)\n",
    "m += x[(f[f[0] == 'C00091'].index)[0]]"
   ]
  },
  {
   "cell_type": "code",
   "execution_count": 190,
   "metadata": {
    "scrolled": true
   },
   "outputs": [
    {
     "data": {
      "text/plain": [
       "C00091"
      ]
     },
     "execution_count": 190,
     "metadata": {},
     "output_type": "execute_result"
    }
   ],
   "source": [
    "x[(f[f[0] == 'C00091'].index)[0]]"
   ]
  },
  {
   "cell_type": "code",
   "execution_count": 193,
   "metadata": {
    "scrolled": true
   },
   "outputs": [],
   "source": [
    "capacity_plus = 100\n",
    "capacity_minus = -100\n",
    "\n",
    "for i in p.index:\n",
    "    m += np.dot(list(p.T[i]), x) <= capacity_plus\n",
    "    m += np.dot(list(p.T[i]), x) >= capacity_minus\n",
    "    \n",
    "# ATP <-> ADP\n",
    "m += x[(f[f[0] == 'C00002'].index)[0]] - x[(f[f[0] == 'C00008'].index)[0]] <= capacity_plus\n",
    "m += x[(f[f[0] == 'C00002'].index)[0]] - x[(f[f[0] == 'C00008'].index)[0]] <= capacity_plus\n",
    "    \n",
    "# 2-Oxoglutarate <-> CO2\n",
    "m += (\n",
    "    x[(f[f[0] == 'C00026'].index)[0]] + \n",
    "#     x[(f[f[0] == 'C00010'].index)[0]] + \n",
    "    x[(f[f[0] == 'C00003'].index)[0]] \n",
    "    - x[(f[f[0] == 'C00091'].index)[0]] -\n",
    "    x[(f[f[0] == 'C00011'].index)[0]] \n",
    "    - x[(f[f[0] == 'C00004'].index)[0]] \n",
    "#     x[(f[f[0] == 'C00080'].index)[0]] \n",
    "    <= capacity_plus\n",
    ")\n",
    "\n",
    "m += (\n",
    "    x[(f[f[0] == 'C00026'].index)[0]] + \n",
    "#     x[(f[f[0] == 'C00010'].index)[0]] + \n",
    "    x[(f[f[0] == 'C00003'].index)[0]] \n",
    "    - x[(f[f[0] == 'C00091'].index)[0]] -\n",
    "    x[(f[f[0] == 'C00011'].index)[0]] \n",
    "    - x[(f[f[0] == 'C00004'].index)[0]] \n",
    "#     x[(f[f[0] == 'C00080'].index)[0]] \n",
    "    >= capacity_minus\n",
    ")    \n",
    "\n",
    "m += x[(f[f[0] == 'C00267'].index)[0]] <= capacity_plus\n",
    "m += x[(f[f[0] == 'C00011'].index)[0]] >= capacity_minus"
   ]
  },
  {
   "cell_type": "code",
   "execution_count": 203,
   "metadata": {},
   "outputs": [
    {
     "name": "stdout",
     "output_type": "stream",
     "text": [
      "Optimal\n"
     ]
    }
   ],
   "source": [
    "status = m.solve()\n",
    "print(LpStatus[status])"
   ]
  },
  {
   "cell_type": "code",
   "execution_count": 206,
   "metadata": {
    "scrolled": true
   },
   "outputs": [
    {
     "ename": "AttributeError",
     "evalue": "'LpProblem' object has no attribute 'value'",
     "output_type": "error",
     "traceback": [
      "\u001b[0;31m------------------------------------------------------------------------\u001b[0m",
      "\u001b[0;31mAttributeError\u001b[0m                         Traceback (most recent call last)",
      "\u001b[0;32m<ipython-input-206-e063b0e5af47>\u001b[0m in \u001b[0;36m<module>\u001b[0;34m()\u001b[0m\n\u001b[0;32m----> 1\u001b[0;31m \u001b[0mvalue\u001b[0m\u001b[0;34m(\u001b[0m\u001b[0mm\u001b[0m\u001b[0;34m)\u001b[0m\u001b[0;34m\u001b[0m\u001b[0m\n\u001b[0m",
      "\u001b[0;32m~/.pyenv/versions/3.6.5/lib/python3.6/site-packages/pulp/pulp.py\u001b[0m in \u001b[0;36mvalue\u001b[0;34m(x)\u001b[0m\n\u001b[1;32m   2009\u001b[0m     \u001b[0;34m\"\"\"Returns the value of the variable/expression x, or x if it is a number\"\"\"\u001b[0m\u001b[0;34m\u001b[0m\u001b[0m\n\u001b[1;32m   2010\u001b[0m     \u001b[0;32mif\u001b[0m \u001b[0misNumber\u001b[0m\u001b[0;34m(\u001b[0m\u001b[0mx\u001b[0m\u001b[0;34m)\u001b[0m\u001b[0;34m:\u001b[0m \u001b[0;32mreturn\u001b[0m \u001b[0mx\u001b[0m\u001b[0;34m\u001b[0m\u001b[0m\n\u001b[0;32m-> 2011\u001b[0;31m     \u001b[0;32melse\u001b[0m\u001b[0;34m:\u001b[0m \u001b[0;32mreturn\u001b[0m \u001b[0mx\u001b[0m\u001b[0;34m.\u001b[0m\u001b[0mvalue\u001b[0m\u001b[0;34m(\u001b[0m\u001b[0;34m)\u001b[0m\u001b[0;34m\u001b[0m\u001b[0m\n\u001b[0m\u001b[1;32m   2012\u001b[0m \u001b[0;34m\u001b[0m\u001b[0m\n\u001b[1;32m   2013\u001b[0m \u001b[0;32mdef\u001b[0m \u001b[0mvalueOrDefault\u001b[0m\u001b[0;34m(\u001b[0m\u001b[0mx\u001b[0m\u001b[0;34m)\u001b[0m\u001b[0;34m:\u001b[0m\u001b[0;34m\u001b[0m\u001b[0m\n",
      "\u001b[0;31mAttributeError\u001b[0m: 'LpProblem' object has no attribute 'value'"
     ]
    }
   ],
   "source": [
    "value(m)"
   ]
  },
  {
   "cell_type": "code",
   "execution_count": 200,
   "metadata": {
    "scrolled": true
   },
   "outputs": [
    {
     "ename": "AttributeError",
     "evalue": "'LpProblem' object has no attribute 'value'",
     "output_type": "error",
     "traceback": [
      "\u001b[0;31m------------------------------------------------------------------------\u001b[0m",
      "\u001b[0;31mAttributeError\u001b[0m                         Traceback (most recent call last)",
      "\u001b[0;32m<ipython-input-200-e063b0e5af47>\u001b[0m in \u001b[0;36m<module>\u001b[0;34m()\u001b[0m\n\u001b[0;32m----> 1\u001b[0;31m \u001b[0mvalue\u001b[0m\u001b[0;34m(\u001b[0m\u001b[0mm\u001b[0m\u001b[0;34m)\u001b[0m\u001b[0;34m\u001b[0m\u001b[0m\n\u001b[0m",
      "\u001b[0;32m~/.pyenv/versions/3.6.5/lib/python3.6/site-packages/pulp/pulp.py\u001b[0m in \u001b[0;36mvalue\u001b[0;34m(x)\u001b[0m\n\u001b[1;32m   2009\u001b[0m     \u001b[0;34m\"\"\"Returns the value of the variable/expression x, or x if it is a number\"\"\"\u001b[0m\u001b[0;34m\u001b[0m\u001b[0m\n\u001b[1;32m   2010\u001b[0m     \u001b[0;32mif\u001b[0m \u001b[0misNumber\u001b[0m\u001b[0;34m(\u001b[0m\u001b[0mx\u001b[0m\u001b[0;34m)\u001b[0m\u001b[0;34m:\u001b[0m \u001b[0;32mreturn\u001b[0m \u001b[0mx\u001b[0m\u001b[0;34m\u001b[0m\u001b[0m\n\u001b[0;32m-> 2011\u001b[0;31m     \u001b[0;32melse\u001b[0m\u001b[0;34m:\u001b[0m \u001b[0;32mreturn\u001b[0m \u001b[0mx\u001b[0m\u001b[0;34m.\u001b[0m\u001b[0mvalue\u001b[0m\u001b[0;34m(\u001b[0m\u001b[0;34m)\u001b[0m\u001b[0;34m\u001b[0m\u001b[0m\n\u001b[0m\u001b[1;32m   2012\u001b[0m \u001b[0;34m\u001b[0m\u001b[0m\n\u001b[1;32m   2013\u001b[0m \u001b[0;32mdef\u001b[0m \u001b[0mvalueOrDefault\u001b[0m\u001b[0;34m(\u001b[0m\u001b[0mx\u001b[0m\u001b[0;34m)\u001b[0m\u001b[0;34m:\u001b[0m\u001b[0;34m\u001b[0m\u001b[0m\n",
      "\u001b[0;31mAttributeError\u001b[0m: 'LpProblem' object has no attribute 'value'"
     ]
    }
   ],
   "source": []
  },
  {
   "cell_type": "code",
   "execution_count": null,
   "metadata": {},
   "outputs": [],
   "source": []
  },
  {
   "cell_type": "code",
   "execution_count": null,
   "metadata": {},
   "outputs": [],
   "source": []
  }
 ],
 "metadata": {
  "kernelspec": {
   "display_name": "Python 3",
   "language": "python",
   "name": "python3"
  },
  "language_info": {
   "codemirror_mode": {
    "name": "ipython",
    "version": 3
   },
   "file_extension": ".py",
   "mimetype": "text/x-python",
   "name": "python",
   "nbconvert_exporter": "python",
   "pygments_lexer": "ipython3",
   "version": "3.6.5"
  }
 },
 "nbformat": 4,
 "nbformat_minor": 2
}
