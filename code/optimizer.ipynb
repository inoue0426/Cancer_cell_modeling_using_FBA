{
 "cells": [
  {
   "cell_type": "code",
   "execution_count": 1,
   "metadata": {},
   "outputs": [],
   "source": [
    "import numpy as np\n",
    "import pandas as pd\n",
    "from pulp import *"
   ]
  },
  {
   "cell_type": "code",
   "execution_count": 13,
   "metadata": {
    "scrolled": true
   },
   "outputs": [],
   "source": [
    "t = pd.read_csv('../csv/stochastic_matrix.csv', index_col=0).fillna(0)\n",
    "t = t.T.drop([\n",
    "    'C00001',\n",
    "    'C00080',\n",
    "    'C00009'\n",
    "]).T"
   ]
  },
  {
   "cell_type": "code",
   "execution_count": 14,
   "metadata": {},
   "outputs": [],
   "source": [
    "x = [LpVariable(i) for i in t.columns]"
   ]
  },
  {
   "cell_type": "code",
   "execution_count": 15,
   "metadata": {},
   "outputs": [],
   "source": [
    "m = LpProblem(sense=LpMaximize)\n",
    "capacity = 10000\n",
    "\n",
    "m += x[0]"
   ]
  },
  {
   "cell_type": "code",
   "execution_count": 16,
   "metadata": {
    "scrolled": true
   },
   "outputs": [],
   "source": [
    "for i in t.index:\n",
    "    m += np.dot(list(t.T[i]), x) <= capacity\n",
    "    m += np.dot(list(t.T[i]), x) >= capacity"
   ]
  },
  {
   "cell_type": "code",
   "execution_count": 17,
   "metadata": {},
   "outputs": [
    {
     "data": {
      "text/plain": [
       "'Infeasible'"
      ]
     },
     "execution_count": 17,
     "metadata": {},
     "output_type": "execute_result"
    }
   ],
   "source": [
    "pulp.LpStatus[m.solve()]"
   ]
  },
  {
   "cell_type": "code",
   "execution_count": 18,
   "metadata": {},
   "outputs": [
    {
     "name": "stdout",
     "output_type": "stream",
     "text": [
      "-480000.0\n",
      "60000.0\n",
      "0.0\n",
      "-30000.0\n",
      "0.0\n",
      "30000.0\n",
      "-440000.0\n",
      "123333.33\n",
      "106666.67\n",
      "-450000.0\n",
      "-40000.0\n",
      "30000.0\n",
      "0.0\n",
      "-70000.0\n",
      "-3333.3333\n",
      "-96666.667\n",
      "0.0\n",
      "30000.0\n",
      "0.0\n",
      "50000.0\n",
      "-106666.67\n",
      "40000.0\n",
      "36666.667\n",
      "-93333.333\n",
      "0.0\n",
      "66666.667\n",
      "193333.33\n",
      "-100000.0\n",
      "-40000.0\n",
      "-176666.67\n",
      "0.0\n",
      "70000.0\n",
      "0.0\n",
      "-160000.0\n",
      "-6666.6667\n",
      "-170000.0\n",
      "-476666.67\n",
      "23333.333\n",
      "-23333.333\n",
      "30000.0\n",
      "0.0\n",
      "-30000.0\n",
      "0.0\n",
      "-33333.333\n",
      "-60000.0\n",
      "-140000.0\n",
      "-100000.0\n",
      "120000.0\n",
      "3333.3333\n",
      "-200000.0\n",
      "80000.0\n",
      "193333.33\n",
      "13333.333\n",
      "-130000.0\n",
      "130000.0\n",
      "-80000.0\n",
      "80000.0\n",
      "-83333.333\n",
      "136666.67\n",
      "-60000.0\n",
      "70000.0\n",
      "-60000.0\n",
      "0.0\n",
      "10000.0\n",
      "-50000.0\n",
      "-246666.67\n",
      "-40000.0\n",
      "-120000.0\n",
      "-20000.0\n",
      "-16666.667\n",
      "-110000.0\n",
      "80000.0\n",
      "-366666.67\n",
      "-356666.67\n",
      "-446666.67\n",
      "-120000.0\n",
      "80000.0\n",
      "140000.0\n",
      "150000.0\n",
      "0.0\n",
      "40000.0\n",
      "-306666.67\n",
      "0.0\n",
      "0.0\n",
      "0.0\n",
      "-30000.0\n",
      "80000.0\n",
      "26666.667\n",
      "90000.0\n",
      "-340000.0\n",
      "0.0\n",
      "0.0\n",
      "166666.67\n",
      "80000.0\n",
      "0.0\n",
      "30000.0\n",
      "70000.0\n",
      "170000.0\n",
      "60000.0\n",
      "0.0\n",
      "156666.67\n",
      "86666.667\n",
      "-26666.667\n",
      "0.0\n",
      "30000.0\n",
      "0.0\n",
      "30000.0\n"
     ]
    }
   ],
   "source": [
    "for i in x:\n",
    "    print(pulp.value(i))"
   ]
  },
  {
   "cell_type": "code",
   "execution_count": null,
   "metadata": {},
   "outputs": [],
   "source": []
  }
 ],
 "metadata": {
  "kernelspec": {
   "display_name": "Python 3",
   "language": "python",
   "name": "python3"
  },
  "language_info": {
   "codemirror_mode": {
    "name": "ipython",
    "version": 3
   },
   "file_extension": ".py",
   "mimetype": "text/x-python",
   "name": "python",
   "nbconvert_exporter": "python",
   "pygments_lexer": "ipython3",
   "version": "3.6.5"
  }
 },
 "nbformat": 4,
 "nbformat_minor": 2
}
