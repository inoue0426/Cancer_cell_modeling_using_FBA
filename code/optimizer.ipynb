{
 "cells": [
  {
   "cell_type": "code",
   "execution_count": 445,
   "metadata": {},
   "outputs": [],
   "source": [
    "import numpy as np\n",
    "import pandas as pd\n",
    "from pulp import *\n",
    "from IPython.display import Image, display_png"
   ]
  },
  {
   "cell_type": "code",
   "execution_count": 468,
   "metadata": {
    "scrolled": true
   },
   "outputs": [],
   "source": [
    "t = pd.read_csv('../csv/stochastic_matrix.csv', index_col=0).fillna(0)\n",
    "t = t.T.drop([\n",
    "    'C00001', # H2O\n",
    "    'C00080', # H+\n",
    "    'C00009', # Phosphate\n",
    "#     'C00008', # ADP\n",
    "    'C00138', # Reduced ferredoxin\n",
    "    'C00139', # Oxidized ferredoxin\n",
    "    'C00002', # ATP\n",
    "    'C00003', # NAD\n",
    "    'C00004', # NADH\n",
    "    'C00005',\n",
    "    'C00006', \n",
    "    'C00010', \n",
    "    'C00011',\n",
    "#     'C00111',\n",
    "    'C00033',\n",
    "#     'C00036',\n",
    "    'C15602',\n",
    "    'C15603'\n",
    "]).T"
   ]
  },
  {
   "cell_type": "code",
   "execution_count": 469,
   "metadata": {},
   "outputs": [],
   "source": [
    "h = [\n",
    "    'R01786',\n",
    "    'R02740',\n",
    "    'R04779',\n",
    "    'R01070',\n",
    "    'R01061',\n",
    "    'R01512',\n",
    "    'R01518',\n",
    "    'R00658',\n",
    "    'R00200',\n",
    "    'R01015',\n",
    "    'R01196',\n",
    "    'R00351',\n",
    "    'R01325',\n",
    "    'R01900',\n",
    "    'R01899',\n",
    "    'R00268',\n",
    "    'R01197',\n",
    "    'R10343',\n",
    "    'R00341',\n",
    "    'R02164',\n",
    "    'R01082',\n",
    "    'R00342',    \n",
    "    'R00361',  \n",
    "]"
   ]
  },
  {
   "cell_type": "code",
   "execution_count": 470,
   "metadata": {},
   "outputs": [],
   "source": [
    "p = t.T[h].T"
   ]
  },
  {
   "cell_type": "code",
   "execution_count": 471,
   "metadata": {
    "scrolled": true
   },
   "outputs": [],
   "source": [
    "for i in p:\n",
    "    if sum(p[i] != 0) == 0:\n",
    "        p=p.drop(i, axis=1)"
   ]
  },
  {
   "cell_type": "code",
   "execution_count": 472,
   "metadata": {
    "scrolled": true
   },
   "outputs": [],
   "source": [
    "# g  = []\n",
    "# for i in p.columns:\n",
    "#     if sum(p[i] != 0.0) == 1:\n",
    "#         g.append(i)\n",
    "# g"
   ]
  },
  {
   "cell_type": "code",
   "execution_count": 473,
   "metadata": {},
   "outputs": [],
   "source": [
    "# p = p.drop(g, axis=1)"
   ]
  },
  {
   "cell_type": "code",
   "execution_count": 474,
   "metadata": {
    "scrolled": true
   },
   "outputs": [],
   "source": [
    "x = [LpVariable(i) for i in p.columns]"
   ]
  },
  {
   "cell_type": "code",
   "execution_count": 475,
   "metadata": {
    "scrolled": true
   },
   "outputs": [],
   "source": [
    "f = pd.DataFrame([i for i in p.columns])\n",
    "# (f[f[0] == 'C00024'].index)[0]"
   ]
  },
  {
   "cell_type": "code",
   "execution_count": 476,
   "metadata": {},
   "outputs": [],
   "source": [
    "m = LpProblem(sense=LpMaximize)\n",
    "\n",
    "m += x[(f[f[0] == 'C00091'].index)[0]]"
   ]
  },
  {
   "cell_type": "code",
   "execution_count": 477,
   "metadata": {
    "scrolled": true
   },
   "outputs": [],
   "source": [
    "capacity_plus = 100\n",
    "capacity_minus = -100\n",
    "\n",
    "for i in p.index:\n",
    "    m += np.dot(list(p.T[i]), x) <= capacity_plus\n",
    "    m += np.dot(list(p.T[i]), x) >= capacity_minus\n",
    "    \n",
    "m += x[(f[f[0] == 'C00267'].index)[0]] <= capacity_plus"
   ]
  },
  {
   "cell_type": "code",
   "execution_count": 478,
   "metadata": {},
   "outputs": [
    {
     "data": {
      "text/plain": [
       "'Optimal'"
      ]
     },
     "execution_count": 478,
     "metadata": {},
     "output_type": "execute_result"
    }
   ],
   "source": [
    "pulp.LpStatus[m.solve()]"
   ]
  },
  {
   "cell_type": "code",
   "execution_count": 479,
   "metadata": {
    "scrolled": true
   },
   "outputs": [
    {
     "data": {
      "text/plain": [
       "NoName:\n",
       "MAXIMIZE\n",
       "1*C00091 + 0\n",
       "SUBJECT TO\n",
       "_C1: C00008 - C00267 + C00668 <= 100\n",
       "\n",
       "_C2: C00008 - C00267 + C00668 >= -100\n",
       "\n",
       "_C3: - C00668 + C05345 <= 100\n",
       "\n",
       "_C4: - C00668 + C05345 >= -100\n",
       "\n",
       "_C5: C00008 - C05345 + C05378 <= 100\n",
       "\n",
       "_C6: C00008 - C05345 + C05378 >= -100\n",
       "\n",
       "_C7: C00111 + C00118 - C05378 <= 100\n",
       "\n",
       "_C8: C00111 + C00118 - C05378 >= -100\n",
       "\n",
       "_C9: - C00118 + C00236 <= 100\n",
       "\n",
       "_C10: - C00118 + C00236 >= -100\n",
       "\n",
       "_C11: C00008 - C00197 + C00236 <= 100\n",
       "\n",
       "_C12: C00008 - C00197 + C00236 >= -100\n",
       "\n",
       "_C13: C00197 - C00631 <= 100\n",
       "\n",
       "_C14: C00197 - C00631 >= -100\n",
       "\n",
       "_C15: C00074 - C00631 <= 100\n",
       "\n",
       "_C16: C00074 - C00631 >= -100\n",
       "\n",
       "_C17: C00008 - C00022 + C00074 <= 100\n",
       "\n",
       "_C18: C00008 - C00022 + C00074 >= -100\n",
       "\n",
       "_C19: C00111 - C00118 <= 100\n",
       "\n",
       "_C20: C00111 - C00118 >= -100\n",
       "\n",
       "_C21: C00022 - C00024 <= 100\n",
       "\n",
       "_C22: C00022 - C00024 >= -100\n",
       "\n",
       "_C23: C00024 + C00036 - C00158 <= 100\n",
       "\n",
       "_C24: C00024 + C00036 - C00158 >= -100\n",
       "\n",
       "_C25: - C00158 + C00417 <= 100\n",
       "\n",
       "_C26: - C00158 + C00417 >= -100\n",
       "\n",
       "_C27: - C00311 + C00417 <= 100\n",
       "\n",
       "_C28: - C00311 + C00417 >= -100\n",
       "\n",
       "_C29: - C00311 + C05379 <= 100\n",
       "\n",
       "_C30: - C00311 + C05379 >= -100\n",
       "\n",
       "_C31: C00026 - C05379 <= 100\n",
       "\n",
       "_C32: C00026 - C05379 >= -100\n",
       "\n",
       "_C33: C00026 - C00091 <= 100\n",
       "\n",
       "_C34: C00026 - C00091 >= -100\n",
       "\n",
       "_C35: C00024 + C00042 - C00091 <= 100\n",
       "\n",
       "_C36: C00024 + C00042 - C00091 >= -100\n",
       "\n",
       "_C37: C00008 - C00036 + C00074 <= 100\n",
       "\n",
       "_C38: C00008 - C00036 + C00074 >= -100\n",
       "\n",
       "_C39: - C00042 + C00122 <= 100\n",
       "\n",
       "_C40: - C00042 + C00122 >= -100\n",
       "\n",
       "_C41: C00122 - C00149 <= 100\n",
       "\n",
       "_C42: C00122 - C00149 >= -100\n",
       "\n",
       "_C43: C00036 - C00149 <= 100\n",
       "\n",
       "_C44: C00036 - C00149 >= -100\n",
       "\n",
       "_C45: C00036 - C00149 <= 100\n",
       "\n",
       "_C46: C00036 - C00149 >= -100\n",
       "\n",
       "_C47: C00267 <= 100\n",
       "\n",
       "VARIABLES\n",
       "C00008 free Continuous\n",
       "C00022 free Continuous\n",
       "C00024 free Continuous\n",
       "C00026 free Continuous\n",
       "C00036 free Continuous\n",
       "C00042 free Continuous\n",
       "C00074 free Continuous\n",
       "C00091 free Continuous\n",
       "C00111 free Continuous\n",
       "C00118 free Continuous\n",
       "C00122 free Continuous\n",
       "C00149 free Continuous\n",
       "C00158 free Continuous\n",
       "C00197 free Continuous\n",
       "C00236 free Continuous\n",
       "C00267 free Continuous\n",
       "C00311 free Continuous\n",
       "C00417 free Continuous\n",
       "C00631 free Continuous\n",
       "C00668 free Continuous\n",
       "C05345 free Continuous\n",
       "C05378 free Continuous\n",
       "C05379 free Continuous"
      ]
     },
     "execution_count": 479,
     "metadata": {},
     "output_type": "execute_result"
    }
   ],
   "source": [
    "m"
   ]
  },
  {
   "cell_type": "code",
   "execution_count": 480,
   "metadata": {
    "scrolled": true
   },
   "outputs": [
    {
     "data": {
      "text/plain": [
       "1"
      ]
     },
     "execution_count": 480,
     "metadata": {},
     "output_type": "execute_result"
    }
   ],
   "source": [
    "m.status"
   ]
  },
  {
   "cell_type": "code",
   "execution_count": null,
   "metadata": {},
   "outputs": [],
   "source": []
  },
  {
   "cell_type": "code",
   "execution_count": null,
   "metadata": {},
   "outputs": [],
   "source": []
  }
 ],
 "metadata": {
  "kernelspec": {
   "display_name": "Python 3",
   "language": "python",
   "name": "python3"
  },
  "language_info": {
   "codemirror_mode": {
    "name": "ipython",
    "version": 3
   },
   "file_extension": ".py",
   "mimetype": "text/x-python",
   "name": "python",
   "nbconvert_exporter": "python",
   "pygments_lexer": "ipython3",
   "version": "3.6.5"
  }
 },
 "nbformat": 4,
 "nbformat_minor": 2
}
