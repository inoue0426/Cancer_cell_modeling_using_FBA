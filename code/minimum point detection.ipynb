{
 "cells": [
  {
   "cell_type": "code",
   "execution_count": 174,
   "metadata": {},
   "outputs": [],
   "source": [
    "import pandas as pd\n",
    "import numpy as np"
   ]
  },
  {
   "cell_type": "code",
   "execution_count": 175,
   "metadata": {},
   "outputs": [],
   "source": [
    "fba_initial = pd.read_csv('../csv/rate_for_fig.csv', index_col=0)\n",
    "metabolome = pd.read_excel('../result/metabo_mean.xlsx', index_col=0)\n",
    "\n",
    "d = pd.read_csv('../result/slope.csv', index_col=0).T\n",
    "v = pd.DataFrame(pd.read_excel('../result/lac.xlsx').mean()).T\n",
    "v.columns = d.columns\n",
    "slope = pd.concat([d, v])\n",
    "slope = slope.rename(index={0:'Lactate'})\n",
    "slope = pd.concat([\n",
    "    slope, \n",
    "    pd.DataFrame(\n",
    "        [21.78, 12.8, 16.84], \n",
    "        columns=['Doubling Time'], \n",
    "        index=slope.columns).T\n",
    "])"
   ]
  },
  {
   "cell_type": "code",
   "execution_count": 176,
   "metadata": {},
   "outputs": [
    {
     "data": {
      "text/html": [
       "<div>\n",
       "<style scoped>\n",
       "    .dataframe tbody tr th:only-of-type {\n",
       "        vertical-align: middle;\n",
       "    }\n",
       "\n",
       "    .dataframe tbody tr th {\n",
       "        vertical-align: top;\n",
       "    }\n",
       "\n",
       "    .dataframe thead th {\n",
       "        text-align: right;\n",
       "    }\n",
       "</style>\n",
       "<table border=\"1\" class=\"dataframe\">\n",
       "  <thead>\n",
       "    <tr style=\"text-align: right;\">\n",
       "      <th></th>\n",
       "      <th>Control</th>\n",
       "      <th>Clone A</th>\n",
       "      <th>Clone B</th>\n",
       "    </tr>\n",
       "  </thead>\n",
       "  <tbody>\n",
       "    <tr>\n",
       "      <th>Glucose</th>\n",
       "      <td>0.082599</td>\n",
       "      <td>0.041715</td>\n",
       "      <td>0.013963</td>\n",
       "    </tr>\n",
       "    <tr>\n",
       "      <th>Glutamate</th>\n",
       "      <td>0.016972</td>\n",
       "      <td>-0.005134</td>\n",
       "      <td>0.011682</td>\n",
       "    </tr>\n",
       "    <tr>\n",
       "      <th>Lactate</th>\n",
       "      <td>0.636289</td>\n",
       "      <td>3.734983</td>\n",
       "      <td>1.916520</td>\n",
       "    </tr>\n",
       "    <tr>\n",
       "      <th>Doubling Time</th>\n",
       "      <td>21.780000</td>\n",
       "      <td>12.800000</td>\n",
       "      <td>16.840000</td>\n",
       "    </tr>\n",
       "  </tbody>\n",
       "</table>\n",
       "</div>"
      ],
      "text/plain": [
       "                 Control    Clone A    Clone B\n",
       "Glucose         0.082599   0.041715   0.013963\n",
       "Glutamate       0.016972  -0.005134   0.011682\n",
       "Lactate         0.636289   3.734983   1.916520\n",
       "Doubling Time  21.780000  12.800000  16.840000"
      ]
     },
     "execution_count": 176,
     "metadata": {},
     "output_type": "execute_result"
    }
   ],
   "source": [
    "slope"
   ]
  },
  {
   "cell_type": "code",
   "execution_count": 154,
   "metadata": {},
   "outputs": [],
   "source": [
    "slope = slope*100"
   ]
  },
  {
   "cell_type": "code",
   "execution_count": 155,
   "metadata": {},
   "outputs": [],
   "source": [
    "for i in fba_initial.columns:\n",
    "    for q in fba_initial.index:\n",
    "        if fba[i][q] == 0:\n",
    "            fba[i][q] = 1000000"
   ]
  },
  {
   "cell_type": "code",
   "execution_count": 156,
   "metadata": {
    "scrolled": true
   },
   "outputs": [
    {
     "name": "stdout",
     "output_type": "stream",
     "text": [
      "Control: 0.8912655971479501\n"
     ]
    }
   ],
   "source": [
    "g = 10000000\n",
    "params = ''\n",
    "for i in fba.index:\n",
    "#     print(((slope['Control']['Lactate'] - fba['Lactate'][i])**2 + (slope['Control']['Doubling Time'] - fba['Biomass'][i])**2))\n",
    "    if(((slope['Control']['Lactate'] - fba['Lactate'][i])**2 + (slope['Control']['Doubling Time'] - fba['Biomass'][i])**2) < g):\n",
    "        g = ((slope['Control']['Lactate'] - fba['Lactate'][i])**2 + (slope['Control']['Doubling Time'] - fba['Biomass'][i])**2)\n",
    "        params = str(i)\n",
    "\n",
    "print('Control: '+params)"
   ]
  },
  {
   "cell_type": "code",
   "execution_count": 157,
   "metadata": {},
   "outputs": [
    {
     "name": "stdout",
     "output_type": "stream",
     "text": [
      "Clone A: 0.7507507507507507\n"
     ]
    }
   ],
   "source": [
    "g = 10000000\n",
    "params = ''\n",
    "for i in fba.index:\n",
    "#     print(((slope['Control']['Lactate'] - fba['Lactate'][i])**2 + (slope['Control']['Doubling Time'] - fba['Biomass'][i])**2))\n",
    "    if(((slope['Clone A']['Lactate'] - fba['Lactate'][i])**2 + (slope['Clone A']['Doubling Time'] - fba['Biomass'][i])**2) < g):\n",
    "        g = ((slope['Clone A']['Lactate'] - fba['Lactate'][i])**2 + (slope['Clone A']['Doubling Time'] - fba['Biomass'][i])**2)\n",
    "        params = str(i)\n",
    "\n",
    "print('Clone A: '+params)"
   ]
  },
  {
   "cell_type": "code",
   "execution_count": 158,
   "metadata": {
    "scrolled": false
   },
   "outputs": [
    {
     "name": "stdout",
     "output_type": "stream",
     "text": [
      "Clone B: 0.8291873963515755\n"
     ]
    }
   ],
   "source": [
    "g = 10000000\n",
    "params = ''\n",
    "for i in fba.index:\n",
    "#     print(((slope['Control']['Lactate'] - fba['Lactate'][i])**2 + (slope['Control']['Doubling Time'] - fba['Biomass'][i])**2))\n",
    "    if(((slope['Clone B']['Lactate'] - fba['Lactate'][i])**2 + (slope['Clone B']['Doubling Time'] - fba['Biomass'][i])**2) < g):\n",
    "        g = ((slope['Clone B']['Lactate'] - fba['Lactate'][i])**2 + (slope['Clone B']['Doubling Time'] - fba['Biomass'][i])**2)\n",
    "        params = str(i)\n",
    "\n",
    "print('Clone B: '+params)"
   ]
  },
  {
   "cell_type": "code",
   "execution_count": 172,
   "metadata": {},
   "outputs": [
    {
     "data": {
      "text/html": [
       "<div>\n",
       "<style scoped>\n",
       "    .dataframe tbody tr th:only-of-type {\n",
       "        vertical-align: middle;\n",
       "    }\n",
       "\n",
       "    .dataframe tbody tr th {\n",
       "        vertical-align: top;\n",
       "    }\n",
       "\n",
       "    .dataframe thead th {\n",
       "        text-align: right;\n",
       "    }\n",
       "</style>\n",
       "<table border=\"1\" class=\"dataframe\">\n",
       "  <thead>\n",
       "    <tr style=\"text-align: right;\">\n",
       "      <th></th>\n",
       "      <th>Control</th>\n",
       "      <th>Clone A</th>\n",
       "      <th>Clone B</th>\n",
       "    </tr>\n",
       "  </thead>\n",
       "  <tbody>\n",
       "    <tr>\n",
       "      <th>Glucose</th>\n",
       "      <td>8.259862</td>\n",
       "      <td>4.171530</td>\n",
       "      <td>1.396340</td>\n",
       "    </tr>\n",
       "    <tr>\n",
       "      <th>Glutamate</th>\n",
       "      <td>1.697167</td>\n",
       "      <td>-0.513352</td>\n",
       "      <td>1.168155</td>\n",
       "    </tr>\n",
       "    <tr>\n",
       "      <th>Lactate</th>\n",
       "      <td>63.628912</td>\n",
       "      <td>373.498276</td>\n",
       "      <td>191.652047</td>\n",
       "    </tr>\n",
       "    <tr>\n",
       "      <th>Doubling Time</th>\n",
       "      <td>2178.000000</td>\n",
       "      <td>1280.000000</td>\n",
       "      <td>1684.000000</td>\n",
       "    </tr>\n",
       "  </tbody>\n",
       "</table>\n",
       "</div>"
      ],
      "text/plain": [
       "                   Control      Clone A      Clone B\n",
       "Glucose           8.259862     4.171530     1.396340\n",
       "Glutamate         1.697167    -0.513352     1.168155\n",
       "Lactate          63.628912   373.498276   191.652047\n",
       "Doubling Time  2178.000000  1280.000000  1684.000000"
      ]
     },
     "execution_count": 172,
     "metadata": {},
     "output_type": "execute_result"
    }
   ],
   "source": [
    "slope"
   ]
  },
  {
   "cell_type": "code",
   "execution_count": 180,
   "metadata": {},
   "outputs": [
    {
     "data": {
      "image/png": "[encoded data removed]",
      "text/plain": [
       "<Figure size 432x288 with 1 Axes>"
      ]
     },
     "metadata": {
      "needs_background": "light"
     },
     "output_type": "display_data"
    }
   ],
   "source": [
    "g = fba_initial[[\n",
    "    'Lactate', 'Biomass', 'CO2'\n",
    "]].plot()"
   ]
  },
  {
   "cell_type": "code",
   "execution_count": 195,
   "metadata": {},
   "outputs": [
    {
     "data": {
      "text/plain": [
       "Control    1.322645\n",
       "Clone A    3.424035\n",
       "Clone B    0.980217\n",
       "Name: Malic acid, dtype: float64"
      ]
     },
     "execution_count": 195,
     "metadata": {},
     "output_type": "execute_result"
    }
   ],
   "source": [
    "metabolome.T['Malic acid']"
   ]
  },
  {
   "cell_type": "code",
   "execution_count": 182,
   "metadata": {
    "scrolled": true
   },
   "outputs": [
    {
     "name": "stdout",
     "output_type": "stream",
     "text": [
      "Control: 0.9652509652509652\n"
     ]
    }
   ],
   "source": [
    "g = 10000000\n",
    "params = ''\n",
    "for i in fba.index:\n",
    "#     print(((slope['Control']['Lactate'] - fba['Lactate'][i])**2 + (slope['Control']['Doubling Time'] - fba['Biomass'][i])**2))\n",
    "    if(((slope['Control']['Lactate'] - fba['Lactate'][i])**2 + (slope['Control']['Doubling Time'] - fba['Biomass'][i])**2) < g):\n",
    "        g = ((slope['Control']['Lactate'] - fba['Lactate'][i])**2 + (slope['Control']['Doubling Time'] - fba['Biomass'][i])**2)\n",
    "        params = str(i)\n",
    "\n",
    "print('Control: '+params)"
   ]
  },
  {
   "cell_type": "code",
   "execution_count": 183,
   "metadata": {},
   "outputs": [
    {
     "name": "stdout",
     "output_type": "stream",
     "text": [
      "Clone A: 0.9652509652509652\n"
     ]
    }
   ],
   "source": [
    "g = 10000000\n",
    "params = ''\n",
    "for i in fba.index:\n",
    "#     print(((slope['Control']['Lactate'] - fba['Lactate'][i])**2 + (slope['Control']['Doubling Time'] - fba['Biomass'][i])**2))\n",
    "    if(((slope['Clone A']['Lactate'] - fba['Lactate'][i])**2 + (slope['Clone A']['Doubling Time'] - fba['Biomass'][i])**2) < g):\n",
    "        g = ((slope['Clone A']['Lactate'] - fba['Lactate'][i])**2 + (slope['Clone A']['Doubling Time'] - fba['Biomass'][i])**2)\n",
    "        params = str(i)\n",
    "\n",
    "print('Clone A: '+params)"
   ]
  },
  {
   "cell_type": "code",
   "execution_count": 184,
   "metadata": {
    "scrolled": false
   },
   "outputs": [
    {
     "name": "stdout",
     "output_type": "stream",
     "text": [
      "Clone B: 0.9652509652509652\n"
     ]
    }
   ],
   "source": [
    "g = 10000000\n",
    "params = ''\n",
    "for i in fba.index:\n",
    "#     print(((slope['Control']['Lactate'] - fba['Lactate'][i])**2 + (slope['Control']['Doubling Time'] - fba['Biomass'][i])**2))\n",
    "    if(((slope['Clone B']['Lactate'] - fba['Lactate'][i])**2 + (slope['Clone B']['Doubling Time'] - fba['Biomass'][i])**2) < g):\n",
    "        g = ((slope['Clone B']['Lactate'] - fba['Lactate'][i])**2 + (slope['Clone B']['Doubling Time'] - fba['Biomass'][i])**2)\n",
    "        params = str(i)\n",
    "\n",
    "print('Clone B: '+params)"
   ]
  },
  {
   "cell_type": "code",
   "execution_count": 190,
   "metadata": {},
   "outputs": [
    {
     "data": {
      "text/plain": [
       "<matplotlib.axes._subplots.AxesSubplot at 0x7f7c84673390>"
      ]
     },
     "execution_count": 190,
     "metadata": {},
     "output_type": "execute_result"
    },
    {
     "data": {
      "image/png": "[encoded data removed]",
      "text/plain": [
       "<Figure size 432x288 with 1 Axes>"
      ]
     },
     "metadata": {
      "needs_background": "light"
     },
     "output_type": "display_data"
    }
   ],
   "source": [
    "fba_initial[['R00268', 'R00405','Fumarate',]].plot()"
   ]
  },
  {
   "cell_type": "code",
   "execution_count": 189,
   "metadata": {
    "scrolled": false
   },
   "outputs": [
    {
     "data": {
      "text/plain": [
       "<matplotlib.axes._subplots.AxesSubplot at 0x7f7c84673e90>"
      ]
     },
     "execution_count": 189,
     "metadata": {},
     "output_type": "execute_result"
    },
    {
     "data": {
      "image/png": "[encoded data removed]",
      "text/plain": [
       "<Figure size 432x288 with 1 Axes>"
      ]
     },
     "metadata": {
      "needs_background": "light"
     },
     "output_type": "display_data"
    }
   ],
   "source": [
    "fba_initial[['R00351', 'R02740', 'Malate']].plot()"
   ]
  },
  {
   "cell_type": "code",
   "execution_count": null,
   "metadata": {},
   "outputs": [],
   "source": []
  },
  {
   "cell_type": "code",
   "execution_count": null,
   "metadata": {},
   "outputs": [],
   "source": []
  },
  {
   "cell_type": "code",
   "execution_count": null,
   "metadata": {},
   "outputs": [],
   "source": []
  }
 ],
 "metadata": {
  "kernelspec": {
   "display_name": "Python 3",
   "language": "python",
   "name": "python3"
  },
  "language_info": {
   "codemirror_mode": {
    "name": "ipython",
    "version": 3
   },
   "file_extension": ".py",
   "mimetype": "text/x-python",
   "name": "python",
   "nbconvert_exporter": "python",
   "pygments_lexer": "ipython3",
   "version": "3.7.7"
  }
 },
 "nbformat": 4,
 "nbformat_minor": 4
}
