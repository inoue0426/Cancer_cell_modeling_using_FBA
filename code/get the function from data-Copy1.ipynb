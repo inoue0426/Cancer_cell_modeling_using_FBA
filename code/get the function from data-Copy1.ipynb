{
 "cells": [
  {
   "cell_type": "code",
   "execution_count": 10,
   "metadata": {},
   "outputs": [],
   "source": [
    "import numpy as np\n",
    "import pandas as pd\n",
    "import matplotlib as plt\n",
    "import urllib.request\n",
    "from pulp import *\n",
    "from scipy.optimize import fmin\n",
    "\n",
    "%matplotlib inline"
   ]
  },
  {
   "cell_type": "code",
   "execution_count": 3,
   "metadata": {},
   "outputs": [],
   "source": [
    "t = pd.read_csv('./csv/stochastic_matrix.csv', index_col=0).fillna(0)"
   ]
  },
  {
   "cell_type": "code",
   "execution_count": 12,
   "metadata": {},
   "outputs": [],
   "source": [
    "b = pd.read_csv('./result/slope.csv', index_col=0).T\n",
    "v = pd.DataFrame(pd.read_excel('./result/lac.xlsx').mean()).T\n",
    "v.columns = b.columns\n",
    "slope = pd.concat([b, v])\n",
    "slope = slope.rename(index={0:'Lactate'})\n",
    "slope.loc[['NH4']] = slope.loc[['NH4']]*(-1)\n",
    "slope = pd.concat([slope, pd.DataFrame([22, 13, 17], columns=['Doubling Time'] , index=slope.columns).T])"
   ]
  },
  {
   "cell_type": "code",
   "execution_count": 4,
   "metadata": {
    "scrolled": true
   },
   "outputs": [],
   "source": [
    "v = t.T[[\n",
    "    'R00200', 'R00268', 'R00341', 'R00342', 'R00351',\n",
    "    'R00405', 'R00658', 'R00703', 'R01015', 'R01049',\n",
    "    'R01056', 'R01061', 'R01070', 'R01082', 'R01196', \n",
    "    'R01197', 'R01325', 'R01512', 'R01518', 'R01528',\n",
    "    'R01529', 'R01641', 'R01786', 'R01830', 'R01899',\n",
    "    'R01900', 'R02035', 'R02164', 'R02740', 'R04779'\n",
    "]].T\n",
    "\n",
    "for i in v.columns:\n",
    "    if sum(v[i] == 0) == v.shape[0]:\n",
    "        v = v.drop(i, axis=1)\n",
    "        \n",
    "v['C00007'] = pd.Series(np.zeros(v.shape[0]), index=v.index)\n",
    "v['C00033'] = pd.Series(np.zeros(v.shape[0]), index=v.index)\n",
    "v['C00092'] = pd.Series(np.zeros(v.shape[0]), index=v.index)\n",
    "v['C00014'] = pd.Series(np.zeros(v.shape[0]), index=v.index)\n",
    "v['C00025'] = pd.Series(np.zeros(v.shape[0]), index=v.index)\n",
    "\n",
    "# v['C00279'] = pd.Series(np.zeros(v.shape[0]), index=v.index)"
   ]
  },
  {
   "cell_type": "code",
   "execution_count": 5,
   "metadata": {},
   "outputs": [],
   "source": [
    "df = v.T\n",
    "df['Glucose_input'] =  pd.Series(np.zeros(df.shape[0]), index=df.index)\n",
    "df['Glucose_input']['C00267'] = 1\n",
    "\n",
    "df['Oxygen_input'] =  pd.Series(np.zeros(df.shape[0]), index=df.index)\n",
    "df['Oxygen_input']['C00007'] = 1\n",
    "\n",
    "df['CO2_output'] =  pd.Series(np.zeros(df.shape[0]), index=df.index)\n",
    "df['CO2_output']['C00011'] = -1\n",
    "\n",
    "df['Lactate_output'] =  pd.Series(np.zeros(df.shape[0]), index=df.index)\n",
    "df['Lactate_output']['C00186'] = -1\n",
    "\n",
    "df['Acetate_output'] =  pd.Series(np.zeros(df.shape[0]), index=df.index)\n",
    "df['Acetate_output']['C00033'] = -1\n",
    "\n",
    "df['Glutamate_input'] =  pd.Series(np.zeros(df.shape[0]), index=df.index)\n",
    "df['Glutamate_input']['C00025'] = 1\n",
    "\n",
    "df['Ammonia_output'] =  pd.Series(np.zeros(df.shape[0]), index=df.index)\n",
    "df['Ammonia_output']['C00014'] = -1\n",
    "\n",
    "df['Glu_Exchange'] =  pd.Series(np.zeros(df.shape[0]), index=df.index)\n",
    "df['Glu_Exchange']['C00267'] = -1\n",
    "df['Glu_Exchange']['C00092'] = 1\n",
    "\n",
    "df['acetyl_CoA_hydrolase'] =  pd.Series(np.zeros(df.shape[0]), index=df.index)\n",
    "df['acetyl_CoA_hydrolase']['C00024'] = -1\n",
    "df['acetyl_CoA_hydrolase']['C00001'] = -1\n",
    "df['acetyl_CoA_hydrolase']['C00010'] = 1\n",
    "df['acetyl_CoA_hydrolase']['C00033'] = 1\n",
    "\n",
    "df['NADP_Exchange'] =  pd.Series(np.zeros(df.shape[0]), index=df.index)\n",
    "df['NADP_Exchange']['C00005'] = -1\n",
    "df['NADP_Exchange']['C00003'] = -1\n",
    "df['NADP_Exchange']['C00006'] = 1\n",
    "df['NADP_Exchange']['C00004'] = 1\n",
    "\n",
    "df['ADP_Exchange'] =  pd.Series(np.zeros(df.shape[0]), index=df.index)\n",
    "df['ADP_Exchange']['C00002'] = -1\n",
    "df['ADP_Exchange']['C00008'] = 1\n",
    "\n",
    "df['AMP_Exchange'] =  pd.Series(np.zeros(df.shape[0]), index=df.index)\n",
    "df['AMP_Exchange']['C00002'] = -1\n",
    "df['AMP_Exchange']['C00020'] = -1\n",
    "df['AMP_Exchange']['C00008'] = 2\n",
    "\n",
    "df['R00835'] =  pd.Series(np.zeros(df.shape[0]), index=df.index)\n",
    "df['R00835']['C00092'] = -1\n",
    "df['R00835']['C00006'] = -1\n",
    "df['R00835']['C01236'] = 1\n",
    "df['R00835']['C00005'] = 1\n",
    "df['R00835']['C00080'] = 1\n",
    "\n",
    "df['R08575'] =  pd.Series(np.zeros(df.shape[0]), index=df.index)\n",
    "df['R08575']['C05382'] = -1\n",
    "df['R08575']['C00118'] = -1\n",
    "df['R08575']['C00279'] = 1\n",
    "df['R08575']['C00085'] = 1\n",
    "\n",
    "df['R02164']['C00004'] = -1\n",
    "df['R02164']['C00003'] = 1\n",
    "df['R02164']['C15602'] = 0\n",
    "df['R02164']['C15603'] = 0\n",
    "\n",
    "df['R00243'] =  pd.Series(np.zeros(df.shape[0]), index=df.index)\n",
    "df['R00243']['C00025'] = -1\n",
    "df['R00243']['C00003'] = -1\n",
    "df['R00243']['C00001'] = -1\n",
    "\n",
    "df['R00243']['C00026'] = 1\n",
    "df['R00243']['C00014'] = 1\n",
    "df['R00243']['C00004'] = 1\n",
    "df['R00243']['C00080'] = 1\n",
    "\n",
    "# Oxophos\n",
    "df['Oxophos'] =  pd.Series(np.zeros(df.shape[0]), index=df.index)\n",
    "df['Oxophos']['C00004'] = -2\n",
    "df['Oxophos']['C00007'] = -1\n",
    "df['Oxophos']['C00008'] = -5\n",
    "df['Oxophos']['C00002'] = 5\n",
    "df['Oxophos']['C00003'] = 2\n",
    "df['Oxophos']['C00011'] = 1"
   ]
  },
  {
   "cell_type": "code",
   "execution_count": 7,
   "metadata": {
    "scrolled": true
   },
   "outputs": [],
   "source": [
    "BIOMASS = pd.read_csv('./csv/amino_acid.csv',index_col=0)\n",
    "df_Biomass =  pd.Series(np.zeros(df.shape[0]), index=df.index)\n",
    "\n",
    "for i in BIOMASS.index:\n",
    "    df_Biomass[BIOMASS.T[i]['C_num']] = BIOMASS.T[i]['flux']\n",
    "    \n",
    "df_Biomass['C00668'] = -0.27519\n",
    "df_Biomass['C00119'] = (-0.039036) + (-0.036117) + (-0.053446)"
   ]
  },
  {
   "cell_type": "code",
   "execution_count": 8,
   "metadata": {},
   "outputs": [],
   "source": [
    "df_new = pd.concat([df_Biomass.T, df], axis=1)\n",
    "df_new = df_new.rename(columns={0: 'BIOMASS'})\n",
    "df_new = df_new.drop([\n",
    "    'C00001','C00009','C00080','C00138','C00139','C15602','C15603', \n",
    "#     'C00231'\n",
    "])"
   ]
  },
  {
   "cell_type": "code",
   "execution_count": 9,
   "metadata": {
    "scrolled": true
   },
   "outputs": [],
   "source": [
    "def fba(glc, glu):\n",
    "    x = []\n",
    "    for i in df_new.columns:\n",
    "        if (\n",
    "                (i=='Oxophos') or (i=='R01899') or (i=='R00268') or (i=='R10343') or (i=='R02164') or (i=='R00835') or (i=='R02035') or\n",
    "                (i=='CO2') or (i == 'Lactate') or (i == 'Acetate') or (i == 'Succinate') or (i == 'Malate') or (i=='ATP_Exchange') or (i=='AMP_Exchange') or\n",
    "                (i=='Glutamate_output') or (i=='CO2_output') or  (i=='Lactate_output') or (i=='Glutamate_output') or (i=='Ammonia_output')\n",
    "        ):\n",
    "            x.append(LpVariable(i, lowBound=0,upBound=10000, cat='Continuous'))\n",
    "\n",
    "        elif (i=='BIOMASS'):\n",
    "            x.append(LpVariable(i, lowBound=0, upBound=100, cat='Continuous'))\n",
    "        \n",
    "        elif (i=='Oxygen_input'):\n",
    "            x.append(LpVariable(i, lowBound=0, upBound=10000, cat='Continuous'))\n",
    "        \n",
    "        elif (i=='Glucose_input'):\n",
    "            x.append(LpVariable(i, lowBound=0, upBound=glc, cat='Continuous'))\n",
    "\n",
    "        elif (i=='Glutamate_input'):\n",
    "            x.append(LpVariable(i, lowBound=0, upBound=glu, cat='Continuous'))\n",
    "              \n",
    "        elif (\n",
    "            (i=='Succinate_output') or (i=='Malate_output') or (i=='Fumarate_output') or (i=='Acetate_output')\n",
    "        ):\n",
    "            x.append(LpVariable(i, lowBound=0, upBound=50, cat='Continuous'))\n",
    "                \n",
    "        elif (i=='R00200') or (i=='R01196') or (i=='R01197') or (i=='R00405'):\n",
    "            x.append(LpVariable(i, lowBound=-10000, upBound=0, cat='Continuous'))\n",
    "\n",
    "        else:\n",
    "            x.append(LpVariable(i, lowBound=-10000, upBound=10000, cat='Continuous'))\n",
    "\n",
    "    m = LpProblem(sense=LpMaximize)\n",
    "    m += x[0]\n",
    "\n",
    "    for i in np.dot(df_new, x):\n",
    "        m += i == 0\n",
    "\n",
    "    status = m.solve()\n",
    "    print(LpStatus[status])\n",
    "\n",
    "    y = []\n",
    "    for i in x:\n",
    "        y.append(i.value())\n",
    "\n",
    "    j = pd.DataFrame(y, index=[str(i) for i in x]).T\n",
    "    \n",
    "    return np.array([j['BIOMASS'][0], j['Lactate_output'][0], j['Ammonia_output'][0]])"
   ]
  },
  {
   "cell_type": "code",
   "execution_count": 14,
   "metadata": {},
   "outputs": [
    {
     "data": {
      "text/html": [
       "<div>\n",
       "<style scoped>\n",
       "    .dataframe tbody tr th:only-of-type {\n",
       "        vertical-align: middle;\n",
       "    }\n",
       "\n",
       "    .dataframe tbody tr th {\n",
       "        vertical-align: top;\n",
       "    }\n",
       "\n",
       "    .dataframe thead th {\n",
       "        text-align: right;\n",
       "    }\n",
       "</style>\n",
       "<table border=\"1\" class=\"dataframe\">\n",
       "  <thead>\n",
       "    <tr style=\"text-align: right;\">\n",
       "      <th></th>\n",
       "      <th>Control</th>\n",
       "      <th>Clone A</th>\n",
       "      <th>Clone B</th>\n",
       "    </tr>\n",
       "  </thead>\n",
       "  <tbody>\n",
       "    <tr>\n",
       "      <th>Glucose</th>\n",
       "      <td>0.069172</td>\n",
       "      <td>0.016568</td>\n",
       "      <td>0.041994</td>\n",
       "    </tr>\n",
       "    <tr>\n",
       "      <th>Glutamate</th>\n",
       "      <td>0.014576</td>\n",
       "      <td>0.004592</td>\n",
       "      <td>0.009612</td>\n",
       "    </tr>\n",
       "    <tr>\n",
       "      <th>NH4</th>\n",
       "      <td>0.022709</td>\n",
       "      <td>0.004816</td>\n",
       "      <td>0.013125</td>\n",
       "    </tr>\n",
       "    <tr>\n",
       "      <th>Lactate</th>\n",
       "      <td>0.636289</td>\n",
       "      <td>3.734983</td>\n",
       "      <td>1.916520</td>\n",
       "    </tr>\n",
       "    <tr>\n",
       "      <th>Doubling Time</th>\n",
       "      <td>22.000000</td>\n",
       "      <td>13.000000</td>\n",
       "      <td>17.000000</td>\n",
       "    </tr>\n",
       "  </tbody>\n",
       "</table>\n",
       "</div>"
      ],
      "text/plain": [
       "                 Control    Clone A    Clone B\n",
       "Glucose         0.069172   0.016568   0.041994\n",
       "Glutamate       0.014576   0.004592   0.009612\n",
       "NH4             0.022709   0.004816   0.013125\n",
       "Lactate         0.636289   3.734983   1.916520\n",
       "Doubling Time  22.000000  13.000000  17.000000"
      ]
     },
     "execution_count": 14,
     "metadata": {},
     "output_type": "execute_result"
    }
   ],
   "source": [
    "slope"
   ]
  },
  {
   "cell_type": "code",
   "execution_count": 16,
   "metadata": {},
   "outputs": [],
   "source": [
    "### glc, glu が変数\n",
    "\n",
    "def f(glc, glu):\n",
    "    w = pd.DataFrame([\n",
    "        fba(glc[0], glu[0]),\n",
    "        fba(glc[1], glu[1]),\n",
    "        fba(glc[2], glu[2])\n",
    "    ], \n",
    "        index=['Con', 'CloneA', 'CloneB'], \n",
    "        columns=['Biomass', 'Lactate', 'NH4']\n",
    "    )\n",
    "    \n",
    "    cor = (\n",
    "        sum(np.corrcoef(w['Biomass'], slope.T['Doubling Time'])) + \n",
    "        sum(np.corrcoef(w['NH4'], slope.T['NH4'])) + \n",
    "        sum(np.corrcoef(w['Lactate'], slope.T['Lactate']))\n",
    "    )\n",
    "    return cor"
   ]
  },
  {
   "cell_type": "code",
   "execution_count": 24,
   "metadata": {
    "scrolled": true
   },
   "outputs": [
    {
     "ename": "ValueError",
     "evalue": "Length of passed values is 1, index implies 3",
     "output_type": "error",
     "traceback": [
      "\u001b[0;31m---------------------------------------------------------------------------\u001b[0m",
      "\u001b[0;31mValueError\u001b[0m                                Traceback (most recent call last)",
      "\u001b[0;32m<ipython-input-24-245dc5de155f>\u001b[0m in \u001b[0;36m<module>\u001b[0;34m()\u001b[0m\n\u001b[0;32m----> 1\u001b[0;31m \u001b[0mfmin\u001b[0m\u001b[0;34m(\u001b[0m\u001b[0mf\u001b[0m\u001b[0;34m,\u001b[0m \u001b[0mslope\u001b[0m\u001b[0;34m.\u001b[0m\u001b[0mT\u001b[0m\u001b[0;34m[\u001b[0m\u001b[0;34m'Glucose'\u001b[0m\u001b[0;34m]\u001b[0m\u001b[0;34m,\u001b[0m \u001b[0mslope\u001b[0m\u001b[0;34m.\u001b[0m\u001b[0mT\u001b[0m\u001b[0;34m[\u001b[0m\u001b[0;34m'Glutamate'\u001b[0m\u001b[0;34m]\u001b[0m\u001b[0;34m)\u001b[0m\u001b[0;34m\u001b[0m\u001b[0m\n\u001b[0m",
      "\u001b[0;32m~/.pyenv/versions/3.6.5/lib/python3.6/site-packages/scipy/optimize/optimize.py\u001b[0m in \u001b[0;36mfmin\u001b[0;34m(func, x0, args, xtol, ftol, maxiter, maxfun, full_output, disp, retall, callback, initial_simplex)\u001b[0m\n\u001b[1;32m    407\u001b[0m             'initial_simplex': initial_simplex}\n\u001b[1;32m    408\u001b[0m \u001b[0;34m\u001b[0m\u001b[0m\n\u001b[0;32m--> 409\u001b[0;31m     \u001b[0mres\u001b[0m \u001b[0;34m=\u001b[0m \u001b[0m_minimize_neldermead\u001b[0m\u001b[0;34m(\u001b[0m\u001b[0mfunc\u001b[0m\u001b[0;34m,\u001b[0m \u001b[0mx0\u001b[0m\u001b[0;34m,\u001b[0m \u001b[0margs\u001b[0m\u001b[0;34m,\u001b[0m \u001b[0mcallback\u001b[0m\u001b[0;34m=\u001b[0m\u001b[0mcallback\u001b[0m\u001b[0;34m,\u001b[0m \u001b[0;34m**\u001b[0m\u001b[0mopts\u001b[0m\u001b[0;34m)\u001b[0m\u001b[0;34m\u001b[0m\u001b[0m\n\u001b[0m\u001b[1;32m    410\u001b[0m     \u001b[0;32mif\u001b[0m \u001b[0mfull_output\u001b[0m\u001b[0;34m:\u001b[0m\u001b[0;34m\u001b[0m\u001b[0m\n\u001b[1;32m    411\u001b[0m         \u001b[0mretlist\u001b[0m \u001b[0;34m=\u001b[0m \u001b[0mres\u001b[0m\u001b[0;34m[\u001b[0m\u001b[0;34m'x'\u001b[0m\u001b[0;34m]\u001b[0m\u001b[0;34m,\u001b[0m \u001b[0mres\u001b[0m\u001b[0;34m[\u001b[0m\u001b[0;34m'fun'\u001b[0m\u001b[0;34m]\u001b[0m\u001b[0;34m,\u001b[0m \u001b[0mres\u001b[0m\u001b[0;34m[\u001b[0m\u001b[0;34m'nit'\u001b[0m\u001b[0;34m]\u001b[0m\u001b[0;34m,\u001b[0m \u001b[0mres\u001b[0m\u001b[0;34m[\u001b[0m\u001b[0;34m'nfev'\u001b[0m\u001b[0;34m]\u001b[0m\u001b[0;34m,\u001b[0m \u001b[0mres\u001b[0m\u001b[0;34m[\u001b[0m\u001b[0;34m'status'\u001b[0m\u001b[0;34m]\u001b[0m\u001b[0;34m\u001b[0m\u001b[0m\n",
      "\u001b[0;32m~/.pyenv/versions/3.6.5/lib/python3.6/site-packages/scipy/optimize/optimize.py\u001b[0m in \u001b[0;36m_minimize_neldermead\u001b[0;34m(func, x0, args, callback, maxiter, maxfev, disp, return_all, initial_simplex, xatol, fatol, adaptive, **unknown_options)\u001b[0m\n\u001b[1;32m    550\u001b[0m \u001b[0;34m\u001b[0m\u001b[0m\n\u001b[1;32m    551\u001b[0m     \u001b[0;32mfor\u001b[0m \u001b[0mk\u001b[0m \u001b[0;32min\u001b[0m \u001b[0mrange\u001b[0m\u001b[0;34m(\u001b[0m\u001b[0mN\u001b[0m \u001b[0;34m+\u001b[0m \u001b[0;36m1\u001b[0m\u001b[0;34m)\u001b[0m\u001b[0;34m:\u001b[0m\u001b[0;34m\u001b[0m\u001b[0m\n\u001b[0;32m--> 552\u001b[0;31m         \u001b[0mfsim\u001b[0m\u001b[0;34m[\u001b[0m\u001b[0mk\u001b[0m\u001b[0;34m]\u001b[0m \u001b[0;34m=\u001b[0m \u001b[0mfunc\u001b[0m\u001b[0;34m(\u001b[0m\u001b[0msim\u001b[0m\u001b[0;34m[\u001b[0m\u001b[0mk\u001b[0m\u001b[0;34m]\u001b[0m\u001b[0;34m)\u001b[0m\u001b[0;34m\u001b[0m\u001b[0m\n\u001b[0m\u001b[1;32m    553\u001b[0m \u001b[0;34m\u001b[0m\u001b[0m\n\u001b[1;32m    554\u001b[0m     \u001b[0mind\u001b[0m \u001b[0;34m=\u001b[0m \u001b[0mnumpy\u001b[0m\u001b[0;34m.\u001b[0m\u001b[0margsort\u001b[0m\u001b[0;34m(\u001b[0m\u001b[0mfsim\u001b[0m\u001b[0;34m)\u001b[0m\u001b[0;34m\u001b[0m\u001b[0m\n",
      "\u001b[0;32m~/.pyenv/versions/3.6.5/lib/python3.6/site-packages/scipy/optimize/optimize.py\u001b[0m in \u001b[0;36mfunction_wrapper\u001b[0;34m(*wrapper_args)\u001b[0m\n\u001b[1;32m    291\u001b[0m     \u001b[0;32mdef\u001b[0m \u001b[0mfunction_wrapper\u001b[0m\u001b[0;34m(\u001b[0m\u001b[0;34m*\u001b[0m\u001b[0mwrapper_args\u001b[0m\u001b[0;34m)\u001b[0m\u001b[0;34m:\u001b[0m\u001b[0;34m\u001b[0m\u001b[0m\n\u001b[1;32m    292\u001b[0m         \u001b[0mncalls\u001b[0m\u001b[0;34m[\u001b[0m\u001b[0;36m0\u001b[0m\u001b[0;34m]\u001b[0m \u001b[0;34m+=\u001b[0m \u001b[0;36m1\u001b[0m\u001b[0;34m\u001b[0m\u001b[0m\n\u001b[0;32m--> 293\u001b[0;31m         \u001b[0;32mreturn\u001b[0m \u001b[0mfunction\u001b[0m\u001b[0;34m(\u001b[0m\u001b[0;34m*\u001b[0m\u001b[0;34m(\u001b[0m\u001b[0mwrapper_args\u001b[0m \u001b[0;34m+\u001b[0m \u001b[0margs\u001b[0m\u001b[0;34m)\u001b[0m\u001b[0;34m)\u001b[0m\u001b[0;34m\u001b[0m\u001b[0m\n\u001b[0m\u001b[1;32m    294\u001b[0m \u001b[0;34m\u001b[0m\u001b[0m\n\u001b[1;32m    295\u001b[0m     \u001b[0;32mreturn\u001b[0m \u001b[0mncalls\u001b[0m\u001b[0;34m,\u001b[0m \u001b[0mfunction_wrapper\u001b[0m\u001b[0;34m\u001b[0m\u001b[0m\n",
      "\u001b[0;32m~/.pyenv/versions/3.6.5/lib/python3.6/site-packages/pandas/core/ops.py\u001b[0m in \u001b[0;36mwrapper\u001b[0;34m(left, right)\u001b[0m\n\u001b[1;32m   1069\u001b[0m         \u001b[0mresult\u001b[0m \u001b[0;34m=\u001b[0m \u001b[0msafe_na_op\u001b[0m\u001b[0;34m(\u001b[0m\u001b[0mlvalues\u001b[0m\u001b[0;34m,\u001b[0m \u001b[0mrvalues\u001b[0m\u001b[0;34m)\u001b[0m\u001b[0;34m\u001b[0m\u001b[0m\n\u001b[1;32m   1070\u001b[0m         return construct_result(left, result,\n\u001b[0;32m-> 1071\u001b[0;31m                                 index=left.index, name=res_name, dtype=None)\n\u001b[0m\u001b[1;32m   1072\u001b[0m \u001b[0;34m\u001b[0m\u001b[0m\n\u001b[1;32m   1073\u001b[0m     \u001b[0;32mreturn\u001b[0m \u001b[0mwrapper\u001b[0m\u001b[0;34m\u001b[0m\u001b[0m\n",
      "\u001b[0;32m~/.pyenv/versions/3.6.5/lib/python3.6/site-packages/pandas/core/ops.py\u001b[0m in \u001b[0;36m_construct_result\u001b[0;34m(left, result, index, name, dtype)\u001b[0m\n\u001b[1;32m    978\u001b[0m     \u001b[0;32mnot\u001b[0m \u001b[0mbe\u001b[0m \u001b[0menough\u001b[0m\u001b[0;34m;\u001b[0m \u001b[0mwe\u001b[0m \u001b[0mstill\u001b[0m \u001b[0mneed\u001b[0m \u001b[0mto\u001b[0m \u001b[0moverride\u001b[0m \u001b[0mthe\u001b[0m \u001b[0mname\u001b[0m \u001b[0mattribute\u001b[0m\u001b[0;34m.\u001b[0m\u001b[0;34m\u001b[0m\u001b[0m\n\u001b[1;32m    979\u001b[0m     \"\"\"\n\u001b[0;32m--> 980\u001b[0;31m     \u001b[0mout\u001b[0m \u001b[0;34m=\u001b[0m \u001b[0mleft\u001b[0m\u001b[0;34m.\u001b[0m\u001b[0m_constructor\u001b[0m\u001b[0;34m(\u001b[0m\u001b[0mresult\u001b[0m\u001b[0;34m,\u001b[0m \u001b[0mindex\u001b[0m\u001b[0;34m=\u001b[0m\u001b[0mindex\u001b[0m\u001b[0;34m,\u001b[0m \u001b[0mdtype\u001b[0m\u001b[0;34m=\u001b[0m\u001b[0mdtype\u001b[0m\u001b[0;34m)\u001b[0m\u001b[0;34m\u001b[0m\u001b[0m\n\u001b[0m\u001b[1;32m    981\u001b[0m \u001b[0;34m\u001b[0m\u001b[0m\n\u001b[1;32m    982\u001b[0m     \u001b[0mout\u001b[0m\u001b[0;34m.\u001b[0m\u001b[0mname\u001b[0m \u001b[0;34m=\u001b[0m \u001b[0mname\u001b[0m\u001b[0;34m\u001b[0m\u001b[0m\n",
      "\u001b[0;32m~/.pyenv/versions/3.6.5/lib/python3.6/site-packages/pandas/core/series.py\u001b[0m in \u001b[0;36m__init__\u001b[0;34m(self, data, index, dtype, name, copy, fastpath)\u001b[0m\n\u001b[1;32m    260\u001b[0m                             \u001b[0;34m'Length of passed values is {val}, '\u001b[0m\u001b[0;34m\u001b[0m\u001b[0m\n\u001b[1;32m    261\u001b[0m                             \u001b[0;34m'index implies {ind}'\u001b[0m\u001b[0;34m\u001b[0m\u001b[0m\n\u001b[0;32m--> 262\u001b[0;31m                             .format(val=len(data), ind=len(index)))\n\u001b[0m\u001b[1;32m    263\u001b[0m                 \u001b[0;32mexcept\u001b[0m \u001b[0mTypeError\u001b[0m\u001b[0;34m:\u001b[0m\u001b[0;34m\u001b[0m\u001b[0m\n\u001b[1;32m    264\u001b[0m                     \u001b[0;32mpass\u001b[0m\u001b[0;34m\u001b[0m\u001b[0m\n",
      "\u001b[0;31mValueError\u001b[0m: Length of passed values is 1, index implies 3"
     ]
    }
   ],
   "source": [
    "fmin(f, slope.T['Glucose'], slope.T['Glutamate'])"
   ]
  },
  {
   "cell_type": "code",
   "execution_count": 22,
   "metadata": {},
   "outputs": [
    {
     "data": {
      "text/plain": [
       "array([[0.06917222, 0.01656768, 0.04199444],\n",
       "       [0.01457633, 0.00459163, 0.00961207]])"
      ]
     },
     "execution_count": 22,
     "metadata": {},
     "output_type": "execute_result"
    }
   ],
   "source": []
  }
 ],
 "metadata": {
  "kernelspec": {
   "display_name": "Python 3",
   "language": "python",
   "name": "python3"
  },
  "language_info": {
   "codemirror_mode": {
    "name": "ipython",
    "version": 3
   },
   "file_extension": ".py",
   "mimetype": "text/x-python",
   "name": "python",
   "nbconvert_exporter": "python",
   "pygments_lexer": "ipython3",
   "version": "3.6.5"
  }
 },
 "nbformat": 4,
 "nbformat_minor": 2
}
