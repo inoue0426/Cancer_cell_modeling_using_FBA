{
 "cells": [
  {
   "cell_type": "code",
   "execution_count": 1,
   "metadata": {},
   "outputs": [],
   "source": [
    "import pandas as pd\n",
    "import numpy as np\n",
    "import matplotlib.pyplot as plt"
   ]
  },
  {
   "cell_type": "code",
   "execution_count": 2,
   "metadata": {},
   "outputs": [],
   "source": [
    "through = pd.read_csv('./result/throughput.csv', index_col=0)\n",
    "output = pd.read_csv('./result/output.csv', index_col=0)"
   ]
  },
  {
   "cell_type": "code",
   "execution_count": 3,
   "metadata": {},
   "outputs": [],
   "source": [
    "full = pd.concat([\n",
    "    output,\n",
    "    through\n",
    "], axis=1)\n",
    "\n",
    "full = full.rename(\n",
    "    columns={\n",
    "        'R01049': 'PRPP', \n",
    "        'R00268': 'amino_acid', \n",
    "        'R00351': 'Citric acid', \n",
    "        'R02740': 'Fructose 6-phosphate',\n",
    "        'Lactate_output': 'Lactate',\n",
    "        'Glucose_input': 'Glucose',\n",
    "        'Biomass': 'Doubling Time'\n",
    "    }\n",
    ")"
   ]
  },
  {
   "cell_type": "code",
   "execution_count": 4,
   "metadata": {
    "scrolled": true
   },
   "outputs": [
    {
     "data": {
      "text/plain": [
       "<matplotlib.axes._subplots.AxesSubplot at 0x7f2b4dc8b350>"
      ]
     },
     "execution_count": 4,
     "metadata": {},
     "output_type": "execute_result"
    },
    {
     "data": {
      "image/png": "[encoded data removed]",
      "text/plain": [
       "<Figure size 432x288 with 1 Axes>"
      ]
     },
     "metadata": {
      "needs_background": "light"
     },
     "output_type": "display_data"
    }
   ],
   "source": [
    "full.plot()"
   ]
  },
  {
   "cell_type": "code",
   "execution_count": 5,
   "metadata": {},
   "outputs": [],
   "source": [
    "# full = full[(full.Lactate_output != 0) & (full.Glucose_input != 0) & (full.R00268 != 0) & (full.R00351 != 0)]"
   ]
  },
  {
   "cell_type": "code",
   "execution_count": 6,
   "metadata": {},
   "outputs": [
    {
     "data": {
      "text/html": [
       "<div>\n",
       "<style scoped>\n",
       "    .dataframe tbody tr th:only-of-type {\n",
       "        vertical-align: middle;\n",
       "    }\n",
       "\n",
       "    .dataframe tbody tr th {\n",
       "        vertical-align: top;\n",
       "    }\n",
       "\n",
       "    .dataframe thead th {\n",
       "        text-align: right;\n",
       "    }\n",
       "</style>\n",
       "<table border=\"1\" class=\"dataframe\">\n",
       "  <thead>\n",
       "    <tr style=\"text-align: right;\">\n",
       "      <th></th>\n",
       "      <th>Lactate</th>\n",
       "      <th>Glucose</th>\n",
       "      <th>Doubling Time</th>\n",
       "      <th>PRPP</th>\n",
       "      <th>amino_acid</th>\n",
       "      <th>Citric acid</th>\n",
       "      <th>Fructose 6-phosphate</th>\n",
       "    </tr>\n",
       "  </thead>\n",
       "  <tbody>\n",
       "    <tr>\n",
       "      <th>count</th>\n",
       "      <td>917.000000</td>\n",
       "      <td>917.000000</td>\n",
       "      <td>917.000000</td>\n",
       "      <td>917.000000</td>\n",
       "      <td>917.000000</td>\n",
       "      <td>917.000000</td>\n",
       "      <td>917.000000</td>\n",
       "    </tr>\n",
       "    <tr>\n",
       "      <th>mean</th>\n",
       "      <td>509.398958</td>\n",
       "      <td>592.000000</td>\n",
       "      <td>168.916202</td>\n",
       "      <td>21.722455</td>\n",
       "      <td>19.605816</td>\n",
       "      <td>-19.605816</td>\n",
       "      <td>523.793499</td>\n",
       "    </tr>\n",
       "    <tr>\n",
       "      <th>std</th>\n",
       "      <td>399.010129</td>\n",
       "      <td>264.859397</td>\n",
       "      <td>41.656467</td>\n",
       "      <td>5.356980</td>\n",
       "      <td>54.986572</td>\n",
       "      <td>54.986572</td>\n",
       "      <td>276.031543</td>\n",
       "    </tr>\n",
       "    <tr>\n",
       "      <th>min</th>\n",
       "      <td>0.000000</td>\n",
       "      <td>134.000000</td>\n",
       "      <td>0.000000</td>\n",
       "      <td>0.000000</td>\n",
       "      <td>0.000000</td>\n",
       "      <td>-300.000000</td>\n",
       "      <td>58.479417</td>\n",
       "    </tr>\n",
       "    <tr>\n",
       "      <th>25%</th>\n",
       "      <td>59.237686</td>\n",
       "      <td>363.000000</td>\n",
       "      <td>187.029820</td>\n",
       "      <td>24.051848</td>\n",
       "      <td>0.000000</td>\n",
       "      <td>0.000000</td>\n",
       "      <td>287.479420</td>\n",
       "    </tr>\n",
       "    <tr>\n",
       "      <th>50%</th>\n",
       "      <td>517.237690</td>\n",
       "      <td>592.000000</td>\n",
       "      <td>187.029820</td>\n",
       "      <td>24.051848</td>\n",
       "      <td>0.000000</td>\n",
       "      <td>0.000000</td>\n",
       "      <td>516.479420</td>\n",
       "    </tr>\n",
       "    <tr>\n",
       "      <th>75%</th>\n",
       "      <td>975.237690</td>\n",
       "      <td>821.000000</td>\n",
       "      <td>187.029820</td>\n",
       "      <td>24.051848</td>\n",
       "      <td>0.000000</td>\n",
       "      <td>0.000000</td>\n",
       "      <td>745.479420</td>\n",
       "    </tr>\n",
       "    <tr>\n",
       "      <th>max</th>\n",
       "      <td>1000.000000</td>\n",
       "      <td>1050.000000</td>\n",
       "      <td>187.029820</td>\n",
       "      <td>24.051848</td>\n",
       "      <td>300.000000</td>\n",
       "      <td>0.000000</td>\n",
       "      <td>1050.000000</td>\n",
       "    </tr>\n",
       "  </tbody>\n",
       "</table>\n",
       "</div>"
      ],
      "text/plain": [
       "           Lactate      Glucose  Doubling Time        PRPP  amino_acid  \\\n",
       "count   917.000000   917.000000     917.000000  917.000000  917.000000   \n",
       "mean    509.398958   592.000000     168.916202   21.722455   19.605816   \n",
       "std     399.010129   264.859397      41.656467    5.356980   54.986572   \n",
       "min       0.000000   134.000000       0.000000    0.000000    0.000000   \n",
       "25%      59.237686   363.000000     187.029820   24.051848    0.000000   \n",
       "50%     517.237690   592.000000     187.029820   24.051848    0.000000   \n",
       "75%     975.237690   821.000000     187.029820   24.051848    0.000000   \n",
       "max    1000.000000  1050.000000     187.029820   24.051848  300.000000   \n",
       "\n",
       "       Citric acid  Fructose 6-phosphate  \n",
       "count   917.000000            917.000000  \n",
       "mean    -19.605816            523.793499  \n",
       "std      54.986572            276.031543  \n",
       "min    -300.000000             58.479417  \n",
       "25%       0.000000            287.479420  \n",
       "50%       0.000000            516.479420  \n",
       "75%       0.000000            745.479420  \n",
       "max       0.000000           1050.000000  "
      ]
     },
     "execution_count": 6,
     "metadata": {},
     "output_type": "execute_result"
    }
   ],
   "source": [
    "full.describe()"
   ]
  },
  {
   "cell_type": "code",
   "execution_count": 7,
   "metadata": {},
   "outputs": [],
   "source": [
    "full = (full.T/np.array(full['Lactate'])).T.dropna()"
   ]
  },
  {
   "cell_type": "markdown",
   "metadata": {},
   "source": [
    " - PPRP (R01049)、 aKG (R00268)\n",
    " - Citrate (R00351), Succinate (R00405), F6P (R02740)"
   ]
  },
  {
   "cell_type": "code",
   "execution_count": 8,
   "metadata": {},
   "outputs": [],
   "source": [
    "d = pd.read_csv('../result/slope.csv', index_col=0).T\n",
    "v = pd.DataFrame(pd.read_excel('../result/lac.xlsx').mean()).T\n",
    "v.columns = d.columns\n",
    "slope = pd.concat([d, v])\n",
    "slope = slope.rename(index={0:'Lactate'})\n",
    "slope = pd.concat([slope, pd.DataFrame([21.78, 12.8, 16.84], columns=['Doubling Time'] , index=slope.columns).T])\n",
    "s = slope.drop('Glutamate')"
   ]
  },
  {
   "cell_type": "code",
   "execution_count": 9,
   "metadata": {},
   "outputs": [
    {
     "data": {
      "text/html": [
       "<div>\n",
       "<style scoped>\n",
       "    .dataframe tbody tr th:only-of-type {\n",
       "        vertical-align: middle;\n",
       "    }\n",
       "\n",
       "    .dataframe tbody tr th {\n",
       "        vertical-align: top;\n",
       "    }\n",
       "\n",
       "    .dataframe thead th {\n",
       "        text-align: right;\n",
       "    }\n",
       "</style>\n",
       "<table border=\"1\" class=\"dataframe\">\n",
       "  <thead>\n",
       "    <tr style=\"text-align: right;\">\n",
       "      <th></th>\n",
       "      <th>Glucose</th>\n",
       "      <th>Lactate</th>\n",
       "      <th>Doubling Time</th>\n",
       "    </tr>\n",
       "  </thead>\n",
       "  <tbody>\n",
       "    <tr>\n",
       "      <th>Control</th>\n",
       "      <td>0.082599</td>\n",
       "      <td>0.636289</td>\n",
       "      <td>21.78</td>\n",
       "    </tr>\n",
       "    <tr>\n",
       "      <th>Clone A</th>\n",
       "      <td>0.041715</td>\n",
       "      <td>3.734983</td>\n",
       "      <td>12.80</td>\n",
       "    </tr>\n",
       "    <tr>\n",
       "      <th>Clone B</th>\n",
       "      <td>0.013963</td>\n",
       "      <td>1.916520</td>\n",
       "      <td>16.84</td>\n",
       "    </tr>\n",
       "  </tbody>\n",
       "</table>\n",
       "</div>"
      ],
      "text/plain": [
       "          Glucose   Lactate  Doubling Time\n",
       "Control  0.082599  0.636289          21.78\n",
       "Clone A  0.041715  3.734983          12.80\n",
       "Clone B  0.013963  1.916520          16.84"
      ]
     },
     "execution_count": 9,
     "metadata": {},
     "output_type": "execute_result"
    }
   ],
   "source": [
    "s.T"
   ]
  },
  {
   "cell_type": "code",
   "execution_count": 10,
   "metadata": {},
   "outputs": [],
   "source": [
    "f = pd.read_excel('../result/metabo_mean.xlsx', index_col=0).T"
   ]
  },
  {
   "cell_type": "code",
   "execution_count": 11,
   "metadata": {
    "scrolled": true
   },
   "outputs": [],
   "source": [
    "PRPP = f[['Cytosine', 'Uracil', 'Adenine', 'Guanine']]\n",
    "PRPP_sum = []\n",
    "for i in PRPP.index:\n",
    "    PRPP_sum.append(sum(PRPP.T[i]))\n",
    "\n",
    "PRPP_sum = pd.DataFrame(PRPP_sum, columns=['PRPP'], index=PRPP.index)"
   ]
  },
  {
   "cell_type": "code",
   "execution_count": 12,
   "metadata": {},
   "outputs": [],
   "source": [
    "amino_acid = f[[\n",
    "    'Ala', 'Arg', 'Asn', 'Asp', 'Gln', 'Glu', 'Gly', 'Ornithine', 'Pro', 'Ser'\n",
    "]]\n",
    "\n",
    "amino_acid_sum = []\n",
    "for i in amino_acid.index:\n",
    "    amino_acid_sum.append(sum(amino_acid.T[i]))\n",
    "    \n",
    "amino_acid_sum = pd.DataFrame(amino_acid_sum, columns=['amino_acid'], index=amino_acid.index)"
   ]
  },
  {
   "cell_type": "code",
   "execution_count": 13,
   "metadata": {},
   "outputs": [],
   "source": [
    "metabo = pd.concat([\n",
    "    f[['Fructose 6-phosphate', 'Citric acid']],\n",
    "    amino_acid_sum,\n",
    "    PRPP_sum\n",
    "], axis=1).T"
   ]
  },
  {
   "cell_type": "code",
   "execution_count": 14,
   "metadata": {},
   "outputs": [],
   "source": [
    "res = pd.concat([\n",
    "    s, \n",
    "    metabo\n",
    "])"
   ]
  },
  {
   "cell_type": "code",
   "execution_count": 15,
   "metadata": {},
   "outputs": [
    {
     "data": {
      "text/plain": [
       "Glucose                   0.082599\n",
       "Lactate                   0.636289\n",
       "Doubling Time            21.780000\n",
       "Fructose 6-phosphate      0.144104\n",
       "Citric acid               0.178913\n",
       "amino_acid              145.107993\n",
       "PRPP                      3.575803\n",
       "Name: Control, dtype: float64"
      ]
     },
     "execution_count": 15,
     "metadata": {},
     "output_type": "execute_result"
    }
   ],
   "source": [
    "res['Control']"
   ]
  },
  {
   "cell_type": "markdown",
   "metadata": {},
   "source": [
    "- 出すのは8月\n",
    "- 査読が1ヶ月くらい\n",
    "- 金谷先生の方が10月"
   ]
  },
  {
   "cell_type": "code",
   "execution_count": 16,
   "metadata": {},
   "outputs": [
    {
     "data": {
      "text/plain": [
       "Glucose                   0.046092\n",
       "Lactate                   2.095931\n",
       "Doubling Time            17.140000\n",
       "Fructose 6-phosphate      0.157880\n",
       "Citric acid               0.217001\n",
       "amino_acid              163.259274\n",
       "PRPP                     17.496905\n",
       "dtype: float64"
      ]
     },
     "execution_count": 16,
     "metadata": {},
     "output_type": "execute_result"
    }
   ],
   "source": [
    "# 実測値\n",
    "# 各列ごとでの正規化\n",
    "# 最大値か平均値\n",
    "\n",
    "res.T.mean()"
   ]
  },
  {
   "cell_type": "code",
   "execution_count": 17,
   "metadata": {},
   "outputs": [
    {
     "data": {
      "text/html": [
       "<div>\n",
       "<style scoped>\n",
       "    .dataframe tbody tr th:only-of-type {\n",
       "        vertical-align: middle;\n",
       "    }\n",
       "\n",
       "    .dataframe tbody tr th {\n",
       "        vertical-align: top;\n",
       "    }\n",
       "\n",
       "    .dataframe thead th {\n",
       "        text-align: right;\n",
       "    }\n",
       "</style>\n",
       "<table border=\"1\" class=\"dataframe\">\n",
       "  <thead>\n",
       "    <tr style=\"text-align: right;\">\n",
       "      <th></th>\n",
       "      <th>Control</th>\n",
       "      <th>Clone A</th>\n",
       "      <th>Clone B</th>\n",
       "    </tr>\n",
       "  </thead>\n",
       "  <tbody>\n",
       "    <tr>\n",
       "      <th>Glucose</th>\n",
       "      <td>0.082599</td>\n",
       "      <td>0.041715</td>\n",
       "      <td>0.013963</td>\n",
       "    </tr>\n",
       "    <tr>\n",
       "      <th>Lactate</th>\n",
       "      <td>0.636289</td>\n",
       "      <td>3.734983</td>\n",
       "      <td>1.916520</td>\n",
       "    </tr>\n",
       "    <tr>\n",
       "      <th>Doubling Time</th>\n",
       "      <td>21.780000</td>\n",
       "      <td>12.800000</td>\n",
       "      <td>16.840000</td>\n",
       "    </tr>\n",
       "    <tr>\n",
       "      <th>Fructose 6-phosphate</th>\n",
       "      <td>0.144104</td>\n",
       "      <td>0.230723</td>\n",
       "      <td>0.098812</td>\n",
       "    </tr>\n",
       "    <tr>\n",
       "      <th>Citric acid</th>\n",
       "      <td>0.178913</td>\n",
       "      <td>0.273265</td>\n",
       "      <td>0.198826</td>\n",
       "    </tr>\n",
       "    <tr>\n",
       "      <th>amino_acid</th>\n",
       "      <td>145.107993</td>\n",
       "      <td>254.877733</td>\n",
       "      <td>89.792096</td>\n",
       "    </tr>\n",
       "    <tr>\n",
       "      <th>PRPP</th>\n",
       "      <td>3.575803</td>\n",
       "      <td>41.658387</td>\n",
       "      <td>7.256526</td>\n",
       "    </tr>\n",
       "  </tbody>\n",
       "</table>\n",
       "</div>"
      ],
      "text/plain": [
       "                         Control     Clone A    Clone B\n",
       "Glucose                 0.082599    0.041715   0.013963\n",
       "Lactate                 0.636289    3.734983   1.916520\n",
       "Doubling Time          21.780000   12.800000  16.840000\n",
       "Fructose 6-phosphate    0.144104    0.230723   0.098812\n",
       "Citric acid             0.178913    0.273265   0.198826\n",
       "amino_acid            145.107993  254.877733  89.792096\n",
       "PRPP                    3.575803   41.658387   7.256526"
      ]
     },
     "execution_count": 17,
     "metadata": {},
     "output_type": "execute_result"
    }
   ],
   "source": [
    "res"
   ]
  },
  {
   "cell_type": "code",
   "execution_count": 18,
   "metadata": {},
   "outputs": [],
   "source": [
    "res_mean = (res.T/res.T.mean()).T"
   ]
  },
  {
   "cell_type": "code",
   "execution_count": 19,
   "metadata": {},
   "outputs": [
    {
     "data": {
      "text/html": [
       "<div>\n",
       "<style scoped>\n",
       "    .dataframe tbody tr th:only-of-type {\n",
       "        vertical-align: middle;\n",
       "    }\n",
       "\n",
       "    .dataframe tbody tr th {\n",
       "        vertical-align: top;\n",
       "    }\n",
       "\n",
       "    .dataframe thead th {\n",
       "        text-align: right;\n",
       "    }\n",
       "</style>\n",
       "<table border=\"1\" class=\"dataframe\">\n",
       "  <thead>\n",
       "    <tr style=\"text-align: right;\">\n",
       "      <th></th>\n",
       "      <th>Control</th>\n",
       "      <th>Clone A</th>\n",
       "      <th>Clone B</th>\n",
       "    </tr>\n",
       "  </thead>\n",
       "  <tbody>\n",
       "    <tr>\n",
       "      <th>Glucose</th>\n",
       "      <td>1.792021</td>\n",
       "      <td>0.905036</td>\n",
       "      <td>0.302943</td>\n",
       "    </tr>\n",
       "    <tr>\n",
       "      <th>Lactate</th>\n",
       "      <td>0.303583</td>\n",
       "      <td>1.782016</td>\n",
       "      <td>0.914401</td>\n",
       "    </tr>\n",
       "    <tr>\n",
       "      <th>Doubling Time</th>\n",
       "      <td>1.270712</td>\n",
       "      <td>0.746791</td>\n",
       "      <td>0.982497</td>\n",
       "    </tr>\n",
       "    <tr>\n",
       "      <th>Fructose 6-phosphate</th>\n",
       "      <td>0.912744</td>\n",
       "      <td>1.461385</td>\n",
       "      <td>0.625871</td>\n",
       "    </tr>\n",
       "    <tr>\n",
       "      <th>Citric acid</th>\n",
       "      <td>0.824478</td>\n",
       "      <td>1.259277</td>\n",
       "      <td>0.916245</td>\n",
       "    </tr>\n",
       "    <tr>\n",
       "      <th>amino_acid</th>\n",
       "      <td>0.888819</td>\n",
       "      <td>1.561184</td>\n",
       "      <td>0.549997</td>\n",
       "    </tr>\n",
       "    <tr>\n",
       "      <th>PRPP</th>\n",
       "      <td>0.204368</td>\n",
       "      <td>2.380900</td>\n",
       "      <td>0.414732</td>\n",
       "    </tr>\n",
       "  </tbody>\n",
       "</table>\n",
       "</div>"
      ],
      "text/plain": [
       "                       Control   Clone A   Clone B\n",
       "Glucose               1.792021  0.905036  0.302943\n",
       "Lactate               0.303583  1.782016  0.914401\n",
       "Doubling Time         1.270712  0.746791  0.982497\n",
       "Fructose 6-phosphate  0.912744  1.461385  0.625871\n",
       "Citric acid           0.824478  1.259277  0.916245\n",
       "amino_acid            0.888819  1.561184  0.549997\n",
       "PRPP                  0.204368  2.380900  0.414732"
      ]
     },
     "execution_count": 19,
     "metadata": {},
     "output_type": "execute_result"
    }
   ],
   "source": [
    "res_mean"
   ]
  },
  {
   "cell_type": "code",
   "execution_count": 20,
   "metadata": {},
   "outputs": [
    {
     "data": {
      "text/html": [
       "<div>\n",
       "<style scoped>\n",
       "    .dataframe tbody tr th:only-of-type {\n",
       "        vertical-align: middle;\n",
       "    }\n",
       "\n",
       "    .dataframe tbody tr th {\n",
       "        vertical-align: top;\n",
       "    }\n",
       "\n",
       "    .dataframe thead th {\n",
       "        text-align: right;\n",
       "    }\n",
       "</style>\n",
       "<table border=\"1\" class=\"dataframe\">\n",
       "  <thead>\n",
       "    <tr style=\"text-align: right;\">\n",
       "      <th></th>\n",
       "      <th>Lactate</th>\n",
       "      <th>Glucose</th>\n",
       "      <th>Doubling Time</th>\n",
       "      <th>PRPP</th>\n",
       "      <th>amino_acid</th>\n",
       "      <th>Citric acid</th>\n",
       "      <th>Fructose 6-phosphate</th>\n",
       "    </tr>\n",
       "  </thead>\n",
       "  <tbody>\n",
       "    <tr>\n",
       "      <th>1.497006</th>\n",
       "      <td>1.0</td>\n",
       "      <td>269.858364</td>\n",
       "      <td>151.112459</td>\n",
       "      <td>19.432911</td>\n",
       "      <td>0.000000</td>\n",
       "      <td>0.000000</td>\n",
       "      <td>208.840819</td>\n",
       "    </tr>\n",
       "    <tr>\n",
       "      <th>1.492537</th>\n",
       "      <td>1.0</td>\n",
       "      <td>103.468949</td>\n",
       "      <td>57.766504</td>\n",
       "      <td>7.428715</td>\n",
       "      <td>0.000000</td>\n",
       "      <td>0.000000</td>\n",
       "      <td>80.143472</td>\n",
       "    </tr>\n",
       "    <tr>\n",
       "      <th>1.488095</th>\n",
       "      <td>1.0</td>\n",
       "      <td>64.150463</td>\n",
       "      <td>35.708481</td>\n",
       "      <td>4.592075</td>\n",
       "      <td>0.000000</td>\n",
       "      <td>0.000000</td>\n",
       "      <td>49.731772</td>\n",
       "    </tr>\n",
       "    <tr>\n",
       "      <th>1.483680</th>\n",
       "      <td>1.0</td>\n",
       "      <td>46.561841</td>\n",
       "      <td>25.841106</td>\n",
       "      <td>3.323140</td>\n",
       "      <td>0.000000</td>\n",
       "      <td>0.000000</td>\n",
       "      <td>36.127487</td>\n",
       "    </tr>\n",
       "    <tr>\n",
       "      <th>1.479290</th>\n",
       "      <td>1.0</td>\n",
       "      <td>36.589249</td>\n",
       "      <td>20.246392</td>\n",
       "      <td>2.603666</td>\n",
       "      <td>0.000000</td>\n",
       "      <td>0.000000</td>\n",
       "      <td>28.413979</td>\n",
       "    </tr>\n",
       "    <tr>\n",
       "      <th>...</th>\n",
       "      <td>...</td>\n",
       "      <td>...</td>\n",
       "      <td>...</td>\n",
       "      <td>...</td>\n",
       "      <td>...</td>\n",
       "      <td>...</td>\n",
       "      <td>...</td>\n",
       "    </tr>\n",
       "    <tr>\n",
       "      <th>0.478011</th>\n",
       "      <td>1.0</td>\n",
       "      <td>1.046000</td>\n",
       "      <td>0.006415</td>\n",
       "      <td>0.000825</td>\n",
       "      <td>0.282850</td>\n",
       "      <td>-0.282850</td>\n",
       "      <td>1.043410</td>\n",
       "    </tr>\n",
       "    <tr>\n",
       "      <th>0.477555</th>\n",
       "      <td>1.0</td>\n",
       "      <td>1.047000</td>\n",
       "      <td>0.004811</td>\n",
       "      <td>0.000619</td>\n",
       "      <td>0.287138</td>\n",
       "      <td>-0.287138</td>\n",
       "      <td>1.045057</td>\n",
       "    </tr>\n",
       "    <tr>\n",
       "      <th>0.477099</th>\n",
       "      <td>1.0</td>\n",
       "      <td>1.048000</td>\n",
       "      <td>0.003208</td>\n",
       "      <td>0.000412</td>\n",
       "      <td>0.291425</td>\n",
       "      <td>-0.291425</td>\n",
       "      <td>1.046705</td>\n",
       "    </tr>\n",
       "    <tr>\n",
       "      <th>0.476644</th>\n",
       "      <td>1.0</td>\n",
       "      <td>1.049000</td>\n",
       "      <td>0.001604</td>\n",
       "      <td>0.000206</td>\n",
       "      <td>0.295713</td>\n",
       "      <td>-0.295713</td>\n",
       "      <td>1.048352</td>\n",
       "    </tr>\n",
       "    <tr>\n",
       "      <th>0.476190</th>\n",
       "      <td>1.0</td>\n",
       "      <td>1.050000</td>\n",
       "      <td>0.000000</td>\n",
       "      <td>0.000000</td>\n",
       "      <td>0.300000</td>\n",
       "      <td>-0.300000</td>\n",
       "      <td>1.050000</td>\n",
       "    </tr>\n",
       "  </tbody>\n",
       "</table>\n",
       "<p>717 rows × 7 columns</p>\n",
       "</div>"
      ],
      "text/plain": [
       "          Lactate     Glucose  Doubling Time       PRPP  amino_acid  \\\n",
       "1.497006      1.0  269.858364     151.112459  19.432911    0.000000   \n",
       "1.492537      1.0  103.468949      57.766504   7.428715    0.000000   \n",
       "1.488095      1.0   64.150463      35.708481   4.592075    0.000000   \n",
       "1.483680      1.0   46.561841      25.841106   3.323140    0.000000   \n",
       "1.479290      1.0   36.589249      20.246392   2.603666    0.000000   \n",
       "...           ...         ...            ...        ...         ...   \n",
       "0.478011      1.0    1.046000       0.006415   0.000825    0.282850   \n",
       "0.477555      1.0    1.047000       0.004811   0.000619    0.287138   \n",
       "0.477099      1.0    1.048000       0.003208   0.000412    0.291425   \n",
       "0.476644      1.0    1.049000       0.001604   0.000206    0.295713   \n",
       "0.476190      1.0    1.050000       0.000000   0.000000    0.300000   \n",
       "\n",
       "          Citric acid  Fructose 6-phosphate  \n",
       "1.497006     0.000000            208.840819  \n",
       "1.492537     0.000000             80.143472  \n",
       "1.488095     0.000000             49.731772  \n",
       "1.483680     0.000000             36.127487  \n",
       "1.479290     0.000000             28.413979  \n",
       "...               ...                   ...  \n",
       "0.478011    -0.282850              1.043410  \n",
       "0.477555    -0.287138              1.045057  \n",
       "0.477099    -0.291425              1.046705  \n",
       "0.476644    -0.295713              1.048352  \n",
       "0.476190    -0.300000              1.050000  \n",
       "\n",
       "[717 rows x 7 columns]"
      ]
     },
     "execution_count": 20,
     "metadata": {},
     "output_type": "execute_result"
    }
   ],
   "source": [
    "# FBA\n",
    "# 各列ごとでの正規化\n",
    "# 最大値か平均値\n",
    "\n",
    "full"
   ]
  },
  {
   "cell_type": "code",
   "execution_count": 21,
   "metadata": {},
   "outputs": [],
   "source": [
    "full_mean = full/full.mean()"
   ]
  },
  {
   "cell_type": "code",
   "execution_count": 22,
   "metadata": {},
   "outputs": [
    {
     "data": {
      "text/html": [
       "<div>\n",
       "<style scoped>\n",
       "    .dataframe tbody tr th:only-of-type {\n",
       "        vertical-align: middle;\n",
       "    }\n",
       "\n",
       "    .dataframe tbody tr th {\n",
       "        vertical-align: top;\n",
       "    }\n",
       "\n",
       "    .dataframe thead th {\n",
       "        text-align: right;\n",
       "    }\n",
       "</style>\n",
       "<table border=\"1\" class=\"dataframe\">\n",
       "  <thead>\n",
       "    <tr style=\"text-align: right;\">\n",
       "      <th></th>\n",
       "      <th>Lactate</th>\n",
       "      <th>Glucose</th>\n",
       "      <th>Doubling Time</th>\n",
       "      <th>PRPP</th>\n",
       "      <th>amino_acid</th>\n",
       "      <th>Citric acid</th>\n",
       "      <th>Fructose 6-phosphate</th>\n",
       "    </tr>\n",
       "  </thead>\n",
       "  <tbody>\n",
       "    <tr>\n",
       "      <th>1.497006</th>\n",
       "      <td>1.0</td>\n",
       "      <td>111.453782</td>\n",
       "      <td>145.828447</td>\n",
       "      <td>145.828447</td>\n",
       "      <td>0.000000</td>\n",
       "      <td>-0.000000</td>\n",
       "      <td>104.272448</td>\n",
       "    </tr>\n",
       "    <tr>\n",
       "      <th>1.492537</th>\n",
       "      <td>1.0</td>\n",
       "      <td>42.733549</td>\n",
       "      <td>55.746559</td>\n",
       "      <td>55.746559</td>\n",
       "      <td>0.000000</td>\n",
       "      <td>-0.000000</td>\n",
       "      <td>40.014955</td>\n",
       "    </tr>\n",
       "    <tr>\n",
       "      <th>1.488095</th>\n",
       "      <td>1.0</td>\n",
       "      <td>26.494683</td>\n",
       "      <td>34.459847</td>\n",
       "      <td>34.459847</td>\n",
       "      <td>0.000000</td>\n",
       "      <td>-0.000000</td>\n",
       "      <td>24.830652</td>\n",
       "    </tr>\n",
       "    <tr>\n",
       "      <th>1.483680</th>\n",
       "      <td>1.0</td>\n",
       "      <td>19.230433</td>\n",
       "      <td>24.937510</td>\n",
       "      <td>24.937510</td>\n",
       "      <td>0.000000</td>\n",
       "      <td>-0.000000</td>\n",
       "      <td>18.038148</td>\n",
       "    </tr>\n",
       "    <tr>\n",
       "      <th>1.479290</th>\n",
       "      <td>1.0</td>\n",
       "      <td>15.111668</td>\n",
       "      <td>19.538428</td>\n",
       "      <td>19.538428</td>\n",
       "      <td>0.000000</td>\n",
       "      <td>-0.000000</td>\n",
       "      <td>14.186858</td>\n",
       "    </tr>\n",
       "    <tr>\n",
       "      <th>...</th>\n",
       "      <td>...</td>\n",
       "      <td>...</td>\n",
       "      <td>...</td>\n",
       "      <td>...</td>\n",
       "      <td>...</td>\n",
       "      <td>...</td>\n",
       "      <td>...</td>\n",
       "    </tr>\n",
       "    <tr>\n",
       "      <th>0.478011</th>\n",
       "      <td>1.0</td>\n",
       "      <td>0.432007</td>\n",
       "      <td>0.006191</td>\n",
       "      <td>0.006191</td>\n",
       "      <td>11.280316</td>\n",
       "      <td>11.280316</td>\n",
       "      <td>0.520966</td>\n",
       "    </tr>\n",
       "    <tr>\n",
       "      <th>0.477555</th>\n",
       "      <td>1.0</td>\n",
       "      <td>0.432420</td>\n",
       "      <td>0.004643</td>\n",
       "      <td>0.004643</td>\n",
       "      <td>11.451304</td>\n",
       "      <td>11.451304</td>\n",
       "      <td>0.521788</td>\n",
       "    </tr>\n",
       "    <tr>\n",
       "      <th>0.477099</th>\n",
       "      <td>1.0</td>\n",
       "      <td>0.432833</td>\n",
       "      <td>0.003095</td>\n",
       "      <td>0.003095</td>\n",
       "      <td>11.622292</td>\n",
       "      <td>11.622292</td>\n",
       "      <td>0.522611</td>\n",
       "    </tr>\n",
       "    <tr>\n",
       "      <th>0.476644</th>\n",
       "      <td>1.0</td>\n",
       "      <td>0.433246</td>\n",
       "      <td>0.001548</td>\n",
       "      <td>0.001548</td>\n",
       "      <td>11.793281</td>\n",
       "      <td>11.793281</td>\n",
       "      <td>0.523433</td>\n",
       "    </tr>\n",
       "    <tr>\n",
       "      <th>0.476190</th>\n",
       "      <td>1.0</td>\n",
       "      <td>0.433659</td>\n",
       "      <td>0.000000</td>\n",
       "      <td>0.000000</td>\n",
       "      <td>11.964269</td>\n",
       "      <td>11.964269</td>\n",
       "      <td>0.524256</td>\n",
       "    </tr>\n",
       "  </tbody>\n",
       "</table>\n",
       "<p>717 rows × 7 columns</p>\n",
       "</div>"
      ],
      "text/plain": [
       "          Lactate     Glucose  Doubling Time        PRPP  amino_acid  \\\n",
       "1.497006      1.0  111.453782     145.828447  145.828447    0.000000   \n",
       "1.492537      1.0   42.733549      55.746559   55.746559    0.000000   \n",
       "1.488095      1.0   26.494683      34.459847   34.459847    0.000000   \n",
       "1.483680      1.0   19.230433      24.937510   24.937510    0.000000   \n",
       "1.479290      1.0   15.111668      19.538428   19.538428    0.000000   \n",
       "...           ...         ...            ...         ...         ...   \n",
       "0.478011      1.0    0.432007       0.006191    0.006191   11.280316   \n",
       "0.477555      1.0    0.432420       0.004643    0.004643   11.451304   \n",
       "0.477099      1.0    0.432833       0.003095    0.003095   11.622292   \n",
       "0.476644      1.0    0.433246       0.001548    0.001548   11.793281   \n",
       "0.476190      1.0    0.433659       0.000000    0.000000   11.964269   \n",
       "\n",
       "          Citric acid  Fructose 6-phosphate  \n",
       "1.497006    -0.000000            104.272448  \n",
       "1.492537    -0.000000             40.014955  \n",
       "1.488095    -0.000000             24.830652  \n",
       "1.483680    -0.000000             18.038148  \n",
       "1.479290    -0.000000             14.186858  \n",
       "...               ...                   ...  \n",
       "0.478011    11.280316              0.520966  \n",
       "0.477555    11.451304              0.521788  \n",
       "0.477099    11.622292              0.522611  \n",
       "0.476644    11.793281              0.523433  \n",
       "0.476190    11.964269              0.524256  \n",
       "\n",
       "[717 rows x 7 columns]"
      ]
     },
     "execution_count": 22,
     "metadata": {},
     "output_type": "execute_result"
    }
   ],
   "source": [
    "full_mean"
   ]
  },
  {
   "cell_type": "code",
   "execution_count": 23,
   "metadata": {
    "scrolled": true
   },
   "outputs": [
    {
     "name": "stdout",
     "output_type": "stream",
     "text": [
      "1.497005988023952\n",
      "1.492537313432836\n",
      "1.488095238095238\n",
      "1.483679525222552\n",
      "1.4792899408284024\n",
      "1.4749262536873156\n",
      "1.4705882352941178\n",
      "1.4662756598240467\n",
      "1.4619883040935673\n",
      "1.4577259475218658\n",
      "1.4534883720930232\n",
      "1.4492753623188406\n",
      "1.4450867052023122\n",
      "1.4409221902017288\n",
      "1.4367816091954022\n",
      "1.4326647564469914\n",
      "1.4285714285714286\n",
      "1.4245014245014245\n",
      "1.4204545454545454\n",
      "1.4164305949008498\n",
      "1.4124293785310735\n",
      "1.4084507042253518\n",
      "1.404494382022472\n",
      "1.4005602240896358\n",
      "1.3966480446927374\n",
      "1.3927576601671308\n",
      "1.3888888888888888\n",
      "1.3850415512465375\n",
      "1.3812154696132597\n",
      "1.3774104683195592\n",
      "1.3736263736263736\n",
      "1.3698630136986298\n",
      "1.3661202185792352\n",
      "1.3623978201634876\n",
      "1.358695652173913\n",
      "1.3550135501355014\n",
      "1.351351351351351\n",
      "1.3477088948787062\n",
      "1.3440860215053765\n",
      "1.3404825737265416\n",
      "1.3368983957219251\n",
      "1.3333333333333333\n",
      "1.3297872340425532\n",
      "1.326259946949602\n",
      "1.3227513227513228\n",
      "1.3192612137203166\n",
      "1.3157894736842106\n",
      "1.3123359580052494\n",
      "1.3089005235602094\n",
      "1.3054830287206267\n",
      "1.3020833333333333\n",
      "1.2987012987012987\n",
      "1.2953367875647668\n",
      "1.2919896640826871\n",
      "1.2886597938144329\n",
      "1.2853470437017995\n",
      "1.2820512820512822\n",
      "1.278772378516624\n",
      "1.2755102040816326\n",
      "1.272264631043257\n",
      "1.269035532994924\n",
      "1.2658227848101269\n",
      "1.2626262626262623\n",
      "1.2594458438287153\n",
      "1.256281407035176\n",
      "1.2531328320802004\n",
      "1.25\n",
      "1.2468827930174564\n",
      "1.243781094527363\n",
      "1.2406947890818858\n",
      "1.2376237623762376\n",
      "1.2345679012345678\n",
      "1.2315270935960592\n",
      "1.2285012285012284\n",
      "1.2254901960784317\n",
      "1.2224938875305624\n",
      "1.2195121951219512\n",
      "1.2165450121654502\n",
      "1.2135922330097086\n",
      "1.2106537530266344\n",
      "1.207729468599034\n",
      "1.2048192771084338\n",
      "1.2019230769230769\n",
      "1.1990407673860912\n",
      "1.1961722488038278\n",
      "1.1933174224343674\n",
      "1.1904761904761905\n"
     ]
    }
   ],
   "source": [
    "g = 60000\n",
    "for i in full_mean.index:\n",
    "    mse = (\n",
    "        (res_mean['Control']['PRPP'] - full_mean.T[i]['PRPP'])**2\n",
    "    + (res_mean['Control']['amino_acid'] - full_mean.T[i]['amino_acid'])**2\n",
    "    + (res_mean['Control']['Citric acid'] - full_mean.T[i]['Citric acid'])**2\n",
    "    + (res_mean['Control']['Lactate'] - full_mean.T[i]['Lactate'])**2\n",
    "    + (res_mean['Control']['Glucose'] - full_mean.T[i]['Glucose'])**2\n",
    "    + (res_mean['Control']['Doubling Time'] - full_mean.T[i]['Doubling Time'])**2\n",
    "    )\n",
    "    if mse < g:\n",
    "        g = mse\n",
    "        l = i\n",
    "        print(i)\n",
    "        \n",
    "Control = l"
   ]
  },
  {
   "cell_type": "code",
   "execution_count": 24,
   "metadata": {
    "scrolled": true
   },
   "outputs": [
    {
     "name": "stdout",
     "output_type": "stream",
     "text": [
      "1.497005988023952\n",
      "1.492537313432836\n",
      "1.488095238095238\n",
      "1.483679525222552\n",
      "1.4792899408284024\n",
      "1.4749262536873156\n",
      "1.4705882352941178\n",
      "1.4662756598240467\n",
      "1.4619883040935673\n",
      "1.4577259475218658\n",
      "1.4534883720930232\n",
      "1.4492753623188406\n",
      "1.4450867052023122\n",
      "1.4409221902017288\n",
      "1.4367816091954022\n",
      "1.4326647564469914\n",
      "1.4285714285714286\n",
      "1.4245014245014245\n",
      "1.4204545454545454\n",
      "1.4164305949008498\n",
      "1.4124293785310735\n",
      "1.4084507042253518\n",
      "1.404494382022472\n",
      "1.4005602240896358\n",
      "1.3966480446927374\n",
      "1.3927576601671308\n",
      "1.3888888888888888\n",
      "1.3850415512465375\n",
      "1.3812154696132597\n",
      "1.3774104683195592\n",
      "1.3736263736263736\n",
      "1.3698630136986298\n",
      "1.3661202185792352\n",
      "1.3623978201634876\n",
      "1.358695652173913\n",
      "1.3550135501355014\n",
      "1.351351351351351\n",
      "1.3477088948787062\n",
      "1.3440860215053765\n",
      "1.3404825737265416\n",
      "1.3368983957219251\n",
      "1.3333333333333333\n",
      "1.3297872340425532\n",
      "1.326259946949602\n",
      "1.3227513227513228\n",
      "1.3192612137203166\n",
      "1.3157894736842106\n",
      "1.3123359580052494\n",
      "1.3089005235602094\n",
      "1.3054830287206267\n",
      "1.3020833333333333\n",
      "1.2987012987012987\n",
      "1.2953367875647668\n",
      "1.2919896640826871\n",
      "1.2886597938144329\n",
      "1.2853470437017995\n",
      "1.2820512820512822\n",
      "1.278772378516624\n",
      "1.2755102040816326\n",
      "1.272264631043257\n",
      "1.269035532994924\n",
      "1.2658227848101269\n",
      "1.2626262626262623\n",
      "1.2594458438287153\n"
     ]
    }
   ],
   "source": [
    "g = 67000\n",
    "for i in full_mean.index:\n",
    "    mse = (\n",
    "        (res_mean['Clone A']['PRPP'] - full_mean.T[i]['PRPP'])**2\n",
    "    + (res_mean['Clone A']['amino_acid'] - full_mean.T[i]['amino_acid'])**2\n",
    "    + (res_mean['Clone A']['Citric acid'] - full_mean.T[i]['Citric acid'])**2\n",
    "    + (res_mean['Clone A']['Lactate'] - full_mean.T[i]['Lactate'])**2\n",
    "    + (res_mean['Clone A']['Glucose'] - full_mean.T[i]['Glucose'])**2\n",
    "    + (res_mean['Clone A']['Doubling Time'] - full_mean.T[i]['Doubling Time'])**2\n",
    "    )\n",
    "    if mse < g:\n",
    "        g = mse\n",
    "        l = i\n",
    "        print(i)\n",
    "        \n",
    "CloneA = l"
   ]
  },
  {
   "cell_type": "code",
   "execution_count": 25,
   "metadata": {
    "scrolled": true
   },
   "outputs": [
    {
     "name": "stdout",
     "output_type": "stream",
     "text": [
      "1.492537313432836\n",
      "1.488095238095238\n",
      "1.483679525222552\n",
      "1.4792899408284024\n",
      "1.4749262536873156\n",
      "1.4705882352941178\n",
      "1.4662756598240467\n",
      "1.4619883040935673\n",
      "1.4577259475218658\n",
      "1.4534883720930232\n",
      "1.4492753623188406\n",
      "1.4450867052023122\n",
      "1.4409221902017288\n",
      "1.4367816091954022\n",
      "1.4326647564469914\n",
      "1.4285714285714286\n",
      "1.4245014245014245\n",
      "1.4204545454545454\n",
      "1.4164305949008498\n",
      "1.4124293785310735\n",
      "1.4084507042253518\n",
      "1.404494382022472\n",
      "1.4005602240896358\n",
      "1.3966480446927374\n",
      "1.3927576601671308\n",
      "1.3888888888888888\n",
      "1.3850415512465375\n",
      "1.3812154696132597\n",
      "1.3774104683195592\n",
      "1.3736263736263736\n",
      "1.3698630136986298\n",
      "1.3661202185792352\n",
      "1.3623978201634876\n",
      "1.358695652173913\n",
      "1.3550135501355014\n",
      "1.351351351351351\n",
      "1.3477088948787062\n",
      "1.3440860215053765\n",
      "1.3404825737265416\n",
      "1.3368983957219251\n",
      "1.3333333333333333\n",
      "1.3297872340425532\n",
      "1.326259946949602\n",
      "1.3227513227513228\n",
      "1.3192612137203166\n",
      "1.3157894736842106\n",
      "1.3123359580052494\n",
      "1.3089005235602094\n",
      "1.3054830287206267\n",
      "1.3020833333333333\n",
      "1.2987012987012987\n",
      "1.2953367875647668\n",
      "1.2919896640826871\n",
      "1.2886597938144329\n",
      "1.2853470437017995\n",
      "1.2820512820512822\n",
      "1.278772378516624\n",
      "1.2755102040816326\n",
      "1.272264631043257\n",
      "1.269035532994924\n",
      "1.2658227848101269\n",
      "1.2626262626262623\n",
      "1.2594458438287153\n",
      "1.256281407035176\n",
      "1.2531328320802004\n",
      "1.25\n",
      "1.2468827930174564\n",
      "1.243781094527363\n",
      "1.2406947890818858\n",
      "1.2376237623762376\n",
      "1.2345679012345678\n",
      "1.2315270935960592\n",
      "1.2285012285012284\n",
      "1.2254901960784317\n",
      "1.2224938875305624\n",
      "1.2195121951219512\n",
      "1.2165450121654502\n",
      "1.2135922330097086\n",
      "1.2106537530266344\n",
      "1.207729468599034\n",
      "1.2048192771084338\n",
      "1.2019230769230769\n",
      "1.1990407673860912\n",
      "1.1961722488038278\n",
      "1.1933174224343674\n",
      "1.1904761904761905\n",
      "1.187648456057007\n",
      "1.1848341232227488\n",
      "1.182033096926714\n",
      "1.179245283018868\n",
      "1.1764705882352942\n",
      "1.1737089201877935\n",
      "1.17096018735363\n",
      "1.1682242990654206\n",
      "1.1655011655011656\n",
      "1.162790697674419\n",
      "1.160092807424594\n",
      "1.1574074074074074\n",
      "1.1547344110854505\n",
      "1.1520737327188941\n",
      "1.1494252873563218\n",
      "1.1467889908256879\n",
      "1.1441647597254003\n",
      "1.1415525114155252\n",
      "1.1389521640091116\n",
      "1.1363636363636365\n",
      "1.1337868480725624\n",
      "1.1312217194570136\n",
      "1.1286681715575622\n",
      "1.1261261261261262\n",
      "1.1235955056179776\n",
      "1.1210762331838564\n",
      "1.1185682326621924\n",
      "1.1160714285714286\n",
      "1.11358574610245\n",
      "1.1111111111111112\n",
      "1.1086474501108647\n",
      "1.106194690265487\n",
      "1.1037527593818983\n",
      "1.1013215859030836\n",
      "1.0989010989010992\n",
      "1.0964912280701755\n",
      "1.0940919037199124\n",
      "1.091703056768559\n",
      "1.0893246187363834\n",
      "1.0869565217391304\n",
      "1.084598698481562\n",
      "1.0822510822510822\n",
      "1.079913606911447\n",
      "1.0775862068965518\n",
      "1.075268817204301\n",
      "1.072961373390558\n",
      "1.0706638115631693\n",
      "1.0683760683760684\n",
      "1.0660980810234542\n",
      "1.0638297872340423\n",
      "1.0615711252653928\n",
      "1.0593220338983051\n",
      "1.0570824524312896\n",
      "1.0548523206751057\n",
      "1.0526315789473684\n",
      "1.050420168067227\n",
      "1.0482180293501049\n",
      "1.0460251046025104\n",
      "1.0438413361169103\n",
      "1.0416666666666667\n",
      "1.0395010395010396\n",
      "1.037344398340249\n",
      "1.0351966873706004\n",
      "1.033057851239669\n",
      "1.0309278350515465\n",
      "1.02880658436214\n",
      "1.026694045174538\n",
      "1.024590163934426\n",
      "1.0224948875255624\n",
      "1.020408163265306\n",
      "1.0183299389002036\n",
      "1.0162601626016259\n",
      "0.5494505494505495\n",
      "0.5488474204171241\n",
      "0.5482456140350878\n",
      "0.547645125958379\n",
      "0.5470459518599562\n",
      "0.5464480874316939\n",
      "0.5458515283842795\n",
      "0.5452562704471101\n",
      "0.5446623093681917\n"
     ]
    }
   ],
   "source": [
    "g = 50000\n",
    "for i in full_mean.index:\n",
    "    mse = (\n",
    "        (res_mean['Clone B']['PRPP'] - full_mean.T[i]['PRPP'])**2\n",
    "    + (res_mean['Clone B']['amino_acid'] - full_mean.T[i]['amino_acid'])**2\n",
    "    + (res_mean['Clone B']['Citric acid'] - full_mean.T[i]['Citric acid'])**2\n",
    "    + (res_mean['Clone B']['Lactate'] - full_mean.T[i]['Lactate'])**2\n",
    "    + (res_mean['Clone B']['Glucose'] - full_mean.T[i]['Glucose'])**2\n",
    "    + (res_mean['Clone B']['Doubling Time'] - full_mean.T[i]['Doubling Time'])**2\n",
    "    )\n",
    "    if mse < g:\n",
    "        g = mse\n",
    "        l = i\n",
    "        print(i)\n",
    "        \n",
    "CloneB = l"
   ]
  },
  {
   "cell_type": "code",
   "execution_count": null,
   "metadata": {},
   "outputs": [],
   "source": []
  },
  {
   "cell_type": "code",
   "execution_count": 26,
   "metadata": {},
   "outputs": [
    {
     "data": {
      "text/plain": [
       "<matplotlib.collections.LineCollection at 0x7f2b49d50e10>"
      ]
     },
     "execution_count": 26,
     "metadata": {},
     "output_type": "execute_result"
    },
    {
     "data": {
      "image/png": "[encoded data removed]",
      "text/plain": [
       "<Figure size 432x288 with 1 Axes>"
      ]
     },
     "metadata": {
      "needs_background": "light"
     },
     "output_type": "display_data"
    }
   ],
   "source": [
    "full.plot(logy=False)\n",
    "# {'solid', 'dashed', 'dashdot', 'dotted'}\n",
    "plt.vlines([CloneA], 0.1, 1000, \"green\", linestyles='dotted', label='Clone A')\n",
    "plt.vlines([Control], 0.1, 1000, \"orange\", linestyles='dashdot', label='Control')\n",
    "plt.vlines([CloneB], 0.1, 1000, \"blue\", linestyles='dashed', label='Clone B')"
   ]
  },
  {
   "cell_type": "code",
   "execution_count": 27,
   "metadata": {},
   "outputs": [
    {
     "data": {
      "text/plain": [
       "<matplotlib.collections.LineCollection at 0x7f2b49d28f50>"
      ]
     },
     "execution_count": 27,
     "metadata": {},
     "output_type": "execute_result"
    },
    {
     "data": {
      "image/png": "[encoded data removed]",
      "text/plain": [
       "<Figure size 432x288 with 1 Axes>"
      ]
     },
     "metadata": {
      "needs_background": "light"
     },
     "output_type": "display_data"
    }
   ],
   "source": [
    "full.plot(logy=True)\n",
    "# {'solid', 'dashed', 'dashdot', 'dotted'}\n",
    "plt.ylabel('concentration (log)')\n",
    "plt.xlabel('O2 Consumption/Glucose Consumption')\n",
    "plt.vlines([CloneA], -1000, 1000, \"green\", linestyles='dotted', label='Clone A')\n",
    "plt.vlines([Control], -1000, 1000, \"orange\", linestyles='dashdot', label='Control')\n",
    "plt.vlines([CloneB], -1000, 1000, \"blue\", linestyles='dashed', label='Clone B')"
   ]
  },
  {
   "cell_type": "code",
   "execution_count": 28,
   "metadata": {
    "scrolled": true
   },
   "outputs": [
    {
     "data": {
      "text/plain": [
       "<matplotlib.collections.LineCollection at 0x7f2b49a30d10>"
      ]
     },
     "execution_count": 28,
     "metadata": {},
     "output_type": "execute_result"
    },
    {
     "data": {
      "image/png": "[encoded data removed]",
      "text/plain": [
       "<Figure size 432x288 with 1 Axes>"
      ]
     },
     "metadata": {
      "needs_background": "light"
     },
     "output_type": "display_data"
    }
   ],
   "source": [
    "full[['Lactate', 'Glucose', 'Doubling Time']].plot(logy=True)\n",
    "plt.ylabel('concentration (log)')\n",
    "plt.xlabel('O2 Consumption/Glucose Consumption')\n",
    "plt.vlines([CloneA], -1000, 1000, \"green\", linestyles='dotted', label='Clone A')\n",
    "plt.vlines([Control], -1000, 1000, \"orange\", linestyles='dashdot', label='Control')\n",
    "plt.vlines([CloneB], -1000, 1000, \"blue\", linestyles='dashed', label='Clone B')"
   ]
  },
  {
   "cell_type": "code",
   "execution_count": 29,
   "metadata": {
    "scrolled": false
   },
   "outputs": [
    {
     "data": {
      "text/plain": [
       "<matplotlib.collections.LineCollection at 0x7f2b49906290>"
      ]
     },
     "execution_count": 29,
     "metadata": {},
     "output_type": "execute_result"
    },
    {
     "data": {
      "image/png": "[encoded data removed]",
      "text/plain": [
       "<Figure size 432x288 with 1 Axes>"
      ]
     },
     "metadata": {
      "needs_background": "light"
     },
     "output_type": "display_data"
    }
   ],
   "source": [
    "full[['PRPP', 'amino_acid', 'Citric acid', 'Fructose 6-phosphate']].plot(logy=True)\n",
    "plt.ylabel('concentration (log)')\n",
    "plt.xlabel('O2 Consumption/Glucose Consumption')\n",
    "plt.vlines([CloneA], -1000, 1000, \"green\", linestyles='dotted', label='Clone A')\n",
    "plt.vlines([Control], -1000, 1000, \"orange\", linestyles='dashdot', label='Control')\n",
    "plt.vlines([CloneB], -1000, 1000, \"blue\", linestyles='dashed', label='Clone B')"
   ]
  },
  {
   "cell_type": "code",
   "execution_count": null,
   "metadata": {},
   "outputs": [],
   "source": []
  },
  {
   "cell_type": "code",
   "execution_count": 30,
   "metadata": {},
   "outputs": [],
   "source": [
    "full = pd.concat([\n",
    "    output,\n",
    "    through\n",
    "], axis=1)\n",
    "\n",
    "full = full.rename(\n",
    "    columns={\n",
    "        'R01049': 'PRPP', \n",
    "        'R00268': 'amino_acid', \n",
    "        'R00351': 'Citric acid', \n",
    "        'R02740': 'Fructose 6-phosphate',\n",
    "        'Lactate_output': 'Lactate',\n",
    "        'Glucose_input': 'Glucose',\n",
    "        'Biomass': 'Doubling Time'\n",
    "    }\n",
    ")"
   ]
  },
  {
   "cell_type": "code",
   "execution_count": 31,
   "metadata": {},
   "outputs": [
    {
     "data": {
      "text/plain": [
       "<matplotlib.collections.LineCollection at 0x7f2b496d9850>"
      ]
     },
     "execution_count": 31,
     "metadata": {},
     "output_type": "execute_result"
    },
    {
     "data": {
      "image/png": "[encoded data removed]",
      "text/plain": [
       "<Figure size 432x288 with 1 Axes>"
      ]
     },
     "metadata": {
      "needs_background": "light"
     },
     "output_type": "display_data"
    }
   ],
   "source": [
    "full.plot(logy=False)\n",
    "# {'solid', 'dashed', 'dashdot', 'dotted'}\n",
    "plt.vlines([CloneA], 0.1, 1000, \"green\", linestyles='dotted', label='Clone A')\n",
    "plt.vlines([Control], 0.1, 1000, \"orange\", linestyles='dashdot', label='Control')\n",
    "plt.vlines([CloneB], 0.1, 1000, \"blue\", linestyles='dashed', label='Clone B')"
   ]
  },
  {
   "cell_type": "code",
   "execution_count": 32,
   "metadata": {},
   "outputs": [
    {
     "data": {
      "text/plain": [
       "<matplotlib.collections.LineCollection at 0x7f2b49671e90>"
      ]
     },
     "execution_count": 32,
     "metadata": {},
     "output_type": "execute_result"
    },
    {
     "data": {
      "image/png": "[encoded data removed]",
      "text/plain": [
       "<Figure size 432x288 with 1 Axes>"
      ]
     },
     "metadata": {
      "needs_background": "light"
     },
     "output_type": "display_data"
    }
   ],
   "source": [
    "full.plot(logy=True)\n",
    "# {'solid', 'dashed', 'dashdot', 'dotted'}\n",
    "plt.ylabel('concentration (log)')\n",
    "plt.xlabel('O2 Consumption/Glucose Consumption')\n",
    "plt.vlines([CloneA], -1000, 1000, \"green\", linestyles='dotted', label='Clone A')\n",
    "plt.vlines([Control], -1000, 1000, \"orange\", linestyles='dashdot', label='Control')\n",
    "plt.vlines([CloneB], -1000, 1000, \"blue\", linestyles='dashed', label='Clone B')"
   ]
  },
  {
   "cell_type": "code",
   "execution_count": 33,
   "metadata": {
    "scrolled": true
   },
   "outputs": [
    {
     "data": {
      "text/plain": [
       "<matplotlib.collections.LineCollection at 0x7f2b49b24510>"
      ]
     },
     "execution_count": 33,
     "metadata": {},
     "output_type": "execute_result"
    },
    {
     "data": {
      "image/png": "[encoded data removed]",
      "text/plain": [
       "<Figure size 432x288 with 1 Axes>"
      ]
     },
     "metadata": {
      "needs_background": "light"
     },
     "output_type": "display_data"
    }
   ],
   "source": [
    "full[['Lactate', 'Glucose', 'Doubling Time']].plot(logy=True)\n",
    "plt.ylabel('concentration (log)')\n",
    "plt.xlabel('O2 Consumption/Glucose Consumption')\n",
    "plt.vlines([CloneA], -1000, 1000, \"green\", linestyles='dotted', label='Clone A')\n",
    "plt.vlines([Control], -1000, 1000, \"orange\", linestyles='dashdot', label='Control')\n",
    "plt.vlines([CloneB], -1000, 1000, \"blue\", linestyles='dashed', label='Clone B')"
   ]
  },
  {
   "cell_type": "code",
   "execution_count": 34,
   "metadata": {
    "scrolled": false
   },
   "outputs": [
    {
     "data": {
      "text/plain": [
       "<matplotlib.collections.LineCollection at 0x7f2b49447dd0>"
      ]
     },
     "execution_count": 34,
     "metadata": {},
     "output_type": "execute_result"
    },
    {
     "data": {
      "image/png": "[encoded data removed]",
      "text/plain": [
       "<Figure size 432x288 with 1 Axes>"
      ]
     },
     "metadata": {
      "needs_background": "light"
     },
     "output_type": "display_data"
    }
   ],
   "source": [
    "full[['PRPP', 'amino_acid', 'Citric acid', 'Fructose 6-phosphate']].plot(logy=True)\n",
    "plt.ylabel('concentration (log)')\n",
    "plt.xlabel('O2 Consumption/Glucose Consumption')\n",
    "plt.vlines([CloneA], -1000, 1000, \"green\", linestyles='dotted', label='Clone A')\n",
    "plt.vlines([Control], -1000, 1000, \"orange\", linestyles='dashdot', label='Control')\n",
    "plt.vlines([CloneB], -1000, 1000, \"blue\", linestyles='dashed', label='Clone B')"
   ]
  },
  {
   "cell_type": "code",
   "execution_count": null,
   "metadata": {},
   "outputs": [],
   "source": []
  },
  {
   "cell_type": "code",
   "execution_count": 35,
   "metadata": {},
   "outputs": [
    {
     "data": {
      "text/plain": [
       "<matplotlib.collections.LineCollection at 0x7f2b492e1c50>"
      ]
     },
     "execution_count": 35,
     "metadata": {},
     "output_type": "execute_result"
    },
    {
     "data": {
      "image/png": "[encoded data removed]",
      "text/plain": [
       "<Figure size 432x288 with 1 Axes>"
      ]
     },
     "metadata": {
      "needs_background": "light"
     },
     "output_type": "display_data"
    }
   ],
   "source": [
    "full.plot(logx=True)\n",
    "# {'solid', 'dashed', 'dashdot', 'dotted'}\n",
    "plt.ylabel('concentration (log)')\n",
    "plt.xlabel('O2 Consumption/Glucose Consumption')\n",
    "plt.vlines([CloneA], -1000, 1000, \"green\", linestyles='dotted', label='Clone A')\n",
    "plt.vlines([Control], -1000, 1000, \"orange\", linestyles='dashdot', label='Control')\n",
    "plt.vlines([CloneB], -1000, 1000, \"blue\", linestyles='dashed', label='Clone B')"
   ]
  },
  {
   "cell_type": "code",
   "execution_count": 36,
   "metadata": {
    "scrolled": true
   },
   "outputs": [
    {
     "data": {
      "text/plain": [
       "<matplotlib.collections.LineCollection at 0x7f2b491b05d0>"
      ]
     },
     "execution_count": 36,
     "metadata": {},
     "output_type": "execute_result"
    },
    {
     "data": {
      "image/png": "[encoded data removed]",
      "text/plain": [
       "<Figure size 432x288 with 1 Axes>"
      ]
     },
     "metadata": {
      "needs_background": "light"
     },
     "output_type": "display_data"
    }
   ],
   "source": [
    "full[['Lactate', 'Glucose', 'Doubling Time']].plot(logx=True)\n",
    "plt.ylabel('concentration (log)')\n",
    "plt.xlabel('O2 Consumption/Glucose Consumption')\n",
    "plt.vlines([CloneA], -1000, 1000, \"green\", linestyles='dotted', label='Clone A')\n",
    "plt.vlines([Control], -1000, 1000, \"orange\", linestyles='dashdot', label='Control')\n",
    "plt.vlines([CloneB], -1000, 1000, \"blue\", linestyles='dashed', label='Clone B')"
   ]
  },
  {
   "cell_type": "code",
   "execution_count": 39,
   "metadata": {
    "scrolled": false
   },
   "outputs": [
    {
     "data": {
      "text/plain": [
       "<matplotlib.collections.LineCollection at 0x7f2b48e58990>"
      ]
     },
     "execution_count": 39,
     "metadata": {},
     "output_type": "execute_result"
    },
    {
     "data": {
      "image/png": "[encoded data removed]",
      "text/plain": [
       "<Figure size 432x288 with 1 Axes>"
      ]
     },
     "metadata": {
      "needs_background": "light"
     },
     "output_type": "display_data"
    }
   ],
   "source": [
    "full[['PRPP', 'amino_acid', 'Citric acid', 'Fructose 6-phosphate']].plot(logx=True)\n",
    "plt.ylabel('concentration (log)')\n",
    "plt.xlabel('O2 Consumption/Glucose Consumption')\n",
    "plt.vlines([CloneA], -1000, 1000, \"green\", linestyles='dotted', label='Clone A')\n",
    "plt.vlines([Control], -1000, 1000, \"orange\", linestyles='dashdot', label='Control')\n",
    "plt.vlines([CloneB], -1000, 1000, \"blue\", linestyles='dashed', label='Clone B')"
   ]
  },
  {
   "cell_type": "code",
   "execution_count": null,
   "metadata": {},
   "outputs": [],
   "source": []
  }
 ],
 "metadata": {
  "kernelspec": {
   "display_name": "Python 3",
   "language": "python",
   "name": "python3"
  },
  "language_info": {
   "codemirror_mode": {
    "name": "ipython",
    "version": 3
   },
   "file_extension": ".py",
   "mimetype": "text/x-python",
   "name": "python",
   "nbconvert_exporter": "python",
   "pygments_lexer": "ipython3",
   "version": "3.7.7"
  }
 },
 "nbformat": 4,
 "nbformat_minor": 4
}
