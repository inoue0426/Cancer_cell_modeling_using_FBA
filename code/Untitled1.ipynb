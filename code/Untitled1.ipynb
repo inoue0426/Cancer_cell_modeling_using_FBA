{
 "cells": [
  {
   "cell_type": "code",
   "execution_count": 1,
   "metadata": {},
   "outputs": [],
   "source": [
    "import numpy as np\n",
    "import pandas as pd\n",
    "import matplotlib as plt\n",
    "import urllib.request\n",
    "from pulp import *\n",
    "from scipy import optimize\n",
    "import math\n",
    "import seaborn as sns\n",
    "\n",
    "%matplotlib inline"
   ]
  },
  {
   "cell_type": "code",
   "execution_count": 2,
   "metadata": {},
   "outputs": [],
   "source": [
    "t = pd.read_csv('../csv/stochastic_matrix.csv', index_col=0).fillna(0)"
   ]
  },
  {
   "cell_type": "code",
   "execution_count": 3,
   "metadata": {
    "scrolled": true
   },
   "outputs": [],
   "source": [
    "v = t.T[[\n",
    "    'R00200', 'R00268', 'R00341', 'R00342', 'R00351',\n",
    "    'R00405', 'R00658', 'R00703', 'R01015', 'R01049',\n",
    "    'R01056', 'R01061', 'R01070', 'R01082', 'R01196', \n",
    "    'R01197', 'R01325', 'R01512', 'R01518', 'R01528',\n",
    "    'R01529', 'R01641', 'R01786', 'R01830', 'R01899',\n",
    "    'R01900', 'R02035', 'R02164', 'R02740', 'R04779'\n",
    "]].T\n",
    "\n",
    "for i in v.columns:\n",
    "    if sum(v[i] == 0) == v.shape[0]:\n",
    "        v = v.drop(i, axis=1)\n",
    "        \n",
    "v['C00007'] = pd.Series(np.zeros(v.shape[0]), index=v.index)\n",
    "v['C00033'] = pd.Series(np.zeros(v.shape[0]), index=v.index)\n",
    "v['C00092'] = pd.Series(np.zeros(v.shape[0]), index=v.index)\n",
    "v['C00014'] = pd.Series(np.zeros(v.shape[0]), index=v.index)\n",
    "v['C00025'] = pd.Series(np.zeros(v.shape[0]), index=v.index)"
   ]
  },
  {
   "cell_type": "code",
   "execution_count": 4,
   "metadata": {},
   "outputs": [],
   "source": [
    "df = v.T\n",
    "df['Glucose_input'] =  pd.Series(np.zeros(df.shape[0]), index=df.index)\n",
    "df['Glucose_input']['C00267'] = 1\n",
    "\n",
    "df['Oxygen_input'] =  pd.Series(np.zeros(df.shape[0]), index=df.index)\n",
    "df['Oxygen_input']['C00007'] = 1\n",
    "\n",
    "df['CO2_output'] =  pd.Series(np.zeros(df.shape[0]), index=df.index)\n",
    "df['CO2_output']['C00011'] = -1\n",
    "\n",
    "df['Lactate_output'] =  pd.Series(np.zeros(df.shape[0]), index=df.index)\n",
    "df['Lactate_output']['C00186'] = -1\n",
    "\n",
    "df['Acetate_output'] =  pd.Series(np.zeros(df.shape[0]), index=df.index)\n",
    "df['Acetate_output']['C00033'] = -1\n",
    "\n",
    "df['Glutamate_input'] =  pd.Series(np.zeros(df.shape[0]), index=df.index)\n",
    "df['Glutamate_input']['C00025'] = 1\n",
    "\n",
    "df['Ammonia_input'] =  pd.Series(np.zeros(df.shape[0]), index=df.index)\n",
    "df['Ammonia_input']['C00014'] = 1\n",
    "\n",
    "df['Glu_Exchange'] =  pd.Series(np.zeros(df.shape[0]), index=df.index)\n",
    "df['Glu_Exchange']['C00267'] = -1\n",
    "df['Glu_Exchange']['C00092'] = 1\n",
    "\n",
    "df['acetyl_CoA_hydrolase'] =  pd.Series(np.zeros(df.shape[0]), index=df.index)\n",
    "df['acetyl_CoA_hydrolase']['C00024'] = -1\n",
    "df['acetyl_CoA_hydrolase']['C00001'] = -1\n",
    "df['acetyl_CoA_hydrolase']['C00010'] = 1\n",
    "df['acetyl_CoA_hydrolase']['C00033'] = 1\n",
    "\n",
    "df['NADP_Exchange'] =  pd.Series(np.zeros(df.shape[0]), index=df.index)\n",
    "df['NADP_Exchange']['C00005'] = -1\n",
    "df['NADP_Exchange']['C00003'] = -1\n",
    "df['NADP_Exchange']['C00006'] = 1\n",
    "df['NADP_Exchange']['C00004'] = 1\n",
    "\n",
    "df['ADP_Exchange'] =  pd.Series(np.zeros(df.shape[0]), index=df.index)\n",
    "df['ADP_Exchange']['C00002'] = -1\n",
    "df['ADP_Exchange']['C00008'] = 1\n",
    "\n",
    "df['AMP_Exchange'] =  pd.Series(np.zeros(df.shape[0]), index=df.index)\n",
    "df['AMP_Exchange']['C00002'] = -1\n",
    "df['AMP_Exchange']['C00020'] = -1\n",
    "df['AMP_Exchange']['C00008'] = 2\n",
    "\n",
    "df['R00835'] =  pd.Series(np.zeros(df.shape[0]), index=df.index)\n",
    "df['R00835']['C00092'] = -1\n",
    "df['R00835']['C00006'] = -1\n",
    "df['R00835']['C01236'] = 1\n",
    "df['R00835']['C00005'] = 1\n",
    "df['R00835']['C00080'] = 1\n",
    "\n",
    "df['R08575'] =  pd.Series(np.zeros(df.shape[0]), index=df.index)\n",
    "df['R08575']['C05382'] = -1\n",
    "df['R08575']['C00118'] = -1\n",
    "df['R08575']['C00279'] = 1\n",
    "df['R08575']['C00085'] = 1\n",
    "\n",
    "df['R02164']['C00004'] = -1\n",
    "df['R02164']['C00003'] = 1\n",
    "df['R02164']['C15602'] = 0\n",
    "df['R02164']['C15603'] = 0\n",
    "\n",
    "df['R00243'] =  pd.Series(np.zeros(df.shape[0]), index=df.index)\n",
    "df['R00243']['C00025'] = -1\n",
    "df['R00243']['C00003'] = -1\n",
    "df['R00243']['C00001'] = -1\n",
    "\n",
    "df['R00243']['C00026'] = 1\n",
    "df['R00243']['C00014'] = 1\n",
    "df['R00243']['C00004'] = 1\n",
    "df['R00243']['C00080'] = 1\n",
    "\n",
    "df['Oxophos'] =  pd.Series(np.zeros(df.shape[0]), index=df.index)\n",
    "df['Oxophos']['C00004'] = -2\n",
    "df['Oxophos']['C00007'] = -1\n",
    "df['Oxophos']['C00008'] = -5\n",
    "df['Oxophos']['C00002'] = 5\n",
    "df['Oxophos']['C00003'] = 2\n",
    "df['Oxophos']['C00011'] = 1"
   ]
  },
  {
   "cell_type": "code",
   "execution_count": 5,
   "metadata": {
    "scrolled": true
   },
   "outputs": [],
   "source": [
    "BIOMASS = pd.read_csv('../csv/amino_acid.csv',index_col=0)\n",
    "df_Biomass =  pd.Series(np.zeros(df.shape[0]), index=df.index)\n",
    "\n",
    "for i in BIOMASS.index:\n",
    "    df_Biomass[BIOMASS.T[i]['C_num']] = BIOMASS.T[i]['flux']\n",
    "    \n",
    "df_Biomass['C00668'] = -0.27519\n",
    "df_Biomass['C00119'] = (-0.039036) + (-0.036117) + (-0.053446)"
   ]
  },
  {
   "cell_type": "code",
   "execution_count": 7,
   "metadata": {},
   "outputs": [],
   "source": [
    "df_new = pd.concat([df_Biomass.T, df], axis=1)\n",
    "df_new = df_new.rename(columns={0: 'BIOMASS'})\n",
    "df_new = df_new.drop([\n",
    "    'C00001','C00009','C00080','C00138','C00139','C15602','C15603'\n",
    "])"
   ]
  },
  {
   "cell_type": "code",
   "execution_count": 8,
   "metadata": {},
   "outputs": [],
   "source": [
    "result = pd.read_csv('../result/__fba__.csv', index_col=0)"
   ]
  },
  {
   "cell_type": "code",
   "execution_count": 12,
   "metadata": {
    "scrolled": true
   },
   "outputs": [],
   "source": [
    "res = df_new * result['Clone A']"
   ]
  },
  {
   "cell_type": "code",
   "execution_count": 19,
   "metadata": {
    "scrolled": true
   },
   "outputs": [
    {
     "data": {
      "text/plain": [
       "BIOMASS          0.002919\n",
       "R00342           0.001072\n",
       "R00703          -0.083425\n",
       "R01061           0.102753\n",
       "NADP_Exchange    0.015859\n",
       "R00243          -0.002080\n",
       "Oxophos         -0.037099\n",
       "Name: C00004, dtype: float64"
      ]
     },
     "execution_count": 19,
     "metadata": {},
     "output_type": "execute_result"
    }
   ],
   "source": [
    "res.T['C00004'][res.T['C00004'] != 0]"
   ]
  },
  {
   "cell_type": "code",
   "execution_count": 20,
   "metadata": {
    "scrolled": true
   },
   "outputs": [],
   "source": [
    "res_B = df_new * result['Clone B']"
   ]
  },
  {
   "cell_type": "code",
   "execution_count": 22,
   "metadata": {
    "scrolled": true
   },
   "outputs": [
    {
     "data": {
      "text/plain": [
       "BIOMASS          0.002215\n",
       "R00342           0.012145\n",
       "R00703          -0.042811\n",
       "R01061           0.036271\n",
       "R02164          -0.011331\n",
       "NADP_Exchange    0.007097\n",
       "R00243           0.014691\n",
       "Oxophos         -0.018279\n",
       "Name: C00004, dtype: float64"
      ]
     },
     "execution_count": 22,
     "metadata": {},
     "output_type": "execute_result"
    }
   ],
   "source": [
    "res_B.T['C00004'][res_B.T['C00004'] != 0]"
   ]
  },
  {
   "cell_type": "code",
   "execution_count": null,
   "metadata": {},
   "outputs": [],
   "source": []
  }
 ],
 "metadata": {
  "kernelspec": {
   "display_name": "Python 3",
   "language": "python",
   "name": "python3"
  },
  "language_info": {
   "codemirror_mode": {
    "name": "ipython",
    "version": 3
   },
   "file_extension": ".py",
   "mimetype": "text/x-python",
   "name": "python",
   "nbconvert_exporter": "python",
   "pygments_lexer": "ipython3",
   "version": "3.6.5"
  }
 },
 "nbformat": 4,
 "nbformat_minor": 2
}
