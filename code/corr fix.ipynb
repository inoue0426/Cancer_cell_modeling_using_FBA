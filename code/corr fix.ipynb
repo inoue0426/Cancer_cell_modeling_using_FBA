{
 "cells": [
  {
   "cell_type": "code",
   "execution_count": 29,
   "metadata": {},
   "outputs": [],
   "source": [
    "import numpy as np\n",
    "import pandas as pd\n",
    "import matplotlib as plt\n",
    "import urllib.request\n",
    "from pulp import *\n",
    "from scipy import optimize\n",
    "import math\n",
    "\n",
    "%matplotlib inline"
   ]
  },
  {
   "cell_type": "code",
   "execution_count": 30,
   "metadata": {
    "scrolled": true
   },
   "outputs": [],
   "source": [
    "t = pd.read_csv('../result/slope.csv', index_col=0).T\n",
    "v = pd.DataFrame(pd.read_excel('../result/lac.xlsx').mean()).T\n",
    "v.columns = t.columns\n",
    "slope = pd.concat([t, v])\n",
    "slope = slope.rename(index={0:'Lactate'})\n",
    "slope = pd.concat([slope, pd.DataFrame([22, 12.5, 17], columns=['Doubling Time'] , index=slope.columns).T])"
   ]
  },
  {
   "cell_type": "code",
   "execution_count": 31,
   "metadata": {},
   "outputs": [],
   "source": [
    "Lac = np.array(slope.T['Lactate']/slope.T.mean()['Lactate'])\n",
    "gr = np.array([np.log(2)/i for i in slope.T['Doubling Time']])\n",
    "Gr = gr/gr.mean()"
   ]
  },
  {
   "cell_type": "code",
   "execution_count": 32,
   "metadata": {},
   "outputs": [
    {
     "data": {
      "text/plain": [
       "array([1.        , 1.76      , 1.29411765])"
      ]
     },
     "execution_count": 32,
     "metadata": {},
     "output_type": "execute_result"
    }
   ],
   "source": [
    "Gr/Gr[0]"
   ]
  },
  {
   "cell_type": "code",
   "execution_count": 33,
   "metadata": {},
   "outputs": [
    {
     "data": {
      "text/plain": [
       "array([1.        , 5.86994594, 3.0120277 ])"
      ]
     },
     "execution_count": 33,
     "metadata": {},
     "output_type": "execute_result"
    }
   ],
   "source": [
    "Lac/Lac[0]"
   ]
  },
  {
   "cell_type": "code",
   "execution_count": 34,
   "metadata": {},
   "outputs": [],
   "source": [
    "t = pd.read_csv('../csv/stochastic_matrix.csv', index_col=0).fillna(0)"
   ]
  },
  {
   "cell_type": "code",
   "execution_count": 35,
   "metadata": {
    "scrolled": true
   },
   "outputs": [],
   "source": [
    "v = t.T[[\n",
    "    'R00200', 'R00268', 'R00341', 'R00342', 'R00351',\n",
    "    'R00405', 'R00658', 'R00703', 'R01015', 'R01049',\n",
    "    'R01056', 'R01061', 'R01070', 'R01082', 'R01196', \n",
    "    'R01197', 'R01325', 'R01512', 'R01518', 'R01528',\n",
    "    'R01529', 'R01641', 'R01786', 'R01830', 'R01899',\n",
    "    'R01900', 'R02035', 'R02164', 'R02740', 'R04779'\n",
    "]].T\n",
    "\n",
    "for i in v.columns:\n",
    "    if sum(v[i] == 0) == v.shape[0]:\n",
    "        v = v.drop(i, axis=1)\n",
    "        \n",
    "v['C00007'] = pd.Series(np.zeros(v.shape[0]), index=v.index)\n",
    "v['C00033'] = pd.Series(np.zeros(v.shape[0]), index=v.index)\n",
    "v['C00092'] = pd.Series(np.zeros(v.shape[0]), index=v.index)\n",
    "v['C00014'] = pd.Series(np.zeros(v.shape[0]), index=v.index)\n",
    "v['C00025'] = pd.Series(np.zeros(v.shape[0]), index=v.index)"
   ]
  },
  {
   "cell_type": "code",
   "execution_count": 36,
   "metadata": {},
   "outputs": [],
   "source": [
    "df = v.T\n",
    "df['Glucose_input'] =  pd.Series(np.zeros(df.shape[0]), index=df.index)\n",
    "df['Glucose_input']['C00267'] = 1\n",
    "\n",
    "df['Oxygen_input'] =  pd.Series(np.zeros(df.shape[0]), index=df.index)\n",
    "df['Oxygen_input']['C00007'] = 1\n",
    "\n",
    "df['CO2_output'] =  pd.Series(np.zeros(df.shape[0]), index=df.index)\n",
    "df['CO2_output']['C00011'] = -1\n",
    "\n",
    "df['Lactate_output'] =  pd.Series(np.zeros(df.shape[0]), index=df.index)\n",
    "df['Lactate_output']['C00186'] = -1\n",
    "\n",
    "df['Acetate_output'] =  pd.Series(np.zeros(df.shape[0]), index=df.index)\n",
    "df['Acetate_output']['C00033'] = -1\n",
    "\n",
    "df['Glutamate_input'] =  pd.Series(np.zeros(df.shape[0]), index=df.index)\n",
    "df['Glutamate_input']['C00025'] = 1\n",
    "\n",
    "df['Ammonia_input'] =  pd.Series(np.zeros(df.shape[0]), index=df.index)\n",
    "df['Ammonia_input']['C00014'] = 1\n",
    "\n",
    "df['Glu_Exchange'] =  pd.Series(np.zeros(df.shape[0]), index=df.index)\n",
    "df['Glu_Exchange']['C00267'] = -1\n",
    "df['Glu_Exchange']['C00092'] = 1\n",
    "\n",
    "df['acetyl_CoA_hydrolase'] =  pd.Series(np.zeros(df.shape[0]), index=df.index)\n",
    "df['acetyl_CoA_hydrolase']['C00024'] = -1\n",
    "df['acetyl_CoA_hydrolase']['C00001'] = -1\n",
    "df['acetyl_CoA_hydrolase']['C00010'] = 1\n",
    "df['acetyl_CoA_hydrolase']['C00033'] = 1\n",
    "\n",
    "df['NADP_Exchange'] =  pd.Series(np.zeros(df.shape[0]), index=df.index)\n",
    "df['NADP_Exchange']['C00005'] = -1\n",
    "df['NADP_Exchange']['C00003'] = -1\n",
    "df['NADP_Exchange']['C00006'] = 1\n",
    "df['NADP_Exchange']['C00004'] = 1\n",
    "\n",
    "df['ADP_Exchange'] =  pd.Series(np.zeros(df.shape[0]), index=df.index)\n",
    "df['ADP_Exchange']['C00002'] = -1\n",
    "df['ADP_Exchange']['C00008'] = 1\n",
    "\n",
    "df['AMP_Exchange'] =  pd.Series(np.zeros(df.shape[0]), index=df.index)\n",
    "df['AMP_Exchange']['C00002'] = -1\n",
    "df['AMP_Exchange']['C00020'] = -1\n",
    "df['AMP_Exchange']['C00008'] = 2\n",
    "\n",
    "df['R00835'] =  pd.Series(np.zeros(df.shape[0]), index=df.index)\n",
    "df['R00835']['C00092'] = -1\n",
    "df['R00835']['C00006'] = -1\n",
    "df['R00835']['C01236'] = 1\n",
    "df['R00835']['C00005'] = 1\n",
    "df['R00835']['C00080'] = 1\n",
    "\n",
    "df['R08575'] =  pd.Series(np.zeros(df.shape[0]), index=df.index)\n",
    "df['R08575']['C05382'] = -1\n",
    "df['R08575']['C00118'] = -1\n",
    "df['R08575']['C00279'] = 1\n",
    "df['R08575']['C00085'] = 1\n",
    "\n",
    "df['R02164']['C00004'] = -1\n",
    "df['R02164']['C00003'] = 1\n",
    "df['R02164']['C15602'] = 0\n",
    "df['R02164']['C15603'] = 0\n",
    "\n",
    "df['R00243'] =  pd.Series(np.zeros(df.shape[0]), index=df.index)\n",
    "df['R00243']['C00025'] = -1\n",
    "df['R00243']['C00003'] = -1\n",
    "df['R00243']['C00001'] = -1\n",
    "\n",
    "df['R00243']['C00026'] = 1\n",
    "df['R00243']['C00014'] = 1\n",
    "df['R00243']['C00004'] = 1\n",
    "df['R00243']['C00080'] = 1\n",
    "\n",
    "df['Oxophos'] =  pd.Series(np.zeros(df.shape[0]), index=df.index)\n",
    "df['Oxophos']['C00004'] = -2\n",
    "df['Oxophos']['C00007'] = -1\n",
    "df['Oxophos']['C00008'] = -5\n",
    "df['Oxophos']['C00002'] = 5\n",
    "df['Oxophos']['C00003'] = 2\n",
    "df['Oxophos']['C00011'] = 1"
   ]
  },
  {
   "cell_type": "code",
   "execution_count": 37,
   "metadata": {
    "scrolled": true
   },
   "outputs": [],
   "source": [
    "BIOMASS = pd.read_csv('../csv/amino_acid.csv',index_col=0)\n",
    "df_Biomass =  pd.Series(np.zeros(df.shape[0]), index=df.index)\n",
    "\n",
    "for i in BIOMASS.index:\n",
    "    df_Biomass[BIOMASS.T[i]['C_num']] = BIOMASS.T[i]['flux']\n",
    "    \n",
    "df_Biomass['C00668'] = -0.27519\n",
    "df_Biomass['C00119'] = (-0.039036) + (-0.036117) + (-0.053446)"
   ]
  },
  {
   "cell_type": "code",
   "execution_count": 38,
   "metadata": {},
   "outputs": [],
   "source": [
    "df_new = pd.concat([df_Biomass.T, df], axis=1)\n",
    "df_new = df_new.rename(columns={0: 'BIOMASS'})\n",
    "df_new = df_new.drop([\n",
    "    'C00001','C00009','C00080','C00138','C00139','C15602','C15603', \n",
    "#     'C00231'\n",
    "])"
   ]
  },
  {
   "cell_type": "code",
   "execution_count": 39,
   "metadata": {
    "scrolled": true
   },
   "outputs": [],
   "source": [
    "def fba(glc, ox):\n",
    "    x = []\n",
    "    for i in df_new.columns:\n",
    "        if (\n",
    "                (i=='Oxophos') or (i=='R01899') or (i=='R00268') or (i=='R10343') or (i=='R02164') or (i=='R00835') or \n",
    "                (i=='R02035') or (i=='ATP_Exchange') or (i=='AMP_Exchange') or (i=='CO2_output')\n",
    "        ):\n",
    "            x.append(LpVariable(i, lowBound=0,upBound=10000, cat='Continuous'))\n",
    "\n",
    "        elif (i=='Lactate_output'):\n",
    "            x.append(LpVariable(i, lowBound=0, upBound=10000, cat='Continuous'))\n",
    "            \n",
    "        elif (i=='BIOMASS'):\n",
    "            x.append(LpVariable(i, lowBound=0, upBound=100, cat='Continuous'))\n",
    "        \n",
    "        elif (i=='Oxygen_input'):\n",
    "            x.append(LpVariable(i, lowBound=ox, upBound=ox, cat='Continuous'))\n",
    "        \n",
    "        elif (i=='Glucose_input'):\n",
    "            x.append(LpVariable(i, lowBound=glc, upBound=glc, cat='Continuous'))\n",
    "\n",
    "        elif (i=='Glutamate_input'):\n",
    "            x.append(LpVariable(i, lowBound=0, upBound=100, cat='Continuous'))\n",
    "            \n",
    "        elif (i=='Ammonia_input'):\n",
    "            x.append(LpVariable(i, lowBound=-10000, upBound=10000, cat='Continuous'))\n",
    "              \n",
    "        elif (\n",
    "            (i=='Succinate_output') or (i=='Malate_output') or (i=='Fumarate_output') or (i=='Acetate_output')\n",
    "        ):\n",
    "            x.append(LpVariable(i, lowBound=0, upBound=50, cat='Continuous'))\n",
    "                \n",
    "        elif (i=='R00200') or (i=='R01196') or (i=='R01197') or (i=='R00405'):\n",
    "            x.append(LpVariable(i, lowBound=-10000, upBound=0, cat='Continuous'))\n",
    "\n",
    "        else:\n",
    "            x.append(LpVariable(i, lowBound=-10000, upBound=10000, cat='Continuous'))\n",
    "\n",
    "    m = LpProblem(sense=LpMaximize)\n",
    "    m += x[0]\n",
    "\n",
    "    for i in np.dot(df_new, x):\n",
    "        m += i == 0\n",
    "\n",
    "    status = m.solve()\n",
    "    if (LpStatus[status]) == 'Infeasible':\n",
    "        print(i)\n",
    "        return 100, 100\n",
    "\n",
    "    y = []\n",
    "    for i in x:\n",
    "        y.append(i.value())\n",
    "\n",
    "    j = pd.DataFrame(y, index=[str(i) for i in x]).T\n",
    "    \n",
    "    return np.array([j['BIOMASS'][0], j['Lactate_output'][0]])\n",
    "#                      j['Ammonia_output'][0]])"
   ]
  },
  {
   "cell_type": "code",
   "execution_count": 40,
   "metadata": {},
   "outputs": [],
   "source": [
    "def f(x):\n",
    "    x1, x2, x3, y1, y2, y3 = x\n",
    "    h =[\n",
    "        fba(x1, y1), \n",
    "        fba(x2, y2), \n",
    "        fba(x3, y3)    \n",
    "    ]\n",
    "    \n",
    "    p = pd.DataFrame(h, index=['Con', 'CloneA', 'CloneB'], columns=['Biomass', 'Lactate'])\n",
    "    v = np.sum(np.abs(p['Biomass']/p['Biomass'].mean() - Gr)) + np.sum(np.abs(p['Lactate']/p['Lactate'].mean() - Lac))\n",
    "    \n",
    "    return v"
   ]
  },
  {
   "cell_type": "code",
   "execution_count": 41,
   "metadata": {},
   "outputs": [],
   "source": [
    "x0 = list(slope.loc['Glucose'].values)+[0.01 for i in range(0, 3)]"
   ]
  },
  {
   "cell_type": "code",
   "execution_count": 42,
   "metadata": {},
   "outputs": [
    {
     "data": {
      "text/plain": [
       "[0.0846460393271493,\n",
       " 0.0378590327677735,\n",
       " 0.014287987036586668,\n",
       " 0.01,\n",
       " 0.01,\n",
       " 0.01]"
      ]
     },
     "execution_count": 42,
     "metadata": {},
     "output_type": "execute_result"
    }
   ],
   "source": [
    "x0"
   ]
  },
  {
   "cell_type": "code",
   "execution_count": 43,
   "metadata": {
    "scrolled": false
   },
   "outputs": [],
   "source": [
    "res1 = optimize.minimize(\n",
    "    f, \n",
    "    x0,\n",
    "    method='Nelder-Mead'\n",
    ")"
   ]
  },
  {
   "cell_type": "code",
   "execution_count": 44,
   "metadata": {},
   "outputs": [
    {
     "data": {
      "text/plain": [
       " final_simplex: (array([[0.00988934, 0.04031372, 0.02230024, 0.01149208, 0.01626085,\n",
       "        0.0130115 ],\n",
       "       [0.00988857, 0.04031964, 0.02230158, 0.01149357, 0.01626622,\n",
       "        0.01300857],\n",
       "       [0.00988635, 0.04031591, 0.02230359, 0.01149354, 0.01626468,\n",
       "        0.0130116 ],\n",
       "       [0.00988649, 0.0403099 , 0.0223037 , 0.01149584, 0.0162669 ,\n",
       "        0.01301982],\n",
       "       [0.00988625, 0.04031086, 0.02229899, 0.01149391, 0.01626469,\n",
       "        0.01301055],\n",
       "       [0.00988929, 0.04031712, 0.02230177, 0.01149366, 0.01626747,\n",
       "        0.01300442],\n",
       "       [0.00988783, 0.04032046, 0.02230207, 0.01149273, 0.01626326,\n",
       "        0.01301083]]), array([0.21170289, 0.21173381, 0.21173605, 0.21174212, 0.21175402,\n",
       "       0.21179324, 0.21179526]))\n",
       "           fun: 0.21170288881494032\n",
       "       message: 'Optimization terminated successfully.'\n",
       "          nfev: 308\n",
       "           nit: 192\n",
       "        status: 0\n",
       "       success: True\n",
       "             x: array([0.00988934, 0.04031372, 0.02230024, 0.01149208, 0.01626085,\n",
       "       0.0130115 ])"
      ]
     },
     "execution_count": 44,
     "metadata": {},
     "output_type": "execute_result"
    }
   ],
   "source": [
    "res1"
   ]
  },
  {
   "cell_type": "code",
   "execution_count": 45,
   "metadata": {},
   "outputs": [],
   "source": [
    "x1, x2, x3, y1, y2, y3 = res1.x"
   ]
  },
  {
   "cell_type": "code",
   "execution_count": 46,
   "metadata": {},
   "outputs": [],
   "source": [
    "def fba_result(glc, ox):\n",
    "    x = []\n",
    "    for i in df_new.columns:\n",
    "        if (\n",
    "                (i=='Oxophos') or (i=='R01899') or (i=='R00268') or (i=='R10343') or (i=='R02164') or (i=='R00835') or (i=='R02035') or\n",
    "                (i=='ATP_Exchange') or (i=='AMP_Exchange') or (i=='Glutamate_output') or (i=='CO2_output') or (i=='Ammonia_output')\n",
    "        ):\n",
    "            x.append(LpVariable(i, lowBound=0,upBound=10000, cat='Continuous'))\n",
    "\n",
    "        elif (i=='Lactate_output'):\n",
    "            x.append(LpVariable(i, lowBound=0, upBound=10000, cat='Continuous'))\n",
    "            \n",
    "        elif (i=='BIOMASS'):\n",
    "            x.append(LpVariable(i, lowBound=0, upBound=100, cat='Continuous'))\n",
    "        \n",
    "        elif (i=='Oxygen_input'):\n",
    "            x.append(LpVariable(i, lowBound=ox, upBound=ox, cat='Continuous'))\n",
    "        \n",
    "        elif (i=='Glucose_input'):\n",
    "            x.append(LpVariable(i, lowBound=glc, upBound=glc, cat='Continuous'))\n",
    "\n",
    "        elif (i=='Glutamate_input'):\n",
    "            x.append(LpVariable(i, lowBound=0, upBound=100, cat='Continuous'))\n",
    "            \n",
    "        elif (i=='Ammonia_input'):\n",
    "            x.append(LpVariable(i, lowBound=-10000, upBound=10000, cat='Continuous'))\n",
    "              \n",
    "        elif (\n",
    "            (i=='Succinate_output') or (i=='Malate_output') or (i=='Fumarate_output') or (i=='Acetate_output')\n",
    "        ):\n",
    "            x.append(LpVariable(i, lowBound=0, upBound=50, cat='Continuous'))\n",
    "                \n",
    "        elif (i=='R00200') or (i=='R01196') or (i=='R01197') or (i=='R00405'):\n",
    "            x.append(LpVariable(i, lowBound=-10000, upBound=0, cat='Continuous'))\n",
    "\n",
    "        else:\n",
    "            x.append(LpVariable(i, lowBound=-10000, upBound=10000, cat='Continuous'))\n",
    "\n",
    "    m = LpProblem(sense=LpMaximize)\n",
    "    m += x[0]\n",
    "\n",
    "    for i in np.dot(df_new, x):\n",
    "        m += i == 0\n",
    "\n",
    "    status = m.solve()\n",
    "    if (LpStatus[status]) == 'Infeasible':\n",
    "        print(i)\n",
    "        return\n",
    "\n",
    "    y = []\n",
    "    for i in x:\n",
    "        y.append(i.value())\n",
    "\n",
    "    j = pd.DataFrame(y, index=[str(i) for i in x]).T\n",
    "    \n",
    "    return j"
   ]
  },
  {
   "cell_type": "code",
   "execution_count": 47,
   "metadata": {},
   "outputs": [],
   "source": [
    "result = pd.concat([fba_result(x1, y1).T, fba_result(x2, y2).T, fba_result(x3, y3).T], axis=1)\n",
    "result.columns = ['Control', 'Clone A', 'Clone B']"
   ]
  },
  {
   "cell_type": "code",
   "execution_count": 48,
   "metadata": {
    "scrolled": false
   },
   "outputs": [],
   "source": [
    "# result.to_csv('../result/fba_abs.csv')"
   ]
  },
  {
   "cell_type": "code",
   "execution_count": 49,
   "metadata": {
    "scrolled": false
   },
   "outputs": [
    {
     "data": {
      "text/html": [
       "<div>\n",
       "<style scoped>\n",
       "    .dataframe tbody tr th:only-of-type {\n",
       "        vertical-align: middle;\n",
       "    }\n",
       "\n",
       "    .dataframe tbody tr th {\n",
       "        vertical-align: top;\n",
       "    }\n",
       "\n",
       "    .dataframe thead th {\n",
       "        text-align: right;\n",
       "    }\n",
       "</style>\n",
       "<table border=\"1\" class=\"dataframe\">\n",
       "  <thead>\n",
       "    <tr style=\"text-align: right;\">\n",
       "      <th></th>\n",
       "      <th>Control</th>\n",
       "      <th>Clone A</th>\n",
       "      <th>Clone B</th>\n",
       "    </tr>\n",
       "  </thead>\n",
       "  <tbody>\n",
       "    <tr>\n",
       "      <th>BIOMASS</th>\n",
       "      <td>0.002848</td>\n",
       "      <td>0.004030</td>\n",
       "      <td>0.003225</td>\n",
       "    </tr>\n",
       "    <tr>\n",
       "      <th>R00200</th>\n",
       "      <td>-0.013259</td>\n",
       "      <td>-0.071403</td>\n",
       "      <td>-0.037219</td>\n",
       "    </tr>\n",
       "    <tr>\n",
       "      <th>R00268</th>\n",
       "      <td>0.000000</td>\n",
       "      <td>0.000000</td>\n",
       "      <td>0.000000</td>\n",
       "    </tr>\n",
       "    <tr>\n",
       "      <th>R00341</th>\n",
       "      <td>-0.001800</td>\n",
       "      <td>-0.002547</td>\n",
       "      <td>-0.002038</td>\n",
       "    </tr>\n",
       "    <tr>\n",
       "      <th>R00342</th>\n",
       "      <td>0.001023</td>\n",
       "      <td>0.001448</td>\n",
       "      <td>0.001158</td>\n",
       "    </tr>\n",
       "    <tr>\n",
       "      <th>R00351</th>\n",
       "      <td>0.000000</td>\n",
       "      <td>0.000000</td>\n",
       "      <td>0.000000</td>\n",
       "    </tr>\n",
       "    <tr>\n",
       "      <th>R00405</th>\n",
       "      <td>0.000000</td>\n",
       "      <td>0.000000</td>\n",
       "      <td>0.000000</td>\n",
       "    </tr>\n",
       "    <tr>\n",
       "      <th>R00658</th>\n",
       "      <td>0.015060</td>\n",
       "      <td>0.073950</td>\n",
       "      <td>0.039257</td>\n",
       "    </tr>\n",
       "    <tr>\n",
       "      <th>R00703</th>\n",
       "      <td>-0.011819</td>\n",
       "      <td>-0.069365</td>\n",
       "      <td>-0.035589</td>\n",
       "    </tr>\n",
       "    <tr>\n",
       "      <th>R01015</th>\n",
       "      <td>-0.008983</td>\n",
       "      <td>-0.039032</td>\n",
       "      <td>-0.021275</td>\n",
       "    </tr>\n",
       "    <tr>\n",
       "      <th>R01049</th>\n",
       "      <td>0.000366</td>\n",
       "      <td>0.000518</td>\n",
       "      <td>0.000415</td>\n",
       "    </tr>\n",
       "    <tr>\n",
       "      <th>R01056</th>\n",
       "      <td>-0.000244</td>\n",
       "      <td>-0.000345</td>\n",
       "      <td>-0.000276</td>\n",
       "    </tr>\n",
       "    <tr>\n",
       "      <th>R01061</th>\n",
       "      <td>0.017845</td>\n",
       "      <td>0.077891</td>\n",
       "      <td>0.042411</td>\n",
       "    </tr>\n",
       "    <tr>\n",
       "      <th>R01070</th>\n",
       "      <td>0.008983</td>\n",
       "      <td>0.039032</td>\n",
       "      <td>0.021275</td>\n",
       "    </tr>\n",
       "    <tr>\n",
       "      <th>R01082</th>\n",
       "      <td>-0.001023</td>\n",
       "      <td>-0.001448</td>\n",
       "      <td>-0.001158</td>\n",
       "    </tr>\n",
       "    <tr>\n",
       "      <th>R01196</th>\n",
       "      <td>0.000000</td>\n",
       "      <td>0.000000</td>\n",
       "      <td>0.000000</td>\n",
       "    </tr>\n",
       "    <tr>\n",
       "      <th>R01197</th>\n",
       "      <td>0.000000</td>\n",
       "      <td>0.000000</td>\n",
       "      <td>0.000000</td>\n",
       "    </tr>\n",
       "    <tr>\n",
       "      <th>R01325</th>\n",
       "      <td>0.000000</td>\n",
       "      <td>0.000000</td>\n",
       "      <td>0.000000</td>\n",
       "    </tr>\n",
       "    <tr>\n",
       "      <th>R01512</th>\n",
       "      <td>-0.017845</td>\n",
       "      <td>-0.077891</td>\n",
       "      <td>-0.042411</td>\n",
       "    </tr>\n",
       "    <tr>\n",
       "      <th>R01518</th>\n",
       "      <td>-0.015060</td>\n",
       "      <td>-0.073950</td>\n",
       "      <td>-0.039257</td>\n",
       "    </tr>\n",
       "    <tr>\n",
       "      <th>R01528</th>\n",
       "      <td>0.000000</td>\n",
       "      <td>0.000000</td>\n",
       "      <td>0.000000</td>\n",
       "    </tr>\n",
       "    <tr>\n",
       "      <th>R01529</th>\n",
       "      <td>-0.000244</td>\n",
       "      <td>-0.000345</td>\n",
       "      <td>-0.000276</td>\n",
       "    </tr>\n",
       "    <tr>\n",
       "      <th>R01641</th>\n",
       "      <td>0.000122</td>\n",
       "      <td>0.000173</td>\n",
       "      <td>0.000138</td>\n",
       "    </tr>\n",
       "    <tr>\n",
       "      <th>R01786</th>\n",
       "      <td>0.009889</td>\n",
       "      <td>0.040314</td>\n",
       "      <td>0.022300</td>\n",
       "    </tr>\n",
       "    <tr>\n",
       "      <th>R01830</th>\n",
       "      <td>0.000122</td>\n",
       "      <td>0.000173</td>\n",
       "      <td>0.000138</td>\n",
       "    </tr>\n",
       "    <tr>\n",
       "      <th>R01899</th>\n",
       "      <td>0.000000</td>\n",
       "      <td>0.000000</td>\n",
       "      <td>0.000000</td>\n",
       "    </tr>\n",
       "    <tr>\n",
       "      <th>R01900</th>\n",
       "      <td>0.000000</td>\n",
       "      <td>0.000000</td>\n",
       "      <td>0.000000</td>\n",
       "    </tr>\n",
       "    <tr>\n",
       "      <th>R02035</th>\n",
       "      <td>0.000000</td>\n",
       "      <td>0.000000</td>\n",
       "      <td>0.000000</td>\n",
       "    </tr>\n",
       "    <tr>\n",
       "      <th>R02164</th>\n",
       "      <td>0.000000</td>\n",
       "      <td>0.000000</td>\n",
       "      <td>0.000000</td>\n",
       "    </tr>\n",
       "    <tr>\n",
       "      <th>R02740</th>\n",
       "      <td>0.009106</td>\n",
       "      <td>0.039205</td>\n",
       "      <td>0.021413</td>\n",
       "    </tr>\n",
       "    <tr>\n",
       "      <th>R04779</th>\n",
       "      <td>0.008983</td>\n",
       "      <td>0.039032</td>\n",
       "      <td>0.021275</td>\n",
       "    </tr>\n",
       "    <tr>\n",
       "      <th>Glucose_input</th>\n",
       "      <td>0.009889</td>\n",
       "      <td>0.040314</td>\n",
       "      <td>0.022300</td>\n",
       "    </tr>\n",
       "    <tr>\n",
       "      <th>Oxygen_input</th>\n",
       "      <td>0.011492</td>\n",
       "      <td>0.016261</td>\n",
       "      <td>0.013012</td>\n",
       "    </tr>\n",
       "    <tr>\n",
       "      <th>CO2_output</th>\n",
       "      <td>0.008669</td>\n",
       "      <td>0.012266</td>\n",
       "      <td>0.009815</td>\n",
       "    </tr>\n",
       "    <tr>\n",
       "      <th>Lactate_output</th>\n",
       "      <td>0.011819</td>\n",
       "      <td>0.069365</td>\n",
       "      <td>0.035589</td>\n",
       "    </tr>\n",
       "    <tr>\n",
       "      <th>Acetate_output</th>\n",
       "      <td>0.000000</td>\n",
       "      <td>0.000000</td>\n",
       "      <td>0.000000</td>\n",
       "    </tr>\n",
       "    <tr>\n",
       "      <th>Glutamate_input</th>\n",
       "      <td>0.004225</td>\n",
       "      <td>0.005979</td>\n",
       "      <td>0.004784</td>\n",
       "    </tr>\n",
       "    <tr>\n",
       "      <th>Ammonia_input</th>\n",
       "      <td>-0.003202</td>\n",
       "      <td>-0.004531</td>\n",
       "      <td>-0.003626</td>\n",
       "    </tr>\n",
       "    <tr>\n",
       "      <th>Glu_Exchange</th>\n",
       "      <td>0.000000</td>\n",
       "      <td>0.000000</td>\n",
       "      <td>0.000000</td>\n",
       "    </tr>\n",
       "    <tr>\n",
       "      <th>acetyl_CoA_hydrolase</th>\n",
       "      <td>-0.000133</td>\n",
       "      <td>-0.000188</td>\n",
       "      <td>-0.000150</td>\n",
       "    </tr>\n",
       "    <tr>\n",
       "      <th>NADP_Exchange</th>\n",
       "      <td>0.008925</td>\n",
       "      <td>0.012628</td>\n",
       "      <td>0.010105</td>\n",
       "    </tr>\n",
       "    <tr>\n",
       "      <th>ADP_Exchange</th>\n",
       "      <td>0.005823</td>\n",
       "      <td>0.060881</td>\n",
       "      <td>0.028799</td>\n",
       "    </tr>\n",
       "    <tr>\n",
       "      <th>AMP_Exchange</th>\n",
       "      <td>0.000366</td>\n",
       "      <td>0.000518</td>\n",
       "      <td>0.000415</td>\n",
       "    </tr>\n",
       "    <tr>\n",
       "      <th>R00835</th>\n",
       "      <td>0.000000</td>\n",
       "      <td>0.000000</td>\n",
       "      <td>0.000000</td>\n",
       "    </tr>\n",
       "    <tr>\n",
       "      <th>R08575</th>\n",
       "      <td>-0.000122</td>\n",
       "      <td>-0.000173</td>\n",
       "      <td>-0.000138</td>\n",
       "    </tr>\n",
       "    <tr>\n",
       "      <th>R00243</th>\n",
       "      <td>0.004225</td>\n",
       "      <td>0.005979</td>\n",
       "      <td>0.004784</td>\n",
       "    </tr>\n",
       "    <tr>\n",
       "      <th>Oxophos</th>\n",
       "      <td>0.011492</td>\n",
       "      <td>0.016261</td>\n",
       "      <td>0.013012</td>\n",
       "    </tr>\n",
       "  </tbody>\n",
       "</table>\n",
       "</div>"
      ],
      "text/plain": [
       "                       Control   Clone A   Clone B\n",
       "BIOMASS               0.002848  0.004030  0.003225\n",
       "R00200               -0.013259 -0.071403 -0.037219\n",
       "R00268                0.000000  0.000000  0.000000\n",
       "R00341               -0.001800 -0.002547 -0.002038\n",
       "R00342                0.001023  0.001448  0.001158\n",
       "R00351                0.000000  0.000000  0.000000\n",
       "R00405                0.000000  0.000000  0.000000\n",
       "R00658                0.015060  0.073950  0.039257\n",
       "R00703               -0.011819 -0.069365 -0.035589\n",
       "R01015               -0.008983 -0.039032 -0.021275\n",
       "R01049                0.000366  0.000518  0.000415\n",
       "R01056               -0.000244 -0.000345 -0.000276\n",
       "R01061                0.017845  0.077891  0.042411\n",
       "R01070                0.008983  0.039032  0.021275\n",
       "R01082               -0.001023 -0.001448 -0.001158\n",
       "R01196                0.000000  0.000000  0.000000\n",
       "R01197                0.000000  0.000000  0.000000\n",
       "R01325                0.000000  0.000000  0.000000\n",
       "R01512               -0.017845 -0.077891 -0.042411\n",
       "R01518               -0.015060 -0.073950 -0.039257\n",
       "R01528                0.000000  0.000000  0.000000\n",
       "R01529               -0.000244 -0.000345 -0.000276\n",
       "R01641                0.000122  0.000173  0.000138\n",
       "R01786                0.009889  0.040314  0.022300\n",
       "R01830                0.000122  0.000173  0.000138\n",
       "R01899                0.000000  0.000000  0.000000\n",
       "R01900                0.000000  0.000000  0.000000\n",
       "R02035                0.000000  0.000000  0.000000\n",
       "R02164                0.000000  0.000000  0.000000\n",
       "R02740                0.009106  0.039205  0.021413\n",
       "R04779                0.008983  0.039032  0.021275\n",
       "Glucose_input         0.009889  0.040314  0.022300\n",
       "Oxygen_input          0.011492  0.016261  0.013012\n",
       "CO2_output            0.008669  0.012266  0.009815\n",
       "Lactate_output        0.011819  0.069365  0.035589\n",
       "Acetate_output        0.000000  0.000000  0.000000\n",
       "Glutamate_input       0.004225  0.005979  0.004784\n",
       "Ammonia_input        -0.003202 -0.004531 -0.003626\n",
       "Glu_Exchange          0.000000  0.000000  0.000000\n",
       "acetyl_CoA_hydrolase -0.000133 -0.000188 -0.000150\n",
       "NADP_Exchange         0.008925  0.012628  0.010105\n",
       "ADP_Exchange          0.005823  0.060881  0.028799\n",
       "AMP_Exchange          0.000366  0.000518  0.000415\n",
       "R00835                0.000000  0.000000  0.000000\n",
       "R08575               -0.000122 -0.000173 -0.000138\n",
       "R00243                0.004225  0.005979  0.004784\n",
       "Oxophos               0.011492  0.016261  0.013012"
      ]
     },
     "execution_count": 49,
     "metadata": {},
     "output_type": "execute_result"
    }
   ],
   "source": [
    "result"
   ]
  },
  {
   "cell_type": "code",
   "execution_count": 22,
   "metadata": {},
   "outputs": [
    {
     "data": {
      "text/plain": [
       "Control    1.000000\n",
       "Clone A    1.760117\n",
       "Clone B    1.294255\n",
       "Name: BIOMASS, dtype: float64"
      ]
     },
     "execution_count": 22,
     "metadata": {},
     "output_type": "execute_result"
    }
   ],
   "source": [
    "result.loc['BIOMASS']/result.loc['BIOMASS'][0]"
   ]
  },
  {
   "cell_type": "code",
   "execution_count": 23,
   "metadata": {},
   "outputs": [
    {
     "data": {
      "text/plain": [
       "Control    1.000000\n",
       "Clone A    5.870009\n",
       "Clone B    3.012105\n",
       "Name: Lactate_output, dtype: float64"
      ]
     },
     "execution_count": 23,
     "metadata": {},
     "output_type": "execute_result"
    }
   ],
   "source": [
    "result.loc['Lactate_output']/result.loc['Lactate_output'][0]"
   ]
  },
  {
   "cell_type": "code",
   "execution_count": 24,
   "metadata": {},
   "outputs": [
    {
     "data": {
      "text/plain": [
       "array([1.        , 1.76      , 1.29411765])"
      ]
     },
     "execution_count": 24,
     "metadata": {},
     "output_type": "execute_result"
    }
   ],
   "source": [
    "Gr/Gr[0]"
   ]
  },
  {
   "cell_type": "code",
   "execution_count": 25,
   "metadata": {},
   "outputs": [
    {
     "data": {
      "text/plain": [
       "array([1.        , 5.86994594, 3.0120277 ])"
      ]
     },
     "execution_count": 25,
     "metadata": {},
     "output_type": "execute_result"
    }
   ],
   "source": [
    "Lac/Lac[0]"
   ]
  },
  {
   "cell_type": "code",
   "execution_count": null,
   "metadata": {},
   "outputs": [],
   "source": []
  }
 ],
 "metadata": {
  "kernelspec": {
   "display_name": "Python 3",
   "language": "python",
   "name": "python3"
  },
  "language_info": {
   "codemirror_mode": {
    "name": "ipython",
    "version": 3
   },
   "file_extension": ".py",
   "mimetype": "text/x-python",
   "name": "python",
   "nbconvert_exporter": "python",
   "pygments_lexer": "ipython3",
   "version": "3.6.5"
  }
 },
 "nbformat": 4,
 "nbformat_minor": 2
}
