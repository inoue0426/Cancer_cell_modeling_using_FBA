{
 "cells": [
  {
   "cell_type": "code",
   "execution_count": 1,
   "metadata": {},
   "outputs": [],
   "source": [
    "import pandas as pd\n",
    "import re"
   ]
  },
  {
   "cell_type": "code",
   "execution_count": 2,
   "metadata": {
    "scrolled": true
   },
   "outputs": [],
   "source": [
    "t = pd.read_excel('./t.xlsx')"
   ]
  },
  {
   "cell_type": "code",
   "execution_count": 3,
   "metadata": {
    "scrolled": true
   },
   "outputs": [
    {
     "data": {
      "text/html": [
       "<div>\n",
       "<style scoped>\n",
       "    .dataframe tbody tr th:only-of-type {\n",
       "        vertical-align: middle;\n",
       "    }\n",
       "\n",
       "    .dataframe tbody tr th {\n",
       "        vertical-align: top;\n",
       "    }\n",
       "\n",
       "    .dataframe thead th {\n",
       "        text-align: right;\n",
       "    }\n",
       "</style>\n",
       "<table border=\"1\" class=\"dataframe\">\n",
       "  <thead>\n",
       "    <tr style=\"text-align: right;\">\n",
       "      <th></th>\n",
       "      <th>Reaction</th>\n",
       "      <th>name</th>\n",
       "    </tr>\n",
       "  </thead>\n",
       "  <tbody>\n",
       "    <tr>\n",
       "      <th>R00200</th>\n",
       "      <td>ATP + Pyruvate &lt;=&gt; ADP + Phosphoenolpyruvate</td>\n",
       "      <td>ATP:pyruvate_2-O-phosphotransferase</td>\n",
       "    </tr>\n",
       "    <tr>\n",
       "      <th>R00268</th>\n",
       "      <td>Oxalosuccinate &lt;=&gt; 2-Oxoglutarate + CO2</td>\n",
       "      <td>oxalosuccinate_carboxy-lyase</td>\n",
       "    </tr>\n",
       "    <tr>\n",
       "      <th>R00341</th>\n",
       "      <td>ATP + Oxaloacetate &lt;=&gt; ADP + Phosphoenolpyruva...</td>\n",
       "      <td>ATP:oxaloacetate_carboxy-lyase</td>\n",
       "    </tr>\n",
       "    <tr>\n",
       "      <th>R00342</th>\n",
       "      <td>(S)-Malate + NAD+ &lt;=&gt; Oxaloacetate + NADH + H+</td>\n",
       "      <td>(S)-malate:NAD+_oxidoreductase</td>\n",
       "    </tr>\n",
       "    <tr>\n",
       "      <th>R00351</th>\n",
       "      <td>Citrate + CoA &lt;=&gt; Acetyl-CoA + H2O + Oxaloacetate</td>\n",
       "      <td>acetyl-CoA:oxaloacetate_c-acetyltransferase</td>\n",
       "    </tr>\n",
       "    <tr>\n",
       "      <th>R00658</th>\n",
       "      <td>2-Phospho-D-glycerate &lt;=&gt; Phosphoenolpyruvate ...</td>\n",
       "      <td>2-phospho-D-glycerate_hydro-lyase</td>\n",
       "    </tr>\n",
       "    <tr>\n",
       "      <th>R00703</th>\n",
       "      <td>(S)-Lactate + NAD+ &lt;=&gt; Pyruvate + NADH + H+</td>\n",
       "      <td>(S)-Lactate:NAD+_oxidoreductase</td>\n",
       "    </tr>\n",
       "    <tr>\n",
       "      <th>R01015</th>\n",
       "      <td>D-Glyceraldehyde-3-phosphate &lt;=&gt; Glycerone-pho...</td>\n",
       "      <td>D-glyceraldehyde-3-phosphate_aldose-ketose-iso...</td>\n",
       "    </tr>\n",
       "    <tr>\n",
       "      <th>R01049</th>\n",
       "      <td>ATP + D-Ribose-5-phosphate &lt;=&gt; AMP + 5-Phospho...</td>\n",
       "      <td>ATP:D-ribose-5-phosphate_diphosphotransferase</td>\n",
       "    </tr>\n",
       "    <tr>\n",
       "      <th>R01056</th>\n",
       "      <td>D-Ribose-5-phosphate &lt;=&gt; D-Ribulose-5-phosphate</td>\n",
       "      <td>D-ribose-5-phosphate_aldose-ketose-isomerase</td>\n",
       "    </tr>\n",
       "    <tr>\n",
       "      <th>R01061</th>\n",
       "      <td>D-Glyceraldehyde-3-phosphate + Orthophosphate ...</td>\n",
       "      <td>D-glyceraldehyde-3-phosphate:NAD+_oxidoreductase</td>\n",
       "    </tr>\n",
       "    <tr>\n",
       "      <th>R01070</th>\n",
       "      <td>beta-D-Fructose-1_6-bisphosphate &lt;=&gt; Glycerone...</td>\n",
       "      <td>beta-D-fructose-1_6-bisphosphate_D-glyceraldeh...</td>\n",
       "    </tr>\n",
       "    <tr>\n",
       "      <th>R01082</th>\n",
       "      <td>(S)-Malate &lt;=&gt; Fumarate + H2O</td>\n",
       "      <td>(S)-malate_hydro-lyase</td>\n",
       "    </tr>\n",
       "    <tr>\n",
       "      <th>R01196</th>\n",
       "      <td>Reduced-ferredoxin + Acetyl-CoA + CO2 + H+ &lt;=&gt;...</td>\n",
       "      <td>pyruvate:ferredoxin_2-oxidoreductase</td>\n",
       "    </tr>\n",
       "    <tr>\n",
       "      <th>R01325</th>\n",
       "      <td>Citrate &lt;=&gt; cis-Aconitate + H2O</td>\n",
       "      <td>citrate_hydro-lyase</td>\n",
       "    </tr>\n",
       "    <tr>\n",
       "      <th>R01512</th>\n",
       "      <td>ATP + 3-Phospho-D-glycerate &lt;=&gt; ADP + 3-Phosph...</td>\n",
       "      <td>ATP:3-phospho-D-glycerate_1-phosphotransferase</td>\n",
       "    </tr>\n",
       "    <tr>\n",
       "      <th>R01518</th>\n",
       "      <td>2-Phospho-D-glycerate &lt;=&gt; 3-Phospho-D-glycerate</td>\n",
       "      <td>D-phosphoglycerate_2_3-phosphomutase</td>\n",
       "    </tr>\n",
       "    <tr>\n",
       "      <th>R01529</th>\n",
       "      <td>D-Ribulose-5-phosphate &lt;=&gt; D-Xylulose-5-phosphate</td>\n",
       "      <td>D-Ribulose-5-phosphate-3-epimerase</td>\n",
       "    </tr>\n",
       "    <tr>\n",
       "      <th>R01641</th>\n",
       "      <td>Sedoheptulose-7-phosphate + D-Glyceraldehyde-3...</td>\n",
       "      <td>sedoheptulose-7-phosphate:D-glyceraldehyde-3-p...</td>\n",
       "    </tr>\n",
       "    <tr>\n",
       "      <th>R01786</th>\n",
       "      <td>ATP + alpha-D-Glucose &lt;=&gt; ADP + alpha-D-Glucos...</td>\n",
       "      <td>ATP:alpha-D-glucose_6-phosphotransferase</td>\n",
       "    </tr>\n",
       "    <tr>\n",
       "      <th>R01830</th>\n",
       "      <td>beta-D-Fructose-6-phosphate + D-Glyceraldehyde...</td>\n",
       "      <td>beta-D-Fructose_6-phosphate:D-glyceraldehyde-3...</td>\n",
       "    </tr>\n",
       "    <tr>\n",
       "      <th>R01899</th>\n",
       "      <td>Isocitrate + NADP+ &lt;=&gt; Oxalosuccinate + NADPH ...</td>\n",
       "      <td>Isocitrate:NADP+_oxidoreductase</td>\n",
       "    </tr>\n",
       "    <tr>\n",
       "      <th>R01900</th>\n",
       "      <td>Isocitrate &lt;=&gt; cis-Aconitate + H2O</td>\n",
       "      <td>isocitrate_hydro-lyase</td>\n",
       "    </tr>\n",
       "    <tr>\n",
       "      <th>R02740</th>\n",
       "      <td>alpha-D-Glucose-6-phosphate &lt;=&gt; beta-D-Fructos...</td>\n",
       "      <td>alpha-D-Glucose_6-phosphate_ketol-isomerase</td>\n",
       "    </tr>\n",
       "    <tr>\n",
       "      <th>R04779</th>\n",
       "      <td>ATP + beta-D-Fructose-6-phosphate &lt;=&gt; ADP + be...</td>\n",
       "      <td>ATP:D-fructose-6-phosphate_1-phosphotransferase</td>\n",
       "    </tr>\n",
       "    <tr>\n",
       "      <th>R08575</th>\n",
       "      <td>Sedoheptulose-7-phosphate + D-Glyceraldehyde-3...</td>\n",
       "      <td>sedoheptulose-7-phosphate:D-glyceraldehyde-3-p...</td>\n",
       "    </tr>\n",
       "  </tbody>\n",
       "</table>\n",
       "</div>"
      ],
      "text/plain": [
       "                                                 Reaction  \\\n",
       "R00200       ATP + Pyruvate <=> ADP + Phosphoenolpyruvate   \n",
       "R00268            Oxalosuccinate <=> 2-Oxoglutarate + CO2   \n",
       "R00341  ATP + Oxaloacetate <=> ADP + Phosphoenolpyruva...   \n",
       "R00342     (S)-Malate + NAD+ <=> Oxaloacetate + NADH + H+   \n",
       "R00351  Citrate + CoA <=> Acetyl-CoA + H2O + Oxaloacetate   \n",
       "R00658  2-Phospho-D-glycerate <=> Phosphoenolpyruvate ...   \n",
       "R00703        (S)-Lactate + NAD+ <=> Pyruvate + NADH + H+   \n",
       "R01015  D-Glyceraldehyde-3-phosphate <=> Glycerone-pho...   \n",
       "R01049  ATP + D-Ribose-5-phosphate <=> AMP + 5-Phospho...   \n",
       "R01056    D-Ribose-5-phosphate <=> D-Ribulose-5-phosphate   \n",
       "R01061  D-Glyceraldehyde-3-phosphate + Orthophosphate ...   \n",
       "R01070  beta-D-Fructose-1_6-bisphosphate <=> Glycerone...   \n",
       "R01082                      (S)-Malate <=> Fumarate + H2O   \n",
       "R01196  Reduced-ferredoxin + Acetyl-CoA + CO2 + H+ <=>...   \n",
       "R01325                    Citrate <=> cis-Aconitate + H2O   \n",
       "R01512  ATP + 3-Phospho-D-glycerate <=> ADP + 3-Phosph...   \n",
       "R01518    2-Phospho-D-glycerate <=> 3-Phospho-D-glycerate   \n",
       "R01529  D-Ribulose-5-phosphate <=> D-Xylulose-5-phosphate   \n",
       "R01641  Sedoheptulose-7-phosphate + D-Glyceraldehyde-3...   \n",
       "R01786  ATP + alpha-D-Glucose <=> ADP + alpha-D-Glucos...   \n",
       "R01830  beta-D-Fructose-6-phosphate + D-Glyceraldehyde...   \n",
       "R01899  Isocitrate + NADP+ <=> Oxalosuccinate + NADPH ...   \n",
       "R01900                 Isocitrate <=> cis-Aconitate + H2O   \n",
       "R02740  alpha-D-Glucose-6-phosphate <=> beta-D-Fructos...   \n",
       "R04779  ATP + beta-D-Fructose-6-phosphate <=> ADP + be...   \n",
       "R08575  Sedoheptulose-7-phosphate + D-Glyceraldehyde-3...   \n",
       "\n",
       "                                                     name  \n",
       "R00200                ATP:pyruvate_2-O-phosphotransferase  \n",
       "R00268                       oxalosuccinate_carboxy-lyase  \n",
       "R00341                     ATP:oxaloacetate_carboxy-lyase  \n",
       "R00342                     (S)-malate:NAD+_oxidoreductase  \n",
       "R00351        acetyl-CoA:oxaloacetate_c-acetyltransferase  \n",
       "R00658                  2-phospho-D-glycerate_hydro-lyase  \n",
       "R00703                    (S)-Lactate:NAD+_oxidoreductase  \n",
       "R01015  D-glyceraldehyde-3-phosphate_aldose-ketose-iso...  \n",
       "R01049      ATP:D-ribose-5-phosphate_diphosphotransferase  \n",
       "R01056       D-ribose-5-phosphate_aldose-ketose-isomerase  \n",
       "R01061   D-glyceraldehyde-3-phosphate:NAD+_oxidoreductase  \n",
       "R01070  beta-D-fructose-1_6-bisphosphate_D-glyceraldeh...  \n",
       "R01082                             (S)-malate_hydro-lyase  \n",
       "R01196               pyruvate:ferredoxin_2-oxidoreductase  \n",
       "R01325                                citrate_hydro-lyase  \n",
       "R01512     ATP:3-phospho-D-glycerate_1-phosphotransferase  \n",
       "R01518               D-phosphoglycerate_2_3-phosphomutase  \n",
       "R01529                 D-Ribulose-5-phosphate-3-epimerase  \n",
       "R01641  sedoheptulose-7-phosphate:D-glyceraldehyde-3-p...  \n",
       "R01786           ATP:alpha-D-glucose_6-phosphotransferase  \n",
       "R01830  beta-D-Fructose_6-phosphate:D-glyceraldehyde-3...  \n",
       "R01899                    Isocitrate:NADP+_oxidoreductase  \n",
       "R01900                             isocitrate_hydro-lyase  \n",
       "R02740        alpha-D-Glucose_6-phosphate_ketol-isomerase  \n",
       "R04779    ATP:D-fructose-6-phosphate_1-phosphotransferase  \n",
       "R08575  sedoheptulose-7-phosphate:D-glyceraldehyde-3-p...  "
      ]
     },
     "execution_count": 3,
     "metadata": {},
     "output_type": "execute_result"
    }
   ],
   "source": [
    "t"
   ]
  },
  {
   "cell_type": "code",
   "execution_count": 4,
   "metadata": {},
   "outputs": [
    {
     "name": "stdout",
     "output_type": "stream",
     "text": [
      "ATP Oxalosuccinate <=> 2-Oxoglutarate + CO2\n",
      "Pyruvate Oxalosuccinate <=> 2-Oxoglutarate + CO2\n"
     ]
    }
   ],
   "source": [
    "for i in t['Reaction'][0].split(' <=> ')[0].split(' + '):\n",
    "    print(i, t['Reaction'][1])"
   ]
  },
  {
   "cell_type": "code",
   "execution_count": 5,
   "metadata": {},
   "outputs": [],
   "source": [
    "reactant = []\n",
    "for i in t['Reaction']:\n",
    "    reactant.append(i.split(' <=> ')[0].split(' + '))\n",
    "    \n",
    "productant = []\n",
    "for i in t['Reaction']:\n",
    "    productant.append(i.split(' <=> ')[1].split(' + '))"
   ]
  },
  {
   "cell_type": "code",
   "execution_count": 6,
   "metadata": {},
   "outputs": [],
   "source": [
    "react = pd.DataFrame(reactant, index=list(t['name']))\n",
    "product = pd.DataFrame(productant, index=list(t['name']))"
   ]
  },
  {
   "cell_type": "code",
   "execution_count": 7,
   "metadata": {},
   "outputs": [],
   "source": [
    "r = []\n",
    "for i in react.index:\n",
    "    for l in react.T[i].dropna():\n",
    "        r.append([l, i])"
   ]
  },
  {
   "cell_type": "code",
   "execution_count": 8,
   "metadata": {},
   "outputs": [],
   "source": [
    "c = []\n",
    "for i in product.index:\n",
    "    for l in product.T[i].dropna():\n",
    "        c.append([i, l])"
   ]
  },
  {
   "cell_type": "code",
   "execution_count": 9,
   "metadata": {
    "scrolled": true
   },
   "outputs": [],
   "source": [
    "pd.concat([pd.DataFrame(r), pd.DataFrame(c)]).to_csv('./result/network.csv')"
   ]
  },
  {
   "cell_type": "code",
   "execution_count": null,
   "metadata": {},
   "outputs": [],
   "source": []
  }
 ],
 "metadata": {
  "kernelspec": {
   "display_name": "Python 3",
   "language": "python",
   "name": "python3"
  },
  "language_info": {
   "codemirror_mode": {
    "name": "ipython",
    "version": 3
   },
   "file_extension": ".py",
   "mimetype": "text/x-python",
   "name": "python",
   "nbconvert_exporter": "python",
   "pygments_lexer": "ipython3",
   "version": "3.6.5"
  }
 },
 "nbformat": 4,
 "nbformat_minor": 2
}
