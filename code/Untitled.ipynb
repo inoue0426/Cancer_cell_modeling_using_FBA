{
 "cells": [
  {
   "cell_type": "code",
   "execution_count": 1,
   "metadata": {},
   "outputs": [],
   "source": [
    "import numpy"
   ]
  },
  {
   "cell_type": "code",
   "execution_count": 3,
   "metadata": {},
   "outputs": [],
   "source": [
    "t = [\n",
    "    'R01786',\n",
    "    'R02189',\n",
    "    'R09085',\n",
    "    'R02740',\n",
    "    'R04779',\n",
    "    'R09084',\n",
    "    'R01070',\n",
    "    'R01015',\n",
    "    'R01061',\n",
    "    'R01063',\n",
    "    'R01512',\n",
    "    'R07159',\n",
    "    'R01518',\n",
    "    'R00658',\n",
    "    'R00200'\n",
    "]"
   ]
  },
  {
   "cell_type": "code",
   "execution_count": 4,
   "metadata": {},
   "outputs": [
    {
     "data": {
      "text/plain": [
       "['R01786',\n",
       " 'R02189',\n",
       " 'R09085',\n",
       " 'R02740',\n",
       " 'R04779',\n",
       " 'R09084',\n",
       " 'R01070',\n",
       " 'R01015',\n",
       " 'R01061',\n",
       " 'R01063',\n",
       " 'R01512',\n",
       " 'R07159',\n",
       " 'R01518',\n",
       " 'R00658',\n",
       " 'R00200']"
      ]
     },
     "execution_count": 4,
     "metadata": {},
     "output_type": "execute_result"
    }
   ],
   "source": [
    "t "
   ]
  },
  {
   "cell_type": "code",
   "execution_count": null,
   "metadata": {},
   "outputs": [],
   "source": []
  }
 ],
 "metadata": {
  "kernelspec": {
   "display_name": "Python 3",
   "language": "python",
   "name": "python3"
  },
  "language_info": {
   "codemirror_mode": {
    "name": "ipython",
    "version": 3
   },
   "file_extension": ".py",
   "mimetype": "text/x-python",
   "name": "python",
   "nbconvert_exporter": "python",
   "pygments_lexer": "ipython3",
   "version": "3.6.5"
  }
 },
 "nbformat": 4,
 "nbformat_minor": 2
}
