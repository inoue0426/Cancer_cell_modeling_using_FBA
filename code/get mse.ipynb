{
 "cells": [
  {
   "cell_type": "code",
   "execution_count": 161,
   "metadata": {},
   "outputs": [],
   "source": [
    "import pandas as pd\n",
    "import numpy as np\n",
    "%matplotlib inline"
   ]
  },
  {
   "cell_type": "code",
   "execution_count": 162,
   "metadata": {},
   "outputs": [],
   "source": [
    "t = pd.read_csv('../KO.csv', index_col=0)\n",
    "\n",
    "fix_glc = pd.read_csv('../result/fix_glucose.csv', index_col=0)/100\n",
    "fix_glu = pd.read_csv('../result/fix_glutamate.csv', index_col=0)/100\n",
    "grad_glc = pd.read_csv('../result/grad_glc.csv', index_col=0)\n",
    "grad_glu = pd.read_csv('../result/grad_glu.csv', index_col=0)"
   ]
  },
  {
   "cell_type": "code",
   "execution_count": 163,
   "metadata": {},
   "outputs": [
    {
     "data": {
      "text/html": [
       "<div>\n",
       "<style scoped>\n",
       "    .dataframe tbody tr th:only-of-type {\n",
       "        vertical-align: middle;\n",
       "    }\n",
       "\n",
       "    .dataframe tbody tr th {\n",
       "        vertical-align: top;\n",
       "    }\n",
       "\n",
       "    .dataframe thead th {\n",
       "        text-align: right;\n",
       "    }\n",
       "</style>\n",
       "<table border=\"1\" class=\"dataframe\">\n",
       "  <thead>\n",
       "    <tr style=\"text-align: right;\">\n",
       "      <th></th>\n",
       "      <th>Day 0</th>\n",
       "      <th>Day 1</th>\n",
       "      <th>Day 2</th>\n",
       "      <th>Day 3</th>\n",
       "      <th>Day 1.1</th>\n",
       "      <th>Day 2.1</th>\n",
       "      <th>Day 3.1</th>\n",
       "      <th>Day 1.2</th>\n",
       "      <th>Day 2.2</th>\n",
       "      <th>Day 3.2</th>\n",
       "    </tr>\n",
       "  </thead>\n",
       "  <tbody>\n",
       "    <tr>\n",
       "      <th>pH</th>\n",
       "      <td>7.547</td>\n",
       "      <td>7.575</td>\n",
       "      <td>7.558</td>\n",
       "      <td>7.532</td>\n",
       "      <td>7.542</td>\n",
       "      <td>7.512</td>\n",
       "      <td>7.467</td>\n",
       "      <td>7.552</td>\n",
       "      <td>7.546</td>\n",
       "      <td>7.532</td>\n",
       "    </tr>\n",
       "    <tr>\n",
       "      <th>Glucose(g/L)</th>\n",
       "      <td>3.020</td>\n",
       "      <td>3.160</td>\n",
       "      <td>3.040</td>\n",
       "      <td>2.950</td>\n",
       "      <td>3.120</td>\n",
       "      <td>2.970</td>\n",
       "      <td>2.710</td>\n",
       "      <td>3.070</td>\n",
       "      <td>3.130</td>\n",
       "      <td>3.000</td>\n",
       "    </tr>\n",
       "    <tr>\n",
       "      <th>Lactate(g/L)</th>\n",
       "      <td>0.000</td>\n",
       "      <td>0.000</td>\n",
       "      <td>0.000</td>\n",
       "      <td>0.000</td>\n",
       "      <td>0.000</td>\n",
       "      <td>0.000</td>\n",
       "      <td>0.310</td>\n",
       "      <td>0.000</td>\n",
       "      <td>0.000</td>\n",
       "      <td>0.000</td>\n",
       "    </tr>\n",
       "    <tr>\n",
       "      <th>Glutamine(mmol/L)</th>\n",
       "      <td>1.930</td>\n",
       "      <td>1.980</td>\n",
       "      <td>1.800</td>\n",
       "      <td>1.690</td>\n",
       "      <td>1.900</td>\n",
       "      <td>1.570</td>\n",
       "      <td>1.370</td>\n",
       "      <td>1.920</td>\n",
       "      <td>1.730</td>\n",
       "      <td>1.590</td>\n",
       "    </tr>\n",
       "    <tr>\n",
       "      <th>Glutamate(mmol/L)</th>\n",
       "      <td>0.320</td>\n",
       "      <td>0.000</td>\n",
       "      <td>0.260</td>\n",
       "      <td>0.250</td>\n",
       "      <td>0.220</td>\n",
       "      <td>0.460</td>\n",
       "      <td>0.530</td>\n",
       "      <td>0.000</td>\n",
       "      <td>0.310</td>\n",
       "      <td>0.250</td>\n",
       "    </tr>\n",
       "    <tr>\n",
       "      <th>Na(mmol/L)</th>\n",
       "      <td>149.000</td>\n",
       "      <td>153.000</td>\n",
       "      <td>157.000</td>\n",
       "      <td>160.000</td>\n",
       "      <td>153.000</td>\n",
       "      <td>157.000</td>\n",
       "      <td>160.000</td>\n",
       "      <td>153.000</td>\n",
       "      <td>156.000</td>\n",
       "      <td>158.000</td>\n",
       "    </tr>\n",
       "    <tr>\n",
       "      <th>K(mmol/L)</th>\n",
       "      <td>4.200</td>\n",
       "      <td>4.300</td>\n",
       "      <td>4.400</td>\n",
       "      <td>4.500</td>\n",
       "      <td>4.300</td>\n",
       "      <td>4.400</td>\n",
       "      <td>4.500</td>\n",
       "      <td>4.300</td>\n",
       "      <td>4.400</td>\n",
       "      <td>4.400</td>\n",
       "    </tr>\n",
       "    <tr>\n",
       "      <th>NH4(mmol/L)</th>\n",
       "      <td>0.410</td>\n",
       "      <td>0.510</td>\n",
       "      <td>0.620</td>\n",
       "      <td>0.680</td>\n",
       "      <td>0.540</td>\n",
       "      <td>0.730</td>\n",
       "      <td>0.900</td>\n",
       "      <td>0.510</td>\n",
       "      <td>0.640</td>\n",
       "      <td>0.720</td>\n",
       "    </tr>\n",
       "  </tbody>\n",
       "</table>\n",
       "</div>"
      ],
      "text/plain": [
       "                     Day 0    Day 1    Day 2    Day 3  Day 1.1  Day 2.1  \\\n",
       "pH                   7.547    7.575    7.558    7.532    7.542    7.512   \n",
       "Glucose(g/L)         3.020    3.160    3.040    2.950    3.120    2.970   \n",
       "Lactate(g/L)         0.000    0.000    0.000    0.000    0.000    0.000   \n",
       "Glutamine(mmol/L)    1.930    1.980    1.800    1.690    1.900    1.570   \n",
       "Glutamate(mmol/L)    0.320    0.000    0.260    0.250    0.220    0.460   \n",
       "Na(mmol/L)         149.000  153.000  157.000  160.000  153.000  157.000   \n",
       "K(mmol/L)            4.200    4.300    4.400    4.500    4.300    4.400   \n",
       "NH4(mmol/L)          0.410    0.510    0.620    0.680    0.540    0.730   \n",
       "\n",
       "                   Day 3.1  Day 1.2  Day 2.2  Day 3.2  \n",
       "pH                   7.467    7.552    7.546    7.532  \n",
       "Glucose(g/L)         2.710    3.070    3.130    3.000  \n",
       "Lactate(g/L)         0.310    0.000    0.000    0.000  \n",
       "Glutamine(mmol/L)    1.370    1.920    1.730    1.590  \n",
       "Glutamate(mmol/L)    0.530    0.000    0.310    0.250  \n",
       "Na(mmol/L)         160.000  153.000  156.000  158.000  \n",
       "K(mmol/L)            4.500    4.300    4.400    4.400  \n",
       "NH4(mmol/L)          0.900    0.510    0.640    0.720  "
      ]
     },
     "execution_count": 163,
     "metadata": {},
     "output_type": "execute_result"
    }
   ],
   "source": []
  },
  {
   "cell_type": "code",
   "execution_count": 37,
   "metadata": {},
   "outputs": [],
   "source": [
    "for i in t.columns[1:]:\n",
    "    t[i] = (t[i]-t['Day 0'])    \n",
    "t = t.drop('Day 0', axis=1)"
   ]
  },
  {
   "cell_type": "code",
   "execution_count": 39,
   "metadata": {},
   "outputs": [],
   "source": [
    "g = t[['Day 3', 'Day 3.1', 'Day 3.2']]\n",
    "g = g.drop(['pH','Glutamine(mmol/L)', 'Na(mmol/L)', 'K(mmol/L)'])\n",
    "g.T[['Glucose(g/L)', 'Glutamate(mmol/L)']] = (g.T[['Glucose(g/L)', 'Glutamate(mmol/L)']]*(-1))"
   ]
  },
  {
   "cell_type": "code",
   "execution_count": 89,
   "metadata": {},
   "outputs": [],
   "source": [
    "norm_by_glc = g/g.T['Glucose(g/L)']\n",
    "norm_by_glu = g/g.T['Glutamate(mmol/L)']\n",
    "\n",
    "norm_by_glc.columns = ['Con', 'CloneA', 'CloneB']\n",
    "norm_by_glu.columns = ['Con', 'CloneA', 'CloneB']\n",
    "\n",
    "norm_by_glu['CloneA'] = norm_by_glu['CloneA']*(-1)"
   ]
  },
  {
   "cell_type": "code",
   "execution_count": 90,
   "metadata": {},
   "outputs": [
    {
     "data": {
      "text/html": [
       "<div>\n",
       "<style scoped>\n",
       "    .dataframe tbody tr th:only-of-type {\n",
       "        vertical-align: middle;\n",
       "    }\n",
       "\n",
       "    .dataframe tbody tr th {\n",
       "        vertical-align: top;\n",
       "    }\n",
       "\n",
       "    .dataframe thead th {\n",
       "        text-align: right;\n",
       "    }\n",
       "</style>\n",
       "<table border=\"1\" class=\"dataframe\">\n",
       "  <thead>\n",
       "    <tr style=\"text-align: right;\">\n",
       "      <th></th>\n",
       "      <th>Con</th>\n",
       "      <th>CloneA</th>\n",
       "      <th>CloneB</th>\n",
       "    </tr>\n",
       "  </thead>\n",
       "  <tbody>\n",
       "    <tr>\n",
       "      <th>Glucose(g/L)</th>\n",
       "      <td>1.000000</td>\n",
       "      <td>1.476190</td>\n",
       "      <td>0.285714</td>\n",
       "    </tr>\n",
       "    <tr>\n",
       "      <th>Lactate(g/L)</th>\n",
       "      <td>0.000000</td>\n",
       "      <td>1.476190</td>\n",
       "      <td>0.000000</td>\n",
       "    </tr>\n",
       "    <tr>\n",
       "      <th>Glutamate(mmol/L)</th>\n",
       "      <td>1.000000</td>\n",
       "      <td>-1.000000</td>\n",
       "      <td>1.000000</td>\n",
       "    </tr>\n",
       "    <tr>\n",
       "      <th>NH4(mmol/L)</th>\n",
       "      <td>3.857143</td>\n",
       "      <td>2.333333</td>\n",
       "      <td>4.428571</td>\n",
       "    </tr>\n",
       "  </tbody>\n",
       "</table>\n",
       "</div>"
      ],
      "text/plain": [
       "                        Con    CloneA    CloneB\n",
       "Glucose(g/L)       1.000000  1.476190  0.285714\n",
       "Lactate(g/L)       0.000000  1.476190  0.000000\n",
       "Glutamate(mmol/L)  1.000000 -1.000000  1.000000\n",
       "NH4(mmol/L)        3.857143  2.333333  4.428571"
      ]
     },
     "execution_count": 90,
     "metadata": {},
     "output_type": "execute_result"
    }
   ],
   "source": [
    "norm_by_glu"
   ]
  },
  {
   "cell_type": "code",
   "execution_count": 138,
   "metadata": {},
   "outputs": [
    {
     "data": {
      "text/html": [
       "<div>\n",
       "<style scoped>\n",
       "    .dataframe tbody tr th:only-of-type {\n",
       "        vertical-align: middle;\n",
       "    }\n",
       "\n",
       "    .dataframe tbody tr th {\n",
       "        vertical-align: top;\n",
       "    }\n",
       "\n",
       "    .dataframe thead th {\n",
       "        text-align: right;\n",
       "    }\n",
       "</style>\n",
       "<table border=\"1\" class=\"dataframe\">\n",
       "  <thead>\n",
       "    <tr style=\"text-align: right;\">\n",
       "      <th></th>\n",
       "      <th>Con</th>\n",
       "      <th>CloneA</th>\n",
       "      <th>CloneB</th>\n",
       "    </tr>\n",
       "  </thead>\n",
       "  <tbody>\n",
       "    <tr>\n",
       "      <th>Glucose(g/L)</th>\n",
       "      <td>1.000000</td>\n",
       "      <td>1.000000</td>\n",
       "      <td>1.0</td>\n",
       "    </tr>\n",
       "    <tr>\n",
       "      <th>Lactate(g/L)</th>\n",
       "      <td>0.000000</td>\n",
       "      <td>1.000000</td>\n",
       "      <td>0.0</td>\n",
       "    </tr>\n",
       "    <tr>\n",
       "      <th>Glutamate(mmol/L)</th>\n",
       "      <td>1.000000</td>\n",
       "      <td>-0.677419</td>\n",
       "      <td>3.5</td>\n",
       "    </tr>\n",
       "    <tr>\n",
       "      <th>NH4(mmol/L)</th>\n",
       "      <td>3.857143</td>\n",
       "      <td>1.580645</td>\n",
       "      <td>15.5</td>\n",
       "    </tr>\n",
       "  </tbody>\n",
       "</table>\n",
       "</div>"
      ],
      "text/plain": [
       "                        Con    CloneA  CloneB\n",
       "Glucose(g/L)       1.000000  1.000000     1.0\n",
       "Lactate(g/L)       0.000000  1.000000     0.0\n",
       "Glutamate(mmol/L)  1.000000 -0.677419     3.5\n",
       "NH4(mmol/L)        3.857143  1.580645    15.5"
      ]
     },
     "execution_count": 138,
     "metadata": {},
     "output_type": "execute_result"
    }
   ],
   "source": [
    "norm_by_glc"
   ]
  },
  {
   "cell_type": "code",
   "execution_count": 159,
   "metadata": {},
   "outputs": [
    {
     "data": {
      "text/plain": [
       "185.93680173799964"
      ]
     },
     "execution_count": 159,
     "metadata": {},
     "output_type": "execute_result"
    }
   ],
   "source": [
    "sum(np.square(list(fix_glc.T[404])-(norm_by_glc['CloneB'])))"
   ]
  },
  {
   "cell_type": "code",
   "execution_count": 157,
   "metadata": {},
   "outputs": [
    {
     "data": {
      "text/plain": [
       "Glucose_input      1.00000\n",
       "Lactate_output     0.00000\n",
       "Glutamate_input    2.27824\n",
       "Ammonia_output     1.91898\n",
       "Name: 404, dtype: float64"
      ]
     },
     "execution_count": 157,
     "metadata": {},
     "output_type": "execute_result"
    }
   ],
   "source": [
    "fix_glc.T[404]"
   ]
  },
  {
   "cell_type": "code",
   "execution_count": 94,
   "metadata": {
    "scrolled": false
   },
   "outputs": [],
   "source": [
    "z = []\n",
    "for l in norm_by_glc.columns:\n",
    "    x = fix_glc - list(norm_by_glc[l].T)\n",
    "    c = []\n",
    "    for i in x.index:\n",
    "        c.append(sum(np.square(x.T[i])))\n",
    "    z.append(c)"
   ]
  },
  {
   "cell_type": "code",
   "execution_count": 100,
   "metadata": {
    "scrolled": true
   },
   "outputs": [],
   "source": [
    "fix_glucose = pd.DataFrame(z).T\n",
    "fix_glucose.columns = ['Con', 'CloneA', 'CloneB']"
   ]
  },
  {
   "cell_type": "code",
   "execution_count": 102,
   "metadata": {
    "scrolled": true
   },
   "outputs": [
    {
     "data": {
      "text/plain": [
       "<matplotlib.axes._subplots.AxesSubplot at 0x1158c3b38>"
      ]
     },
     "execution_count": 102,
     "metadata": {},
     "output_type": "execute_result"
    },
    {
     "data": {
      "image/png": "[encoded data removed]",
      "text/plain": [
       "<Figure size 432x288 with 1 Axes>"
      ]
     },
     "metadata": {},
     "output_type": "display_data"
    }
   ],
   "source": [
    "fix_glucose.plot()"
   ]
  },
  {
   "cell_type": "code",
   "execution_count": null,
   "metadata": {},
   "outputs": [],
   "source": []
  },
  {
   "cell_type": "code",
   "execution_count": 103,
   "metadata": {
    "scrolled": false
   },
   "outputs": [],
   "source": [
    "z = []\n",
    "for l in norm_by_glc.columns:\n",
    "    x = fix_glu - list(norm_by_glu[l].T)\n",
    "    c = []\n",
    "    for i in x.index:\n",
    "        c.append(sum(np.square(x.T[i])))\n",
    "    z.append(c)"
   ]
  },
  {
   "cell_type": "code",
   "execution_count": 104,
   "metadata": {
    "scrolled": true
   },
   "outputs": [],
   "source": [
    "fix_glutamate = pd.DataFrame(z).T\n",
    "fix_glutamate.columns = ['Con', 'CloneA', 'CloneB']"
   ]
  },
  {
   "cell_type": "code",
   "execution_count": 105,
   "metadata": {
    "scrolled": false
   },
   "outputs": [
    {
     "data": {
      "text/plain": [
       "<matplotlib.axes._subplots.AxesSubplot at 0x114e32908>"
      ]
     },
     "execution_count": 105,
     "metadata": {},
     "output_type": "execute_result"
    },
    {
     "data": {
      "image/png": "[encoded data removed]",
      "text/plain": [
       "<Figure size 432x288 with 1 Axes>"
      ]
     },
     "metadata": {},
     "output_type": "display_data"
    }
   ],
   "source": [
    "fix_glutamate.plot()"
   ]
  },
  {
   "cell_type": "code",
   "execution_count": null,
   "metadata": {},
   "outputs": [],
   "source": []
  },
  {
   "cell_type": "code",
   "execution_count": 106,
   "metadata": {
    "scrolled": false
   },
   "outputs": [],
   "source": [
    "z = []\n",
    "for l in norm_by_glc.columns:\n",
    "    x = grad_glu - list(norm_by_glu[l].T)\n",
    "    c = []\n",
    "    for i in x.index:\n",
    "        c.append(sum(np.square(x.T[i])))\n",
    "    z.append(c)"
   ]
  },
  {
   "cell_type": "code",
   "execution_count": 107,
   "metadata": {
    "scrolled": true
   },
   "outputs": [],
   "source": [
    "grad_glutamate = pd.DataFrame(z).T\n",
    "grad_glutamate.columns = ['Con', 'CloneA', 'CloneB']"
   ]
  },
  {
   "cell_type": "code",
   "execution_count": 108,
   "metadata": {
    "scrolled": true
   },
   "outputs": [
    {
     "data": {
      "text/plain": [
       "<matplotlib.axes._subplots.AxesSubplot at 0x1159d2860>"
      ]
     },
     "execution_count": 108,
     "metadata": {},
     "output_type": "execute_result"
    },
    {
     "data": {
      "image/png": "[encoded data removed]",
      "text/plain": [
       "<Figure size 432x288 with 1 Axes>"
      ]
     },
     "metadata": {},
     "output_type": "display_data"
    }
   ],
   "source": [
    "grad_glutamate.plot()"
   ]
  },
  {
   "cell_type": "code",
   "execution_count": null,
   "metadata": {},
   "outputs": [],
   "source": []
  },
  {
   "cell_type": "code",
   "execution_count": 109,
   "metadata": {
    "scrolled": false
   },
   "outputs": [],
   "source": [
    "z = []\n",
    "for l in norm_by_glc.columns:\n",
    "    x = grad_glc - list(norm_by_glc[l].T)\n",
    "    c = []\n",
    "    for i in x.index:\n",
    "        c.append(sum(np.square(x.T[i])))\n",
    "    z.append(c)"
   ]
  },
  {
   "cell_type": "code",
   "execution_count": 110,
   "metadata": {
    "scrolled": true
   },
   "outputs": [],
   "source": [
    "grad_glucose = pd.DataFrame(z).T\n",
    "grad_glucose.columns = ['Con', 'CloneA', 'CloneB']"
   ]
  },
  {
   "cell_type": "code",
   "execution_count": 111,
   "metadata": {
    "scrolled": true
   },
   "outputs": [
    {
     "data": {
      "text/plain": [
       "<matplotlib.axes._subplots.AxesSubplot at 0x115a22320>"
      ]
     },
     "execution_count": 111,
     "metadata": {},
     "output_type": "execute_result"
    },
    {
     "data": {
      "image/png": "[encoded data removed]",
      "text/plain": [
       "<Figure size 432x288 with 1 Axes>"
      ]
     },
     "metadata": {},
     "output_type": "display_data"
    }
   ],
   "source": [
    "grad_glucose.plot()"
   ]
  },
  {
   "cell_type": "code",
   "execution_count": 133,
   "metadata": {
    "scrolled": true
   },
   "outputs": [],
   "source": [
    "t = pd.concat([fix_glucose, fix_glutamate, grad_glucose, grad_glutamate], axis=1)\n",
    "t = t.fillna(10000)"
   ]
  },
  {
   "cell_type": "code",
   "execution_count": 134,
   "metadata": {},
   "outputs": [],
   "source": [
    "t.columns = [i+'_fix_glc' for i in fix_glucose.columns]+[i+'_fix_glu' for i in fix_glucose.columns]+[i+'grad_glc' for i in fix_glucose.columns]+[i+'grad_glu' for i in fix_glucose.columns]"
   ]
  },
  {
   "cell_type": "code",
   "execution_count": 137,
   "metadata": {},
   "outputs": [
    {
     "name": "stdout",
     "output_type": "stream",
     "text": [
      "Con_fix_glc 5.390372758408196\n",
      "CloneA_fix_glc 2.82902275188512\n",
      "CloneB_fix_glc 185.93680173799964\n",
      "Con_fix_glu 9.401109596335269\n",
      "CloneA_fix_glu 4.150884495317377\n",
      "CloneB_fix_glu 218.4999999999996\n",
      "Congrad_glc 9.401113755303331\n",
      "CloneAgrad_glc 1.9006153194319622\n",
      "CloneBgrad_glc 223.36513160793154\n",
      "Congrad_glu 9.401109009790275\n",
      "CloneAgrad_glu 2.791389376464011\n",
      "CloneBgrad_glu 223.365259826221\n"
     ]
    }
   ],
   "source": [
    "for i in t.columns:\n",
    "    print(i, min(t[i]))"
   ]
  },
  {
   "cell_type": "code",
   "execution_count": 144,
   "metadata": {},
   "outputs": [
    {
     "data": {
      "text/plain": [
       "404"
      ]
     },
     "execution_count": 144,
     "metadata": {},
     "output_type": "execute_result"
    }
   ],
   "source": [
    "list(t['CloneB_fix_glc']).index(min(t['CloneB_fix_glc']))"
   ]
  },
  {
   "cell_type": "code",
   "execution_count": 150,
   "metadata": {},
   "outputs": [
    {
     "data": {
      "text/plain": [
       "Glucose_input      1.00000\n",
       "Lactate_output     0.00000\n",
       "Glutamate_input    2.27824\n",
       "Ammonia_output     1.91898\n",
       "Name: 404, dtype: float64"
      ]
     },
     "execution_count": 150,
     "metadata": {},
     "output_type": "execute_result"
    }
   ],
   "source": []
  }
 ],
 "metadata": {
  "kernelspec": {
   "display_name": "Python 3",
   "language": "python",
   "name": "python3"
  },
  "language_info": {
   "codemirror_mode": {
    "name": "ipython",
    "version": 3
   },
   "file_extension": ".py",
   "mimetype": "text/x-python",
   "name": "python",
   "nbconvert_exporter": "python",
   "pygments_lexer": "ipython3",
   "version": "3.6.5"
  }
 },
 "nbformat": 4,
 "nbformat_minor": 2
}
