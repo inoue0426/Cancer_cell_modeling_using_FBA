{
 "cells": [
  {
   "cell_type": "code",
   "execution_count": null,
   "metadata": {},
   "outputs": [],
   "source": [
    "import numpy as np\n",
    "import pandas as pd\n",
    "import matplotlib.pyplot as plt\n",
    "import urllib.request\n",
    "from pulp import *\n",
    "\n",
    "%matplotlib inline"
   ]
  },
  {
   "cell_type": "code",
   "execution_count": null,
   "metadata": {},
   "outputs": [],
   "source": [
    "t = pd.read_csv('../csv/stochastic_matrix.csv', index_col=0).fillna(0)"
   ]
  },
  {
   "cell_type": "code",
   "execution_count": null,
   "metadata": {
    "scrolled": true
   },
   "outputs": [],
   "source": [
    "v = t.T[[\n",
    "    'R00200', 'R00268', 'R00341', 'R00342', 'R00351',\n",
    "    'R00405', 'R00658', 'R00703', 'R01015', 'R01049',\n",
    "    'R01056', 'R01061', 'R01070', 'R01082', 'R01196', \n",
    "    'R01197', 'R01325', 'R01512', 'R01518', 'R01528',\n",
    "    'R01529', 'R01641', 'R01786', 'R01830', 'R01899',\n",
    "    'R01900', 'R02035', 'R02164', 'R02740', 'R04779'\n",
    "]].T\n",
    "\n",
    "for i in v.columns:\n",
    "    if sum(v[i] == 0) == v.shape[0]:\n",
    "        v = v.drop(i, axis=1)\n",
    "        \n",
    "v['C00007'] = pd.Series(np.zeros(v.shape[0]), index=v.index)\n",
    "v['C00033'] = pd.Series(np.zeros(v.shape[0]), index=v.index)\n",
    "v['C00092'] = pd.Series(np.zeros(v.shape[0]), index=v.index)\n",
    "v['C00014'] = pd.Series(np.zeros(v.shape[0]), index=v.index)\n",
    "v['C00025'] = pd.Series(np.zeros(v.shape[0]), index=v.index)\n",
    "\n",
    "# v['C00279'] = pd.Series(np.zeros(v.shape[0]), index=v.index)"
   ]
  },
  {
   "cell_type": "code",
   "execution_count": null,
   "metadata": {},
   "outputs": [],
   "source": [
    "df = v.T\n",
    "df['Glucose_input'] =  pd.Series(np.zeros(df.shape[0]), index=df.index)\n",
    "df['Glucose_input']['C00267'] = 1\n",
    "\n",
    "df['Oxygen_input'] =  pd.Series(np.zeros(df.shape[0]), index=df.index)\n",
    "df['Oxygen_input']['C00007'] = 1\n",
    "\n",
    "df['CO2_output'] =  pd.Series(np.zeros(df.shape[0]), index=df.index)\n",
    "df['CO2_output']['C00011'] = -1\n",
    "\n",
    "df['Lactate_output'] =  pd.Series(np.zeros(df.shape[0]), index=df.index)\n",
    "df['Lactate_output']['C00186'] = -1\n",
    "\n",
    "# df['Succinate_output'] =  pd.Series(np.zeros(df.shape[0]), index=df.index)\n",
    "# df['Succinate_output']['C00042'] = -1\n",
    "\n",
    "# df['Malate_output'] =  pd.Series(np.zeros(df.shape[0]), index=df.index)\n",
    "# df['Malate_output']['C00149'] = -1\n",
    "\n",
    "# df['Fumarate_output'] =  pd.Series(np.zeros(df.shape[0]), index=df.index)\n",
    "# df['Fumarate_output']['C00122'] = -1\n",
    "\n",
    "df['Acetate_output'] =  pd.Series(np.zeros(df.shape[0]), index=df.index)\n",
    "df['Acetate_output']['C00033'] = -1\n",
    "\n",
    "# df['Glutamate_output'] =  pd.Series(np.zeros(df.shape[0]), index=df.index)\n",
    "# df['Glutamate_output']['C00025'] = -1\n",
    "\n",
    "df['Glutamate_input'] =  pd.Series(np.zeros(df.shape[0]), index=df.index)\n",
    "df['Glutamate_input']['C00025'] = 1\n",
    "\n",
    "df['Ammonia_output'] =  pd.Series(np.zeros(df.shape[0]), index=df.index)\n",
    "df['Ammonia_output']['C00014'] = -1\n",
    "\n",
    "df['Glu_Exchange'] =  pd.Series(np.zeros(df.shape[0]), index=df.index)\n",
    "df['Glu_Exchange']['C00267'] = -1\n",
    "df['Glu_Exchange']['C00092'] = 1\n",
    "\n",
    "df['acetyl_CoA_hydrolase'] =  pd.Series(np.zeros(df.shape[0]), index=df.index)\n",
    "df['acetyl_CoA_hydrolase']['C00024'] = -1\n",
    "df['acetyl_CoA_hydrolase']['C00001'] = -1\n",
    "df['acetyl_CoA_hydrolase']['C00010'] = 1\n",
    "df['acetyl_CoA_hydrolase']['C00033'] = 1\n",
    "\n",
    "df['NADP_Exchange'] =  pd.Series(np.zeros(df.shape[0]), index=df.index)\n",
    "df['NADP_Exchange']['C00005'] = -1\n",
    "df['NADP_Exchange']['C00003'] = -1\n",
    "df['NADP_Exchange']['C00006'] = 1\n",
    "df['NADP_Exchange']['C00004'] = 1\n",
    "\n",
    "df['ADP_Exchange'] =  pd.Series(np.zeros(df.shape[0]), index=df.index)\n",
    "df['ADP_Exchange']['C00002'] = -1\n",
    "df['ADP_Exchange']['C00008'] = 1\n",
    "\n",
    "df['AMP_Exchange'] =  pd.Series(np.zeros(df.shape[0]), index=df.index)\n",
    "df['AMP_Exchange']['C00002'] = -1\n",
    "df['AMP_Exchange']['C00020'] = -1\n",
    "df['AMP_Exchange']['C00008'] = 2\n",
    "\n",
    "df['R00835'] =  pd.Series(np.zeros(df.shape[0]), index=df.index)\n",
    "df['R00835']['C00092'] = -1\n",
    "df['R00835']['C00006'] = -1\n",
    "df['R00835']['C01236'] = 1\n",
    "df['R00835']['C00005'] = 1\n",
    "df['R00835']['C00080'] = 1\n",
    "\n",
    "df['R08575'] =  pd.Series(np.zeros(df.shape[0]), index=df.index)\n",
    "df['R08575']['C05382'] = -1\n",
    "df['R08575']['C00118'] = -1\n",
    "df['R08575']['C00279'] = 1\n",
    "df['R08575']['C00085'] = 1\n",
    "\n",
    "df['R02164']['C00004'] = -1\n",
    "df['R02164']['C00003'] = 1\n",
    "df['R02164']['C15602'] = 0\n",
    "df['R02164']['C15603'] = 0\n",
    "\n",
    "df['R00243'] =  pd.Series(np.zeros(df.shape[0]), index=df.index)\n",
    "df['R00243']['C00025'] = -1\n",
    "df['R00243']['C00003'] = -1\n",
    "df['R00243']['C00001'] = -1\n",
    "\n",
    "df['R00243']['C00026'] = 1\n",
    "df['R00243']['C00014'] = 1\n",
    "df['R00243']['C00004'] = 1\n",
    "df['R00243']['C00080'] = 1\n",
    "\n",
    "# Oxophos\n",
    "df['Oxophos'] =  pd.Series(np.zeros(df.shape[0]), index=df.index)\n",
    "df['Oxophos']['C00004'] = -2\n",
    "df['Oxophos']['C00007'] = -1\n",
    "df['Oxophos']['C00008'] = -5\n",
    "df['Oxophos']['C00002'] = 5\n",
    "df['Oxophos']['C00003'] = 2\n",
    "df['Oxophos']['C00011'] = 1"
   ]
  },
  {
   "cell_type": "code",
   "execution_count": null,
   "metadata": {
    "scrolled": true
   },
   "outputs": [],
   "source": [
    "BIOMASS = pd.read_csv('../csv/amino_acid.csv',index_col=0)\n",
    "# BIOMASS = BIOMASS[BIOMASS.index != 'NH3']\n",
    "df_Biomass =  pd.Series(np.zeros(df.shape[0]), index=df.index)\n",
    "\n",
    "for i in BIOMASS.index:\n",
    "    df_Biomass[BIOMASS.T[i]['C_num']] = BIOMASS.T[i]['flux']\n",
    "    \n",
    "df_Biomass['C00668'] = -0.27519\n",
    "df_Biomass['C00119'] = (-0.039036) + (-0.036117) + (-0.053446)"
   ]
  },
  {
   "cell_type": "code",
   "execution_count": null,
   "metadata": {},
   "outputs": [],
   "source": [
    "df_new = pd.concat([df_Biomass.T, df], axis=1)\n",
    "df_new = df_new.rename(columns={0: 'BIOMASS'})\n",
    "df_new = df_new.drop([\n",
    "    'C00001','C00009','C00080','C00138','C00139','C15602','C15603', \n",
    "#     'C00231'\n",
    "])"
   ]
  },
  {
   "cell_type": "code",
   "execution_count": null,
   "metadata": {
    "scrolled": true
   },
   "outputs": [],
   "source": [
    "rate = pd.DataFrame()\n",
    "for l in range(0, 1000, 1):\n",
    "    x = []\n",
    "    for i in df_new.columns:\n",
    "        if (\n",
    "                (i=='Oxophos') or (i=='R01899') or (i=='R00268') or (i=='R10343') or (i=='R02164') or (i=='R00835') or (i=='R02035') or\n",
    "                (i=='CO2') or (i == 'Lactate') or (i == 'Acetate') or (i == 'Succinate') or (i == 'Malate') or (i=='ATP_Exchange') or (i=='AMP_Exchange') or\n",
    "                (i=='Glutamate_output') or (i=='CO2_output') or  (i=='Lactate_output') or (i=='Glutamate_output') or (i=='Ammonia_output')\n",
    "        ):\n",
    "            x.append(LpVariable(i, lowBound=0,upBound=10000, cat='Continuous'))\n",
    "\n",
    "        elif (i=='Glucose_input'):\n",
    "            x.append(LpVariable(i, lowBound=0, upBound=l, cat='Continuous'))\n",
    "            \n",
    "        elif (i=='BIOMASS'):\n",
    "            x.append(LpVariable(i, lowBound=0, upBound=100, cat='Continuous'))\n",
    "\n",
    "        elif (i=='Glutamate_input'):\n",
    "            x.append(LpVariable(i, lowBound=0, upBound=100, cat='Continuous'))\n",
    "            \n",
    "        elif (\n",
    "            (i=='Succinate_output') or (i=='Malate_output') or (i=='Fumarate_output') or (i=='Acetate_output')\n",
    "        ):\n",
    "            x.append(LpVariable(i, lowBound=0, upBound=50, cat='Continuous'))\n",
    "\n",
    "        elif (i=='R00200') or (i=='R01196') or (i=='R01197') or (i=='R00405'):\n",
    "            x.append(LpVariable(i, lowBound=-10000, upBound=0, cat='Continuous'))\n",
    "\n",
    "        else:\n",
    "            x.append(LpVariable(i, lowBound=-10000, upBound=10000, cat='Continuous'))\n",
    "\n",
    "    m = LpProblem(sense=LpMaximize)\n",
    "    m += x[0]\n",
    "\n",
    "    for i in np.dot(df_new, x):\n",
    "        m += i == 0\n",
    "\n",
    "    status = m.solve()\n",
    "    print(LpStatus[status])\n",
    "\n",
    "    y = []\n",
    "    for i in x:\n",
    "        y.append(i.value())\n",
    "\n",
    "    rate = pd.concat([rate,pd.DataFrame(y, index=x).T])"
   ]
  },
  {
   "cell_type": "code",
   "execution_count": null,
   "metadata": {
    "scrolled": true
   },
   "outputs": [],
   "source": [
    "rate.columns = [str(i) for i in list(rate.columns)]\n",
    "rate.index = range(0, 1000)"
   ]
  },
  {
   "cell_type": "code",
   "execution_count": null,
   "metadata": {
    "scrolled": true
   },
   "outputs": [],
   "source": [
    "(rate.columns)"
   ]
  },
  {
   "cell_type": "code",
   "execution_count": null,
   "metadata": {
    "scrolled": true
   },
   "outputs": [],
   "source": [
    "rate[[\n",
    "    'BIOMASS', 'Glucose_input', 'Oxygen_input', 'Glutamate_input', \n",
    "]].plot()\n",
    "plt.legend(bbox_to_anchor=(1.05, 1), loc='upper left', borderaxespad=0, fontsize=10)"
   ]
  },
  {
   "cell_type": "code",
   "execution_count": null,
   "metadata": {
    "scrolled": true
   },
   "outputs": [],
   "source": [
    "rate['BIOMASS'].plot()"
   ]
  },
  {
   "cell_type": "code",
   "execution_count": null,
   "metadata": {},
   "outputs": [],
   "source": [
    "rate[[\n",
    "    'CO2_output', 'Lactate_output', \n",
    "#     'Succinate_output', \n",
    "#     'Malate_output', 'Fumarate_output', 'Acetate_output', \n",
    "    'Ammonia_output'\n",
    "]].plot()\n",
    "plt.legend(bbox_to_anchor=(1.05, 1), loc='upper left', borderaxespad=0, fontsize=10)"
   ]
  },
  {
   "cell_type": "code",
   "execution_count": null,
   "metadata": {},
   "outputs": [],
   "source": [
    "rate['Oxygen_input'].plot()"
   ]
  },
  {
   "cell_type": "code",
   "execution_count": null,
   "metadata": {
    "scrolled": true
   },
   "outputs": [],
   "source": [
    "rate[[\n",
    "    'Lactate_output', 'Ammonia_output', 'Glucose_input', 'Glutamate_input'\n",
    "]]"
   ]
  },
  {
   "cell_type": "code",
   "execution_count": null,
   "metadata": {},
   "outputs": [],
   "source": [
    "rate[['Glucose_input', 'Oxygen_input',\n",
    "       'CO2_output', 'Lactate_output', 'Acetate_output', 'Glutamate_input',\n",
    "       'Ammonia_output', 'Glu_Exchange']]"
   ]
  },
  {
   "cell_type": "code",
   "execution_count": null,
   "metadata": {},
   "outputs": [],
   "source": [
    "norm_result = pd.concat([\n",
    "    pd.DataFrame(rate[ 'Glutamate_input']/rate['Glutamate_input']),\n",
    "    pd.DataFrame(rate[ 'Lactate_output']/rate['Glutamate_input']),\n",
    "    pd.DataFrame(rate[ 'Glucose_input']/rate['Glutamate_input']), \n",
    "    pd.DataFrame(rate[ 'Ammonia_output']/rate['Glutamate_input'])],\n",
    "    axis=1\n",
    ")\n",
    "#     'Glucose_input', 'Lactate_output', 'Glutamate_input', 'Ammonia_output'\n",
    "norm_result.columns = ['Glucose', 'Lac', 'Glutamate', 'Ammonia']\n",
    "norm_result.plot()"
   ]
  },
  {
   "cell_type": "code",
   "execution_count": null,
   "metadata": {},
   "outputs": [],
   "source": [
    "norm_result.to_csv('../result/grad_glu.csv')"
   ]
  },
  {
   "cell_type": "code",
   "execution_count": null,
   "metadata": {},
   "outputs": [],
   "source": []
  },
  {
   "cell_type": "code",
   "execution_count": null,
   "metadata": {},
   "outputs": [],
   "source": []
  }
 ],
 "metadata": {
  "kernelspec": {
   "display_name": "Python 3",
   "language": "python",
   "name": "python3"
  },
  "language_info": {
   "codemirror_mode": {
    "name": "ipython",
    "version": 3
   },
   "file_extension": ".py",
   "mimetype": "text/x-python",
   "name": "python",
   "nbconvert_exporter": "python",
   "pygments_lexer": "ipython3",
   "version": "3.6.5"
  }
 },
 "nbformat": 4,
 "nbformat_minor": 2
}
