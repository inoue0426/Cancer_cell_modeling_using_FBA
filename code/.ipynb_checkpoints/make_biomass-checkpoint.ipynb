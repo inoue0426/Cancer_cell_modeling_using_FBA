{
 "cells": [
  {
   "cell_type": "code",
   "execution_count": 1,
   "metadata": {},
   "outputs": [],
   "source": [
    "import pandas as pd\n",
    "import numpy as np\n",
    "import collections"
   ]
  },
  {
   "cell_type": "code",
   "execution_count": 2,
   "metadata": {},
   "outputs": [],
   "source": [
    "t = pd.read_excel('../csv/biomass_matrix.xlsx')"
   ]
  },
  {
   "cell_type": "code",
   "execution_count": 3,
   "metadata": {
    "scrolled": true
   },
   "outputs": [
    {
     "name": "stderr",
     "output_type": "stream",
     "text": [
      "/Users/yoshitaka-i/.pyenv/versions/3.6.5/lib/python3.6/site-packages/ipykernel_launcher.py:2: SettingWithCopyWarning: \n",
      "A value is trying to be set on a copy of a slice from a DataFrame.\n",
      "Try using .loc[row_indexer,col_indexer] = value instead\n",
      "\n",
      "See the caveats in the documentation: http://pandas.pydata.org/pandas-docs/stable/indexing.html#indexing-view-versus-copy\n",
      "  \n",
      "/Users/yoshitaka-i/.pyenv/versions/3.6.5/lib/python3.6/site-packages/ipykernel_launcher.py:4: SettingWithCopyWarning: \n",
      "A value is trying to be set on a copy of a slice from a DataFrame.\n",
      "Try using .loc[row_indexer,col_indexer] = value instead\n",
      "\n",
      "See the caveats in the documentation: http://pandas.pydata.org/pandas-docs/stable/indexing.html#indexing-view-versus-copy\n",
      "  after removing the cwd from sys.path.\n"
     ]
    }
   ],
   "source": [
    "minus = t[['coefficient','reactant']]\n",
    "minus['coefficient'] = round(minus['coefficient'], 5)\n",
    "plus = t[['coefficient','productant']]\n",
    "plus['coefficient'] = round(plus['coefficient'], 5)\n",
    "\n",
    "x = []\n",
    "for i in minus['reactant']:\n",
    "    x.append(i.split(' + '))\n",
    "\n",
    "minus = pd.DataFrame(x, index=list(t['amino acid'])).T\n",
    "\n",
    "x = []\n",
    "for i in plus['productant']:\n",
    "    x.append(i.split(' + '))\n",
    "\n",
    "plus = pd.DataFrame(x,index=list(t['amino acid'])).T"
   ]
  },
  {
   "cell_type": "code",
   "execution_count": 4,
   "metadata": {
    "scrolled": true
   },
   "outputs": [],
   "source": [
    "coef = collections.defaultdict(float)\n",
    "for i in minus.columns:\n",
    "    for l in range(len(minus[i].dropna())):\n",
    "        if ((minus[i][l][0]).isnumeric()) and (minus[i][l][1] == ' '):\n",
    "            coef[minus[i][l][2:]] += float(minus[i][l][0])*float(t[t['amino acid'] == i]['coefficient'])\n",
    "        else:\n",
    "            coef[minus[i][l]] += float(t[t['amino acid'] == i]['coefficient'])\n",
    "\n",
    "for i in plus.columns:\n",
    "    for l in range(len(plus[i].dropna())):\n",
    "        if ((plus[i][l][0]).isnumeric()) and (plus[i][l][1] == ' '):\n",
    "            coef[plus[i][l][2:]] += float(plus[i][l][0])*float(t[t['amino acid'] == i]['coefficient'])*-1\n",
    "        else:\n",
    "            coef[plus[i][l]] += float(t[t['amino acid'] == i]['coefficient'])*-1"
   ]
  },
  {
   "cell_type": "code",
   "execution_count": 5,
   "metadata": {
    "scrolled": true
   },
   "outputs": [],
   "source": [
    "p = pd.DataFrame(coef,index=[0])[[\n",
    "    '3PG','ADP','ATP','Accetate','Acetyl-CoA','CO2','CoA','Fum','NAD',\n",
    "    'NADH','NADP','NADPH','NH3','Oxaloaccetate','Pyruvate','αKG'\n",
    "]].T\n",
    "p = p.sort_index()"
   ]
  },
  {
   "cell_type": "code",
   "execution_count": 6,
   "metadata": {
    "scrolled": true
   },
   "outputs": [
    {
     "data": {
      "text/html": [
       "<div>\n",
       "<style scoped>\n",
       "    .dataframe tbody tr th:only-of-type {\n",
       "        vertical-align: middle;\n",
       "    }\n",
       "\n",
       "    .dataframe tbody tr th {\n",
       "        vertical-align: top;\n",
       "    }\n",
       "\n",
       "    .dataframe thead th {\n",
       "        text-align: right;\n",
       "    }\n",
       "</style>\n",
       "<table border=\"1\" class=\"dataframe\">\n",
       "  <thead>\n",
       "    <tr style=\"text-align: right;\">\n",
       "      <th></th>\n",
       "      <th>0</th>\n",
       "    </tr>\n",
       "  </thead>\n",
       "  <tbody>\n",
       "    <tr>\n",
       "      <th>3PG</th>\n",
       "      <td>-0.977991</td>\n",
       "    </tr>\n",
       "    <tr>\n",
       "      <th>ADP</th>\n",
       "      <td>2.095680</td>\n",
       "    </tr>\n",
       "    <tr>\n",
       "      <th>ATP</th>\n",
       "      <td>-2.095680</td>\n",
       "    </tr>\n",
       "    <tr>\n",
       "      <th>Accetate</th>\n",
       "      <td>0.046571</td>\n",
       "    </tr>\n",
       "    <tr>\n",
       "      <th>Acetyl-CoA</th>\n",
       "      <td>-0.046571</td>\n",
       "    </tr>\n",
       "    <tr>\n",
       "      <th>CO2</th>\n",
       "      <td>-0.359260</td>\n",
       "    </tr>\n",
       "    <tr>\n",
       "      <th>CoA</th>\n",
       "      <td>0.046571</td>\n",
       "    </tr>\n",
       "    <tr>\n",
       "      <th>Fum</th>\n",
       "      <td>0.359260</td>\n",
       "    </tr>\n",
       "    <tr>\n",
       "      <th>NAD</th>\n",
       "      <td>-0.977991</td>\n",
       "    </tr>\n",
       "    <tr>\n",
       "      <th>NADH</th>\n",
       "      <td>0.977991</td>\n",
       "    </tr>\n",
       "    <tr>\n",
       "      <th>NADP</th>\n",
       "      <td>-3.133561</td>\n",
       "    </tr>\n",
       "    <tr>\n",
       "      <th>NADPH</th>\n",
       "      <td>3.133561</td>\n",
       "    </tr>\n",
       "    <tr>\n",
       "      <th>NH3</th>\n",
       "      <td>-0.359260</td>\n",
       "    </tr>\n",
       "    <tr>\n",
       "      <th>Oxaloaccetate</th>\n",
       "      <td>-0.991290</td>\n",
       "    </tr>\n",
       "    <tr>\n",
       "      <th>Pyruvate</th>\n",
       "      <td>-0.505630</td>\n",
       "    </tr>\n",
       "    <tr>\n",
       "      <th>αKG</th>\n",
       "      <td>-1.483610</td>\n",
       "    </tr>\n",
       "  </tbody>\n",
       "</table>\n",
       "</div>"
      ],
      "text/plain": [
       "                      0\n",
       "3PG           -0.977991\n",
       "ADP            2.095680\n",
       "ATP           -2.095680\n",
       "Accetate       0.046571\n",
       "Acetyl-CoA    -0.046571\n",
       "CO2           -0.359260\n",
       "CoA            0.046571\n",
       "Fum            0.359260\n",
       "NAD           -0.977991\n",
       "NADH           0.977991\n",
       "NADP          -3.133561\n",
       "NADPH          3.133561\n",
       "NH3           -0.359260\n",
       "Oxaloaccetate -0.991290\n",
       "Pyruvate      -0.505630\n",
       "αKG           -1.483610"
      ]
     },
     "execution_count": 6,
     "metadata": {},
     "output_type": "execute_result"
    }
   ],
   "source": [
    "p"
   ]
  },
  {
   "cell_type": "code",
   "execution_count": 7,
   "metadata": {},
   "outputs": [],
   "source": [
    "b = [\n",
    "    'C00197','C00008','C00002','C00033','C00024','C00011','C00010','C00122',\n",
    "    'C00003','C00004','C00006','C00005','C00014','C00036','C00022','C00026'\n",
    "]"
   ]
  },
  {
   "cell_type": "code",
   "execution_count": 8,
   "metadata": {
    "scrolled": false
   },
   "outputs": [],
   "source": [
    "p = pd.concat([p,pd.DataFrame(b, index=p.index)],axis=1)\n",
    "p.columns = ['flux','C_num']"
   ]
  },
  {
   "cell_type": "code",
   "execution_count": 9,
   "metadata": {
    "scrolled": true
   },
   "outputs": [
    {
     "name": "stderr",
     "output_type": "stream",
     "text": [
      "/Users/yoshitaka-i/.pyenv/versions/3.6.5/lib/python3.6/site-packages/ipykernel_launcher.py:1: SettingWithCopyWarning: \n",
      "A value is trying to be set on a copy of a slice from a DataFrame\n",
      "\n",
      "See the caveats in the documentation: http://pandas.pydata.org/pandas-docs/stable/indexing.html#indexing-view-versus-copy\n",
      "  \"\"\"Entry point for launching an IPython kernel.\n",
      "/Users/yoshitaka-i/.pyenv/versions/3.6.5/lib/python3.6/site-packages/ipykernel_launcher.py:2: SettingWithCopyWarning: \n",
      "A value is trying to be set on a copy of a slice from a DataFrame\n",
      "\n",
      "See the caveats in the documentation: http://pandas.pydata.org/pandas-docs/stable/indexing.html#indexing-view-versus-copy\n",
      "  \n"
     ]
    }
   ],
   "source": [
    "p['flux']['ADP'] += 20.7045\n",
    "p['flux']['ATP'] += -20.7045\n",
    "# p['flux']['G6P'] = -0.27519\n",
    "# p['flux']['CTP'] += -0.039036\n",
    "# p['flux']['GTP'] += -0.036117\n",
    "# p['flux']['UTP'] += -0.053446"
   ]
  },
  {
   "cell_type": "code",
   "execution_count": 10,
   "metadata": {
    "scrolled": true
   },
   "outputs": [],
   "source": [
    "p.to_csv('../csv/amino_acid.csv')"
   ]
  }
 ],
 "metadata": {
  "kernelspec": {
   "display_name": "Python 3",
   "language": "python",
   "name": "python3"
  },
  "language_info": {
   "codemirror_mode": {
    "name": "ipython",
    "version": 3
   },
   "file_extension": ".py",
   "mimetype": "text/x-python",
   "name": "python",
   "nbconvert_exporter": "python",
   "pygments_lexer": "ipython3",
   "version": "3.6.5"
  }
 },
 "nbformat": 4,
 "nbformat_minor": 2
}
