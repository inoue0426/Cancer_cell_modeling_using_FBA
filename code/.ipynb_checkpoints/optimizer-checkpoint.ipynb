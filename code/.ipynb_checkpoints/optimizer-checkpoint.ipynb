{
 "cells": [
  {
   "cell_type": "code",
   "execution_count": 1,
   "metadata": {},
   "outputs": [],
   "source": [
    "import numpy as np\n",
    "import pandas as pd\n",
    "from pulp import *\n",
    "from IPython.display import Image, display_png"
   ]
  },
  {
   "cell_type": "code",
   "execution_count": 2,
   "metadata": {
    "scrolled": true
   },
   "outputs": [],
   "source": [
    "t = pd.read_csv('../csv/stochastic_matrix.csv', index_col=0).fillna(0)\n",
    "t = t.T.drop([\n",
    "    'C00001',\n",
    "    'C00080',\n",
    "    'C00009'\n",
    "]).T"
   ]
  },
  {
   "cell_type": "code",
   "execution_count": 3,
   "metadata": {},
   "outputs": [],
   "source": [
    "h = [\n",
    "    'R01786','R02189','R09085','R02740','R09084','R01015','R01061','R01063','R04779',\n",
    "    'R01070','R07159','R01662','R01518','R00658','R00200'\n",
    "#     'R01512 ',\n",
    "]"
   ]
  },
  {
   "cell_type": "code",
   "execution_count": 4,
   "metadata": {
    "scrolled": true
   },
   "outputs": [],
   "source": [
    "p = t.T[h].T"
   ]
  },
  {
   "cell_type": "code",
   "execution_count": 14,
   "metadata": {},
   "outputs": [],
   "source": [
    "# display_png(Image('../img/rn00010.png'))"
   ]
  },
  {
   "cell_type": "code",
   "execution_count": 6,
   "metadata": {
    "scrolled": true
   },
   "outputs": [],
   "source": [
    "# g  = []\n",
    "# for i in t.columns:\n",
    "#     if sum(t[i] != 0.0) < 2:\n",
    "#         g.append(i)"
   ]
  },
  {
   "cell_type": "code",
   "execution_count": 9,
   "metadata": {
    "scrolled": true
   },
   "outputs": [],
   "source": [
    "x = [LpVariable(i) for i in p.columns]"
   ]
  },
  {
   "cell_type": "code",
   "execution_count": 10,
   "metadata": {},
   "outputs": [],
   "source": [
    "m = LpProblem(sense=LpMaximize)\n",
    "\n",
    "m += x[0]"
   ]
  },
  {
   "cell_type": "code",
   "execution_count": 11,
   "metadata": {
    "scrolled": true
   },
   "outputs": [],
   "source": [
    "capacity = 100\n",
    "\n",
    "for i in p.index:\n",
    "    m += np.dot(list(p.T[i]), x) <= capacity\n",
    "    m += np.dot(list(p.T[i]), x) >= capacity"
   ]
  },
  {
   "cell_type": "code",
   "execution_count": 12,
   "metadata": {},
   "outputs": [
    {
     "data": {
      "text/plain": [
       "'Unbounded'"
      ]
     },
     "execution_count": 12,
     "metadata": {},
     "output_type": "execute_result"
    }
   ],
   "source": [
    "pulp.LpStatus[m.solve()]"
   ]
  },
  {
   "cell_type": "code",
   "execution_count": 13,
   "metadata": {
    "scrolled": false
   },
   "outputs": [
    {
     "data": {
      "text/plain": [
       "NoName:\n",
       "MAXIMIZE\n",
       "1*C00002 + 0\n",
       "SUBJECT TO\n",
       "_C1: - C00002 + C00008 - C00267 + C00668 <= 100\n",
       "\n",
       "_C2: - C00002 + C00008 - C00267 + C00668 >= 100\n",
       "\n",
       "_C3: - C00267 + C00404 + C00668 <= 100\n",
       "\n",
       "_C4: - C00267 + C00404 + C00668 >= 100\n",
       "\n",
       "_C5: - C00008 + C00020 - C00267 + C00668 <= 100\n",
       "\n",
       "_C6: - C00008 + C00020 - C00267 + C00668 >= 100\n",
       "\n",
       "_C7: - C00668 + C05345 <= 100\n",
       "\n",
       "_C8: - C00668 + C05345 >= 100\n",
       "\n",
       "_C9: - C00008 + C00020 - C05345 + C05378 <= 100\n",
       "\n",
       "_C10: - C00008 + C00020 - C05345 + C05378 >= 100\n",
       "\n",
       "_C11: C00111 - C00118 <= 100\n",
       "\n",
       "_C12: C00111 - C00118 >= 100\n",
       "\n",
       "_C13: - C00003 + C00004 - C00118 + C00236 <= 100\n",
       "\n",
       "_C14: - C00003 + C00004 - C00118 + C00236 >= 100\n",
       "\n",
       "_C15: C00005 - C00006 - C00118 + C00236 <= 100\n",
       "\n",
       "_C16: C00005 - C00006 - C00118 + C00236 >= 100\n",
       "\n",
       "_C17: - C00002 + C00008 - C05345 + C05378 <= 100\n",
       "\n",
       "_C18: - C00002 + C00008 - C05345 + C05378 >= 100\n",
       "\n",
       "_C19: C00111 + C00118 - C05378 <= 100\n",
       "\n",
       "_C20: C00111 + C00118 - C05378 >= 100\n",
       "\n",
       "_C21: - C00118 + 2 C00138 - 2 C00139 + C00197 <= 100\n",
       "\n",
       "_C22: - C00118 + 2 C00138 - 2 C00139 + C00197 >= 100\n",
       "\n",
       "_C23: - C00236 + C01159 <= 100\n",
       "\n",
       "_C24: - C00236 + C01159 >= 100\n",
       "\n",
       "_C25: C00197 - C00631 <= 100\n",
       "\n",
       "_C26: C00197 - C00631 >= 100\n",
       "\n",
       "_C27: C00074 - C00631 <= 100\n",
       "\n",
       "_C28: C00074 - C00631 >= 100\n",
       "\n",
       "_C29: - C00002 + C00008 - C00022 + C00074 <= 100\n",
       "\n",
       "_C30: - C00002 + C00008 - C00022 + C00074 >= 100\n",
       "\n",
       "VARIABLES\n",
       "C00002 free Continuous\n",
       "C00003 free Continuous\n",
       "C00004 free Continuous\n",
       "C00005 free Continuous\n",
       "C00006 free Continuous\n",
       "C00008 free Continuous\n",
       "C00020 free Continuous\n",
       "C00022 free Continuous\n",
       "C00074 free Continuous\n",
       "C00111 free Continuous\n",
       "C00118 free Continuous\n",
       "C00138 free Continuous\n",
       "C00139 free Continuous\n",
       "C00197 free Continuous\n",
       "C00236 free Continuous\n",
       "C00267 free Continuous\n",
       "C00404 free Continuous\n",
       "C00631 free Continuous\n",
       "C00668 free Continuous\n",
       "C01159 free Continuous\n",
       "C05345 free Continuous\n",
       "C05378 free Continuous"
      ]
     },
     "execution_count": 13,
     "metadata": {},
     "output_type": "execute_result"
    }
   ],
   "source": [
    "m"
   ]
  },
  {
   "cell_type": "code",
   "execution_count": null,
   "metadata": {
    "scrolled": true
   },
   "outputs": [],
   "source": [
    "for i in x:\n",
    "    print(pulp.value(i))"
   ]
  },
  {
   "cell_type": "code",
   "execution_count": null,
   "metadata": {},
   "outputs": [],
   "source": []
  },
  {
   "cell_type": "code",
   "execution_count": null,
   "metadata": {},
   "outputs": [],
   "source": []
  }
 ],
 "metadata": {
  "kernelspec": {
   "display_name": "Python 3",
   "language": "python",
   "name": "python3"
  },
  "language_info": {
   "codemirror_mode": {
    "name": "ipython",
    "version": 3
   },
   "file_extension": ".py",
   "mimetype": "text/x-python",
   "name": "python",
   "nbconvert_exporter": "python",
   "pygments_lexer": "ipython3",
   "version": "3.6.5"
  }
 },
 "nbformat": 4,
 "nbformat_minor": 2
}
