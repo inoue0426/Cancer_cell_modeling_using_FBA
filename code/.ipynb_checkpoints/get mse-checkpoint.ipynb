{
 "cells": [
  {
   "cell_type": "code",
   "execution_count": 1,
   "metadata": {},
   "outputs": [],
   "source": [
    "import pandas as pd\n",
    "import numpy as np"
   ]
  },
  {
   "cell_type": "code",
   "execution_count": 2,
   "metadata": {},
   "outputs": [],
   "source": [
    "data = pd.read_excel('../mse.xlsx')\n",
    "\n",
    "fix_glc = pd.read_csv('../result/fix_glucose.csv', index_col=0)\n",
    "fix_glu = pd.read_csv('../result/fix_glutamate.csv', index_col=0)\n",
    "grad_glc = pd.read_csv('../result/grad_glc.csv', index_col=0)\n",
    "grad_glu = pd.read_csv('../result/grad_glu.csv', index_col=0)"
   ]
  },
  {
   "cell_type": "code",
   "execution_count": 3,
   "metadata": {},
   "outputs": [
    {
     "data": {
      "text/html": [
       "<div>\n",
       "<style scoped>\n",
       "    .dataframe tbody tr th:only-of-type {\n",
       "        vertical-align: middle;\n",
       "    }\n",
       "\n",
       "    .dataframe tbody tr th {\n",
       "        vertical-align: top;\n",
       "    }\n",
       "\n",
       "    .dataframe thead th {\n",
       "        text-align: right;\n",
       "    }\n",
       "</style>\n",
       "<table border=\"1\" class=\"dataframe\">\n",
       "  <thead>\n",
       "    <tr style=\"text-align: right;\">\n",
       "      <th></th>\n",
       "      <th>Con</th>\n",
       "      <th>CloneA</th>\n",
       "      <th>CLoneB</th>\n",
       "    </tr>\n",
       "  </thead>\n",
       "  <tbody>\n",
       "    <tr>\n",
       "      <th>Glucose(g/L)</th>\n",
       "      <td>0.030000</td>\n",
       "      <td>-0.086667</td>\n",
       "      <td>0.046667</td>\n",
       "    </tr>\n",
       "    <tr>\n",
       "      <th>Lactate(g/L)</th>\n",
       "      <td>0.000000</td>\n",
       "      <td>0.103333</td>\n",
       "      <td>0.000000</td>\n",
       "    </tr>\n",
       "    <tr>\n",
       "      <th>Glutamate(mmol/L)</th>\n",
       "      <td>-0.150000</td>\n",
       "      <td>0.083333</td>\n",
       "      <td>-0.133333</td>\n",
       "    </tr>\n",
       "    <tr>\n",
       "      <th>NH4(mmol/L)</th>\n",
       "      <td>0.193333</td>\n",
       "      <td>0.313333</td>\n",
       "      <td>0.213333</td>\n",
       "    </tr>\n",
       "  </tbody>\n",
       "</table>\n",
       "</div>"
      ],
      "text/plain": [
       "                        Con    CloneA    CLoneB\n",
       "Glucose(g/L)       0.030000 -0.086667  0.046667\n",
       "Lactate(g/L)       0.000000  0.103333  0.000000\n",
       "Glutamate(mmol/L) -0.150000  0.083333 -0.133333\n",
       "NH4(mmol/L)        0.193333  0.313333  0.213333"
      ]
     },
     "execution_count": 3,
     "metadata": {},
     "output_type": "execute_result"
    }
   ],
   "source": [
    "data"
   ]
  },
  {
   "cell_type": "code",
   "execution_count": 4,
   "metadata": {
    "scrolled": true
   },
   "outputs": [],
   "source": [
    "norm_by_glc = data/data.T['Glucose(g/L)']\n",
    "norm_by_glu = data/data.T['Glutamate(mmol/L)']"
   ]
  },
  {
   "cell_type": "code",
   "execution_count": 5,
   "metadata": {},
   "outputs": [
    {
     "data": {
      "text/html": [
       "<div>\n",
       "<style scoped>\n",
       "    .dataframe tbody tr th:only-of-type {\n",
       "        vertical-align: middle;\n",
       "    }\n",
       "\n",
       "    .dataframe tbody tr th {\n",
       "        vertical-align: top;\n",
       "    }\n",
       "\n",
       "    .dataframe thead th {\n",
       "        text-align: right;\n",
       "    }\n",
       "</style>\n",
       "<table border=\"1\" class=\"dataframe\">\n",
       "  <thead>\n",
       "    <tr style=\"text-align: right;\">\n",
       "      <th></th>\n",
       "      <th>Con</th>\n",
       "      <th>CloneA</th>\n",
       "      <th>CLoneB</th>\n",
       "    </tr>\n",
       "  </thead>\n",
       "  <tbody>\n",
       "    <tr>\n",
       "      <th>Glucose(g/L)</th>\n",
       "      <td>1.000000</td>\n",
       "      <td>1.000000</td>\n",
       "      <td>1.000000</td>\n",
       "    </tr>\n",
       "    <tr>\n",
       "      <th>Lactate(g/L)</th>\n",
       "      <td>0.000000</td>\n",
       "      <td>-1.192308</td>\n",
       "      <td>0.000000</td>\n",
       "    </tr>\n",
       "    <tr>\n",
       "      <th>Glutamate(mmol/L)</th>\n",
       "      <td>-5.000000</td>\n",
       "      <td>-0.961538</td>\n",
       "      <td>-2.857143</td>\n",
       "    </tr>\n",
       "    <tr>\n",
       "      <th>NH4(mmol/L)</th>\n",
       "      <td>6.444444</td>\n",
       "      <td>-3.615385</td>\n",
       "      <td>4.571429</td>\n",
       "    </tr>\n",
       "  </tbody>\n",
       "</table>\n",
       "</div>"
      ],
      "text/plain": [
       "                        Con    CloneA    CLoneB\n",
       "Glucose(g/L)       1.000000  1.000000  1.000000\n",
       "Lactate(g/L)       0.000000 -1.192308  0.000000\n",
       "Glutamate(mmol/L) -5.000000 -0.961538 -2.857143\n",
       "NH4(mmol/L)        6.444444 -3.615385  4.571429"
      ]
     },
     "execution_count": 5,
     "metadata": {},
     "output_type": "execute_result"
    }
   ],
   "source": [
    "norm_by_glc"
   ]
  },
  {
   "cell_type": "code",
   "execution_count": 6,
   "metadata": {
    "scrolled": true
   },
   "outputs": [
    {
     "data": {
      "text/html": [
       "<div>\n",
       "<style scoped>\n",
       "    .dataframe tbody tr th:only-of-type {\n",
       "        vertical-align: middle;\n",
       "    }\n",
       "\n",
       "    .dataframe tbody tr th {\n",
       "        vertical-align: top;\n",
       "    }\n",
       "\n",
       "    .dataframe thead th {\n",
       "        text-align: right;\n",
       "    }\n",
       "</style>\n",
       "<table border=\"1\" class=\"dataframe\">\n",
       "  <thead>\n",
       "    <tr style=\"text-align: right;\">\n",
       "      <th></th>\n",
       "      <th>Con</th>\n",
       "      <th>CloneA</th>\n",
       "      <th>CLoneB</th>\n",
       "    </tr>\n",
       "  </thead>\n",
       "  <tbody>\n",
       "    <tr>\n",
       "      <th>Glucose(g/L)</th>\n",
       "      <td>1.000000</td>\n",
       "      <td>1.000000</td>\n",
       "      <td>1.000000</td>\n",
       "    </tr>\n",
       "    <tr>\n",
       "      <th>Lactate(g/L)</th>\n",
       "      <td>0.000000</td>\n",
       "      <td>-1.192308</td>\n",
       "      <td>0.000000</td>\n",
       "    </tr>\n",
       "    <tr>\n",
       "      <th>Glutamate(mmol/L)</th>\n",
       "      <td>-5.000000</td>\n",
       "      <td>-0.961538</td>\n",
       "      <td>-2.857143</td>\n",
       "    </tr>\n",
       "    <tr>\n",
       "      <th>NH4(mmol/L)</th>\n",
       "      <td>6.444444</td>\n",
       "      <td>-3.615385</td>\n",
       "      <td>4.571429</td>\n",
       "    </tr>\n",
       "  </tbody>\n",
       "</table>\n",
       "</div>"
      ],
      "text/plain": [
       "                        Con    CloneA    CLoneB\n",
       "Glucose(g/L)       1.000000  1.000000  1.000000\n",
       "Lactate(g/L)       0.000000 -1.192308  0.000000\n",
       "Glutamate(mmol/L) -5.000000 -0.961538 -2.857143\n",
       "NH4(mmol/L)        6.444444 -3.615385  4.571429"
      ]
     },
     "execution_count": 6,
     "metadata": {},
     "output_type": "execute_result"
    }
   ],
   "source": [
    "norm_by_glc"
   ]
  },
  {
   "cell_type": "code",
   "execution_count": 12,
   "metadata": {
    "scrolled": true
   },
   "outputs": [
    {
     "data": {
      "text/plain": [
       "<matplotlib.axes._subplots.AxesSubplot at 0x107f00438>"
      ]
     },
     "execution_count": 12,
     "metadata": {},
     "output_type": "execute_result"
    },
    {
     "data": {
      "image/png": "[encoded data removed]",
      "text/plain": [
       "<Figure size 432x288 with 1 Axes>"
      ]
     },
     "metadata": {},
     "output_type": "display_data"
    }
   ],
   "source": [
    "#for fixing glucose\n",
    "result = []\n",
    "for i in range(0, 1000):\n",
    "    result.append([\n",
    "        sum(np.square((list(fix_glc.T[i]/100)-norm_by_glc['Con']))),\n",
    "        sum(np.square((list(fix_glc.T[i]/100)-norm_by_glc['CloneA']))),\n",
    "        sum(np.square((list(fix_glc.T[i]/100)-norm_by_glc['CLoneB'])))\n",
    "    ])\n",
    "    \n",
    "mse_glc = pd.DataFrame(result)\n",
    "mse_glc.columns = ['Con', 'CloneA', 'CloneB']\n",
    "mse_glc.plot()"
   ]
  },
  {
   "cell_type": "code",
   "execution_count": 20,
   "metadata": {},
   "outputs": [
    {
     "data": {
      "text/plain": [
       "<matplotlib.axes._subplots.AxesSubplot at 0x1081b2cf8>"
      ]
     },
     "execution_count": 20,
     "metadata": {},
     "output_type": "execute_result"
    },
    {
     "data": {
      "image/png": "[encoded data removed]",
      "text/plain": [
       "<Figure size 432x288 with 1 Axes>"
      ]
     },
     "metadata": {},
     "output_type": "display_data"
    }
   ],
   "source": [
    "mse_glc[:400].plot()"
   ]
  },
  {
   "cell_type": "code",
   "execution_count": 8,
   "metadata": {
    "scrolled": true
   },
   "outputs": [
    {
     "data": {
      "text/plain": [
       "<matplotlib.axes._subplots.AxesSubplot at 0x107ef2ac8>"
      ]
     },
     "execution_count": 8,
     "metadata": {},
     "output_type": "execute_result"
    },
    {
     "data": {
      "image/png": "[encoded data removed]",
      "text/plain": [
       "<Figure size 432x288 with 1 Axes>"
      ]
     },
     "metadata": {},
     "output_type": "display_data"
    }
   ],
   "source": [
    "#for fixing glutamate\n",
    "result = []\n",
    "for i in range(0, 1000):\n",
    "    result.append([\n",
    "        sum(np.square((list(fix_glu.T[i]/100)-norm_by_glu['Con']))),\n",
    "        sum(np.square((list(fix_glu.T[i]/100)-norm_by_glu['CloneA']))),\n",
    "        sum(np.square((list(fix_glu.T[i]/100)-norm_by_glu['CLoneB'])))\n",
    "    ])\n",
    "    \n",
    "mse_glu = pd.DataFrame(result)\n",
    "mse_glu.columns = ['Con', 'CloneA', 'CloneB']\n",
    "mse_glu.plot()"
   ]
  },
  {
   "cell_type": "code",
   "execution_count": 9,
   "metadata": {
    "scrolled": true
   },
   "outputs": [
    {
     "data": {
      "text/plain": [
       "<matplotlib.axes._subplots.AxesSubplot at 0x107f957b8>"
      ]
     },
     "execution_count": 9,
     "metadata": {},
     "output_type": "execute_result"
    },
    {
     "data": {
      "image/png": "[encoded data removed]",
      "text/plain": [
       "<Figure size 432x288 with 1 Axes>"
      ]
     },
     "metadata": {},
     "output_type": "display_data"
    }
   ],
   "source": [
    "t = grad_glc.drop(0)\n",
    "result = []\n",
    "for i in range(1, 1000):\n",
    "    result.append([\n",
    "        sum(np.square((list(t.T[i])-norm_by_glc['Con']))),\n",
    "        sum(np.square((list(t.T[i])-norm_by_glc['CloneA']))),\n",
    "        sum(np.square((list(t.T[i])-norm_by_glc['CLoneB'])))\n",
    "    ])\n",
    "    \n",
    "mse_grad_glc = pd.DataFrame(result)\n",
    "mse_grad_glc.columns = ['Con', 'CloneA', 'CloneB']\n",
    "mse_grad_glc.plot()"
   ]
  },
  {
   "cell_type": "code",
   "execution_count": 18,
   "metadata": {},
   "outputs": [
    {
     "data": {
      "text/plain": [
       "<matplotlib.axes._subplots.AxesSubplot at 0x10815e710>"
      ]
     },
     "execution_count": 18,
     "metadata": {},
     "output_type": "execute_result"
    },
    {
     "data": {
      "image/png": "[encoded data removed]",
      "text/plain": [
       "<Figure size 432x288 with 1 Axes>"
      ]
     },
     "metadata": {},
     "output_type": "display_data"
    }
   ],
   "source": [
    "mse_grad_glc[20:].plot()"
   ]
  },
  {
   "cell_type": "code",
   "execution_count": 10,
   "metadata": {
    "scrolled": true
   },
   "outputs": [
    {
     "data": {
      "text/plain": [
       "<matplotlib.axes._subplots.AxesSubplot at 0x10800cda0>"
      ]
     },
     "execution_count": 10,
     "metadata": {},
     "output_type": "execute_result"
    },
    {
     "data": {
      "image/png": "[encoded data removed]",
      "text/plain": [
       "<Figure size 432x288 with 1 Axes>"
      ]
     },
     "metadata": {},
     "output_type": "display_data"
    }
   ],
   "source": [
    "t = grad_glu.drop(0)\n",
    "result = []\n",
    "for i in range(1, 1000):\n",
    "    result.append([\n",
    "        sum(np.square((list(t.T[i])-norm_by_glc['Con']))),\n",
    "        sum(np.square((list(t.T[i])-norm_by_glc['CloneA']))),\n",
    "        sum(np.square((list(t.T[i])-norm_by_glc['CLoneB'])))\n",
    "    ])\n",
    "        \n",
    "mse_grad_glu = pd.DataFrame(result)\n",
    "mse_grad_glu.columns = ['Con', 'CloneA', 'CloneB']\n",
    "mse_grad_glu.plot()"
   ]
  },
  {
   "cell_type": "code",
   "execution_count": null,
   "metadata": {},
   "outputs": [],
   "source": []
  },
  {
   "cell_type": "code",
   "execution_count": 25,
   "metadata": {},
   "outputs": [
    {
     "name": "stdout",
     "output_type": "stream",
     "text": [
      "67.92833347361962\n",
      "23.143079143914125\n",
      "29.32529507846739\n"
     ]
    }
   ],
   "source": [
    "print(min(mse_glc['Con']))\n",
    "print(min(mse_glc['CloneA']))\n",
    "print(min(mse_glc['CloneB']))"
   ]
  },
  {
   "cell_type": "code",
   "execution_count": 26,
   "metadata": {},
   "outputs": [
    {
     "name": "stdout",
     "output_type": "stream",
     "text": [
      "4.873446397413121\n",
      "8.756800000000005\n",
      "6.4477713548404765\n"
     ]
    }
   ],
   "source": [
    "print(min(mse_glu['Con']))\n",
    "print(min(mse_glu['CloneA']))\n",
    "print(min(mse_glu['CloneB']))"
   ]
  },
  {
   "cell_type": "code",
   "execution_count": 32,
   "metadata": {},
   "outputs": [
    {
     "name": "stdout",
     "output_type": "stream",
     "text": [
      "67.83525044644529\n",
      "15.71143682146595\n",
      "29.327449691423364\n"
     ]
    }
   ],
   "source": [
    "print(min(mse_grad_glc['Con']))\n",
    "print(min(mse_grad_glc['CloneA']))\n",
    "print(min(mse_grad_glc['CloneB']))"
   ]
  },
  {
   "cell_type": "code",
   "execution_count": 33,
   "metadata": {},
   "outputs": [
    {
     "name": "stdout",
     "output_type": "stream",
     "text": [
      "60.96594904872754\n",
      "23.253948764002644\n",
      "24.770470849124727\n"
     ]
    }
   ],
   "source": [
    "print(min(mse_grad_glu['Con']))\n",
    "print(min(mse_grad_glu['CloneA']))\n",
    "print(min(mse_grad_glu['CloneB']))"
   ]
  },
  {
   "cell_type": "code",
   "execution_count": 35,
   "metadata": {},
   "outputs": [
    {
     "data": {
      "text/html": [
       "<div>\n",
       "<style scoped>\n",
       "    .dataframe tbody tr th:only-of-type {\n",
       "        vertical-align: middle;\n",
       "    }\n",
       "\n",
       "    .dataframe tbody tr th {\n",
       "        vertical-align: top;\n",
       "    }\n",
       "\n",
       "    .dataframe thead th {\n",
       "        text-align: right;\n",
       "    }\n",
       "</style>\n",
       "<table border=\"1\" class=\"dataframe\">\n",
       "  <thead>\n",
       "    <tr style=\"text-align: right;\">\n",
       "      <th></th>\n",
       "      <th>Con</th>\n",
       "      <th>CloneA</th>\n",
       "      <th>CloneB</th>\n",
       "    </tr>\n",
       "  </thead>\n",
       "  <tbody>\n",
       "    <tr>\n",
       "      <th>0</th>\n",
       "      <td>6.279012</td>\n",
       "      <td>8.756800</td>\n",
       "      <td>7.882500</td>\n",
       "    </tr>\n",
       "    <tr>\n",
       "      <th>1</th>\n",
       "      <td>6.253844</td>\n",
       "      <td>8.766917</td>\n",
       "      <td>7.856778</td>\n",
       "    </tr>\n",
       "    <tr>\n",
       "      <th>2</th>\n",
       "      <td>6.228903</td>\n",
       "      <td>8.777261</td>\n",
       "      <td>7.831282</td>\n",
       "    </tr>\n",
       "    <tr>\n",
       "      <th>3</th>\n",
       "      <td>6.204187</td>\n",
       "      <td>8.787831</td>\n",
       "      <td>7.806013</td>\n",
       "    </tr>\n",
       "    <tr>\n",
       "      <th>4</th>\n",
       "      <td>6.179699</td>\n",
       "      <td>8.798628</td>\n",
       "      <td>7.780970</td>\n",
       "    </tr>\n",
       "    <tr>\n",
       "      <th>5</th>\n",
       "      <td>6.155436</td>\n",
       "      <td>8.809651</td>\n",
       "      <td>7.756154</td>\n",
       "    </tr>\n",
       "    <tr>\n",
       "      <th>6</th>\n",
       "      <td>6.131400</td>\n",
       "      <td>8.820900</td>\n",
       "      <td>7.731564</td>\n",
       "    </tr>\n",
       "    <tr>\n",
       "      <th>7</th>\n",
       "      <td>6.107591</td>\n",
       "      <td>8.832376</td>\n",
       "      <td>7.707200</td>\n",
       "    </tr>\n",
       "    <tr>\n",
       "      <th>8</th>\n",
       "      <td>6.084008</td>\n",
       "      <td>8.844078</td>\n",
       "      <td>7.683063</td>\n",
       "    </tr>\n",
       "    <tr>\n",
       "      <th>9</th>\n",
       "      <td>6.060651</td>\n",
       "      <td>8.856006</td>\n",
       "      <td>7.659153</td>\n",
       "    </tr>\n",
       "    <tr>\n",
       "      <th>10</th>\n",
       "      <td>6.037521</td>\n",
       "      <td>8.868162</td>\n",
       "      <td>7.635468</td>\n",
       "    </tr>\n",
       "    <tr>\n",
       "      <th>11</th>\n",
       "      <td>6.014617</td>\n",
       "      <td>8.880543</td>\n",
       "      <td>7.612010</td>\n",
       "    </tr>\n",
       "    <tr>\n",
       "      <th>12</th>\n",
       "      <td>5.991939</td>\n",
       "      <td>8.893151</td>\n",
       "      <td>7.588779</td>\n",
       "    </tr>\n",
       "    <tr>\n",
       "      <th>13</th>\n",
       "      <td>5.969488</td>\n",
       "      <td>8.905985</td>\n",
       "      <td>7.565774</td>\n",
       "    </tr>\n",
       "    <tr>\n",
       "      <th>14</th>\n",
       "      <td>5.947264</td>\n",
       "      <td>8.919046</td>\n",
       "      <td>7.542995</td>\n",
       "    </tr>\n",
       "    <tr>\n",
       "      <th>15</th>\n",
       "      <td>5.925265</td>\n",
       "      <td>8.932333</td>\n",
       "      <td>7.520443</td>\n",
       "    </tr>\n",
       "    <tr>\n",
       "      <th>16</th>\n",
       "      <td>5.903494</td>\n",
       "      <td>8.945847</td>\n",
       "      <td>7.498117</td>\n",
       "    </tr>\n",
       "    <tr>\n",
       "      <th>17</th>\n",
       "      <td>5.881948</td>\n",
       "      <td>8.959587</td>\n",
       "      <td>7.476018</td>\n",
       "    </tr>\n",
       "    <tr>\n",
       "      <th>18</th>\n",
       "      <td>5.860629</td>\n",
       "      <td>8.973553</td>\n",
       "      <td>7.454145</td>\n",
       "    </tr>\n",
       "    <tr>\n",
       "      <th>19</th>\n",
       "      <td>5.839537</td>\n",
       "      <td>8.987746</td>\n",
       "      <td>7.432499</td>\n",
       "    </tr>\n",
       "    <tr>\n",
       "      <th>20</th>\n",
       "      <td>5.818671</td>\n",
       "      <td>9.002165</td>\n",
       "      <td>7.411079</td>\n",
       "    </tr>\n",
       "    <tr>\n",
       "      <th>21</th>\n",
       "      <td>5.798031</td>\n",
       "      <td>9.016811</td>\n",
       "      <td>7.389885</td>\n",
       "    </tr>\n",
       "    <tr>\n",
       "      <th>22</th>\n",
       "      <td>5.777618</td>\n",
       "      <td>9.031683</td>\n",
       "      <td>7.368918</td>\n",
       "    </tr>\n",
       "    <tr>\n",
       "      <th>23</th>\n",
       "      <td>5.757431</td>\n",
       "      <td>9.046782</td>\n",
       "      <td>7.348177</td>\n",
       "    </tr>\n",
       "    <tr>\n",
       "      <th>24</th>\n",
       "      <td>5.737471</td>\n",
       "      <td>9.062106</td>\n",
       "      <td>7.327662</td>\n",
       "    </tr>\n",
       "    <tr>\n",
       "      <th>25</th>\n",
       "      <td>5.717737</td>\n",
       "      <td>9.077658</td>\n",
       "      <td>7.307375</td>\n",
       "    </tr>\n",
       "    <tr>\n",
       "      <th>26</th>\n",
       "      <td>5.698229</td>\n",
       "      <td>9.093436</td>\n",
       "      <td>7.287313</td>\n",
       "    </tr>\n",
       "    <tr>\n",
       "      <th>27</th>\n",
       "      <td>5.678948</td>\n",
       "      <td>9.109440</td>\n",
       "      <td>7.267478</td>\n",
       "    </tr>\n",
       "    <tr>\n",
       "      <th>28</th>\n",
       "      <td>5.659893</td>\n",
       "      <td>9.125671</td>\n",
       "      <td>7.247869</td>\n",
       "    </tr>\n",
       "    <tr>\n",
       "      <th>29</th>\n",
       "      <td>5.641065</td>\n",
       "      <td>9.142128</td>\n",
       "      <td>7.228487</td>\n",
       "    </tr>\n",
       "    <tr>\n",
       "      <th>...</th>\n",
       "      <td>...</td>\n",
       "      <td>...</td>\n",
       "      <td>...</td>\n",
       "    </tr>\n",
       "    <tr>\n",
       "      <th>970</th>\n",
       "      <td>8.053717</td>\n",
       "      <td>19.799186</td>\n",
       "      <td>9.997942</td>\n",
       "    </tr>\n",
       "    <tr>\n",
       "      <th>971</th>\n",
       "      <td>8.053717</td>\n",
       "      <td>19.799186</td>\n",
       "      <td>9.997942</td>\n",
       "    </tr>\n",
       "    <tr>\n",
       "      <th>972</th>\n",
       "      <td>8.053717</td>\n",
       "      <td>19.799186</td>\n",
       "      <td>9.997942</td>\n",
       "    </tr>\n",
       "    <tr>\n",
       "      <th>973</th>\n",
       "      <td>8.053717</td>\n",
       "      <td>19.799186</td>\n",
       "      <td>9.997942</td>\n",
       "    </tr>\n",
       "    <tr>\n",
       "      <th>974</th>\n",
       "      <td>8.053717</td>\n",
       "      <td>19.799186</td>\n",
       "      <td>9.997942</td>\n",
       "    </tr>\n",
       "    <tr>\n",
       "      <th>975</th>\n",
       "      <td>8.053717</td>\n",
       "      <td>19.799186</td>\n",
       "      <td>9.997942</td>\n",
       "    </tr>\n",
       "    <tr>\n",
       "      <th>976</th>\n",
       "      <td>8.053717</td>\n",
       "      <td>19.799186</td>\n",
       "      <td>9.997942</td>\n",
       "    </tr>\n",
       "    <tr>\n",
       "      <th>977</th>\n",
       "      <td>8.053717</td>\n",
       "      <td>19.799186</td>\n",
       "      <td>9.997942</td>\n",
       "    </tr>\n",
       "    <tr>\n",
       "      <th>978</th>\n",
       "      <td>8.053717</td>\n",
       "      <td>19.799186</td>\n",
       "      <td>9.997942</td>\n",
       "    </tr>\n",
       "    <tr>\n",
       "      <th>979</th>\n",
       "      <td>8.053717</td>\n",
       "      <td>19.799186</td>\n",
       "      <td>9.997942</td>\n",
       "    </tr>\n",
       "    <tr>\n",
       "      <th>980</th>\n",
       "      <td>8.053717</td>\n",
       "      <td>19.799186</td>\n",
       "      <td>9.997942</td>\n",
       "    </tr>\n",
       "    <tr>\n",
       "      <th>981</th>\n",
       "      <td>8.053717</td>\n",
       "      <td>19.799186</td>\n",
       "      <td>9.997942</td>\n",
       "    </tr>\n",
       "    <tr>\n",
       "      <th>982</th>\n",
       "      <td>8.053717</td>\n",
       "      <td>19.799186</td>\n",
       "      <td>9.997942</td>\n",
       "    </tr>\n",
       "    <tr>\n",
       "      <th>983</th>\n",
       "      <td>8.053717</td>\n",
       "      <td>19.799186</td>\n",
       "      <td>9.997942</td>\n",
       "    </tr>\n",
       "    <tr>\n",
       "      <th>984</th>\n",
       "      <td>8.053717</td>\n",
       "      <td>19.799186</td>\n",
       "      <td>9.997942</td>\n",
       "    </tr>\n",
       "    <tr>\n",
       "      <th>985</th>\n",
       "      <td>8.053717</td>\n",
       "      <td>19.799186</td>\n",
       "      <td>9.997942</td>\n",
       "    </tr>\n",
       "    <tr>\n",
       "      <th>986</th>\n",
       "      <td>8.053717</td>\n",
       "      <td>19.799186</td>\n",
       "      <td>9.997942</td>\n",
       "    </tr>\n",
       "    <tr>\n",
       "      <th>987</th>\n",
       "      <td>8.053717</td>\n",
       "      <td>19.799186</td>\n",
       "      <td>9.997942</td>\n",
       "    </tr>\n",
       "    <tr>\n",
       "      <th>988</th>\n",
       "      <td>8.053717</td>\n",
       "      <td>19.799186</td>\n",
       "      <td>9.997942</td>\n",
       "    </tr>\n",
       "    <tr>\n",
       "      <th>989</th>\n",
       "      <td>8.053717</td>\n",
       "      <td>19.799186</td>\n",
       "      <td>9.997942</td>\n",
       "    </tr>\n",
       "    <tr>\n",
       "      <th>990</th>\n",
       "      <td>8.053717</td>\n",
       "      <td>19.799186</td>\n",
       "      <td>9.997942</td>\n",
       "    </tr>\n",
       "    <tr>\n",
       "      <th>991</th>\n",
       "      <td>8.053717</td>\n",
       "      <td>19.799186</td>\n",
       "      <td>9.997942</td>\n",
       "    </tr>\n",
       "    <tr>\n",
       "      <th>992</th>\n",
       "      <td>8.053717</td>\n",
       "      <td>19.799186</td>\n",
       "      <td>9.997942</td>\n",
       "    </tr>\n",
       "    <tr>\n",
       "      <th>993</th>\n",
       "      <td>8.053717</td>\n",
       "      <td>19.799186</td>\n",
       "      <td>9.997942</td>\n",
       "    </tr>\n",
       "    <tr>\n",
       "      <th>994</th>\n",
       "      <td>8.053717</td>\n",
       "      <td>19.799186</td>\n",
       "      <td>9.997942</td>\n",
       "    </tr>\n",
       "    <tr>\n",
       "      <th>995</th>\n",
       "      <td>8.053717</td>\n",
       "      <td>19.799186</td>\n",
       "      <td>9.997942</td>\n",
       "    </tr>\n",
       "    <tr>\n",
       "      <th>996</th>\n",
       "      <td>8.053717</td>\n",
       "      <td>19.799186</td>\n",
       "      <td>9.997942</td>\n",
       "    </tr>\n",
       "    <tr>\n",
       "      <th>997</th>\n",
       "      <td>8.053717</td>\n",
       "      <td>19.799186</td>\n",
       "      <td>9.997942</td>\n",
       "    </tr>\n",
       "    <tr>\n",
       "      <th>998</th>\n",
       "      <td>8.053717</td>\n",
       "      <td>19.799186</td>\n",
       "      <td>9.997942</td>\n",
       "    </tr>\n",
       "    <tr>\n",
       "      <th>999</th>\n",
       "      <td>8.053717</td>\n",
       "      <td>19.799186</td>\n",
       "      <td>9.997942</td>\n",
       "    </tr>\n",
       "  </tbody>\n",
       "</table>\n",
       "<p>1000 rows × 3 columns</p>\n",
       "</div>"
      ],
      "text/plain": [
       "          Con     CloneA    CloneB\n",
       "0    6.279012   8.756800  7.882500\n",
       "1    6.253844   8.766917  7.856778\n",
       "2    6.228903   8.777261  7.831282\n",
       "3    6.204187   8.787831  7.806013\n",
       "4    6.179699   8.798628  7.780970\n",
       "5    6.155436   8.809651  7.756154\n",
       "6    6.131400   8.820900  7.731564\n",
       "7    6.107591   8.832376  7.707200\n",
       "8    6.084008   8.844078  7.683063\n",
       "9    6.060651   8.856006  7.659153\n",
       "10   6.037521   8.868162  7.635468\n",
       "11   6.014617   8.880543  7.612010\n",
       "12   5.991939   8.893151  7.588779\n",
       "13   5.969488   8.905985  7.565774\n",
       "14   5.947264   8.919046  7.542995\n",
       "15   5.925265   8.932333  7.520443\n",
       "16   5.903494   8.945847  7.498117\n",
       "17   5.881948   8.959587  7.476018\n",
       "18   5.860629   8.973553  7.454145\n",
       "19   5.839537   8.987746  7.432499\n",
       "20   5.818671   9.002165  7.411079\n",
       "21   5.798031   9.016811  7.389885\n",
       "22   5.777618   9.031683  7.368918\n",
       "23   5.757431   9.046782  7.348177\n",
       "24   5.737471   9.062106  7.327662\n",
       "25   5.717737   9.077658  7.307375\n",
       "26   5.698229   9.093436  7.287313\n",
       "27   5.678948   9.109440  7.267478\n",
       "28   5.659893   9.125671  7.247869\n",
       "29   5.641065   9.142128  7.228487\n",
       "..        ...        ...       ...\n",
       "970  8.053717  19.799186  9.997942\n",
       "971  8.053717  19.799186  9.997942\n",
       "972  8.053717  19.799186  9.997942\n",
       "973  8.053717  19.799186  9.997942\n",
       "974  8.053717  19.799186  9.997942\n",
       "975  8.053717  19.799186  9.997942\n",
       "976  8.053717  19.799186  9.997942\n",
       "977  8.053717  19.799186  9.997942\n",
       "978  8.053717  19.799186  9.997942\n",
       "979  8.053717  19.799186  9.997942\n",
       "980  8.053717  19.799186  9.997942\n",
       "981  8.053717  19.799186  9.997942\n",
       "982  8.053717  19.799186  9.997942\n",
       "983  8.053717  19.799186  9.997942\n",
       "984  8.053717  19.799186  9.997942\n",
       "985  8.053717  19.799186  9.997942\n",
       "986  8.053717  19.799186  9.997942\n",
       "987  8.053717  19.799186  9.997942\n",
       "988  8.053717  19.799186  9.997942\n",
       "989  8.053717  19.799186  9.997942\n",
       "990  8.053717  19.799186  9.997942\n",
       "991  8.053717  19.799186  9.997942\n",
       "992  8.053717  19.799186  9.997942\n",
       "993  8.053717  19.799186  9.997942\n",
       "994  8.053717  19.799186  9.997942\n",
       "995  8.053717  19.799186  9.997942\n",
       "996  8.053717  19.799186  9.997942\n",
       "997  8.053717  19.799186  9.997942\n",
       "998  8.053717  19.799186  9.997942\n",
       "999  8.053717  19.799186  9.997942\n",
       "\n",
       "[1000 rows x 3 columns]"
      ]
     },
     "execution_count": 35,
     "metadata": {},
     "output_type": "execute_result"
    }
   ],
   "source": [
    "mse_glu"
   ]
  }
 ],
 "metadata": {
  "kernelspec": {
   "display_name": "Python 3",
   "language": "python",
   "name": "python3"
  },
  "language_info": {
   "codemirror_mode": {
    "name": "ipython",
    "version": 3
   },
   "file_extension": ".py",
   "mimetype": "text/x-python",
   "name": "python",
   "nbconvert_exporter": "python",
   "pygments_lexer": "ipython3",
   "version": "3.6.5"
  }
 },
 "nbformat": 4,
 "nbformat_minor": 2
}
