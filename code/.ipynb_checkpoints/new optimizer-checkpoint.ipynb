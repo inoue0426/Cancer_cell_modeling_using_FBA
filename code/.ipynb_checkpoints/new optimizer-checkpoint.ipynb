{
 "cells": [
  {
   "cell_type": "code",
   "execution_count": 1,
   "metadata": {},
   "outputs": [
    {
     "data": {
      "text/html": [
       "<style>.container { width:100% !important; }</style>"
      ],
      "text/plain": [
       "<IPython.core.display.HTML object>"
      ]
     },
     "metadata": {},
     "output_type": "display_data"
    }
   ],
   "source": [
    "import numpy as np\n",
    "import pandas as pd\n",
    "import matplotlib as plt\n",
    "import urllib.request\n",
    "from pulp import *\n",
    "from IPython.display import Image, display_png\n",
    "from IPython.core.display import display, HTML\n",
    "display(HTML(\"<style>.container { width:100% !important; }</style>\"))\n",
    "\n",
    "%matplotlib inline"
   ]
  },
  {
   "cell_type": "code",
   "execution_count": 2,
   "metadata": {},
   "outputs": [],
   "source": [
    "t = pd.read_csv('../csv/stochastic_matrix.csv', index_col=0).fillna(0)"
   ]
  },
  {
   "cell_type": "code",
   "execution_count": 3,
   "metadata": {
    "scrolled": true
   },
   "outputs": [],
   "source": [
    "v = t.T[[\n",
    "    'R00200','R00268','R00341','R00342','R00351','R00361','R00658','R01061','R01070','R01082','R01196',\n",
    "    'R01197','R01325','R01512','R01518','R01786','R01899','R01900','R02164','R02740','R04779','R10343'\n",
    "]].T\n",
    "\n",
    "for i in v.columns:\n",
    "    if sum(v[i] == 0) == v.shape[0]:\n",
    "        v = v.drop(i, axis=1)\n",
    "\n",
    "v['C00007'] = pd.Series(np.zeros(v.shape[0]), index=v.index)"
   ]
  },
  {
   "cell_type": "code",
   "execution_count": 12,
   "metadata": {
    "scrolled": true
   },
   "outputs": [],
   "source": [
    "df = v.T\n",
    "df['Glucose'] =  pd.Series(np.zeros(df.shape[0]), index=df.index)\n",
    "df['Glucose']['C00267'] = 1\n",
    "\n",
    "# Oxophos\n",
    "# df['Oxophos'] =  pd.Series(np.zeros(df.shape[0]), index=df.index)\n",
    "# df['Oxophos']['C00004'] = -2\n",
    "# df['Oxophos']['C00007'] = -1\n",
    "# df['Oxophos']['C00008'] = -5\n",
    "# df['Oxophos']['C00002'] = 5\n",
    "# df['Oxophos']['C00003'] = 2\n",
    "# df['Oxophos']['C00011'] = 1\n",
    "# Oxygen\n",
    "\n",
    "df['NADP_Exchange'] =  pd.Series(np.zeros(df.shape[0]), index=df.index)\n",
    "df['NADP_Exchange']['C00005'] = -1\n",
    "df['NADP_Exchange']['C00003'] = -1\n",
    "df['NADP_Exchange']['C00006'] = 1\n",
    "df['NADP_Exchange']['C00004'] = 1\n",
    "\n",
    "df['Biomass'] =  pd.Series(np.zeros(df.shape[0]), index=df.index)\n",
    "df['Biomass']['C00036'] = -1\n",
    "\n",
    "df = df.drop([\n",
    "    # H2O   # Phosphate # CO2 #Glycerone phosphate # H+\n",
    "    'C00001','C00009','C00011','C00111','C00080',\n",
    "    # quinon  # quinon  # Acetate\n",
    "    'C00138','C00139','C00033'\n",
    "])"
   ]
  },
  {
   "cell_type": "code",
   "execution_count": 13,
   "metadata": {},
   "outputs": [],
   "source": [
    "x = []\n",
    "for i in df.columns:\n",
    "    if  (i=='Biomass') or (i=='Oxophos'):\n",
    "        x.append(LpVariable(i, lowBound=0,upBound=100, cat='Continuous'))\n",
    "        \n",
    "    elif (i=='Glucose'):\n",
    "        x.append(LpVariable(i, lowBound=0, upBound=100, cat='Continuous'))\n",
    "        \n",
    "    elif (i=='Oxygen'):\n",
    "        x.append(LpVariable(i, lowBound=0, upBound=100, cat='Continuous'))\n",
    "        \n",
    "    elif (i=='R00341') or (i=='R00200'):\n",
    "        x.append(LpVariable(i, lowBound=-100, upBound=0, cat='Continuous'))\n",
    "    \n",
    "    else:\n",
    "        x.append(LpVariable(i, lowBound=-100, upBound=100, cat='Continuous'))"
   ]
  },
  {
   "cell_type": "code",
   "execution_count": 14,
   "metadata": {},
   "outputs": [],
   "source": [
    "m = LpProblem(sense=LpMaximize)\n",
    "m += x[-1]\n",
    "\n",
    "for i in np.dot(df, x):\n",
    "    m += i == 0"
   ]
  },
  {
   "cell_type": "code",
   "execution_count": 15,
   "metadata": {
    "scrolled": true
   },
   "outputs": [
    {
     "data": {
      "text/plain": [
       "NoName:\n",
       "MAXIMIZE\n",
       "1*Biomass + 0\n",
       "SUBJECT TO\n",
       "_C1: - R00200 - R00341 - R01512 - R01786 - R04779 = 0\n",
       "\n",
       "_C2: - NADP_Exchange - R00342 - R01061 = 0\n",
       "\n",
       "_C3: NADP_Exchange + R00342 + R01061 = 0\n",
       "\n",
       "_C4: - NADP_Exchange + R01899 = 0\n",
       "\n",
       "_C5: NADP_Exchange - R01899 = 0\n",
       "\n",
       "_C6: R00200 + R00341 + R01512 + R01786 + R04779 = 0\n",
       "\n",
       "_C7: - R00351 + R01196 + R01197 = 0\n",
       "\n",
       "_C8: - R00200 + R01196 = 0\n",
       "\n",
       "_C9: R00351 - R01196 + R10343 = 0\n",
       "\n",
       "_C10: R00268 + R01197 = 0\n",
       "\n",
       "_C11: - Biomass - R00341 + R00342 + R00351 + R00361 = 0\n",
       "\n",
       "_C12: - R02164 + R10343 = 0\n",
       "\n",
       "_C13: R00200 + R00341 + R00658 = 0\n",
       "\n",
       "_C14: - R01197 - R10343 = 0\n",
       "\n",
       "_C15: - R01061 + R01070 = 0\n",
       "\n",
       "_C16: R01082 + R02164 = 0\n",
       "\n",
       "_C17: - R00342 - R00361 - R01082 = 0\n",
       "\n",
       "_C18: - R00351 - R01325 = 0\n",
       "\n",
       "_C19: - R01512 + R01518 = 0\n",
       "\n",
       "_C20: R01061 + R01512 = 0\n",
       "\n",
       "_C21: Glucose - R01786 = 0\n",
       "\n",
       "_C22: - R01899 - R01900 = 0\n",
       "\n",
       "_C23: R01325 + R01900 = 0\n",
       "\n",
       "_C24: - R00658 - R01518 = 0\n",
       "\n",
       "_C25: R01786 - R02740 = 0\n",
       "\n",
       "_C26: R02740 - R04779 = 0\n",
       "\n",
       "_C27: - R01070 + R04779 = 0\n",
       "\n",
       "_C28: - R00268 + R01899 = 0\n",
       "\n",
       "_C29: - R00361 - R02164 = 0\n",
       "\n",
       "_C30: R00361 + R02164 = 0\n",
       "\n",
       "_C31:0 = 0\n",
       "\n",
       "VARIABLES\n",
       "Biomass <= 100 Continuous\n",
       "Glucose <= 100 Continuous\n",
       "-100 <= NADP_Exchange <= 100 Continuous\n",
       "-100 <= R00200 <= 0 Continuous\n",
       "-100 <= R00268 <= 100 Continuous\n",
       "-100 <= R00341 <= 0 Continuous\n",
       "-100 <= R00342 <= 100 Continuous\n",
       "-100 <= R00351 <= 100 Continuous\n",
       "-100 <= R00361 <= 100 Continuous\n",
       "-100 <= R00658 <= 100 Continuous\n",
       "-100 <= R01061 <= 100 Continuous\n",
       "-100 <= R01070 <= 100 Continuous\n",
       "-100 <= R01082 <= 100 Continuous\n",
       "-100 <= R01196 <= 100 Continuous\n",
       "-100 <= R01197 <= 100 Continuous\n",
       "-100 <= R01325 <= 100 Continuous\n",
       "-100 <= R01512 <= 100 Continuous\n",
       "-100 <= R01518 <= 100 Continuous\n",
       "-100 <= R01786 <= 100 Continuous\n",
       "-100 <= R01899 <= 100 Continuous\n",
       "-100 <= R01900 <= 100 Continuous\n",
       "-100 <= R02164 <= 100 Continuous\n",
       "-100 <= R02740 <= 100 Continuous\n",
       "-100 <= R04779 <= 100 Continuous\n",
       "-100 <= R10343 <= 100 Continuous"
      ]
     },
     "execution_count": 15,
     "metadata": {},
     "output_type": "execute_result"
    }
   ],
   "source": [
    "m"
   ]
  },
  {
   "cell_type": "code",
   "execution_count": 16,
   "metadata": {},
   "outputs": [
    {
     "name": "stdout",
     "output_type": "stream",
     "text": [
      "Optimal\n"
     ]
    }
   ],
   "source": [
    "status = m.solve()\n",
    "print(LpStatus[status])"
   ]
  },
  {
   "cell_type": "code",
   "execution_count": null,
   "metadata": {},
   "outputs": [],
   "source": []
  },
  {
   "cell_type": "code",
   "execution_count": 20,
   "metadata": {},
   "outputs": [],
   "source": [
    "y = []\n",
    "for i in x:\n",
    "    y.append(i.value())"
   ]
  },
  {
   "cell_type": "code",
   "execution_count": 21,
   "metadata": {},
   "outputs": [
    {
     "data": {
      "text/html": [
       "<div>\n",
       "<style scoped>\n",
       "    .dataframe tbody tr th:only-of-type {\n",
       "        vertical-align: middle;\n",
       "    }\n",
       "\n",
       "    .dataframe tbody tr th {\n",
       "        vertical-align: top;\n",
       "    }\n",
       "\n",
       "    .dataframe thead th {\n",
       "        text-align: right;\n",
       "    }\n",
       "</style>\n",
       "<table border=\"1\" class=\"dataframe\">\n",
       "  <thead>\n",
       "    <tr style=\"text-align: right;\">\n",
       "      <th></th>\n",
       "      <th>0</th>\n",
       "    </tr>\n",
       "  </thead>\n",
       "  <tbody>\n",
       "    <tr>\n",
       "      <th>R00200</th>\n",
       "      <td>0.000000</td>\n",
       "    </tr>\n",
       "    <tr>\n",
       "      <th>R00268</th>\n",
       "      <td>-33.333333</td>\n",
       "    </tr>\n",
       "    <tr>\n",
       "      <th>R00341</th>\n",
       "      <td>-100.000000</td>\n",
       "    </tr>\n",
       "    <tr>\n",
       "      <th>R00342</th>\n",
       "      <td>-66.666667</td>\n",
       "    </tr>\n",
       "    <tr>\n",
       "      <th>R00351</th>\n",
       "      <td>33.333333</td>\n",
       "    </tr>\n",
       "    <tr>\n",
       "      <th>R00361</th>\n",
       "      <td>33.333333</td>\n",
       "    </tr>\n",
       "    <tr>\n",
       "      <th>R00658</th>\n",
       "      <td>100.000000</td>\n",
       "    </tr>\n",
       "    <tr>\n",
       "      <th>R01061</th>\n",
       "      <td>100.000000</td>\n",
       "    </tr>\n",
       "    <tr>\n",
       "      <th>R01070</th>\n",
       "      <td>100.000000</td>\n",
       "    </tr>\n",
       "    <tr>\n",
       "      <th>R01082</th>\n",
       "      <td>33.333333</td>\n",
       "    </tr>\n",
       "    <tr>\n",
       "      <th>R01196</th>\n",
       "      <td>0.000000</td>\n",
       "    </tr>\n",
       "    <tr>\n",
       "      <th>R01197</th>\n",
       "      <td>33.333333</td>\n",
       "    </tr>\n",
       "    <tr>\n",
       "      <th>R01325</th>\n",
       "      <td>-33.333333</td>\n",
       "    </tr>\n",
       "    <tr>\n",
       "      <th>R01512</th>\n",
       "      <td>-100.000000</td>\n",
       "    </tr>\n",
       "    <tr>\n",
       "      <th>R01518</th>\n",
       "      <td>-100.000000</td>\n",
       "    </tr>\n",
       "    <tr>\n",
       "      <th>R01786</th>\n",
       "      <td>100.000000</td>\n",
       "    </tr>\n",
       "    <tr>\n",
       "      <th>R01899</th>\n",
       "      <td>-33.333333</td>\n",
       "    </tr>\n",
       "    <tr>\n",
       "      <th>R01900</th>\n",
       "      <td>33.333333</td>\n",
       "    </tr>\n",
       "    <tr>\n",
       "      <th>R02164</th>\n",
       "      <td>-33.333333</td>\n",
       "    </tr>\n",
       "    <tr>\n",
       "      <th>R02740</th>\n",
       "      <td>100.000000</td>\n",
       "    </tr>\n",
       "    <tr>\n",
       "      <th>R04779</th>\n",
       "      <td>100.000000</td>\n",
       "    </tr>\n",
       "    <tr>\n",
       "      <th>R10343</th>\n",
       "      <td>-33.333333</td>\n",
       "    </tr>\n",
       "    <tr>\n",
       "      <th>Glucose</th>\n",
       "      <td>100.000000</td>\n",
       "    </tr>\n",
       "    <tr>\n",
       "      <th>NADP_Exchange</th>\n",
       "      <td>-33.333333</td>\n",
       "    </tr>\n",
       "    <tr>\n",
       "      <th>Biomass</th>\n",
       "      <td>100.000000</td>\n",
       "    </tr>\n",
       "  </tbody>\n",
       "</table>\n",
       "</div>"
      ],
      "text/plain": [
       "                        0\n",
       "R00200           0.000000\n",
       "R00268         -33.333333\n",
       "R00341        -100.000000\n",
       "R00342         -66.666667\n",
       "R00351          33.333333\n",
       "R00361          33.333333\n",
       "R00658         100.000000\n",
       "R01061         100.000000\n",
       "R01070         100.000000\n",
       "R01082          33.333333\n",
       "R01196           0.000000\n",
       "R01197          33.333333\n",
       "R01325         -33.333333\n",
       "R01512        -100.000000\n",
       "R01518        -100.000000\n",
       "R01786         100.000000\n",
       "R01899         -33.333333\n",
       "R01900          33.333333\n",
       "R02164         -33.333333\n",
       "R02740         100.000000\n",
       "R04779         100.000000\n",
       "R10343         -33.333333\n",
       "Glucose        100.000000\n",
       "NADP_Exchange  -33.333333\n",
       "Biomass        100.000000"
      ]
     },
     "execution_count": 21,
     "metadata": {},
     "output_type": "execute_result"
    }
   ],
   "source": [
    "pd.DataFrame(y, index=x)"
   ]
  },
  {
   "cell_type": "code",
   "execution_count": null,
   "metadata": {},
   "outputs": [],
   "source": []
  },
  {
   "cell_type": "code",
   "execution_count": null,
   "metadata": {},
   "outputs": [],
   "source": []
  }
 ],
 "metadata": {
  "kernelspec": {
   "display_name": "Python 3",
   "language": "python",
   "name": "python3"
  },
  "language_info": {
   "codemirror_mode": {
    "name": "ipython",
    "version": 3
   },
   "file_extension": ".py",
   "mimetype": "text/x-python",
   "name": "python",
   "nbconvert_exporter": "python",
   "pygments_lexer": "ipython3",
   "version": "3.6.5"
  }
 },
 "nbformat": 4,
 "nbformat_minor": 2
}
