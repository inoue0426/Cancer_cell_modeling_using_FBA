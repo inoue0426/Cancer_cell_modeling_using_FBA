{
 "cells": [
  {
   "cell_type": "code",
   "execution_count": 1,
   "metadata": {
    "scrolled": true
   },
   "outputs": [],
   "source": [
    "import pandas as pd\n",
    "import numpy as np\n",
    "import re"
   ]
  },
  {
   "cell_type": "markdown",
   "metadata": {},
   "source": [
    "### 最適化用Matrix作成 "
   ]
  },
  {
   "cell_type": "code",
   "execution_count": 2,
   "metadata": {
    "scrolled": true
   },
   "outputs": [],
   "source": [
    "t = pd.read_csv('../csv/minimum_reaction.csv').dropna().reset_index(drop=True)"
   ]
  },
  {
   "cell_type": "code",
   "execution_count": 3,
   "metadata": {},
   "outputs": [
    {
     "data": {
      "text/html": [
       "<div>\n",
       "<style scoped>\n",
       "    .dataframe tbody tr th:only-of-type {\n",
       "        vertical-align: middle;\n",
       "    }\n",
       "\n",
       "    .dataframe tbody tr th {\n",
       "        vertical-align: top;\n",
       "    }\n",
       "\n",
       "    .dataframe thead th {\n",
       "        text-align: right;\n",
       "    }\n",
       "</style>\n",
       "<table border=\"1\" class=\"dataframe\">\n",
       "  <thead>\n",
       "    <tr style=\"text-align: right;\">\n",
       "      <th></th>\n",
       "      <th>Reaction Number</th>\n",
       "      <th>Compound Number</th>\n",
       "    </tr>\n",
       "  </thead>\n",
       "  <tbody>\n",
       "    <tr>\n",
       "      <th>0</th>\n",
       "      <td>R00014</td>\n",
       "      <td>C00022 + C00068 &lt;=&gt; C05125 + C00011</td>\n",
       "    </tr>\n",
       "    <tr>\n",
       "      <th>1</th>\n",
       "      <td>R00200</td>\n",
       "      <td>C00002 + C00022 &lt;=&gt; C00008 + C00074</td>\n",
       "    </tr>\n",
       "    <tr>\n",
       "      <th>2</th>\n",
       "      <td>R00229</td>\n",
       "      <td>C00002 + C00033 + C00010 &lt;=&gt; C00008 + C00024 +...</td>\n",
       "    </tr>\n",
       "    <tr>\n",
       "      <th>3</th>\n",
       "      <td>R00235</td>\n",
       "      <td>C00002 + C00033 + C00010 &lt;=&gt; C00020 + C00013 +...</td>\n",
       "    </tr>\n",
       "    <tr>\n",
       "      <th>4</th>\n",
       "      <td>R00341</td>\n",
       "      <td>C00002 + C00036 &lt;=&gt; C00008 + C00074 + C00011</td>\n",
       "    </tr>\n",
       "  </tbody>\n",
       "</table>\n",
       "</div>"
      ],
      "text/plain": [
       "  Reaction Number                                    Compound Number\n",
       "0          R00014                C00022 + C00068 <=> C05125 + C00011\n",
       "1          R00200                C00002 + C00022 <=> C00008 + C00074\n",
       "2          R00229  C00002 + C00033 + C00010 <=> C00008 + C00024 +...\n",
       "3          R00235  C00002 + C00033 + C00010 <=> C00020 + C00013 +...\n",
       "4          R00341       C00002 + C00036 <=> C00008 + C00074 + C00011"
      ]
     },
     "execution_count": 3,
     "metadata": {},
     "output_type": "execute_result"
    }
   ],
   "source": [
    "t.head()"
   ]
  },
  {
   "cell_type": "code",
   "execution_count": 4,
   "metadata": {},
   "outputs": [],
   "source": [
    "f = []\n",
    "g = []\n",
    "for i in t['Compound Number']:\n",
    "    f.append([x for x in (i.replace(\"+\", \"\")).replace(\"<=>\", \"\").split(' ') if x])\n",
    "    g.extend([x for x in (i.replace(\"+\", \"\")).replace(\"<=>\", \"\").split(' ') if x])"
   ]
  },
  {
   "cell_type": "code",
   "execution_count": 5,
   "metadata": {},
   "outputs": [],
   "source": [
    "(pd.DataFrame(g).drop_duplicates().sort_values(0).reset_index(drop=True)).to_csv('../contain_compounds.csv')"
   ]
  },
  {
   "cell_type": "code",
   "execution_count": 6,
   "metadata": {
    "scrolled": true
   },
   "outputs": [],
   "source": [
    "pd.DataFrame(f, index=list(t['Reaction Number'])).to_csv('../csv/stochastic_matrix.csv')"
   ]
  }
 ],
 "metadata": {
  "kernelspec": {
   "display_name": "Python 3",
   "language": "python",
   "name": "python3"
  },
  "language_info": {
   "codemirror_mode": {
    "name": "ipython",
    "version": 3
   },
   "file_extension": ".py",
   "mimetype": "text/x-python",
   "name": "python",
   "nbconvert_exporter": "python",
   "pygments_lexer": "ipython3",
   "version": "3.6.5"
  }
 },
 "nbformat": 4,
 "nbformat_minor": 2
}
