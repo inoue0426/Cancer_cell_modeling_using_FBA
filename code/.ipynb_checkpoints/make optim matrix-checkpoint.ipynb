{
 "cells": [
  {
   "cell_type": "code",
   "execution_count": 45,
   "metadata": {
    "scrolled": true
   },
   "outputs": [],
   "source": [
    "import pandas as pd\n",
    "import numpy as np\n",
    "import re"
   ]
  },
  {
   "cell_type": "code",
   "execution_count": 46,
   "metadata": {
    "scrolled": true
   },
   "outputs": [],
   "source": [
    "t = pd.read_csv('../csv/minimum_reaction.csv').dropna().drop_duplicates().sort_values('Reaction Number').reset_index(drop=True)"
   ]
  },
  {
   "cell_type": "code",
   "execution_count": 47,
   "metadata": {},
   "outputs": [],
   "source": [
    "f = []\n",
    "g = []\n",
    "for i in t['Compound Number']:\n",
    "    f.append([x for x in (i.replace(\"+\", \"\")).split(' ') if x])\n",
    "    g.extend([x for x in (i.replace(\"+\", \"\")).replace(\"<=>\", \"\").split(' ') if x])\n",
    "    \n",
    "g = pd.DataFrame(list(set(g)))\n",
    "g.columns = ['c']\n",
    "g = g.sort_values('c').reset_index(drop=True).drop(0)"
   ]
  },
  {
   "cell_type": "code",
   "execution_count": 48,
   "metadata": {},
   "outputs": [],
   "source": [
    "df = pd.DataFrame(\n",
    "    index=list(t['Reaction Number']), \n",
    "    columns=list(g['c']))"
   ]
  },
  {
   "cell_type": "code",
   "execution_count": 49,
   "metadata": {
    "scrolled": true
   },
   "outputs": [],
   "source": [
    "# initial num\n",
    "num = 1\n",
    "sign = -1\n",
    "\n",
    "for i, j in enumerate(df.index):\n",
    "    for p in f[i]:\n",
    "        if p.isdecimal():\n",
    "            num = p\n",
    "        elif p == '<=>':\n",
    "            sign = 1\n",
    "        else:\n",
    "            df[p][j] = num*sign\n",
    "            num = 1"
   ]
  },
  {
   "cell_type": "code",
   "execution_count": 51,
   "metadata": {},
   "outputs": [
    {
     "data": {
      "text/plain": [
       "C00080    2\n",
       "C00084    1\n",
       "C00469    1\n",
       "C18233    2\n",
       "C18234    2\n",
       "Name: R09127, dtype: object"
      ]
     },
     "execution_count": 51,
     "metadata": {},
     "output_type": "execute_result"
    }
   ],
   "source": [
    "df.T['R09127'].dropna()"
   ]
  },
  {
   "cell_type": "code",
   "execution_count": 52,
   "metadata": {
    "scrolled": true
   },
   "outputs": [
    {
     "data": {
      "text/plain": [
       "107    C00469 + 2 C18233 <=> C00084 + 2 C18234 + 2 C0...\n",
       "Name: Compound Number, dtype: object"
      ]
     },
     "execution_count": 52,
     "metadata": {},
     "output_type": "execute_result"
    }
   ],
   "source": [
    "t[t['Reaction Number'] == 'R09127']['Compound Number'] "
   ]
  },
  {
   "cell_type": "code",
   "execution_count": null,
   "metadata": {},
   "outputs": [],
   "source": []
  }
 ],
 "metadata": {
  "kernelspec": {
   "display_name": "Python 3",
   "language": "python",
   "name": "python3"
  },
  "language_info": {
   "codemirror_mode": {
    "name": "ipython",
    "version": 3
   },
   "file_extension": ".py",
   "mimetype": "text/x-python",
   "name": "python",
   "nbconvert_exporter": "python",
   "pygments_lexer": "ipython3",
   "version": "3.6.5"
  }
 },
 "nbformat": 4,
 "nbformat_minor": 2
}
