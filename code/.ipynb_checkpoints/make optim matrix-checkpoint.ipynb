{
 "cells": [
  {
   "cell_type": "code",
   "execution_count": 1,
   "metadata": {
    "scrolled": true
   },
   "outputs": [],
   "source": [
    "import pandas as pd\n",
    "import numpy as np\n",
    "import re"
   ]
  },
  {
   "cell_type": "code",
   "execution_count": 2,
   "metadata": {
    "scrolled": true
   },
   "outputs": [],
   "source": [
    "t = pd.read_csv('../csv/minimum_reaction.csv').dropna().drop_duplicates().sort_values('Reaction Number').reset_index(drop=True)"
   ]
  },
  {
   "cell_type": "code",
   "execution_count": 3,
   "metadata": {},
   "outputs": [],
   "source": [
    "f = []\n",
    "g = []\n",
    "for i in t['Compound Number']:\n",
    "    f.append([x for x in (i.replace(\"+\", \"\")).split(' ') if x])\n",
    "    g.extend([x for x in (i.replace(\"+\", \"\")).replace(\"<=>\", \"\").split(' ') if x])\n",
    "    \n",
    "g = pd.DataFrame(list(set(g)))\n",
    "g.columns = ['c']\n",
    "g = g.sort_values('c').reset_index(drop=True).drop(0)"
   ]
  },
  {
   "cell_type": "code",
   "execution_count": 4,
   "metadata": {
    "scrolled": true
   },
   "outputs": [],
   "source": [
    "pd.DataFrame(f).to_csv('r_to_c_matrix.csv')"
   ]
  },
  {
   "cell_type": "code",
   "execution_count": 5,
   "metadata": {},
   "outputs": [],
   "source": [
    "df = pd.DataFrame(\n",
    "    index=list(t['Reaction Number']), \n",
    "    columns=list(g['c']))"
   ]
  },
  {
   "cell_type": "code",
   "execution_count": 6,
   "metadata": {
    "scrolled": true
   },
   "outputs": [],
   "source": [
    "for i, j in enumerate(df.index):\n",
    "    num = 1\n",
    "    sign = -1\n",
    "    for p in f[i]:\n",
    "        if p.isdecimal():\n",
    "            num = int(p)\n",
    "        elif p == '<=>':\n",
    "            sign = 1\n",
    "        if p[0] == 'C':\n",
    "            if num*sign == '':\n",
    "                print(num, sign, num*sign, p, i, j)\n",
    "            df[p][j] = num*sign\n",
    "            num = 1"
   ]
  },
  {
   "cell_type": "code",
   "execution_count": 7,
   "metadata": {},
   "outputs": [],
   "source": [
    "df.to_csv('stochastic_matrix.csv')"
   ]
  }
 ],
 "metadata": {
  "kernelspec": {
   "display_name": "Python 3",
   "language": "python",
   "name": "python3"
  },
  "language_info": {
   "codemirror_mode": {
    "name": "ipython",
    "version": 3
   },
   "file_extension": ".py",
   "mimetype": "text/x-python",
   "name": "python",
   "nbconvert_exporter": "python",
   "pygments_lexer": "ipython3",
   "version": "3.6.5"
  }
 },
 "nbformat": 4,
 "nbformat_minor": 2
}
