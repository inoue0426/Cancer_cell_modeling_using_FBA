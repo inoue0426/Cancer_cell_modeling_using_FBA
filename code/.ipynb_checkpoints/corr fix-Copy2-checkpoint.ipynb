{
 "cells": [
  {
   "cell_type": "code",
   "execution_count": 1,
   "metadata": {},
   "outputs": [],
   "source": [
    "import numpy as np\n",
    "import pandas as pd\n",
    "import matplotlib as plt\n",
    "import urllib.request\n",
    "from pulp import *\n",
    "from scipy import optimize\n",
    "import math\n",
    "\n",
    "%matplotlib inline"
   ]
  },
  {
   "cell_type": "code",
   "execution_count": 2,
   "metadata": {
    "scrolled": true
   },
   "outputs": [],
   "source": [
    "t = pd.read_csv('../result/slope.csv', index_col=0).T\n",
    "v = pd.DataFrame(pd.read_excel('../result/lac.xlsx').mean()).T\n",
    "v.columns = t.columns\n",
    "slope = pd.concat([t, v])\n",
    "slope = slope.rename(index={0:'Lactate'})\n",
    "slope = pd.concat([slope, pd.DataFrame([22, 12.5, 17], columns=['Doubling Time'] , index=slope.columns).T])"
   ]
  },
  {
   "cell_type": "code",
   "execution_count": 3,
   "metadata": {},
   "outputs": [
    {
     "data": {
      "text/html": [
       "<div>\n",
       "<style scoped>\n",
       "    .dataframe tbody tr th:only-of-type {\n",
       "        vertical-align: middle;\n",
       "    }\n",
       "\n",
       "    .dataframe tbody tr th {\n",
       "        vertical-align: top;\n",
       "    }\n",
       "\n",
       "    .dataframe thead th {\n",
       "        text-align: right;\n",
       "    }\n",
       "</style>\n",
       "<table border=\"1\" class=\"dataframe\">\n",
       "  <thead>\n",
       "    <tr style=\"text-align: right;\">\n",
       "      <th></th>\n",
       "      <th>Control</th>\n",
       "      <th>Clone A</th>\n",
       "      <th>Clone B</th>\n",
       "    </tr>\n",
       "  </thead>\n",
       "  <tbody>\n",
       "    <tr>\n",
       "      <th>Glucose</th>\n",
       "      <td>0.084646</td>\n",
       "      <td>0.037859</td>\n",
       "      <td>0.014288</td>\n",
       "    </tr>\n",
       "    <tr>\n",
       "      <th>Glutamate</th>\n",
       "      <td>0.017335</td>\n",
       "      <td>-0.004645</td>\n",
       "      <td>0.011940</td>\n",
       "    </tr>\n",
       "    <tr>\n",
       "      <th>Lactate</th>\n",
       "      <td>0.636289</td>\n",
       "      <td>3.734983</td>\n",
       "      <td>1.916520</td>\n",
       "    </tr>\n",
       "    <tr>\n",
       "      <th>Doubling Time</th>\n",
       "      <td>22.000000</td>\n",
       "      <td>12.500000</td>\n",
       "      <td>17.000000</td>\n",
       "    </tr>\n",
       "  </tbody>\n",
       "</table>\n",
       "</div>"
      ],
      "text/plain": [
       "                 Control    Clone A    Clone B\n",
       "Glucose         0.084646   0.037859   0.014288\n",
       "Glutamate       0.017335  -0.004645   0.011940\n",
       "Lactate         0.636289   3.734983   1.916520\n",
       "Doubling Time  22.000000  12.500000  17.000000"
      ]
     },
     "execution_count": 3,
     "metadata": {},
     "output_type": "execute_result"
    }
   ],
   "source": [
    "slope"
   ]
  },
  {
   "cell_type": "code",
   "execution_count": 4,
   "metadata": {},
   "outputs": [],
   "source": [
    "Lac = np.array(slope.T['Lactate']/slope.T.mean()['Lactate'])\n",
    "gr = np.array([np.log(2)/i for i in slope.T['Doubling Time']])\n",
    "Gr = gr/gr.mean()"
   ]
  },
  {
   "cell_type": "code",
   "execution_count": 5,
   "metadata": {},
   "outputs": [],
   "source": [
    "t = pd.read_csv('../csv/stochastic_matrix.csv', index_col=0).fillna(0)"
   ]
  },
  {
   "cell_type": "code",
   "execution_count": 6,
   "metadata": {
    "scrolled": true
   },
   "outputs": [],
   "source": [
    "v = t.T[[\n",
    "    'R00200', 'R00268', 'R00341', 'R00342', 'R00351',\n",
    "    'R00405', 'R00658', 'R00703', 'R01015', 'R01049',\n",
    "    'R01056', 'R01061', 'R01070', 'R01082', 'R01196', \n",
    "    'R01197', 'R01325', 'R01512', 'R01518', 'R01528',\n",
    "    'R01529', 'R01641', 'R01786', 'R01830', 'R01899',\n",
    "    'R01900', 'R02035', 'R02164', 'R02740', 'R04779'\n",
    "]].T\n",
    "\n",
    "for i in v.columns:\n",
    "    if sum(v[i] == 0) == v.shape[0]:\n",
    "        v = v.drop(i, axis=1)\n",
    "        \n",
    "v['C00007'] = pd.Series(np.zeros(v.shape[0]), index=v.index)\n",
    "v['C00033'] = pd.Series(np.zeros(v.shape[0]), index=v.index)\n",
    "v['C00092'] = pd.Series(np.zeros(v.shape[0]), index=v.index)\n",
    "v['C00014'] = pd.Series(np.zeros(v.shape[0]), index=v.index)\n",
    "v['C00025'] = pd.Series(np.zeros(v.shape[0]), index=v.index)"
   ]
  },
  {
   "cell_type": "code",
   "execution_count": 7,
   "metadata": {},
   "outputs": [],
   "source": [
    "df = v.T\n",
    "df['Glucose_input'] =  pd.Series(np.zeros(df.shape[0]), index=df.index)\n",
    "df['Glucose_input']['C00267'] = 1\n",
    "\n",
    "df['Oxygen_input'] =  pd.Series(np.zeros(df.shape[0]), index=df.index)\n",
    "df['Oxygen_input']['C00007'] = 1\n",
    "\n",
    "df['CO2_output'] =  pd.Series(np.zeros(df.shape[0]), index=df.index)\n",
    "df['CO2_output']['C00011'] = -1\n",
    "\n",
    "df['Lactate_output'] =  pd.Series(np.zeros(df.shape[0]), index=df.index)\n",
    "df['Lactate_output']['C00186'] = -1\n",
    "\n",
    "df['Acetate_output'] =  pd.Series(np.zeros(df.shape[0]), index=df.index)\n",
    "df['Acetate_output']['C00033'] = -1\n",
    "\n",
    "df['Glutamate_input'] =  pd.Series(np.zeros(df.shape[0]), index=df.index)\n",
    "df['Glutamate_input']['C00025'] = 1\n",
    "\n",
    "df['Ammonia_input'] =  pd.Series(np.zeros(df.shape[0]), index=df.index)\n",
    "df['Ammonia_input']['C00014'] = 1\n",
    "\n",
    "df['Glu_Exchange'] =  pd.Series(np.zeros(df.shape[0]), index=df.index)\n",
    "df['Glu_Exchange']['C00267'] = -1\n",
    "df['Glu_Exchange']['C00092'] = 1\n",
    "\n",
    "df['acetyl_CoA_hydrolase'] =  pd.Series(np.zeros(df.shape[0]), index=df.index)\n",
    "df['acetyl_CoA_hydrolase']['C00024'] = -1\n",
    "df['acetyl_CoA_hydrolase']['C00001'] = -1\n",
    "df['acetyl_CoA_hydrolase']['C00010'] = 1\n",
    "df['acetyl_CoA_hydrolase']['C00033'] = 1\n",
    "\n",
    "df['NADP_Exchange'] =  pd.Series(np.zeros(df.shape[0]), index=df.index)\n",
    "df['NADP_Exchange']['C00005'] = -1\n",
    "df['NADP_Exchange']['C00003'] = -1\n",
    "df['NADP_Exchange']['C00006'] = 1\n",
    "df['NADP_Exchange']['C00004'] = 1\n",
    "\n",
    "df['ADP_Exchange'] =  pd.Series(np.zeros(df.shape[0]), index=df.index)\n",
    "df['ADP_Exchange']['C00002'] = -1\n",
    "df['ADP_Exchange']['C00008'] = 1\n",
    "\n",
    "df['AMP_Exchange'] =  pd.Series(np.zeros(df.shape[0]), index=df.index)\n",
    "df['AMP_Exchange']['C00002'] = -1\n",
    "df['AMP_Exchange']['C00020'] = -1\n",
    "df['AMP_Exchange']['C00008'] = 2\n",
    "\n",
    "df['R00835'] =  pd.Series(np.zeros(df.shape[0]), index=df.index)\n",
    "df['R00835']['C00092'] = -1\n",
    "df['R00835']['C00006'] = -1\n",
    "df['R00835']['C01236'] = 1\n",
    "df['R00835']['C00005'] = 1\n",
    "df['R00835']['C00080'] = 1\n",
    "\n",
    "df['R08575'] =  pd.Series(np.zeros(df.shape[0]), index=df.index)\n",
    "df['R08575']['C05382'] = -1\n",
    "df['R08575']['C00118'] = -1\n",
    "df['R08575']['C00279'] = 1\n",
    "df['R08575']['C00085'] = 1\n",
    "\n",
    "df['R02164']['C00004'] = -1\n",
    "df['R02164']['C00003'] = 1\n",
    "df['R02164']['C15602'] = 0\n",
    "df['R02164']['C15603'] = 0\n",
    "\n",
    "df['R00243'] =  pd.Series(np.zeros(df.shape[0]), index=df.index)\n",
    "df['R00243']['C00025'] = -1\n",
    "df['R00243']['C00003'] = -1\n",
    "df['R00243']['C00001'] = -1\n",
    "\n",
    "df['R00243']['C00026'] = 1\n",
    "df['R00243']['C00014'] = 1\n",
    "df['R00243']['C00004'] = 1\n",
    "df['R00243']['C00080'] = 1\n",
    "\n",
    "df['Oxophos'] =  pd.Series(np.zeros(df.shape[0]), index=df.index)\n",
    "df['Oxophos']['C00004'] = -2\n",
    "df['Oxophos']['C00007'] = -1\n",
    "df['Oxophos']['C00008'] = -5\n",
    "df['Oxophos']['C00002'] = 5\n",
    "df['Oxophos']['C00003'] = 2\n",
    "df['Oxophos']['C00011'] = 1"
   ]
  },
  {
   "cell_type": "code",
   "execution_count": 8,
   "metadata": {
    "scrolled": true
   },
   "outputs": [],
   "source": [
    "BIOMASS = pd.read_csv('../csv/amino_acid.csv',index_col=0)\n",
    "df_Biomass =  pd.Series(np.zeros(df.shape[0]), index=df.index)\n",
    "\n",
    "for i in BIOMASS.index:\n",
    "    df_Biomass[BIOMASS.T[i]['C_num']] = BIOMASS.T[i]['flux']\n",
    "    \n",
    "df_Biomass['C00668'] = -0.27519\n",
    "df_Biomass['C00119'] = (-0.039036) + (-0.036117) + (-0.053446)"
   ]
  },
  {
   "cell_type": "code",
   "execution_count": 9,
   "metadata": {},
   "outputs": [],
   "source": [
    "df_new = pd.concat([df_Biomass.T, df], axis=1)\n",
    "df_new = df_new.rename(columns={0: 'BIOMASS'})\n",
    "df_new = df_new.drop([\n",
    "    'C00001','C00009','C00080','C00138','C00139','C15602','C15603'\n",
    "])"
   ]
  },
  {
   "cell_type": "code",
   "execution_count": 10,
   "metadata": {
    "scrolled": true
   },
   "outputs": [],
   "source": [
    "def fba(glc, glu, ox):\n",
    "    x = []\n",
    "    for i in df_new.columns:\n",
    "        if (\n",
    "                (i=='Oxophos') or (i=='R01899') or (i=='R00268') or (i=='R10343') or (i=='R02164') or (i=='R00835') or \n",
    "                (i=='R02035') or (i=='ATP_Exchange') or (i=='AMP_Exchange') or (i=='CO2_output')\n",
    "        ):\n",
    "            x.append(LpVariable(i, lowBound=0,upBound=10000, cat='Continuous'))\n",
    "\n",
    "        elif (i=='Lactate_output'):\n",
    "            x.append(LpVariable(i, lowBound=0, upBound=10000, cat='Continuous'))\n",
    "            \n",
    "        elif (i=='BIOMASS'):\n",
    "            x.append(LpVariable(i, lowBound=0, upBound=100, cat='Continuous'))\n",
    "        \n",
    "        elif (i=='Oxygen_input'):\n",
    "            x.append(LpVariable(i, lowBound=0, upBound=ox, cat='Continuous'))\n",
    "        \n",
    "        elif (i=='Glucose_input'):\n",
    "            x.append(LpVariable(i, lowBound=0, upBound=glc, cat='Continuous'))\n",
    "\n",
    "        elif (i=='Glutamate_input'):\n",
    "            x.append(LpVariable(i, lowBound=glu, upBound=glu, cat='Continuous'))\n",
    "            \n",
    "        elif (i=='Ammonia_input'):\n",
    "            x.append(LpVariable(i, lowBound=-10000, upBound=10000, cat='Continuous'))\n",
    "              \n",
    "        elif (\n",
    "            (i=='Succinate_output') or (i=='Malate_output') or (i=='Fumarate_output') or (i=='Acetate_output')\n",
    "        ):\n",
    "            x.append(LpVariable(i, lowBound=0, upBound=50, cat='Continuous'))\n",
    "                \n",
    "        elif (i=='R00200') or (i=='R01196') or (i=='R01197') or (i=='R00405'):\n",
    "            x.append(LpVariable(i, lowBound=-10000, upBound=0, cat='Continuous'))\n",
    "\n",
    "        else:\n",
    "            x.append(LpVariable(i, lowBound=-10000, upBound=10000, cat='Continuous'))\n",
    "\n",
    "    m = LpProblem(sense=LpMaximize)\n",
    "    m += x[0]\n",
    "\n",
    "    for i in np.dot(df_new, x):\n",
    "        m += i == 0\n",
    "\n",
    "    status = m.solve()\n",
    "    if (LpStatus[status]) == 'Infeasible':\n",
    "        print(i)\n",
    "        return 100, 100\n",
    "\n",
    "    y = []\n",
    "    for i in x:\n",
    "        y.append(i.value())\n",
    "\n",
    "    j = pd.DataFrame(y, index=[str(i) for i in x]).T\n",
    "    \n",
    "    return np.array([j['BIOMASS'][0], j['Lactate_output'][0]])"
   ]
  },
  {
   "cell_type": "code",
   "execution_count": 11,
   "metadata": {},
   "outputs": [],
   "source": [
    "def f(x):\n",
    "    x, y, z = x\n",
    "    h =[\n",
    "        fba(x1, y1, z1)\n",
    "    ]\n",
    "    \n",
    "    p = pd.DataFrame(h, columns=['Biomass', 'Lactate'])\n",
    "    v = np.sum((p['Biomass']/p['Biomass'].mean() - Gr[0])**2) + np.sum((p['Lactate']/p['Lactate'].mean() - Lac[0])**2)\n",
    "    \n",
    "    return v"
   ]
  },
  {
   "cell_type": "code",
   "execution_count": 12,
   "metadata": {},
   "outputs": [],
   "source": [
    "x = [slope.loc['Glucose'][0], slope.loc['Glutamate'][0], 0.01]"
   ]
  },
  {
   "cell_type": "code",
   "execution_count": 13,
   "metadata": {
    "scrolled": true
   },
   "outputs": [
    {
     "ename": "NameError",
     "evalue": "name 'x1' is not defined",
     "output_type": "error",
     "traceback": [
      "\u001b[0;31m---------------------------------------------------------------------------\u001b[0m",
      "\u001b[0;31mNameError\u001b[0m                                 Traceback (most recent call last)",
      "\u001b[0;32m<ipython-input-13-b650efa5269d>\u001b[0m in \u001b[0;36m<module>\u001b[0;34m()\u001b[0m\n\u001b[1;32m      2\u001b[0m     \u001b[0mf\u001b[0m\u001b[0;34m,\u001b[0m\u001b[0;34m\u001b[0m\u001b[0m\n\u001b[1;32m      3\u001b[0m     \u001b[0mx\u001b[0m\u001b[0;34m,\u001b[0m\u001b[0;34m\u001b[0m\u001b[0m\n\u001b[0;32m----> 4\u001b[0;31m     \u001b[0mmethod\u001b[0m\u001b[0;34m=\u001b[0m\u001b[0;34m'Nelder-Mead'\u001b[0m\u001b[0;34m\u001b[0m\u001b[0m\n\u001b[0m\u001b[1;32m      5\u001b[0m )\n",
      "\u001b[0;32m~/.pyenv/versions/3.6.5/lib/python3.6/site-packages/scipy/optimize/_minimize.py\u001b[0m in \u001b[0;36mminimize\u001b[0;34m(fun, x0, args, method, jac, hess, hessp, bounds, constraints, tol, callback, options)\u001b[0m\n\u001b[1;32m    589\u001b[0m                       callback=callback, **options)\n\u001b[1;32m    590\u001b[0m     \u001b[0;32melif\u001b[0m \u001b[0mmeth\u001b[0m \u001b[0;34m==\u001b[0m \u001b[0;34m'nelder-mead'\u001b[0m\u001b[0;34m:\u001b[0m\u001b[0;34m\u001b[0m\u001b[0m\n\u001b[0;32m--> 591\u001b[0;31m         \u001b[0;32mreturn\u001b[0m \u001b[0m_minimize_neldermead\u001b[0m\u001b[0;34m(\u001b[0m\u001b[0mfun\u001b[0m\u001b[0;34m,\u001b[0m \u001b[0mx0\u001b[0m\u001b[0;34m,\u001b[0m \u001b[0margs\u001b[0m\u001b[0;34m,\u001b[0m \u001b[0mcallback\u001b[0m\u001b[0;34m,\u001b[0m \u001b[0;34m**\u001b[0m\u001b[0moptions\u001b[0m\u001b[0;34m)\u001b[0m\u001b[0;34m\u001b[0m\u001b[0m\n\u001b[0m\u001b[1;32m    592\u001b[0m     \u001b[0;32melif\u001b[0m \u001b[0mmeth\u001b[0m \u001b[0;34m==\u001b[0m \u001b[0;34m'powell'\u001b[0m\u001b[0;34m:\u001b[0m\u001b[0;34m\u001b[0m\u001b[0m\n\u001b[1;32m    593\u001b[0m         \u001b[0;32mreturn\u001b[0m \u001b[0m_minimize_powell\u001b[0m\u001b[0;34m(\u001b[0m\u001b[0mfun\u001b[0m\u001b[0;34m,\u001b[0m \u001b[0mx0\u001b[0m\u001b[0;34m,\u001b[0m \u001b[0margs\u001b[0m\u001b[0;34m,\u001b[0m \u001b[0mcallback\u001b[0m\u001b[0;34m,\u001b[0m \u001b[0;34m**\u001b[0m\u001b[0moptions\u001b[0m\u001b[0;34m)\u001b[0m\u001b[0;34m\u001b[0m\u001b[0m\n",
      "\u001b[0;32m~/.pyenv/versions/3.6.5/lib/python3.6/site-packages/scipy/optimize/optimize.py\u001b[0m in \u001b[0;36m_minimize_neldermead\u001b[0;34m(func, x0, args, callback, maxiter, maxfev, disp, return_all, initial_simplex, xatol, fatol, adaptive, **unknown_options)\u001b[0m\n\u001b[1;32m    550\u001b[0m \u001b[0;34m\u001b[0m\u001b[0m\n\u001b[1;32m    551\u001b[0m     \u001b[0;32mfor\u001b[0m \u001b[0mk\u001b[0m \u001b[0;32min\u001b[0m \u001b[0mrange\u001b[0m\u001b[0;34m(\u001b[0m\u001b[0mN\u001b[0m \u001b[0;34m+\u001b[0m \u001b[0;36m1\u001b[0m\u001b[0;34m)\u001b[0m\u001b[0;34m:\u001b[0m\u001b[0;34m\u001b[0m\u001b[0m\n\u001b[0;32m--> 552\u001b[0;31m         \u001b[0mfsim\u001b[0m\u001b[0;34m[\u001b[0m\u001b[0mk\u001b[0m\u001b[0;34m]\u001b[0m \u001b[0;34m=\u001b[0m \u001b[0mfunc\u001b[0m\u001b[0;34m(\u001b[0m\u001b[0msim\u001b[0m\u001b[0;34m[\u001b[0m\u001b[0mk\u001b[0m\u001b[0;34m]\u001b[0m\u001b[0;34m)\u001b[0m\u001b[0;34m\u001b[0m\u001b[0m\n\u001b[0m\u001b[1;32m    553\u001b[0m \u001b[0;34m\u001b[0m\u001b[0m\n\u001b[1;32m    554\u001b[0m     \u001b[0mind\u001b[0m \u001b[0;34m=\u001b[0m \u001b[0mnumpy\u001b[0m\u001b[0;34m.\u001b[0m\u001b[0margsort\u001b[0m\u001b[0;34m(\u001b[0m\u001b[0mfsim\u001b[0m\u001b[0;34m)\u001b[0m\u001b[0;34m\u001b[0m\u001b[0m\n",
      "\u001b[0;32m~/.pyenv/versions/3.6.5/lib/python3.6/site-packages/scipy/optimize/optimize.py\u001b[0m in \u001b[0;36mfunction_wrapper\u001b[0;34m(*wrapper_args)\u001b[0m\n\u001b[1;32m    291\u001b[0m     \u001b[0;32mdef\u001b[0m \u001b[0mfunction_wrapper\u001b[0m\u001b[0;34m(\u001b[0m\u001b[0;34m*\u001b[0m\u001b[0mwrapper_args\u001b[0m\u001b[0;34m)\u001b[0m\u001b[0;34m:\u001b[0m\u001b[0;34m\u001b[0m\u001b[0m\n\u001b[1;32m    292\u001b[0m         \u001b[0mncalls\u001b[0m\u001b[0;34m[\u001b[0m\u001b[0;36m0\u001b[0m\u001b[0;34m]\u001b[0m \u001b[0;34m+=\u001b[0m \u001b[0;36m1\u001b[0m\u001b[0;34m\u001b[0m\u001b[0m\n\u001b[0;32m--> 293\u001b[0;31m         \u001b[0;32mreturn\u001b[0m \u001b[0mfunction\u001b[0m\u001b[0;34m(\u001b[0m\u001b[0;34m*\u001b[0m\u001b[0;34m(\u001b[0m\u001b[0mwrapper_args\u001b[0m \u001b[0;34m+\u001b[0m \u001b[0margs\u001b[0m\u001b[0;34m)\u001b[0m\u001b[0;34m)\u001b[0m\u001b[0;34m\u001b[0m\u001b[0m\n\u001b[0m\u001b[1;32m    294\u001b[0m \u001b[0;34m\u001b[0m\u001b[0m\n\u001b[1;32m    295\u001b[0m     \u001b[0;32mreturn\u001b[0m \u001b[0mncalls\u001b[0m\u001b[0;34m,\u001b[0m \u001b[0mfunction_wrapper\u001b[0m\u001b[0;34m\u001b[0m\u001b[0m\n",
      "\u001b[0;32m<ipython-input-11-ce1120c9363f>\u001b[0m in \u001b[0;36mf\u001b[0;34m(x)\u001b[0m\n\u001b[1;32m      2\u001b[0m     \u001b[0mx\u001b[0m\u001b[0;34m,\u001b[0m \u001b[0my\u001b[0m\u001b[0;34m,\u001b[0m \u001b[0mz\u001b[0m \u001b[0;34m=\u001b[0m \u001b[0mx\u001b[0m\u001b[0;34m\u001b[0m\u001b[0m\n\u001b[1;32m      3\u001b[0m     h =[\n\u001b[0;32m----> 4\u001b[0;31m         \u001b[0mfba\u001b[0m\u001b[0;34m(\u001b[0m\u001b[0mx1\u001b[0m\u001b[0;34m,\u001b[0m \u001b[0my1\u001b[0m\u001b[0;34m,\u001b[0m \u001b[0mz1\u001b[0m\u001b[0;34m)\u001b[0m\u001b[0;34m\u001b[0m\u001b[0m\n\u001b[0m\u001b[1;32m      5\u001b[0m     ]\n\u001b[1;32m      6\u001b[0m \u001b[0;34m\u001b[0m\u001b[0m\n",
      "\u001b[0;31mNameError\u001b[0m: name 'x1' is not defined"
     ]
    }
   ],
   "source": [
    "res1 = optimize.minimize(\n",
    "    f, \n",
    "    x,\n",
    "    method='Nelder-Mead'\n",
    ")"
   ]
  },
  {
   "cell_type": "code",
   "execution_count": null,
   "metadata": {},
   "outputs": [],
   "source": [
    "res1"
   ]
  },
  {
   "cell_type": "code",
   "execution_count": null,
   "metadata": {},
   "outputs": [],
   "source": [
    "x, y, z = res1.x"
   ]
  },
  {
   "cell_type": "code",
   "execution_count": null,
   "metadata": {},
   "outputs": [],
   "source": [
    "def fba_result(glc, glu, ox):\n",
    "    x = []\n",
    "    for i in df_new.columns:\n",
    "        if (\n",
    "                (i=='Oxophos') or (i=='R01899') or (i=='R00268') or (i=='R10343') or (i=='R02164') or (i=='R00835') or (i=='R02035') or\n",
    "                (i=='ATP_Exchange') or (i=='AMP_Exchange') or (i=='Glutamate_output') or (i=='CO2_output') or (i=='Ammonia_output')\n",
    "        ):\n",
    "            x.append(LpVariable(i, lowBound=0,upBound=10000, cat='Continuous'))\n",
    "\n",
    "        elif (i=='Lactate_output'):\n",
    "            x.append(LpVariable(i, lowBound=0, upBound=10000, cat='Continuous'))\n",
    "            \n",
    "        elif (i=='BIOMASS'):\n",
    "            x.append(LpVariable(i, lowBound=0, upBound=100, cat='Continuous'))\n",
    "        \n",
    "        elif (i=='Oxygen_input'):\n",
    "            x.append(LpVariable(i, lowBound=ox, upBound=ox, cat='Continuous'))\n",
    "        \n",
    "        elif (i=='Glucose_input'):\n",
    "            x.append(LpVariable(i, lowBound=glc, upBound=glc, cat='Continuous'))\n",
    "\n",
    "        elif (i=='Glutamate_input'):\n",
    "            x.append(LpVariable(i, lowBound=glu, upBound=glu, cat='Continuous'))\n",
    "            \n",
    "        elif (i=='Ammonia_input'):\n",
    "            x.append(LpVariable(i, lowBound=-10000, upBound=10000, cat='Continuous'))\n",
    "              \n",
    "        elif (\n",
    "            (i=='Succinate_output') or (i=='Malate_output') or (i=='Fumarate_output') or (i=='Acetate_output')\n",
    "        ):\n",
    "            x.append(LpVariable(i, lowBound=0, upBound=50, cat='Continuous'))\n",
    "                \n",
    "        elif (i=='R00200') or (i=='R01196') or (i=='R01197') or (i=='R00405'):\n",
    "            x.append(LpVariable(i, lowBound=-10000, upBound=0, cat='Continuous'))\n",
    "\n",
    "        else:\n",
    "            x.append(LpVariable(i, lowBound=-10000, upBound=10000, cat='Continuous'))\n",
    "\n",
    "    m = LpProblem(sense=LpMaximize)\n",
    "    m += x[0]\n",
    "\n",
    "    for i in np.dot(df_new, x):\n",
    "        m += i == 0\n",
    "\n",
    "    status = m.solve()\n",
    "    if (LpStatus[status]) == 'Infeasible':\n",
    "        print(i)\n",
    "        return\n",
    "\n",
    "    y = []\n",
    "    for i in x:\n",
    "        y.append(i.value())\n",
    "\n",
    "    j = pd.DataFrame(y, index=[str(i) for i in x]).T\n",
    "    \n",
    "    return j"
   ]
  },
  {
   "cell_type": "code",
   "execution_count": null,
   "metadata": {},
   "outputs": [],
   "source": [
    "fba_result(x, y, z )"
   ]
  },
  {
   "cell_type": "code",
   "execution_count": null,
   "metadata": {},
   "outputs": [],
   "source": [
    "# result = pd.concat([fba_result(x, y, z ).T, fba_result(x2, y2, z2).T, fba_result(x3, y3, z3).T], axis=1)\n",
    "# result.columns = ['Control', 'Clone A', 'Clone B']"
   ]
  },
  {
   "cell_type": "code",
   "execution_count": null,
   "metadata": {
    "scrolled": false
   },
   "outputs": [],
   "source": [
    "# result.to_csv('../result/fba_mse.csv')"
   ]
  },
  {
   "cell_type": "code",
   "execution_count": null,
   "metadata": {},
   "outputs": [],
   "source": [
    "result.loc['BIOMASS']/result.loc['BIOMASS'][0]"
   ]
  },
  {
   "cell_type": "code",
   "execution_count": null,
   "metadata": {},
   "outputs": [],
   "source": [
    "result.loc['Lactate_output']/result.loc['Lactate_output'][0]"
   ]
  },
  {
   "cell_type": "code",
   "execution_count": null,
   "metadata": {},
   "outputs": [],
   "source": [
    "result.loc['Glucose_input']/result.loc['Glucose_input'][0]"
   ]
  },
  {
   "cell_type": "code",
   "execution_count": null,
   "metadata": {},
   "outputs": [],
   "source": [
    "Lac/Lac[0]"
   ]
  },
  {
   "cell_type": "code",
   "execution_count": null,
   "metadata": {},
   "outputs": [],
   "source": []
  },
  {
   "cell_type": "code",
   "execution_count": null,
   "metadata": {},
   "outputs": [],
   "source": []
  }
 ],
 "metadata": {
  "kernelspec": {
   "display_name": "Python 3",
   "language": "python",
   "name": "python3"
  },
  "language_info": {
   "codemirror_mode": {
    "name": "ipython",
    "version": 3
   },
   "file_extension": ".py",
   "mimetype": "text/x-python",
   "name": "python",
   "nbconvert_exporter": "python",
   "pygments_lexer": "ipython3",
   "version": "3.6.5"
  }
 },
 "nbformat": 4,
 "nbformat_minor": 2
}
