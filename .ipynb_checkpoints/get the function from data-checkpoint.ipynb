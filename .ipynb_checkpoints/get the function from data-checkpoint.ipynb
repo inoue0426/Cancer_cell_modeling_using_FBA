{
 "cells": [
  {
   "cell_type": "code",
   "execution_count": 1,
   "metadata": {},
   "outputs": [],
   "source": [
    "from scipy.optimize import curve_fit\n",
    "import numpy as np\n",
    "import pandas as pd\n",
    "\n",
    "import seaborn as sns\n",
    "import matplotlib.pyplot as plt"
   ]
  },
  {
   "cell_type": "code",
   "execution_count": 2,
   "metadata": {},
   "outputs": [],
   "source": [
    "t = pd.read_csv('./KO.csv', index_col=0)"
   ]
  },
  {
   "cell_type": "code",
   "execution_count": 3,
   "metadata": {},
   "outputs": [
    {
     "data": {
      "text/html": [
       "<div>\n",
       "<style scoped>\n",
       "    .dataframe tbody tr th:only-of-type {\n",
       "        vertical-align: middle;\n",
       "    }\n",
       "\n",
       "    .dataframe tbody tr th {\n",
       "        vertical-align: top;\n",
       "    }\n",
       "\n",
       "    .dataframe thead th {\n",
       "        text-align: right;\n",
       "    }\n",
       "</style>\n",
       "<table border=\"1\" class=\"dataframe\">\n",
       "  <thead>\n",
       "    <tr style=\"text-align: right;\">\n",
       "      <th></th>\n",
       "      <th>Day 0</th>\n",
       "      <th>Day 1</th>\n",
       "      <th>Day 2</th>\n",
       "      <th>Day 3</th>\n",
       "      <th>Day 1.1</th>\n",
       "      <th>Day 2.1</th>\n",
       "      <th>Day 3.1</th>\n",
       "      <th>Day 1.2</th>\n",
       "      <th>Day 2.2</th>\n",
       "      <th>Day 3.2</th>\n",
       "    </tr>\n",
       "  </thead>\n",
       "  <tbody>\n",
       "    <tr>\n",
       "      <th>pH</th>\n",
       "      <td>7.54700</td>\n",
       "      <td>7.575000</td>\n",
       "      <td>7.558000</td>\n",
       "      <td>7.532000</td>\n",
       "      <td>7.542000</td>\n",
       "      <td>7.512000</td>\n",
       "      <td>7.467000</td>\n",
       "      <td>7.552000</td>\n",
       "      <td>7.546000</td>\n",
       "      <td>7.532000</td>\n",
       "    </tr>\n",
       "    <tr>\n",
       "      <th>Glucose(mmol/L)</th>\n",
       "      <td>16.76325</td>\n",
       "      <td>17.540354</td>\n",
       "      <td>16.874265</td>\n",
       "      <td>16.374697</td>\n",
       "      <td>17.318324</td>\n",
       "      <td>16.485712</td>\n",
       "      <td>15.042519</td>\n",
       "      <td>17.040787</td>\n",
       "      <td>17.373832</td>\n",
       "      <td>16.652235</td>\n",
       "    </tr>\n",
       "    <tr>\n",
       "      <th>Lactate(mmol/L)</th>\n",
       "      <td>0.00000</td>\n",
       "      <td>0.000000</td>\n",
       "      <td>0.000000</td>\n",
       "      <td>0.000000</td>\n",
       "      <td>0.000000</td>\n",
       "      <td>0.000000</td>\n",
       "      <td>3.441385</td>\n",
       "      <td>0.000000</td>\n",
       "      <td>0.000000</td>\n",
       "      <td>0.000000</td>\n",
       "    </tr>\n",
       "    <tr>\n",
       "      <th>Glutamine(mmol/L)</th>\n",
       "      <td>1.93000</td>\n",
       "      <td>1.980000</td>\n",
       "      <td>1.800000</td>\n",
       "      <td>1.690000</td>\n",
       "      <td>1.900000</td>\n",
       "      <td>1.570000</td>\n",
       "      <td>1.370000</td>\n",
       "      <td>1.920000</td>\n",
       "      <td>1.730000</td>\n",
       "      <td>1.590000</td>\n",
       "    </tr>\n",
       "    <tr>\n",
       "      <th>Glutamate(mmol/L)</th>\n",
       "      <td>0.32000</td>\n",
       "      <td>0.000000</td>\n",
       "      <td>0.260000</td>\n",
       "      <td>0.250000</td>\n",
       "      <td>0.220000</td>\n",
       "      <td>0.460000</td>\n",
       "      <td>0.530000</td>\n",
       "      <td>0.000000</td>\n",
       "      <td>0.310000</td>\n",
       "      <td>0.250000</td>\n",
       "    </tr>\n",
       "    <tr>\n",
       "      <th>Na(mmol/L)</th>\n",
       "      <td>149.00000</td>\n",
       "      <td>153.000000</td>\n",
       "      <td>157.000000</td>\n",
       "      <td>160.000000</td>\n",
       "      <td>153.000000</td>\n",
       "      <td>157.000000</td>\n",
       "      <td>160.000000</td>\n",
       "      <td>153.000000</td>\n",
       "      <td>156.000000</td>\n",
       "      <td>158.000000</td>\n",
       "    </tr>\n",
       "    <tr>\n",
       "      <th>K(mmol/L)</th>\n",
       "      <td>4.20000</td>\n",
       "      <td>4.300000</td>\n",
       "      <td>4.400000</td>\n",
       "      <td>4.500000</td>\n",
       "      <td>4.300000</td>\n",
       "      <td>4.400000</td>\n",
       "      <td>4.500000</td>\n",
       "      <td>4.300000</td>\n",
       "      <td>4.400000</td>\n",
       "      <td>4.400000</td>\n",
       "    </tr>\n",
       "    <tr>\n",
       "      <th>NH4(mmol/L)</th>\n",
       "      <td>0.41000</td>\n",
       "      <td>0.510000</td>\n",
       "      <td>0.620000</td>\n",
       "      <td>0.680000</td>\n",
       "      <td>0.540000</td>\n",
       "      <td>0.730000</td>\n",
       "      <td>0.900000</td>\n",
       "      <td>0.510000</td>\n",
       "      <td>0.640000</td>\n",
       "      <td>0.720000</td>\n",
       "    </tr>\n",
       "  </tbody>\n",
       "</table>\n",
       "</div>"
      ],
      "text/plain": [
       "                       Day 0       Day 1       Day 2       Day 3     Day 1.1  \\\n",
       "pH                   7.54700    7.575000    7.558000    7.532000    7.542000   \n",
       "Glucose(mmol/L)     16.76325   17.540354   16.874265   16.374697   17.318324   \n",
       "Lactate(mmol/L)      0.00000    0.000000    0.000000    0.000000    0.000000   \n",
       "Glutamine(mmol/L)    1.93000    1.980000    1.800000    1.690000    1.900000   \n",
       "Glutamate(mmol/L)    0.32000    0.000000    0.260000    0.250000    0.220000   \n",
       "Na(mmol/L)         149.00000  153.000000  157.000000  160.000000  153.000000   \n",
       "K(mmol/L)            4.20000    4.300000    4.400000    4.500000    4.300000   \n",
       "NH4(mmol/L)          0.41000    0.510000    0.620000    0.680000    0.540000   \n",
       "\n",
       "                      Day 2.1     Day 3.1     Day 1.2     Day 2.2     Day 3.2  \n",
       "pH                   7.512000    7.467000    7.552000    7.546000    7.532000  \n",
       "Glucose(mmol/L)     16.485712   15.042519   17.040787   17.373832   16.652235  \n",
       "Lactate(mmol/L)      0.000000    3.441385    0.000000    0.000000    0.000000  \n",
       "Glutamine(mmol/L)    1.570000    1.370000    1.920000    1.730000    1.590000  \n",
       "Glutamate(mmol/L)    0.460000    0.530000    0.000000    0.310000    0.250000  \n",
       "Na(mmol/L)         157.000000  160.000000  153.000000  156.000000  158.000000  \n",
       "K(mmol/L)            4.400000    4.500000    4.300000    4.400000    4.400000  \n",
       "NH4(mmol/L)          0.730000    0.900000    0.510000    0.640000    0.720000  "
      ]
     },
     "execution_count": 3,
     "metadata": {},
     "output_type": "execute_result"
    }
   ],
   "source": [
    "t"
   ]
  },
  {
   "cell_type": "code",
   "execution_count": 6,
   "metadata": {},
   "outputs": [],
   "source": [
    "def nonlinear_fit(x,a,b):\n",
    "    return  b - a*np.exp(np.log(2)/22*24*x)"
   ]
  },
  {
   "cell_type": "code",
   "execution_count": 7,
   "metadata": {},
   "outputs": [],
   "source": [
    "f = [\n",
    "    'Glucose(mmol/L)', \n",
    "    'Glutamate(mmol/L)', \n",
    "#     'NH4(mmol/L)'\n",
    "]"
   ]
  },
  {
   "cell_type": "code",
   "execution_count": 8,
   "metadata": {},
   "outputs": [],
   "source": [
    "slope = []"
   ]
  },
  {
   "cell_type": "markdown",
   "metadata": {},
   "source": [
    "### Control"
   ]
  },
  {
   "cell_type": "code",
   "execution_count": 9,
   "metadata": {
    "scrolled": true
   },
   "outputs": [
    {
     "data": {
      "image/png": "[encoded data removed]",
      "text/plain": [
       "<Figure size 432x288 with 1 Axes>"
      ]
     },
     "metadata": {},
     "output_type": "display_data"
    },
    {
     "name": "stdout",
     "output_type": "stream",
     "text": [
      "[17.17026765 17.07461067 16.87085344 16.4368338 ]\n",
      "Glucose(mmol/L)\n",
      "0.0846460393271493 17.254913690409246\n"
     ]
    },
    {
     "data": {
      "image/png": "[encoded data removed]",
      "text/plain": [
       "<Figure size 432x288 with 1 Axes>"
      ]
     },
     "metadata": {},
     "output_type": "display_data"
    },
    {
     "name": "stdout",
     "output_type": "stream",
     "text": [
      "[0.30363615 0.28404612 0.24231774]\n",
      "Glutamate(mmol/L)\n",
      "0.017335051653748438 0.3209712003021229\n"
     ]
    }
   ],
   "source": [
    "vvv = []\n",
    "for i in f:\n",
    "    y=np.array(list(t[['Day 0', 'Day 1', 'Day 2', 'Day 3']].T[i]))\n",
    "    y = [yy for yy in y if yy != 0]\n",
    "    x=np.array([xx for xx in range(0, len(y))])\n",
    "    param, cov = curve_fit(nonlinear_fit, x, y, p0=[1, 3])\n",
    "    sns.pointplot(x=x, y=y, join=False)\n",
    "    sns.pointplot(x=x, y=nonlinear_fit(x, param[0], param[1]), markers=\"\")\n",
    "    plt.show()\n",
    "    print(nonlinear_fit(x, param[0], param[1]))\n",
    "    print(i)\n",
    "    print(param[0], param[1])\n",
    "    vvv.append(param[0])\n",
    "slope.append(vvv)"
   ]
  },
  {
   "cell_type": "markdown",
   "metadata": {},
   "source": [
    "### Clone A"
   ]
  },
  {
   "cell_type": "code",
   "execution_count": 10,
   "metadata": {},
   "outputs": [],
   "source": [
    "def nonlinear_fit(x,a,b):\n",
    "    return  b - a*np.exp(np.log(2)/12.5*24*x)"
   ]
  },
  {
   "cell_type": "code",
   "execution_count": 11,
   "metadata": {
    "scrolled": false
   },
   "outputs": [
    {
     "data": {
      "image/png": "[encoded data removed]",
      "text/plain": [
       "<Figure size 432x288 with 1 Axes>"
      ]
     },
     "metadata": {},
     "output_type": "display_data"
    },
    {
     "name": "stdout",
     "output_type": "stream",
     "text": [
      "[17.05832423 16.95291596 16.55402673 15.04453792]\n",
      "Glucose(mmol/L)\n",
      "0.0378590327677735 17.096183266019555\n"
     ]
    },
    {
     "data": {
      "image/png": "[encoded data removed]",
      "text/plain": [
       "<Figure size 432x288 with 1 Axes>"
      ]
     },
     "metadata": {},
     "output_type": "display_data"
    },
    {
     "name": "stdout",
     "output_type": "stream",
     "text": [
      "[0.30203514 0.31496701 0.36390417 0.54909367]\n",
      "Glutamate(mmol/L)\n",
      "-0.004644681971047866 0.2973904621460839\n"
     ]
    }
   ],
   "source": [
    "vvv = []\n",
    "for i in f:\n",
    "    y=np.array(list(t[['Day 0', 'Day 1.1', 'Day 2.1', 'Day 3.1']].T[i]))\n",
    "    y = [yy for yy in y if yy != 0]\n",
    "    x=np.array([xx for xx in range(0, len(y))])\n",
    "    param, cov = curve_fit(nonlinear_fit, x, y, p0=[1, 3])\n",
    "    sns.pointplot(x=x, y=y, join=False)\n",
    "    sns.pointplot(x=x, y=nonlinear_fit(x, param[0], param[1]), markers=\"\")\n",
    "    plt.show()\n",
    "    print(nonlinear_fit(x, param[0], param[1]))\n",
    "    print(i)\n",
    "    print(param[0], param[1])\n",
    "    vvv.append(param[0])\n",
    "slope.append(vvv)"
   ]
  },
  {
   "cell_type": "markdown",
   "metadata": {},
   "source": [
    "### Clone B"
   ]
  },
  {
   "cell_type": "code",
   "execution_count": 12,
   "metadata": {},
   "outputs": [],
   "source": [
    "def nonlinear_fit(x,a,b):\n",
    "    return  b - a*np.exp(np.log(2)/17*24*x)"
   ]
  },
  {
   "cell_type": "code",
   "execution_count": 13,
   "metadata": {
    "scrolled": true
   },
   "outputs": [
    {
     "data": {
      "image/png": "[encoded data removed]",
      "text/plain": [
       "<Figure size 432x288 with 1 Axes>"
      ]
     },
     "metadata": {},
     "output_type": "display_data"
    },
    {
     "name": "stdout",
     "output_type": "stream",
     "text": [
      "[17.04887556 17.02514858 16.96202002 16.79405864]\n",
      "Glucose(mmol/L)\n",
      "0.014287987036586668 17.063163546049587\n"
     ]
    },
    {
     "data": {
      "image/png": "[encoded data removed]",
      "text/plain": [
       "<Figure size 432x288 with 1 Axes>"
      ]
     },
     "metadata": {},
     "output_type": "display_data"
    },
    {
     "name": "stdout",
     "output_type": "stream",
     "text": [
      "[0.3241365  0.30430879 0.25155471]\n",
      "Glutamate(mmol/L)\n",
      "0.011939913824249353 0.33607641316170084\n"
     ]
    }
   ],
   "source": [
    "vvv = []\n",
    "for i in f:\n",
    "    y=np.array(list(t[['Day 0', 'Day 1.2', 'Day 2.2', 'Day 3.2']].T[i]))\n",
    "    y = [yy for yy in y if yy != 0]\n",
    "    x=np.array([xx for xx in range(0, len(y))])\n",
    "    param, cov = curve_fit(nonlinear_fit, x, y, p0=[1, 3])\n",
    "    sns.pointplot(x=x, y=y, join=False)\n",
    "    sns.pointplot(x=x, y=nonlinear_fit(x, param[0], param[1]), markers=\"\")\n",
    "    plt.show()\n",
    "    print(nonlinear_fit(x, param[0], param[1]))\n",
    "    print(i)\n",
    "    print(param[0], param[1])\n",
    "    vvv.append(param[0])\n",
    "slope.append(vvv)"
   ]
  },
  {
   "cell_type": "code",
   "execution_count": 14,
   "metadata": {},
   "outputs": [
    {
     "data": {
      "text/plain": [
       "[[0.0846460393271493, 0.017335051653748438],\n",
       " [0.0378590327677735, -0.004644681971047866],\n",
       " [0.014287987036586668, 0.011939913824249353]]"
      ]
     },
     "execution_count": 14,
     "metadata": {},
     "output_type": "execute_result"
    }
   ],
   "source": [
    "slope"
   ]
  },
  {
   "cell_type": "code",
   "execution_count": 16,
   "metadata": {},
   "outputs": [],
   "source": [
    "pd.DataFrame(slope, columns=['Glucose', 'Glutamate'], index=['Control', 'Clone A', 'Clone B']).to_csv('./result/slope.csv')"
   ]
  },
  {
   "cell_type": "code",
   "execution_count": null,
   "metadata": {},
   "outputs": [],
   "source": []
  }
 ],
 "metadata": {
  "kernelspec": {
   "display_name": "Python 3",
   "language": "python",
   "name": "python3"
  },
  "language_info": {
   "codemirror_mode": {
    "name": "ipython",
    "version": 3
   },
   "file_extension": ".py",
   "mimetype": "text/x-python",
   "name": "python",
   "nbconvert_exporter": "python",
   "pygments_lexer": "ipython3",
   "version": "3.6.5"
  }
 },
 "nbformat": 4,
 "nbformat_minor": 2
}
