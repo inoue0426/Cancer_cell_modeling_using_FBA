{
 "cells": [
  {
   "cell_type": "code",
   "execution_count": 1,
   "metadata": {
    "ExecuteTime": {
     "end_time": "2018-02-19T06:57:33.939730Z",
     "start_time": "2018-02-19T06:57:33.936691Z"
    }
   },
   "outputs": [],
   "source": [
    "import pandas as pd\n",
    "import numpy as np\n",
    "from itertools import product\n",
    "from pulp import *"
   ]
  },
  {
   "cell_type": "code",
   "execution_count": 3,
   "metadata": {
    "ExecuteTime": {
     "end_time": "2018-02-19T06:57:33.954708Z",
     "start_time": "2018-02-19T06:57:33.941494Z"
    }
   },
   "outputs": [],
   "source": [
    "matrix = pd.read_csv(\"../code/pathwayResearch/data/nowUsing/glucoseToTCA.csv\", index_col=0)"
   ]
  },
  {
   "cell_type": "code",
   "execution_count": 4,
   "metadata": {
    "ExecuteTime": {
     "end_time": "2018-02-19T06:57:33.958384Z",
     "start_time": "2018-02-19T06:57:33.955906Z"
    }
   },
   "outputs": [],
   "source": [
    "cNum = list(matrix.index)\n",
    "rNum = list(matrix.columns)"
   ]
  },
  {
   "cell_type": "code",
   "execution_count": 5,
   "metadata": {
    "ExecuteTime": {
     "end_time": "2018-02-19T06:57:33.971982Z",
     "start_time": "2018-02-19T06:57:33.959673Z"
    }
   },
   "outputs": [],
   "source": [
    "t = []\n",
    "for i, j in enumerate(rNum):\n",
    "    if j == 'alpha_D_Glucose':\n",
    "        t.append(j)\n",
    "        t[i] = LpVariable(\n",
    "            'alpha_D_Glucose', \n",
    "            lowBound=100,\n",
    "            upBound=100\n",
    "        )\n",
    "    elif  j == 'Oxigen':\n",
    "        t.append(j)\n",
    "        t[i] = LpVariable(\n",
    "            'Oxigen', \n",
    "            lowBound=0,\n",
    "            upBound=1000\n",
    "        )\n",
    "    if  j == 'R00200':\n",
    "        t.append(j)\n",
    "        t[i] = LpVariable(\n",
    "            'R00200', \n",
    "            lowBound=0,\n",
    "            upBound=1000\n",
    "        )\n",
    "    else:\n",
    "        t.append(j)\n",
    "        t[i] = LpVariable(j, lowBound=-1000,upBound=1000)"
   ]
  },
  {
   "cell_type": "code",
   "execution_count": 6,
   "metadata": {
    "ExecuteTime": {
     "end_time": "2018-02-19T06:57:33.977539Z",
     "start_time": "2018-02-19T06:57:33.973735Z"
    }
   },
   "outputs": [],
   "source": [
    "# 目的関数\n",
    "m = LpProblem(sense=LpMaximize)\n",
    "m += t[rNum.index('Rbiomass')]"
   ]
  },
  {
   "cell_type": "code",
   "execution_count": 7,
   "metadata": {
    "ExecuteTime": {
     "end_time": "2018-02-19T06:57:34.007735Z",
     "start_time": "2018-02-19T06:57:33.979546Z"
    }
   },
   "outputs": [],
   "source": [
    "cd =matrix\n",
    "\n",
    "cd = matrix.drop('C00001') # H2O\n",
    "cd = cd.drop('C00002') # ATP\n",
    "\n",
    "# cd = cd.drop('C00003') #  NAD\n",
    "# cd = cd.drop('C00004') # NADH\n",
    "# cd = cd.drop('C00005') # NADPH\n",
    "# cd = cd.drop('C00006') # NADP\n",
    "\n",
    "cd = cd.drop('C00008') # ADP\n",
    "cd = cd.drop('C00009') # Phosphate\n",
    "# cd = cd.drop('C00010') # CoA\n",
    "cd = cd.drop('C00011') # CO2\n",
    "cd = cd.drop('C00020') # Adenylate\n",
    "# cd = cd.drop('C00024') # Acetyl-CoA\n",
    "# cd = cd.drop('C00080') # H+\n",
    "# cd = cd.drop('C00288') # HCO3-\n",
    "\n",
    "\n",
    "cd = cd.drop('C00033') # Acetate\n",
    "cd = cd.drop('C00404') # Polyphosphate\n",
    "\n",
    "# cd = cd.drop('C00138')  # Reduced ferredoxin\n",
    "# cd = cd.drop('C00139')  # Oxidized ferredoxin\n",
    "\n",
    "\n",
    "cd = cd.drop('C15602') # Quinone\n",
    "cd = cd.drop('C15603') # Hydroquinone\n",
    "\n",
    "# cd = cd.drop('C00149')  # 目的物質"
   ]
  },
  {
   "cell_type": "code",
   "execution_count": 15,
   "metadata": {
    "ExecuteTime": {
     "end_time": "2018-02-19T06:57:34.022067Z",
     "start_time": "2018-02-19T06:57:34.009599Z"
    }
   },
   "outputs": [
    {
     "data": {
      "text/plain": [
       "[R00112,\n",
       " R00200,\n",
       " R00209,\n",
       " R00341,\n",
       " R00342,\n",
       " R00351,\n",
       " R00352,\n",
       " R00361,\n",
       " R00405,\n",
       " R00658,\n",
       " R00709,\n",
       " R01015,\n",
       " R01061,\n",
       " R01063,\n",
       " R01070,\n",
       " R01082,\n",
       " R01324,\n",
       " R01512,\n",
       " R01518,\n",
       " R01786,\n",
       " R02164,\n",
       " R02740,\n",
       " R04779,\n",
       " R00265,\n",
       " alpha_D_Glucose,\n",
       " OXPHOS,\n",
       " Oxigen,\n",
       " Rbiomass,\n",
       " 'Oxigen',\n",
       " 'Rbiomass']"
      ]
     },
     "execution_count": 15,
     "metadata": {},
     "output_type": "execute_result"
    }
   ],
   "source": [
    "p = cd.astype(int)\n",
    "# dotP = np.dot(p, t)\n",
    "t"
   ]
  },
  {
   "cell_type": "code",
   "execution_count": null,
   "metadata": {
    "ExecuteTime": {
     "end_time": "2018-02-19T06:57:34.022729Z",
     "start_time": "2018-02-19T06:57:33.942Z"
    }
   },
   "outputs": [],
   "source": [
    "dotP"
   ]
  },
  {
   "cell_type": "code",
   "execution_count": null,
   "metadata": {
    "ExecuteTime": {
     "end_time": "2018-02-19T06:57:34.023570Z",
     "start_time": "2018-02-19T06:57:33.944Z"
    },
    "scrolled": false
   },
   "outputs": [],
   "source": [
    "fefe = pd.concat([pd.DataFrame(dotP, columns=['dotP']), pd.DataFrame(cNum, columns=['cNum'])], axis=1)\n",
    "onlyData = pd.DataFrame()\n",
    "for i, j in enumerate(dotP):\n",
    "    if len(str(j)) <= 7:\n",
    "        onlyData = pd.concat([onlyData, fefe[fefe.index == i]])\n",
    "\n",
    "# det = onlyData['cNum'] "
   ]
  },
  {
   "cell_type": "code",
   "execution_count": null,
   "metadata": {
    "ExecuteTime": {
     "end_time": "2018-02-19T06:57:34.024405Z",
     "start_time": "2018-02-19T06:57:33.946Z"
    }
   },
   "outputs": [],
   "source": [
    "onlyData[onlyData['dotP'] != {}]"
   ]
  },
  {
   "cell_type": "code",
   "execution_count": null,
   "metadata": {
    "ExecuteTime": {
     "end_time": "2018-02-19T06:57:34.025304Z",
     "start_time": "2018-02-19T06:57:33.947Z"
    }
   },
   "outputs": [],
   "source": [
    "for i in range(len(dotP)):\n",
    "    m += dotP[i] == 0"
   ]
  },
  {
   "cell_type": "code",
   "execution_count": null,
   "metadata": {
    "ExecuteTime": {
     "end_time": "2018-02-19T06:57:34.026237Z",
     "start_time": "2018-02-19T06:57:33.948Z"
    },
    "scrolled": false
   },
   "outputs": [],
   "source": [
    "status = m.solve()\n",
    "print(pulp.LpStatus[status])"
   ]
  },
  {
   "cell_type": "code",
   "execution_count": null,
   "metadata": {
    "ExecuteTime": {
     "end_time": "2018-02-19T06:57:34.027299Z",
     "start_time": "2018-02-19T06:57:33.949Z"
    }
   },
   "outputs": [],
   "source": [
    "g = []\n",
    "for i in range(len(t)):\n",
    "    g.append(value(t[i]))"
   ]
  },
  {
   "cell_type": "code",
   "execution_count": null,
   "metadata": {
    "ExecuteTime": {
     "end_time": "2018-02-19T06:57:34.028322Z",
     "start_time": "2018-02-19T06:57:33.950Z"
    },
    "scrolled": true
   },
   "outputs": [],
   "source": [
    "g = pd.DataFrame(g)\n",
    "g = pd.concat([g, pd.DataFrame(t)], axis=1)"
   ]
  },
  {
   "cell_type": "code",
   "execution_count": null,
   "metadata": {
    "ExecuteTime": {
     "end_time": "2018-02-19T06:57:34.028958Z",
     "start_time": "2018-02-19T06:57:33.953Z"
    }
   },
   "outputs": [],
   "source": [
    "g"
   ]
  },
  {
   "cell_type": "code",
   "execution_count": null,
   "metadata": {
    "ExecuteTime": {
     "end_time": "2018-02-19T06:57:34.029825Z",
     "start_time": "2018-02-19T06:57:33.954Z"
    }
   },
   "outputs": [],
   "source": [
    "# m.variables"
   ]
  }
 ],
 "metadata": {
  "kernelspec": {
   "display_name": "Python 3",
   "language": "python",
   "name": "python3"
  },
  "language_info": {
   "codemirror_mode": {
    "name": "ipython",
    "version": 3
   },
   "file_extension": ".py",
   "mimetype": "text/x-python",
   "name": "python",
   "nbconvert_exporter": "python",
   "pygments_lexer": "ipython3",
   "version": "3.6.5"
  }
 },
 "nbformat": 4,
 "nbformat_minor": 2
}
